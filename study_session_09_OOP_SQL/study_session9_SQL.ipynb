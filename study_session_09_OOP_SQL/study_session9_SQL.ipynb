{
 "cells": [
  {
   "cell_type": "markdown",
   "metadata": {
    "tags": []
   },
   "source": [
    "### Study session - SQL\n",
    "\n",
    "#### BIOINF 575\n",
    "\n"
   ]
  },
  {
   "cell_type": "markdown",
   "metadata": {
    "tags": []
   },
   "source": [
    "___\n",
    "\n",
    "<b> <font color = \"red\">Exercise</font></b>\n",
    "\n",
    "#### Query a database \n",
    "Download the database from the following link:\n",
    "https://www.sqlitetutorial.net/sqlite-sample-database/\n",
    "\n",
    "<img src = https://www.sqlitetutorial.net/wp-content/uploads/2015/11/sqlite-sample-database-color.jpg width = 675>\n",
    "\n",
    "https://www.sqlitetutorial.net/wp-content/uploads/2015/11/sqlite-sample-database-color.jpg\n",
    "\n",
    "Retrieve how many tracks are associated with each artist.    \n",
    "What is the overall mean number of tracks per album?    \n",
    "For a given artist, retrieve all the albums (name), and tracks (name), they are associated with.   \n",
    "\n",
    "Feel free to build other quesries for questions you may have.\n"
   ]
  },
  {
   "cell_type": "code",
   "execution_count": null,
   "metadata": {},
   "outputs": [],
   "source": [
    "# Write your solution here\n",
    "\n",
    "# connect to the database\n",
    "\n",
    "\n"
   ]
  },
  {
   "cell_type": "code",
   "execution_count": null,
   "metadata": {
    "tags": []
   },
   "outputs": [],
   "source": [
    "# task1: Retrieve how many tracks are associated with each artist.\n",
    "\n",
    "\n"
   ]
  },
  {
   "cell_type": "code",
   "execution_count": null,
   "metadata": {
    "tags": []
   },
   "outputs": [],
   "source": [
    "# task2: What is the overall mean number of tracks per album?\n",
    "\n"
   ]
  },
  {
   "cell_type": "markdown",
   "metadata": {},
   "source": [
    "Check the list of aggregate functions - we see that for mean we use avg()  \n",
    "https://www.sqlite.org/lang_aggfunc.html"
   ]
  },
  {
   "cell_type": "code",
   "execution_count": null,
   "metadata": {},
   "outputs": [],
   "source": [
    "# let's do the mean of the results from the previous select \n",
    "# a select returns data in a table format so we can select from the result of a select\n",
    "\n"
   ]
  },
  {
   "cell_type": "code",
   "execution_count": null,
   "metadata": {},
   "outputs": [],
   "source": [
    "# task3: For a given artist, retrieve all the albums (name), \n",
    "# and tracks (name), they are associated with.\n",
    "\n"
   ]
  },
  {
   "cell_type": "code",
   "execution_count": null,
   "metadata": {},
   "outputs": [],
   "source": [
    "# if we want to make a generic select where we supply the artist name\n",
    "\n"
   ]
  },
  {
   "cell_type": "code",
   "execution_count": null,
   "metadata": {},
   "outputs": [],
   "source": [
    "# answer more interesting questions here"
   ]
  },
  {
   "cell_type": "code",
   "execution_count": null,
   "metadata": {},
   "outputs": [],
   "source": []
  },
  {
   "cell_type": "code",
   "execution_count": null,
   "metadata": {},
   "outputs": [],
   "source": []
  },
  {
   "cell_type": "code",
   "execution_count": null,
   "metadata": {},
   "outputs": [],
   "source": []
  },
  {
   "cell_type": "markdown",
   "metadata": {
    "tags": []
   },
   "source": [
    "___\n",
    "\n",
    "<b> <font color = \"red\">Exercise</font></b>\n",
    "\n",
    "#### Variant database\n",
    "\n",
    "Create a variant sqlite database with 2 tables variant and var_info from the file `variant_file.vcf`.    \n",
    "The header of the file is:\n",
    "`#CHROM\tPOS\tID\tREF\tALT\tQUAL\tFILTER\tINFO\tFORMAT\tGroup_A/IP2-50/tophat_out/IP2-50_accepted_hits.bam`\n",
    "\n",
    "The first 6 columns from the file will be columns in the `variant` table. The `variant` table will also have a `variant_id` - autoincrement column to uniquely identify the variant in this database.    \n",
    "\n",
    "\n",
    "The `var_info` table will contain the data from the INFO column in the file.  The `var_info` table will have the following columns: `variant_id`, `tag` and `value`. \n",
    "For each variant, the pairs tag=values are separated by \";\" and the values are separated by \",\".  Each entry in the var_info table will have a unique variant_id, tag and value column combination.\n",
    "\n",
    "\n",
    "Run the following querries:\n",
    "- A select that retrieves how many variants we have.\n",
    "- A select of the variant(s) with the highest number associated tag-value pairs.\n",
    "- A select of INDEL variants with DP values > 150.\n",
    "\n",
    "\n"
   ]
  },
  {
   "cell_type": "code",
   "execution_count": null,
   "metadata": {},
   "outputs": [],
   "source": [
    "# Write your solution here\n",
    "\n",
    "\n"
   ]
  },
  {
   "cell_type": "code",
   "execution_count": null,
   "metadata": {},
   "outputs": [],
   "source": []
  },
  {
   "cell_type": "code",
   "execution_count": null,
   "metadata": {},
   "outputs": [],
   "source": []
  },
  {
   "cell_type": "markdown",
   "metadata": {},
   "source": [
    "___\n",
    "\n",
    "<b> <font color = \"red\">Exercise</font></b>\n",
    "\n",
    "#### Create a database for gene annotations (gene ontology - GO -  terms annotations)\n",
    "\n",
    "Create a SQLite database with a genes table, a GO_terms table, and a gene_GO_term table.   \n",
    "The genes table should have the gene id, gene symbol and the gene description.     \n",
    "The GO_terms table should have the GO term id and the GO term name/description.     \n",
    "The gene to GO term table should have the gene id and the GO term id.     \n"
   ]
  },
  {
   "cell_type": "code",
   "execution_count": null,
   "metadata": {},
   "outputs": [],
   "source": []
  },
  {
   "cell_type": "code",
   "execution_count": null,
   "metadata": {},
   "outputs": [],
   "source": []
  },
  {
   "cell_type": "markdown",
   "metadata": {
    "tags": []
   },
   "source": [
    "___\n",
    "\n",
    "<b> <font color = \"red\">Exercise</font></b>\n",
    "\n",
    "#### Query a database \n",
    "\n",
    "How many genes we have?  \n",
    "How many go terms we have?   \n",
    "How many go terms are associated which each gene?   \n",
    "How many genes are associated with each GO term?   \n",
    "Select all pairs of gene symbol and go term description that have a record in the gene_GO_term table."
   ]
  },
  {
   "cell_type": "code",
   "execution_count": null,
   "metadata": {},
   "outputs": [],
   "source": [
    "# Write your solution here\n",
    "\n",
    "\n"
   ]
  }
 ],
 "metadata": {
  "kernelspec": {
   "display_name": "Python 3 (ipykernel)",
   "language": "python",
   "name": "python3"
  },
  "language_info": {
   "codemirror_mode": {
    "name": "ipython",
    "version": 3
   },
   "file_extension": ".py",
   "mimetype": "text/x-python",
   "name": "python",
   "nbconvert_exporter": "python",
   "pygments_lexer": "ipython3",
   "version": "3.12.2"
  }
 },
 "nbformat": 4,
 "nbformat_minor": 4
}
