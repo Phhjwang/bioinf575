{
 "cells": [
  {
   "cell_type": "markdown",
   "metadata": {
    "tags": []
   },
   "source": [
    "### Study session - OOP\n",
    "\n",
    "#### BIOINF 575\n",
    "\n"
   ]
  },
  {
   "cell_type": "markdown",
   "metadata": {
    "jp-MarkdownHeadingCollapsed": true
   },
   "source": [
    "___\n",
    "\n",
    "<b> <font color = \"red\">Exercise</font></b>\n",
    "\n",
    "#### Implement the following classes: \n",
    "\n",
    "The `Gene` class should have an id (`gid`), `symbol` and `description`.   \n",
    "The `GO_term` class should have a GO term id (`gtid`) and `name`.     \n",
    "The `Gene_goTerm` class should have the `gene_id` and the `GO_term_id`. \n",
    "* <b>Create a list of genes, a list of GO terms, and a list of gene to GO term elements from the file `genes_info1.txt`   \n",
    "* <b>Create pandas data frames from the above lists (look into the vars function, and \\_\\_dict\\_\\_ attribute for an object)\n"
   ]
  },
  {
   "cell_type": "code",
   "execution_count": 3,
   "metadata": {},
   "outputs": [],
   "source": [
    "# Write your solution here\n",
    "\n",
    "\n"
   ]
  },
  {
   "cell_type": "markdown",
   "metadata": {},
   "source": [
    "#### Implement the following classes: Gene, GOTerm, GENEGOTerm"
   ]
  },
  {
   "cell_type": "code",
   "execution_count": null,
   "metadata": {},
   "outputs": [],
   "source": []
  },
  {
   "cell_type": "markdown",
   "metadata": {},
   "source": [
    "#### Create a list of genes, a list of GO terms, and a list of gene to GO term elements from the file `genes_info1.txt`"
   ]
  },
  {
   "cell_type": "code",
   "execution_count": null,
   "metadata": {},
   "outputs": [],
   "source": []
  },
  {
   "cell_type": "markdown",
   "metadata": {},
   "source": [
    "#### Create pandas data frames from the above lists \n",
    "##### look into the `vars` function, and `__dict__` attribute for an object"
   ]
  },
  {
   "cell_type": "code",
   "execution_count": null,
   "metadata": {},
   "outputs": [],
   "source": []
  },
  {
   "cell_type": "markdown",
   "metadata": {
    "tags": []
   },
   "source": [
    "___\n",
    "\n",
    "<b> <font color = \"red\">Exercise</font></b>\n",
    "\n",
    "#### Create a GO term gene dataframe\n",
    "\n",
    "Create a dataframe with two columns: a GO_term column that has the GO term name, and a genes column that for each GO term has a set of genes (gene symbols) associated with the GO term separated by \",\".\n",
    "\n"
   ]
  },
  {
   "cell_type": "code",
   "execution_count": 25,
   "metadata": {},
   "outputs": [],
   "source": [
    "# Write your solution here\n",
    "\n",
    "\n"
   ]
  },
  {
   "cell_type": "code",
   "execution_count": null,
   "metadata": {},
   "outputs": [],
   "source": []
  },
  {
   "cell_type": "code",
   "execution_count": null,
   "metadata": {},
   "outputs": [],
   "source": []
  },
  {
   "cell_type": "markdown",
   "metadata": {
    "tags": []
   },
   "source": [
    "___\n",
    "\n",
    "<b> <font color = \"red\">Exercise</font></b>\n",
    "\n",
    "#### Package exploration\n",
    "\n",
    "Look into the bamnostic package and find out what operating systems it supports, what dependencies it has and find a class it defines.\n",
    "\n",
    "https://github.com/betteridiot/bamnostic\n",
    "\n",
    "Look at pandas for similar information.\n",
    "\n",
    "https://github.com/pandas-dev/pandas\n"
   ]
  },
  {
   "cell_type": "code",
   "execution_count": 37,
   "metadata": {},
   "outputs": [],
   "source": [
    "# Write your solution here\n",
    "\n",
    "\n"
   ]
  },
  {
   "cell_type": "markdown",
   "metadata": {},
   "source": [
    "To find out how the project will be set up look in `setup.py`:    \n",
    "https://github.com/betteridiot/bamnostic/blob/master/setup.py\n",
    "\n",
    "OPERATING SYSTEM:\n",
    "\n",
    "Classifiers can be used for searching and to specify various package attributes.    \n",
    "https://packaging.python.org/guides/distributing-packages-using-setuptools/#classifiers     \n",
    "https://packaging.python.org/guides/distributing-packages-using-setuptools/#python-requires\n",
    "\n",
    "Although the list of classifiers is often used to declare what Python versions a project supports, this information is only used for searching & browsing projects on PyPI, not for installing projects. To actually restrict what Python versions a project can be installed on, use the python_requires argument.\n",
    "\n",
    "List of classifiers:      \n",
    "https://pypi.org/classifiers/\n",
    "\n",
    "https://pypi.org/search/?q=&o=     \n",
    "If you look on the left panel at filter by classifier - operating system - you can see all operating systems. available in general.\n",
    "\n",
    "For <b>bamnostic</b> we have:     \n",
    "https://github.com/betteridiot/bamnostic/blob/master/setup.py\n",
    "\n",
    "Operating systems: Unix, Microsoft :: Windows, MacOS\n",
    "```\n",
    "        \"Operating System :: Unix\",\n",
    "        \"Operating System :: Microsoft :: Windows\",\n",
    "        \"Operating System :: MacOS\",\n",
    "        \"Programming Language :: Python :: 2.7\",\n",
    "        \"Programming Language :: Python :: 3\",\n",
    "        \"Programming Language :: Python :: 3.0\",\n",
    "        \"Programming Language :: Python :: 3.1\",\n",
    "        \"Programming Language :: Python :: 3.2\",\n",
    "        \"Programming Language :: Python :: 3.3\",\n",
    "        \"Programming Language :: Python :: 3.4\",\n",
    "        \"Programming Language :: Python :: 3.5\",\n",
    "        \"Programming Language :: Python :: 3.6\",\n",
    "        \"Programming Language :: Python :: 3.7\",\n",
    "        \"Programming Language :: Python :: 3.8\",\n",
    "        \n",
    "```\n",
    "\n",
    "DEPENDENCIES: \n",
    "\n",
    "`install_requires` should be used to specify what dependencies a project minimally needs to run.    \n",
    "When the project is installed by pip, this is the specification that is used to install its dependencies.\n",
    "For more on using “install_requires” see install_requires vs requirements files.\n",
    "https://packaging.python.org/guides/distributing-packages-using-setuptools/#install-requires\n",
    "https://packaging.python.org/discussions/install-requires-vs-requirements/#install-requires-vs-requirements-files\n",
    "\n",
    "https://python-packaging.readthedocs.io/en/latest/dependencies.html      \n",
    "https://packaging.python.org/guides/distributing-packages-using-setuptools/#python-requires\n",
    "\n",
    "\n",
    "For <b>bamnostic</b> we have: Dependencies: None        \n",
    "https://github.com/betteridiot/bamnostic/blob/master/setup.py    \n",
    "\n",
    "\n",
    "```\n",
    "    # setup_requires=['pytest-runner'],\n",
    "    tests_require=[\"pytest\"],\n",
    "\n",
    "```\n",
    "\n",
    "Also `requirements.txt` is empty. That is the file that stores dependencies.   \n",
    "https://github.com/betteridiot/bamnostic/blob/master/requirements.txt\n",
    "\n",
    "CLASSES:\n",
    "\n",
    "Look into the folder with the same name as the package, that is where the code is (.py files are modules).\n",
    "Search for the keyword `class`.\n",
    "\n",
    "For <b>bamnostic</b> in the file `core.py` I found a class at line 113.     \n",
    "https://github.com/betteridiot/bamnostic/blob/master/bamnostic/core.py   \n",
    "```\n",
    "class AlignmentFile(bam.BamReader, bam.BamWriter):\n",
    "```\n"
   ]
  },
  {
   "cell_type": "markdown",
   "metadata": {},
   "source": [
    "________"
   ]
  },
  {
   "cell_type": "markdown",
   "metadata": {},
   "source": [
    "#### PANDAS\n",
    "\n",
    "OPERATING SYSTEM:\n",
    "\n",
    "The setup information is in `setup.cfg`\n",
    "https://github.com/pandas-dev/pandas/blob/master/setup.cfg\n",
    "\n",
    "```\n",
    "    Operating System :: OS Independent\n",
    "    Programming Language :: Cython\n",
    "    Programming Language :: Python\n",
    "    Programming Language :: Python :: 3\n",
    "    Programming Language :: Python :: 3 :: Only\n",
    "    Programming Language :: Python :: 3.8\n",
    "    Programming Language :: Python :: 3.9\n",
    "    Programming Language :: Python :: 3.10\n",
    "\n",
    "```\n",
    "\n",
    "\n",
    "DEPENDENCIES:\n",
    "\n",
    "```\n",
    "packages = find:\n",
    "install_requires =\n",
    "    numpy>=1.18.5; platform_machine!='aarch64' and platform_machine!='arm64' and python_version<'3.10'\n",
    "    numpy>=1.19.2; platform_machine=='aarch64' and python_version<'3.10'\n",
    "    numpy>=1.20.0; platform_machine=='arm64' and python_version<'3.10'\n",
    "    numpy>=1.21.0; python_version>='3.10'\n",
    "    python-dateutil>=2.8.1\n",
    "    pytz>=2020.1\n",
    "python_requires = >=3.8\n",
    "include_package_data = True\n",
    "zip_safe = False\n",
    "```\n",
    "\n",
    "\n",
    "CLASS:\n",
    "\n",
    "For <b>pandas</b> in the file `goupby.py` I found a class at line 57.\n",
    "https://github.com/pandas-dev/pandas/blob/master/pandas/core/groupby/grouper.py\n",
    "\n",
    "```\n",
    "class Grouper:\n",
    "    \"\"\"\n",
    "    A Grouper allows the user to specify a groupby instruction for an object.\n",
    "    This specification will select a column via the key parameter, or if the\n",
    "    level and/or axis parameters are given, a level of the index of the target\n",
    "    object.\n",
    "\n",
    "```"
   ]
  },
  {
   "cell_type": "code",
   "execution_count": null,
   "metadata": {},
   "outputs": [],
   "source": []
  }
 ],
 "metadata": {
  "kernelspec": {
   "display_name": "Python 3 (ipykernel)",
   "language": "python",
   "name": "python3"
  },
  "language_info": {
   "codemirror_mode": {
    "name": "ipython",
    "version": 3
   },
   "file_extension": ".py",
   "mimetype": "text/x-python",
   "name": "python",
   "nbconvert_exporter": "python",
   "pygments_lexer": "ipython3",
   "version": "3.12.2"
  }
 },
 "nbformat": 4,
 "nbformat_minor": 4
}
