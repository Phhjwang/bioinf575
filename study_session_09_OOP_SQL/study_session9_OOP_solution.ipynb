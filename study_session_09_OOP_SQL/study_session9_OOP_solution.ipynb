{
 "cells": [
  {
   "cell_type": "markdown",
   "metadata": {
    "tags": []
   },
   "source": [
    "### Study session - OOP\n",
    "\n",
    "#### BIOINF 575\n",
    "\n",
    "##### SOLUTION\n"
   ]
  },
  {
   "cell_type": "markdown",
   "metadata": {},
   "source": [
    "___\n",
    "\n",
    "<b> <font color = \"red\">Exercise</font></b>\n",
    "\n",
    "#### Implement the following classes: \n",
    "\n",
    "The `Gene` class should have an id (`gid`), `symbol` and `description`.   \n",
    "The `GO_term` class should have a GO term id (`gtid`) and `name`.     \n",
    "The `Gene_goTerm` class should have the `gene_id` and the `GO_term_id`. \n",
    "* <b>Create a list of genes, a list of GO terms, and a list of gene to GO term elements from the file `genes_info1.txt`   \n",
    "* <b>Create pandas data frames from the above lists (look into the vars function, and \\_\\_dict\\_\\_ attribute for an object)\n"
   ]
  },
  {
   "cell_type": "code",
   "execution_count": 3,
   "metadata": {},
   "outputs": [],
   "source": [
    "# Write your solution here\n",
    "\n",
    "\n"
   ]
  },
  {
   "cell_type": "markdown",
   "metadata": {},
   "source": [
    "#### Implement the following classes: Gene, GOTerm, GENEGOTerm"
   ]
  },
  {
   "cell_type": "code",
   "execution_count": 5,
   "metadata": {},
   "outputs": [],
   "source": [
    "# implement the Gene class\n",
    "# implement the __init__ method \n",
    "# in __init__ we create custom attributes:  gid, symbol and description\n",
    "# implement __str__ and __repr__ methods to be able to display the object \n",
    "# implement the __eq__ method to be able to chech equality between Gnee objects\n",
    "\n",
    "class Gene:\n",
    "    def __init__(self,  gid, sym, desc): \n",
    "        # checks can be done to make sure the data is not missing and \n",
    "        # each parameter should ahve the correct type\n",
    "        self.gid = gid\n",
    "        self.symbol = sym\n",
    "        self.description = desc\n",
    "        \n",
    "    def __str__(self):\n",
    "        return f\"Gene({self.gid},'{self.symbol}','{self.description}')\"\n",
    "    \n",
    "    def __repr__(self):\n",
    "        return f\"Gene({self.gid},'{self.symbol}','{self.description}')\"\n",
    "    \n",
    "    def __eq__(self, g):\n",
    "        return self.gid == g.gid and self.symbol == g.symbol and self.description == g.description\n",
    "    \n",
    "    "
   ]
  },
  {
   "cell_type": "code",
   "execution_count": 6,
   "metadata": {},
   "outputs": [
    {
     "data": {
      "text/plain": [
       "Gene(2,'GSYM','Gene for testing')"
      ]
     },
     "execution_count": 6,
     "metadata": {},
     "output_type": "execute_result"
    }
   ],
   "source": [
    "# test \n",
    "\n",
    "g = Gene(2, \"GSYM\", \"Gene for testing\")\n",
    "g"
   ]
  },
  {
   "cell_type": "code",
   "execution_count": null,
   "metadata": {},
   "outputs": [],
   "source": []
  },
  {
   "cell_type": "code",
   "execution_count": 7,
   "metadata": {},
   "outputs": [],
   "source": [
    "# implement the GOTerm class\n",
    "# implement the __init__ method \n",
    "# in __init__ we create custom attributes:  gid, symbol and description\n",
    "# implement __str__ and __repr__ methods to be able to display the object \n",
    "\n",
    "class GOTerm:\n",
    "    def __init__(self,  gtid, name): \n",
    "        # checks can be done to make sure the data is not missing and \n",
    "        # each parameter should ahve the correct type\n",
    "        self.gtid = gtid\n",
    "        self.name = name\n",
    "        \n",
    "    def __str__(self):\n",
    "        return f\"GOTerm({self.gtid},'{self.name}')\"\n",
    "    \n",
    "    def __repr__(self):\n",
    "        return f\"GOTerm({self.gtid},'{self.name}')\"\n",
    "        \n",
    "   "
   ]
  },
  {
   "cell_type": "code",
   "execution_count": 8,
   "metadata": {},
   "outputs": [
    {
     "data": {
      "text/plain": [
       "GOTerm(5,'Cell adhesion')"
      ]
     },
     "execution_count": 8,
     "metadata": {},
     "output_type": "execute_result"
    }
   ],
   "source": [
    "# test\n",
    "\n",
    "gt = GOTerm(5, \"Cell adhesion\")\n",
    "gt"
   ]
  },
  {
   "cell_type": "code",
   "execution_count": null,
   "metadata": {},
   "outputs": [],
   "source": []
  },
  {
   "cell_type": "code",
   "execution_count": 9,
   "metadata": {},
   "outputs": [],
   "source": [
    "# implement the GeneGOTerm class\n",
    "# implement the __init__ method \n",
    "# in __init__ we create custom attributes:  gid, symbol and description\n",
    "# implement __str__ and __repr__ methods to be able to display the object \n",
    "\n",
    "class GeneGOTerm:\n",
    "    def __init__(self,  gid, gtid): \n",
    "        # checks can be done to make sure the data is not missing and \n",
    "        # each parameter should ahve the correct type\n",
    "        self.gene_id = gid\n",
    "        self.GO_term_id = gtid\n",
    "        \n",
    "    def __str__(self):\n",
    "        return f\"GeneGOTerm({self.gene_id},'{self.GO_term_id}')\"\n",
    "    \n",
    "    def __repr__(self):\n",
    "        return f\"GeneGOTerm({self.gene_id},'{self.GO_term_id}')\"\n",
    "        \n",
    "   "
   ]
  },
  {
   "cell_type": "code",
   "execution_count": 10,
   "metadata": {},
   "outputs": [
    {
     "data": {
      "text/plain": [
       "GeneGOTerm(2,'5')"
      ]
     },
     "execution_count": 10,
     "metadata": {},
     "output_type": "execute_result"
    }
   ],
   "source": [
    "# test \n",
    "ggt = GeneGOTerm(2, 5)\n",
    "ggt"
   ]
  },
  {
   "cell_type": "code",
   "execution_count": null,
   "metadata": {},
   "outputs": [],
   "source": []
  },
  {
   "cell_type": "markdown",
   "metadata": {},
   "source": [
    "#### Create a list of genes, a list of GO terms, and a list of gene to GO term elements from the file `genes_info1.txt`"
   ]
  },
  {
   "cell_type": "code",
   "execution_count": 12,
   "metadata": {},
   "outputs": [],
   "source": [
    "# initialize variables for the three lists\n",
    "genes_lst = []\n",
    "go_terms_lst = []\n",
    "genes_go_terms_lst = []\n",
    "# dictionary that will have GO term names as keys and IDs as values\n",
    "terms_lst = []\n",
    "\n",
    "# read lines from the file one by one\n",
    "file_name = \"genes_info1.txt\"\n",
    "with open(file_name) as gene_file:\n",
    "    header_line = gene_file.readline()\n",
    "    for line in gene_file:\n",
    "        line_list = line.strip().split(\"\\t\")\n",
    "        # Create a Gene object and add it to the list\n",
    "        # *line_list[:3] will take the first three values from the list \n",
    "        # and pass them as values for the first three parameters of the function\n",
    "        # gid, sym and desc\n",
    "        genes_lst.append(Gene(*line_list[:3]))\n",
    "        \n",
    "        # The last column in the file contains the GO terms separated by \";\" \n",
    "        # that is the last element in the line_list for any given line\n",
    "        for go_term in line_list[-1].strip().split(\";\"):\n",
    "            if (go_term not in terms_lst):\n",
    "                terms_lst.append(go_term)\n",
    "                go_terms_lst.append(GOTerm(len(terms_lst), go_term))\n",
    "            gene_id = line_list[0]\n",
    "            go_term_id = terms_lst.index(go_term) + 1\n",
    "            genes_go_terms_lst.append(GeneGOTerm(gene_id, go_term_id))\n"
   ]
  },
  {
   "cell_type": "code",
   "execution_count": 13,
   "metadata": {},
   "outputs": [
    {
     "data": {
      "text/plain": [
       "[Gene(672,'BRCA1','BRCA1 DNA repair associated'),\n",
       " Gene(675,'BRCA2','BRCA2 DNA repair associated'),\n",
       " Gene(7157,'TP53','tumor protein p53'),\n",
       " Gene(10296,'MAEA','macrophage erythroblast attacher, E3 ubiquitin ligase'),\n",
       " Gene(7040,'TGFB1','transforming growth factor beta 1'),\n",
       " Gene(64926,'RASAL3','RAS protein activator like 3')]"
      ]
     },
     "execution_count": 13,
     "metadata": {},
     "output_type": "execute_result"
    }
   ],
   "source": [
    "genes_lst"
   ]
  },
  {
   "cell_type": "code",
   "execution_count": 14,
   "metadata": {},
   "outputs": [
    {
     "data": {
      "text/plain": [
       "[GOTerm(1,'intrinsic apoptotic signaling pathway in response to DNA damage'),\n",
       " GOTerm(2,'transcription cis-regulatory region binding'),\n",
       " GOTerm(3,'transcription coactivator activity'),\n",
       " GOTerm(4,'ubiquitin-protein transferase activity'),\n",
       " GOTerm(5,'histone acetyltransferase activity'),\n",
       " GOTerm(6,'protease binding'),\n",
       " GOTerm(7,'single-stranded DNA binding'),\n",
       " GOTerm(8,'protein binding'),\n",
       " GOTerm(9,'negative regulation of transcription, DNA-templated'),\n",
       " GOTerm(10,'positive regulation of transcription by RNA polymerase II'),\n",
       " GOTerm(11,'promoter-specific chromatin binding'),\n",
       " GOTerm(12,'circadian behavior'),\n",
       " GOTerm(13,'cell adhesion')]"
      ]
     },
     "execution_count": 14,
     "metadata": {},
     "output_type": "execute_result"
    }
   ],
   "source": [
    "go_terms_lst"
   ]
  },
  {
   "cell_type": "code",
   "execution_count": 15,
   "metadata": {},
   "outputs": [
    {
     "data": {
      "text/plain": [
       "[GeneGOTerm(672,'1'),\n",
       " GeneGOTerm(672,'2'),\n",
       " GeneGOTerm(672,'3'),\n",
       " GeneGOTerm(672,'4'),\n",
       " GeneGOTerm(675,'5'),\n",
       " GeneGOTerm(675,'6'),\n",
       " GeneGOTerm(675,'7'),\n",
       " GeneGOTerm(675,'8'),\n",
       " GeneGOTerm(7157,'9'),\n",
       " GeneGOTerm(7157,'10'),\n",
       " GeneGOTerm(7157,'11'),\n",
       " GeneGOTerm(7157,'12'),\n",
       " GeneGOTerm(10296,'13'),\n",
       " GeneGOTerm(10296,'8'),\n",
       " GeneGOTerm(10296,'11'),\n",
       " GeneGOTerm(7040,'13'),\n",
       " GeneGOTerm(7040,'8'),\n",
       " GeneGOTerm(64926,'13'),\n",
       " GeneGOTerm(64926,'8'),\n",
       " GeneGOTerm(64926,'6')]"
      ]
     },
     "execution_count": 15,
     "metadata": {},
     "output_type": "execute_result"
    }
   ],
   "source": [
    "genes_go_terms_lst"
   ]
  },
  {
   "cell_type": "code",
   "execution_count": null,
   "metadata": {},
   "outputs": [],
   "source": []
  },
  {
   "cell_type": "markdown",
   "metadata": {},
   "source": [
    "#### Create pandas data frames from the above lists \n",
    "##### look into the `vars` function, and `__dict__` attribute for an object"
   ]
  },
  {
   "cell_type": "code",
   "execution_count": 17,
   "metadata": {},
   "outputs": [
    {
     "name": "stdout",
     "output_type": "stream",
     "text": [
      "{'gid': 2, 'symbol': 'GSYM', 'description': 'Gene for testing'}\n"
     ]
    }
   ],
   "source": [
    "# To create a dataframe from an object we can use the __dict__ attribute or the vars() function\n",
    "\n",
    "print(g.__dict__)"
   ]
  },
  {
   "cell_type": "code",
   "execution_count": 18,
   "metadata": {},
   "outputs": [
    {
     "name": "stdout",
     "output_type": "stream",
     "text": [
      "Help on built-in function vars in module builtins:\n",
      "\n",
      "vars(...)\n",
      "    Show vars.\n",
      "\n",
      "    Without arguments, equivalent to locals().\n",
      "    With an argument, equivalent to object.__dict__.\n",
      "\n"
     ]
    }
   ],
   "source": [
    "help(vars)"
   ]
  },
  {
   "cell_type": "code",
   "execution_count": 19,
   "metadata": {},
   "outputs": [
    {
     "data": {
      "text/html": [
       "<div>\n",
       "<style scoped>\n",
       "    .dataframe tbody tr th:only-of-type {\n",
       "        vertical-align: middle;\n",
       "    }\n",
       "\n",
       "    .dataframe tbody tr th {\n",
       "        vertical-align: top;\n",
       "    }\n",
       "\n",
       "    .dataframe thead th {\n",
       "        text-align: right;\n",
       "    }\n",
       "</style>\n",
       "<table border=\"1\" class=\"dataframe\">\n",
       "  <thead>\n",
       "    <tr style=\"text-align: right;\">\n",
       "      <th></th>\n",
       "      <th>gid</th>\n",
       "      <th>symbol</th>\n",
       "      <th>description</th>\n",
       "    </tr>\n",
       "  </thead>\n",
       "  <tbody>\n",
       "    <tr>\n",
       "      <th>0</th>\n",
       "      <td>2</td>\n",
       "      <td>GSYM</td>\n",
       "      <td>Gene for testing</td>\n",
       "    </tr>\n",
       "  </tbody>\n",
       "</table>\n",
       "</div>"
      ],
      "text/plain": [
       "   gid symbol       description\n",
       "0    2   GSYM  Gene for testing"
      ]
     },
     "execution_count": 19,
     "metadata": {},
     "output_type": "execute_result"
    }
   ],
   "source": [
    "# we can create a dataframe from a dictionary if we have the columns as keys\n",
    "# help(pd.DataFrame.from_dict)\n",
    "\n",
    "# we can create a dataframe from a list of dictionaries \n",
    "# if we have each dictionary with the same key\n",
    "# each dictionary in the list is a row\n",
    "# help(pd.DataFrame.from_records)\n",
    "\n",
    "import numpy as np\n",
    "import pandas as pd\n",
    "\n",
    "pd.DataFrame.from_records([vars(g)])"
   ]
  },
  {
   "cell_type": "code",
   "execution_count": 20,
   "metadata": {},
   "outputs": [
    {
     "data": {
      "text/plain": [
       "[{'gid': '672',\n",
       "  'symbol': 'BRCA1',\n",
       "  'description': 'BRCA1 DNA repair associated'},\n",
       " {'gid': '675',\n",
       "  'symbol': 'BRCA2',\n",
       "  'description': 'BRCA2 DNA repair associated'},\n",
       " {'gid': '7157', 'symbol': 'TP53', 'description': 'tumor protein p53'},\n",
       " {'gid': '10296',\n",
       "  'symbol': 'MAEA',\n",
       "  'description': 'macrophage erythroblast attacher, E3 ubiquitin ligase'},\n",
       " {'gid': '7040',\n",
       "  'symbol': 'TGFB1',\n",
       "  'description': 'transforming growth factor beta 1'},\n",
       " {'gid': '64926',\n",
       "  'symbol': 'RASAL3',\n",
       "  'description': 'RAS protein activator like 3'}]"
      ]
     },
     "execution_count": 20,
     "metadata": {},
     "output_type": "execute_result"
    }
   ],
   "source": [
    "# let's create the list of dictionaries\n",
    "\n",
    "[vars(gene) for gene in genes_lst]"
   ]
  },
  {
   "cell_type": "code",
   "execution_count": 21,
   "metadata": {},
   "outputs": [
    {
     "data": {
      "text/html": [
       "<div>\n",
       "<style scoped>\n",
       "    .dataframe tbody tr th:only-of-type {\n",
       "        vertical-align: middle;\n",
       "    }\n",
       "\n",
       "    .dataframe tbody tr th {\n",
       "        vertical-align: top;\n",
       "    }\n",
       "\n",
       "    .dataframe thead th {\n",
       "        text-align: right;\n",
       "    }\n",
       "</style>\n",
       "<table border=\"1\" class=\"dataframe\">\n",
       "  <thead>\n",
       "    <tr style=\"text-align: right;\">\n",
       "      <th></th>\n",
       "      <th>gid</th>\n",
       "      <th>symbol</th>\n",
       "      <th>description</th>\n",
       "    </tr>\n",
       "  </thead>\n",
       "  <tbody>\n",
       "    <tr>\n",
       "      <th>0</th>\n",
       "      <td>672</td>\n",
       "      <td>BRCA1</td>\n",
       "      <td>BRCA1 DNA repair associated</td>\n",
       "    </tr>\n",
       "    <tr>\n",
       "      <th>1</th>\n",
       "      <td>675</td>\n",
       "      <td>BRCA2</td>\n",
       "      <td>BRCA2 DNA repair associated</td>\n",
       "    </tr>\n",
       "    <tr>\n",
       "      <th>2</th>\n",
       "      <td>7157</td>\n",
       "      <td>TP53</td>\n",
       "      <td>tumor protein p53</td>\n",
       "    </tr>\n",
       "    <tr>\n",
       "      <th>3</th>\n",
       "      <td>10296</td>\n",
       "      <td>MAEA</td>\n",
       "      <td>macrophage erythroblast attacher, E3 ubiquitin...</td>\n",
       "    </tr>\n",
       "    <tr>\n",
       "      <th>4</th>\n",
       "      <td>7040</td>\n",
       "      <td>TGFB1</td>\n",
       "      <td>transforming growth factor beta 1</td>\n",
       "    </tr>\n",
       "    <tr>\n",
       "      <th>5</th>\n",
       "      <td>64926</td>\n",
       "      <td>RASAL3</td>\n",
       "      <td>RAS protein activator like 3</td>\n",
       "    </tr>\n",
       "  </tbody>\n",
       "</table>\n",
       "</div>"
      ],
      "text/plain": [
       "     gid  symbol                                        description\n",
       "0    672   BRCA1                        BRCA1 DNA repair associated\n",
       "1    675   BRCA2                        BRCA2 DNA repair associated\n",
       "2   7157    TP53                                  tumor protein p53\n",
       "3  10296    MAEA  macrophage erythroblast attacher, E3 ubiquitin...\n",
       "4   7040   TGFB1                  transforming growth factor beta 1\n",
       "5  64926  RASAL3                       RAS protein activator like 3"
      ]
     },
     "execution_count": 21,
     "metadata": {},
     "output_type": "execute_result"
    }
   ],
   "source": [
    "# let's create the dataframe\n",
    "\n",
    "df_genes = pd.DataFrame.from_records([vars(gene) for gene in genes_lst])\n",
    "df_genes"
   ]
  },
  {
   "cell_type": "code",
   "execution_count": 22,
   "metadata": {},
   "outputs": [
    {
     "data": {
      "text/html": [
       "<div>\n",
       "<style scoped>\n",
       "    .dataframe tbody tr th:only-of-type {\n",
       "        vertical-align: middle;\n",
       "    }\n",
       "\n",
       "    .dataframe tbody tr th {\n",
       "        vertical-align: top;\n",
       "    }\n",
       "\n",
       "    .dataframe thead th {\n",
       "        text-align: right;\n",
       "    }\n",
       "</style>\n",
       "<table border=\"1\" class=\"dataframe\">\n",
       "  <thead>\n",
       "    <tr style=\"text-align: right;\">\n",
       "      <th></th>\n",
       "      <th>gtid</th>\n",
       "      <th>name</th>\n",
       "    </tr>\n",
       "  </thead>\n",
       "  <tbody>\n",
       "    <tr>\n",
       "      <th>0</th>\n",
       "      <td>1</td>\n",
       "      <td>intrinsic apoptotic signaling pathway in respo...</td>\n",
       "    </tr>\n",
       "    <tr>\n",
       "      <th>1</th>\n",
       "      <td>2</td>\n",
       "      <td>transcription cis-regulatory region binding</td>\n",
       "    </tr>\n",
       "    <tr>\n",
       "      <th>2</th>\n",
       "      <td>3</td>\n",
       "      <td>transcription coactivator activity</td>\n",
       "    </tr>\n",
       "    <tr>\n",
       "      <th>3</th>\n",
       "      <td>4</td>\n",
       "      <td>ubiquitin-protein transferase activity</td>\n",
       "    </tr>\n",
       "    <tr>\n",
       "      <th>4</th>\n",
       "      <td>5</td>\n",
       "      <td>histone acetyltransferase activity</td>\n",
       "    </tr>\n",
       "    <tr>\n",
       "      <th>5</th>\n",
       "      <td>6</td>\n",
       "      <td>protease binding</td>\n",
       "    </tr>\n",
       "    <tr>\n",
       "      <th>6</th>\n",
       "      <td>7</td>\n",
       "      <td>single-stranded DNA binding</td>\n",
       "    </tr>\n",
       "    <tr>\n",
       "      <th>7</th>\n",
       "      <td>8</td>\n",
       "      <td>protein binding</td>\n",
       "    </tr>\n",
       "    <tr>\n",
       "      <th>8</th>\n",
       "      <td>9</td>\n",
       "      <td>negative regulation of transcription, DNA-temp...</td>\n",
       "    </tr>\n",
       "    <tr>\n",
       "      <th>9</th>\n",
       "      <td>10</td>\n",
       "      <td>positive regulation of transcription by RNA po...</td>\n",
       "    </tr>\n",
       "    <tr>\n",
       "      <th>10</th>\n",
       "      <td>11</td>\n",
       "      <td>promoter-specific chromatin binding</td>\n",
       "    </tr>\n",
       "    <tr>\n",
       "      <th>11</th>\n",
       "      <td>12</td>\n",
       "      <td>circadian behavior</td>\n",
       "    </tr>\n",
       "    <tr>\n",
       "      <th>12</th>\n",
       "      <td>13</td>\n",
       "      <td>cell adhesion</td>\n",
       "    </tr>\n",
       "  </tbody>\n",
       "</table>\n",
       "</div>"
      ],
      "text/plain": [
       "    gtid                                               name\n",
       "0      1  intrinsic apoptotic signaling pathway in respo...\n",
       "1      2        transcription cis-regulatory region binding\n",
       "2      3                 transcription coactivator activity\n",
       "3      4             ubiquitin-protein transferase activity\n",
       "4      5                 histone acetyltransferase activity\n",
       "5      6                                   protease binding\n",
       "6      7                        single-stranded DNA binding\n",
       "7      8                                    protein binding\n",
       "8      9  negative regulation of transcription, DNA-temp...\n",
       "9     10  positive regulation of transcription by RNA po...\n",
       "10    11                promoter-specific chromatin binding\n",
       "11    12                                 circadian behavior\n",
       "12    13                                      cell adhesion"
      ]
     },
     "execution_count": 22,
     "metadata": {},
     "output_type": "execute_result"
    }
   ],
   "source": [
    "df_go_terms = pd.DataFrame.from_records([vars(go_term) for go_term in go_terms_lst])\n",
    "df_go_terms"
   ]
  },
  {
   "cell_type": "code",
   "execution_count": 23,
   "metadata": {},
   "outputs": [
    {
     "data": {
      "text/html": [
       "<div>\n",
       "<style scoped>\n",
       "    .dataframe tbody tr th:only-of-type {\n",
       "        vertical-align: middle;\n",
       "    }\n",
       "\n",
       "    .dataframe tbody tr th {\n",
       "        vertical-align: top;\n",
       "    }\n",
       "\n",
       "    .dataframe thead th {\n",
       "        text-align: right;\n",
       "    }\n",
       "</style>\n",
       "<table border=\"1\" class=\"dataframe\">\n",
       "  <thead>\n",
       "    <tr style=\"text-align: right;\">\n",
       "      <th></th>\n",
       "      <th>gene_id</th>\n",
       "      <th>GO_term_id</th>\n",
       "    </tr>\n",
       "  </thead>\n",
       "  <tbody>\n",
       "    <tr>\n",
       "      <th>0</th>\n",
       "      <td>672</td>\n",
       "      <td>1</td>\n",
       "    </tr>\n",
       "    <tr>\n",
       "      <th>1</th>\n",
       "      <td>672</td>\n",
       "      <td>2</td>\n",
       "    </tr>\n",
       "    <tr>\n",
       "      <th>2</th>\n",
       "      <td>672</td>\n",
       "      <td>3</td>\n",
       "    </tr>\n",
       "    <tr>\n",
       "      <th>3</th>\n",
       "      <td>672</td>\n",
       "      <td>4</td>\n",
       "    </tr>\n",
       "    <tr>\n",
       "      <th>4</th>\n",
       "      <td>675</td>\n",
       "      <td>5</td>\n",
       "    </tr>\n",
       "    <tr>\n",
       "      <th>5</th>\n",
       "      <td>675</td>\n",
       "      <td>6</td>\n",
       "    </tr>\n",
       "    <tr>\n",
       "      <th>6</th>\n",
       "      <td>675</td>\n",
       "      <td>7</td>\n",
       "    </tr>\n",
       "    <tr>\n",
       "      <th>7</th>\n",
       "      <td>675</td>\n",
       "      <td>8</td>\n",
       "    </tr>\n",
       "    <tr>\n",
       "      <th>8</th>\n",
       "      <td>7157</td>\n",
       "      <td>9</td>\n",
       "    </tr>\n",
       "    <tr>\n",
       "      <th>9</th>\n",
       "      <td>7157</td>\n",
       "      <td>10</td>\n",
       "    </tr>\n",
       "    <tr>\n",
       "      <th>10</th>\n",
       "      <td>7157</td>\n",
       "      <td>11</td>\n",
       "    </tr>\n",
       "    <tr>\n",
       "      <th>11</th>\n",
       "      <td>7157</td>\n",
       "      <td>12</td>\n",
       "    </tr>\n",
       "    <tr>\n",
       "      <th>12</th>\n",
       "      <td>10296</td>\n",
       "      <td>13</td>\n",
       "    </tr>\n",
       "    <tr>\n",
       "      <th>13</th>\n",
       "      <td>10296</td>\n",
       "      <td>8</td>\n",
       "    </tr>\n",
       "    <tr>\n",
       "      <th>14</th>\n",
       "      <td>10296</td>\n",
       "      <td>11</td>\n",
       "    </tr>\n",
       "    <tr>\n",
       "      <th>15</th>\n",
       "      <td>7040</td>\n",
       "      <td>13</td>\n",
       "    </tr>\n",
       "    <tr>\n",
       "      <th>16</th>\n",
       "      <td>7040</td>\n",
       "      <td>8</td>\n",
       "    </tr>\n",
       "    <tr>\n",
       "      <th>17</th>\n",
       "      <td>64926</td>\n",
       "      <td>13</td>\n",
       "    </tr>\n",
       "    <tr>\n",
       "      <th>18</th>\n",
       "      <td>64926</td>\n",
       "      <td>8</td>\n",
       "    </tr>\n",
       "    <tr>\n",
       "      <th>19</th>\n",
       "      <td>64926</td>\n",
       "      <td>6</td>\n",
       "    </tr>\n",
       "  </tbody>\n",
       "</table>\n",
       "</div>"
      ],
      "text/plain": [
       "   gene_id  GO_term_id\n",
       "0      672           1\n",
       "1      672           2\n",
       "2      672           3\n",
       "3      672           4\n",
       "4      675           5\n",
       "5      675           6\n",
       "6      675           7\n",
       "7      675           8\n",
       "8     7157           9\n",
       "9     7157          10\n",
       "10    7157          11\n",
       "11    7157          12\n",
       "12   10296          13\n",
       "13   10296           8\n",
       "14   10296          11\n",
       "15    7040          13\n",
       "16    7040           8\n",
       "17   64926          13\n",
       "18   64926           8\n",
       "19   64926           6"
      ]
     },
     "execution_count": 23,
     "metadata": {},
     "output_type": "execute_result"
    }
   ],
   "source": [
    "df_genes_go_terms = pd.DataFrame.from_records([vars(gene_go_term) for gene_go_term in genes_go_terms_lst])\n",
    "df_genes_go_terms"
   ]
  },
  {
   "cell_type": "code",
   "execution_count": null,
   "metadata": {},
   "outputs": [],
   "source": []
  },
  {
   "cell_type": "markdown",
   "metadata": {
    "tags": []
   },
   "source": [
    "___\n",
    "\n",
    "<b> <font color = \"red\">Exercise</font></b>\n",
    "\n",
    "#### Create a GO term gene dataframe\n",
    "\n",
    "Create a dataframe with two columns: a GO_term column that has the GO term name, and a genes column that for each GO term has a set of genes (gene symbols) associated with the GO term separated by \",\".\n",
    "\n"
   ]
  },
  {
   "cell_type": "code",
   "execution_count": 25,
   "metadata": {},
   "outputs": [],
   "source": [
    "# Write your solution here\n",
    "\n",
    "\n"
   ]
  },
  {
   "cell_type": "code",
   "execution_count": 26,
   "metadata": {},
   "outputs": [],
   "source": [
    "# help(df_genes.merge)"
   ]
  },
  {
   "cell_type": "code",
   "execution_count": 27,
   "metadata": {},
   "outputs": [
    {
     "data": {
      "text/html": [
       "<div>\n",
       "<style scoped>\n",
       "    .dataframe tbody tr th:only-of-type {\n",
       "        vertical-align: middle;\n",
       "    }\n",
       "\n",
       "    .dataframe tbody tr th {\n",
       "        vertical-align: top;\n",
       "    }\n",
       "\n",
       "    .dataframe thead th {\n",
       "        text-align: right;\n",
       "    }\n",
       "</style>\n",
       "<table border=\"1\" class=\"dataframe\">\n",
       "  <thead>\n",
       "    <tr style=\"text-align: right;\">\n",
       "      <th></th>\n",
       "      <th>gid</th>\n",
       "      <th>symbol</th>\n",
       "      <th>description</th>\n",
       "      <th>gene_id</th>\n",
       "      <th>GO_term_id</th>\n",
       "    </tr>\n",
       "  </thead>\n",
       "  <tbody>\n",
       "    <tr>\n",
       "      <th>0</th>\n",
       "      <td>672</td>\n",
       "      <td>BRCA1</td>\n",
       "      <td>BRCA1 DNA repair associated</td>\n",
       "      <td>672</td>\n",
       "      <td>1</td>\n",
       "    </tr>\n",
       "    <tr>\n",
       "      <th>1</th>\n",
       "      <td>672</td>\n",
       "      <td>BRCA1</td>\n",
       "      <td>BRCA1 DNA repair associated</td>\n",
       "      <td>672</td>\n",
       "      <td>2</td>\n",
       "    </tr>\n",
       "    <tr>\n",
       "      <th>2</th>\n",
       "      <td>672</td>\n",
       "      <td>BRCA1</td>\n",
       "      <td>BRCA1 DNA repair associated</td>\n",
       "      <td>672</td>\n",
       "      <td>3</td>\n",
       "    </tr>\n",
       "    <tr>\n",
       "      <th>3</th>\n",
       "      <td>672</td>\n",
       "      <td>BRCA1</td>\n",
       "      <td>BRCA1 DNA repair associated</td>\n",
       "      <td>672</td>\n",
       "      <td>4</td>\n",
       "    </tr>\n",
       "    <tr>\n",
       "      <th>4</th>\n",
       "      <td>675</td>\n",
       "      <td>BRCA2</td>\n",
       "      <td>BRCA2 DNA repair associated</td>\n",
       "      <td>675</td>\n",
       "      <td>5</td>\n",
       "    </tr>\n",
       "  </tbody>\n",
       "</table>\n",
       "</div>"
      ],
      "text/plain": [
       "   gid symbol                  description gene_id  GO_term_id\n",
       "0  672  BRCA1  BRCA1 DNA repair associated     672           1\n",
       "1  672  BRCA1  BRCA1 DNA repair associated     672           2\n",
       "2  672  BRCA1  BRCA1 DNA repair associated     672           3\n",
       "3  672  BRCA1  BRCA1 DNA repair associated     672           4\n",
       "4  675  BRCA2  BRCA2 DNA repair associated     675           5"
      ]
     },
     "execution_count": 27,
     "metadata": {},
     "output_type": "execute_result"
    }
   ],
   "source": [
    "# put the dataframes together\n",
    "# link genes and gene_go_term interactions by gene_id\n",
    "\n",
    "merged_data_ggt = df_genes.merge(df_genes_go_terms, left_on = \"gid\", right_on = \"gene_id\", how = \"inner\")\n",
    "merged_data_ggt.head()"
   ]
  },
  {
   "cell_type": "code",
   "execution_count": 28,
   "metadata": {},
   "outputs": [
    {
     "data": {
      "text/html": [
       "<div>\n",
       "<style scoped>\n",
       "    .dataframe tbody tr th:only-of-type {\n",
       "        vertical-align: middle;\n",
       "    }\n",
       "\n",
       "    .dataframe tbody tr th {\n",
       "        vertical-align: top;\n",
       "    }\n",
       "\n",
       "    .dataframe thead th {\n",
       "        text-align: right;\n",
       "    }\n",
       "</style>\n",
       "<table border=\"1\" class=\"dataframe\">\n",
       "  <thead>\n",
       "    <tr style=\"text-align: right;\">\n",
       "      <th></th>\n",
       "      <th>gid</th>\n",
       "      <th>symbol</th>\n",
       "      <th>description</th>\n",
       "      <th>gene_id</th>\n",
       "      <th>GO_term_id</th>\n",
       "      <th>gtid</th>\n",
       "      <th>name</th>\n",
       "    </tr>\n",
       "  </thead>\n",
       "  <tbody>\n",
       "    <tr>\n",
       "      <th>0</th>\n",
       "      <td>672</td>\n",
       "      <td>BRCA1</td>\n",
       "      <td>BRCA1 DNA repair associated</td>\n",
       "      <td>672</td>\n",
       "      <td>1</td>\n",
       "      <td>1</td>\n",
       "      <td>intrinsic apoptotic signaling pathway in respo...</td>\n",
       "    </tr>\n",
       "    <tr>\n",
       "      <th>1</th>\n",
       "      <td>672</td>\n",
       "      <td>BRCA1</td>\n",
       "      <td>BRCA1 DNA repair associated</td>\n",
       "      <td>672</td>\n",
       "      <td>2</td>\n",
       "      <td>2</td>\n",
       "      <td>transcription cis-regulatory region binding</td>\n",
       "    </tr>\n",
       "    <tr>\n",
       "      <th>2</th>\n",
       "      <td>672</td>\n",
       "      <td>BRCA1</td>\n",
       "      <td>BRCA1 DNA repair associated</td>\n",
       "      <td>672</td>\n",
       "      <td>3</td>\n",
       "      <td>3</td>\n",
       "      <td>transcription coactivator activity</td>\n",
       "    </tr>\n",
       "    <tr>\n",
       "      <th>3</th>\n",
       "      <td>672</td>\n",
       "      <td>BRCA1</td>\n",
       "      <td>BRCA1 DNA repair associated</td>\n",
       "      <td>672</td>\n",
       "      <td>4</td>\n",
       "      <td>4</td>\n",
       "      <td>ubiquitin-protein transferase activity</td>\n",
       "    </tr>\n",
       "    <tr>\n",
       "      <th>4</th>\n",
       "      <td>675</td>\n",
       "      <td>BRCA2</td>\n",
       "      <td>BRCA2 DNA repair associated</td>\n",
       "      <td>675</td>\n",
       "      <td>5</td>\n",
       "      <td>5</td>\n",
       "      <td>histone acetyltransferase activity</td>\n",
       "    </tr>\n",
       "  </tbody>\n",
       "</table>\n",
       "</div>"
      ],
      "text/plain": [
       "   gid symbol                  description gene_id  GO_term_id  gtid  \\\n",
       "0  672  BRCA1  BRCA1 DNA repair associated     672           1     1   \n",
       "1  672  BRCA1  BRCA1 DNA repair associated     672           2     2   \n",
       "2  672  BRCA1  BRCA1 DNA repair associated     672           3     3   \n",
       "3  672  BRCA1  BRCA1 DNA repair associated     672           4     4   \n",
       "4  675  BRCA2  BRCA2 DNA repair associated     675           5     5   \n",
       "\n",
       "                                                name  \n",
       "0  intrinsic apoptotic signaling pathway in respo...  \n",
       "1        transcription cis-regulatory region binding  \n",
       "2                 transcription coactivator activity  \n",
       "3             ubiquitin-protein transferase activity  \n",
       "4                 histone acetyltransferase activity  "
      ]
     },
     "execution_count": 28,
     "metadata": {},
     "output_type": "execute_result"
    }
   ],
   "source": [
    "# link the merged dataframe with the go_terms by go_term_id\n",
    "\n",
    "merged_data = merged_data_ggt.merge(df_go_terms, left_on = \"GO_term_id\", right_on = \"gtid\", how = \"inner\")\n",
    "merged_data.head()\n"
   ]
  },
  {
   "cell_type": "code",
   "execution_count": 29,
   "metadata": {},
   "outputs": [],
   "source": [
    "# another option - merge using the method join, similar to the join between tables in SQL\n",
    "\n",
    "# help(df_genes.join)\n"
   ]
  },
  {
   "cell_type": "code",
   "execution_count": 30,
   "metadata": {},
   "outputs": [
    {
     "name": "stdout",
     "output_type": "stream",
     "text": [
      "Join genes and gene_go_term interactions by gene_id:\n",
      "\n",
      "  gene_id  GO_term_id symbol                  description\n",
      "0     672           1  BRCA1  BRCA1 DNA repair associated\n",
      "1     672           2  BRCA1  BRCA1 DNA repair associated\n",
      "2     672           3  BRCA1  BRCA1 DNA repair associated\n",
      "3     672           4  BRCA1  BRCA1 DNA repair associated\n",
      "4     675           5  BRCA2  BRCA2 DNA repair associated\n",
      "Join the resulting dataframe with the go_terms by go_term_id:\n",
      "\n"
     ]
    },
    {
     "data": {
      "text/html": [
       "<div>\n",
       "<style scoped>\n",
       "    .dataframe tbody tr th:only-of-type {\n",
       "        vertical-align: middle;\n",
       "    }\n",
       "\n",
       "    .dataframe tbody tr th {\n",
       "        vertical-align: top;\n",
       "    }\n",
       "\n",
       "    .dataframe thead th {\n",
       "        text-align: right;\n",
       "    }\n",
       "</style>\n",
       "<table border=\"1\" class=\"dataframe\">\n",
       "  <thead>\n",
       "    <tr style=\"text-align: right;\">\n",
       "      <th></th>\n",
       "      <th>gene_id</th>\n",
       "      <th>GO_term_id</th>\n",
       "      <th>symbol</th>\n",
       "      <th>description</th>\n",
       "      <th>name</th>\n",
       "    </tr>\n",
       "  </thead>\n",
       "  <tbody>\n",
       "    <tr>\n",
       "      <th>0</th>\n",
       "      <td>672</td>\n",
       "      <td>1</td>\n",
       "      <td>BRCA1</td>\n",
       "      <td>BRCA1 DNA repair associated</td>\n",
       "      <td>intrinsic apoptotic signaling pathway in respo...</td>\n",
       "    </tr>\n",
       "    <tr>\n",
       "      <th>1</th>\n",
       "      <td>672</td>\n",
       "      <td>2</td>\n",
       "      <td>BRCA1</td>\n",
       "      <td>BRCA1 DNA repair associated</td>\n",
       "      <td>transcription cis-regulatory region binding</td>\n",
       "    </tr>\n",
       "    <tr>\n",
       "      <th>2</th>\n",
       "      <td>672</td>\n",
       "      <td>3</td>\n",
       "      <td>BRCA1</td>\n",
       "      <td>BRCA1 DNA repair associated</td>\n",
       "      <td>transcription coactivator activity</td>\n",
       "    </tr>\n",
       "    <tr>\n",
       "      <th>3</th>\n",
       "      <td>672</td>\n",
       "      <td>4</td>\n",
       "      <td>BRCA1</td>\n",
       "      <td>BRCA1 DNA repair associated</td>\n",
       "      <td>ubiquitin-protein transferase activity</td>\n",
       "    </tr>\n",
       "    <tr>\n",
       "      <th>4</th>\n",
       "      <td>675</td>\n",
       "      <td>5</td>\n",
       "      <td>BRCA2</td>\n",
       "      <td>BRCA2 DNA repair associated</td>\n",
       "      <td>histone acetyltransferase activity</td>\n",
       "    </tr>\n",
       "  </tbody>\n",
       "</table>\n",
       "</div>"
      ],
      "text/plain": [
       "  gene_id  GO_term_id symbol                  description  \\\n",
       "0     672           1  BRCA1  BRCA1 DNA repair associated   \n",
       "1     672           2  BRCA1  BRCA1 DNA repair associated   \n",
       "2     672           3  BRCA1  BRCA1 DNA repair associated   \n",
       "3     672           4  BRCA1  BRCA1 DNA repair associated   \n",
       "4     675           5  BRCA2  BRCA2 DNA repair associated   \n",
       "\n",
       "                                                name  \n",
       "0  intrinsic apoptotic signaling pathway in respo...  \n",
       "1        transcription cis-regulatory region binding  \n",
       "2                 transcription coactivator activity  \n",
       "3             ubiquitin-protein transferase activity  \n",
       "4                 histone acetyltransferase activity  "
      ]
     },
     "execution_count": 30,
     "metadata": {},
     "output_type": "execute_result"
    }
   ],
   "source": [
    "# link genes and gene_go_term interactions by gene_id\n",
    "merged_data_ggt = df_genes_go_terms.join(df_genes.set_index(\"gid\"), \n",
    "                                         on = [\"gene_id\"], how = \"inner\")\n",
    "print(\"Join genes and gene_go_term interactions by gene_id:\\n\")\n",
    "print(merged_data_ggt.head())\n",
    "\n",
    "# link the merged dataframe with the go_terms by go_term_id\n",
    "merged_data = merged_data_ggt.join(df_go_terms.set_index(\"gtid\"), \n",
    "                                         on = [\"GO_term_id\"], how = \"inner\")\n",
    "print(\"Join the resulting dataframe with the go_terms by go_term_id:\\n\")\n",
    "merged_data.head()\n",
    "\n",
    "\n"
   ]
  },
  {
   "cell_type": "code",
   "execution_count": 31,
   "metadata": {},
   "outputs": [
    {
     "data": {
      "text/html": [
       "<div>\n",
       "<style scoped>\n",
       "    .dataframe tbody tr th:only-of-type {\n",
       "        vertical-align: middle;\n",
       "    }\n",
       "\n",
       "    .dataframe tbody tr th {\n",
       "        vertical-align: top;\n",
       "    }\n",
       "\n",
       "    .dataframe thead th {\n",
       "        text-align: right;\n",
       "    }\n",
       "</style>\n",
       "<table border=\"1\" class=\"dataframe\">\n",
       "  <thead>\n",
       "    <tr style=\"text-align: right;\">\n",
       "      <th></th>\n",
       "      <th>name</th>\n",
       "      <th>symbol</th>\n",
       "    </tr>\n",
       "  </thead>\n",
       "  <tbody>\n",
       "    <tr>\n",
       "      <th>0</th>\n",
       "      <td>intrinsic apoptotic signaling pathway in respo...</td>\n",
       "      <td>BRCA1</td>\n",
       "    </tr>\n",
       "    <tr>\n",
       "      <th>1</th>\n",
       "      <td>transcription cis-regulatory region binding</td>\n",
       "      <td>BRCA1</td>\n",
       "    </tr>\n",
       "    <tr>\n",
       "      <th>2</th>\n",
       "      <td>transcription coactivator activity</td>\n",
       "      <td>BRCA1</td>\n",
       "    </tr>\n",
       "    <tr>\n",
       "      <th>3</th>\n",
       "      <td>ubiquitin-protein transferase activity</td>\n",
       "      <td>BRCA1</td>\n",
       "    </tr>\n",
       "    <tr>\n",
       "      <th>4</th>\n",
       "      <td>histone acetyltransferase activity</td>\n",
       "      <td>BRCA2</td>\n",
       "    </tr>\n",
       "  </tbody>\n",
       "</table>\n",
       "</div>"
      ],
      "text/plain": [
       "                                                name symbol\n",
       "0  intrinsic apoptotic signaling pathway in respo...  BRCA1\n",
       "1        transcription cis-regulatory region binding  BRCA1\n",
       "2                 transcription coactivator activity  BRCA1\n",
       "3             ubiquitin-protein transferase activity  BRCA1\n",
       "4                 histone acetyltransferase activity  BRCA2"
      ]
     },
     "execution_count": 31,
     "metadata": {},
     "output_type": "execute_result"
    }
   ],
   "source": [
    "# select only the go_term name and gene symbol form the merged dataframe\n",
    "\n",
    "df_sel = merged_data.loc[:,(\"name\",\"symbol\")]\n",
    "df_sel.head()"
   ]
  },
  {
   "cell_type": "code",
   "execution_count": 32,
   "metadata": {},
   "outputs": [
    {
     "data": {
      "text/plain": [
       "pandas.core.frame.DataFrame"
      ]
     },
     "execution_count": 32,
     "metadata": {},
     "output_type": "execute_result"
    }
   ],
   "source": [
    "type(df_sel)"
   ]
  },
  {
   "cell_type": "code",
   "execution_count": 33,
   "metadata": {},
   "outputs": [
    {
     "data": {
      "text/html": [
       "<div>\n",
       "<style scoped>\n",
       "    .dataframe tbody tr th:only-of-type {\n",
       "        vertical-align: middle;\n",
       "    }\n",
       "\n",
       "    .dataframe tbody tr th {\n",
       "        vertical-align: top;\n",
       "    }\n",
       "\n",
       "    .dataframe thead th {\n",
       "        text-align: right;\n",
       "    }\n",
       "</style>\n",
       "<table border=\"1\" class=\"dataframe\">\n",
       "  <thead>\n",
       "    <tr style=\"text-align: right;\">\n",
       "      <th></th>\n",
       "      <th>name</th>\n",
       "      <th>symbol</th>\n",
       "    </tr>\n",
       "  </thead>\n",
       "  <tbody>\n",
       "    <tr>\n",
       "      <th>0</th>\n",
       "      <td>intrinsic apoptotic signaling pathway in respo...</td>\n",
       "      <td>BRCA1</td>\n",
       "    </tr>\n",
       "    <tr>\n",
       "      <th>1</th>\n",
       "      <td>transcription cis-regulatory region binding</td>\n",
       "      <td>BRCA1</td>\n",
       "    </tr>\n",
       "    <tr>\n",
       "      <th>2</th>\n",
       "      <td>transcription coactivator activity</td>\n",
       "      <td>BRCA1</td>\n",
       "    </tr>\n",
       "    <tr>\n",
       "      <th>3</th>\n",
       "      <td>ubiquitin-protein transferase activity</td>\n",
       "      <td>BRCA1</td>\n",
       "    </tr>\n",
       "    <tr>\n",
       "      <th>4</th>\n",
       "      <td>histone acetyltransferase activity</td>\n",
       "      <td>BRCA2</td>\n",
       "    </tr>\n",
       "    <tr>\n",
       "      <th>5</th>\n",
       "      <td>protease binding</td>\n",
       "      <td>BRCA2</td>\n",
       "    </tr>\n",
       "    <tr>\n",
       "      <th>6</th>\n",
       "      <td>single-stranded DNA binding</td>\n",
       "      <td>BRCA2</td>\n",
       "    </tr>\n",
       "    <tr>\n",
       "      <th>7</th>\n",
       "      <td>protein binding</td>\n",
       "      <td>BRCA2</td>\n",
       "    </tr>\n",
       "    <tr>\n",
       "      <th>8</th>\n",
       "      <td>negative regulation of transcription, DNA-temp...</td>\n",
       "      <td>TP53</td>\n",
       "    </tr>\n",
       "    <tr>\n",
       "      <th>9</th>\n",
       "      <td>positive regulation of transcription by RNA po...</td>\n",
       "      <td>TP53</td>\n",
       "    </tr>\n",
       "    <tr>\n",
       "      <th>10</th>\n",
       "      <td>promoter-specific chromatin binding</td>\n",
       "      <td>TP53</td>\n",
       "    </tr>\n",
       "    <tr>\n",
       "      <th>11</th>\n",
       "      <td>circadian behavior</td>\n",
       "      <td>TP53</td>\n",
       "    </tr>\n",
       "    <tr>\n",
       "      <th>12</th>\n",
       "      <td>cell adhesion</td>\n",
       "      <td>MAEA</td>\n",
       "    </tr>\n",
       "    <tr>\n",
       "      <th>13</th>\n",
       "      <td>protein binding</td>\n",
       "      <td>MAEA</td>\n",
       "    </tr>\n",
       "    <tr>\n",
       "      <th>14</th>\n",
       "      <td>promoter-specific chromatin binding</td>\n",
       "      <td>MAEA</td>\n",
       "    </tr>\n",
       "    <tr>\n",
       "      <th>15</th>\n",
       "      <td>cell adhesion</td>\n",
       "      <td>TGFB1</td>\n",
       "    </tr>\n",
       "    <tr>\n",
       "      <th>16</th>\n",
       "      <td>protein binding</td>\n",
       "      <td>TGFB1</td>\n",
       "    </tr>\n",
       "    <tr>\n",
       "      <th>17</th>\n",
       "      <td>cell adhesion</td>\n",
       "      <td>RASAL3</td>\n",
       "    </tr>\n",
       "    <tr>\n",
       "      <th>18</th>\n",
       "      <td>protein binding</td>\n",
       "      <td>RASAL3</td>\n",
       "    </tr>\n",
       "    <tr>\n",
       "      <th>19</th>\n",
       "      <td>protease binding</td>\n",
       "      <td>RASAL3</td>\n",
       "    </tr>\n",
       "  </tbody>\n",
       "</table>\n",
       "</div>"
      ],
      "text/plain": [
       "                                                 name  symbol\n",
       "0   intrinsic apoptotic signaling pathway in respo...   BRCA1\n",
       "1         transcription cis-regulatory region binding   BRCA1\n",
       "2                  transcription coactivator activity   BRCA1\n",
       "3              ubiquitin-protein transferase activity   BRCA1\n",
       "4                  histone acetyltransferase activity   BRCA2\n",
       "5                                    protease binding   BRCA2\n",
       "6                         single-stranded DNA binding   BRCA2\n",
       "7                                     protein binding   BRCA2\n",
       "8   negative regulation of transcription, DNA-temp...    TP53\n",
       "9   positive regulation of transcription by RNA po...    TP53\n",
       "10                promoter-specific chromatin binding    TP53\n",
       "11                                 circadian behavior    TP53\n",
       "12                                      cell adhesion    MAEA\n",
       "13                                    protein binding    MAEA\n",
       "14                promoter-specific chromatin binding    MAEA\n",
       "15                                      cell adhesion   TGFB1\n",
       "16                                    protein binding   TGFB1\n",
       "17                                      cell adhesion  RASAL3\n",
       "18                                    protein binding  RASAL3\n",
       "19                                   protease binding  RASAL3"
      ]
     },
     "execution_count": 33,
     "metadata": {},
     "output_type": "execute_result"
    }
   ],
   "source": [
    "df_sel.groupby(\"name\").head()"
   ]
  },
  {
   "cell_type": "code",
   "execution_count": 34,
   "metadata": {},
   "outputs": [
    {
     "data": {
      "text/plain": [
       "0      BRCA1\n",
       "1      BRCA1\n",
       "2      BRCA1\n",
       "3      BRCA1\n",
       "4      BRCA2\n",
       "5      BRCA2\n",
       "6      BRCA2\n",
       "7      BRCA2\n",
       "8       TP53\n",
       "9       TP53\n",
       "10      TP53\n",
       "11      TP53\n",
       "12      MAEA\n",
       "13      MAEA\n",
       "14      MAEA\n",
       "15     TGFB1\n",
       "16     TGFB1\n",
       "17    RASAL3\n",
       "18    RASAL3\n",
       "19    RASAL3\n",
       "Name: symbol, dtype: object"
      ]
     },
     "execution_count": 34,
     "metadata": {},
     "output_type": "execute_result"
    }
   ],
   "source": [
    "df_sel.groupby(\"name\")[\"symbol\"].head()"
   ]
  },
  {
   "cell_type": "code",
   "execution_count": 35,
   "metadata": {
    "scrolled": true
   },
   "outputs": [
    {
     "data": {
      "text/plain": [
       "name\n",
       "cell adhesion                                                             {RASAL3, TGFB1, MAEA}\n",
       "circadian behavior                                                                       {TP53}\n",
       "histone acetyltransferase activity                                                      {BRCA2}\n",
       "intrinsic apoptotic signaling pathway in response to DNA damage                         {BRCA1}\n",
       "negative regulation of transcription, DNA-templated                                      {TP53}\n",
       "positive regulation of transcription by RNA polymerase II                                {TP53}\n",
       "promoter-specific chromatin binding                                                {TP53, MAEA}\n",
       "protease binding                                                                {RASAL3, BRCA2}\n",
       "protein binding                                                    {RASAL3, BRCA2, TGFB1, MAEA}\n",
       "single-stranded DNA binding                                                             {BRCA2}\n",
       "transcription cis-regulatory region binding                                             {BRCA1}\n",
       "transcription coactivator activity                                                      {BRCA1}\n",
       "ubiquitin-protein transferase activity                                                  {BRCA1}\n",
       "Name: symbol, dtype: object"
      ]
     },
     "execution_count": 35,
     "metadata": {},
     "output_type": "execute_result"
    }
   ],
   "source": [
    "# Create a dataframe with two columns: a GO_term column that has the GO term name, \n",
    "#and a genes column that for each GO term has a set of genes (gene symbols) \n",
    "# associated with the GO term separated by \",\"\n",
    "\n",
    "# on the grouped dataframe we apply the set function to the symbol column to apply \n",
    "# the set function to all the sene symbols that are in a group with the same GO term name\n",
    "\n",
    "df_sel.groupby(\"name\")[\"symbol\"].apply(set)"
   ]
  },
  {
   "cell_type": "code",
   "execution_count": null,
   "metadata": {},
   "outputs": [],
   "source": []
  },
  {
   "cell_type": "code",
   "execution_count": null,
   "metadata": {},
   "outputs": [],
   "source": []
  },
  {
   "cell_type": "markdown",
   "metadata": {
    "tags": []
   },
   "source": [
    "___\n",
    "\n",
    "<b> <font color = \"red\">Exercise</font></b>\n",
    "\n",
    "#### Package exploration\n",
    "\n",
    "Look into the bamnostic package and find out what operating systems it supports, what dependencies it has and find a class it defines.\n",
    "\n",
    "https://github.com/betteridiot/bamnostic\n",
    "\n",
    "Look at pandas for similar information.\n",
    "\n",
    "https://github.com/pandas-dev/pandas\n"
   ]
  },
  {
   "cell_type": "code",
   "execution_count": 37,
   "metadata": {},
   "outputs": [],
   "source": [
    "# Write your solution here\n",
    "\n",
    "\n"
   ]
  },
  {
   "cell_type": "markdown",
   "metadata": {},
   "source": [
    "To find out how the project will be set up look in `setup.py`:    \n",
    "https://github.com/betteridiot/bamnostic/blob/master/setup.py\n",
    "\n",
    "OPERATING SYSTEM:\n",
    "\n",
    "Classifiers can be used for searching and to specify various package attributes.    \n",
    "https://packaging.python.org/guides/distributing-packages-using-setuptools/#classifiers     \n",
    "https://packaging.python.org/guides/distributing-packages-using-setuptools/#python-requires\n",
    "\n",
    "Although the list of classifiers is often used to declare what Python versions a project supports, this information is only used for searching & browsing projects on PyPI, not for installing projects. To actually restrict what Python versions a project can be installed on, use the python_requires argument.\n",
    "\n",
    "List of classifiers:      \n",
    "https://pypi.org/classifiers/\n",
    "\n",
    "https://pypi.org/search/?q=&o=     \n",
    "If you look on the left panel at filter by classifier - operating system - you can see all operating systems. available in general.\n",
    "\n",
    "For <b>bamnostic</b> we have:     \n",
    "https://github.com/betteridiot/bamnostic/blob/master/setup.py\n",
    "\n",
    "Operating systems: Unix, Microsoft :: Windows, MacOS\n",
    "```\n",
    "        \"Operating System :: Unix\",\n",
    "        \"Operating System :: Microsoft :: Windows\",\n",
    "        \"Operating System :: MacOS\",\n",
    "        \"Programming Language :: Python :: 2.7\",\n",
    "        \"Programming Language :: Python :: 3\",\n",
    "        \"Programming Language :: Python :: 3.0\",\n",
    "        \"Programming Language :: Python :: 3.1\",\n",
    "        \"Programming Language :: Python :: 3.2\",\n",
    "        \"Programming Language :: Python :: 3.3\",\n",
    "        \"Programming Language :: Python :: 3.4\",\n",
    "        \"Programming Language :: Python :: 3.5\",\n",
    "        \"Programming Language :: Python :: 3.6\",\n",
    "        \"Programming Language :: Python :: 3.7\",\n",
    "        \"Programming Language :: Python :: 3.8\",\n",
    "        \n",
    "```\n",
    "\n",
    "DEPENDENCIES: \n",
    "\n",
    "`install_requires` should be used to specify what dependencies a project minimally needs to run.    \n",
    "When the project is installed by pip, this is the specification that is used to install its dependencies.\n",
    "For more on using “install_requires” see install_requires vs requirements files.\n",
    "https://packaging.python.org/guides/distributing-packages-using-setuptools/#install-requires\n",
    "https://packaging.python.org/discussions/install-requires-vs-requirements/#install-requires-vs-requirements-files\n",
    "\n",
    "https://python-packaging.readthedocs.io/en/latest/dependencies.html      \n",
    "https://packaging.python.org/guides/distributing-packages-using-setuptools/#python-requires\n",
    "\n",
    "\n",
    "For <b>bamnostic</b> we have: Dependencies: None        \n",
    "https://github.com/betteridiot/bamnostic/blob/master/setup.py    \n",
    "\n",
    "\n",
    "```\n",
    "    # setup_requires=['pytest-runner'],\n",
    "    tests_require=[\"pytest\"],\n",
    "\n",
    "```\n",
    "\n",
    "Also `requirements.txt` is empty. That is the file that stores dependencies.   \n",
    "https://github.com/betteridiot/bamnostic/blob/master/requirements.txt\n",
    "\n",
    "CLASSES:\n",
    "\n",
    "Look into the folder with the same name as the package, that is where the code is (.py files are modules).\n",
    "Search for the keyword `class`.\n",
    "\n",
    "For <b>bamnostic</b> in the file `core.py` I found a class at line 113.     \n",
    "https://github.com/betteridiot/bamnostic/blob/master/bamnostic/core.py   \n",
    "```\n",
    "class AlignmentFile(bam.BamReader, bam.BamWriter):\n",
    "```\n"
   ]
  },
  {
   "cell_type": "markdown",
   "metadata": {},
   "source": [
    "________"
   ]
  },
  {
   "cell_type": "markdown",
   "metadata": {},
   "source": [
    "#### PANDAS\n",
    "\n",
    "OPERATING SYSTEM:\n",
    "\n",
    "The setup information is in `setup.cfg`\n",
    "https://github.com/pandas-dev/pandas/blob/master/setup.cfg\n",
    "\n",
    "```\n",
    "    Operating System :: OS Independent\n",
    "    Programming Language :: Cython\n",
    "    Programming Language :: Python\n",
    "    Programming Language :: Python :: 3\n",
    "    Programming Language :: Python :: 3 :: Only\n",
    "    Programming Language :: Python :: 3.8\n",
    "    Programming Language :: Python :: 3.9\n",
    "    Programming Language :: Python :: 3.10\n",
    "\n",
    "```\n",
    "\n",
    "\n",
    "DEPENDENCIES:\n",
    "\n",
    "```\n",
    "packages = find:\n",
    "install_requires =\n",
    "    numpy>=1.18.5; platform_machine!='aarch64' and platform_machine!='arm64' and python_version<'3.10'\n",
    "    numpy>=1.19.2; platform_machine=='aarch64' and python_version<'3.10'\n",
    "    numpy>=1.20.0; platform_machine=='arm64' and python_version<'3.10'\n",
    "    numpy>=1.21.0; python_version>='3.10'\n",
    "    python-dateutil>=2.8.1\n",
    "    pytz>=2020.1\n",
    "python_requires = >=3.8\n",
    "include_package_data = True\n",
    "zip_safe = False\n",
    "```\n",
    "\n",
    "\n",
    "CLASS:\n",
    "\n",
    "For <b>pandas</b> in the file `goupby.py` I found a class at line 57.\n",
    "https://github.com/pandas-dev/pandas/blob/master/pandas/core/groupby/grouper.py\n",
    "\n",
    "```\n",
    "class Grouper:\n",
    "    \"\"\"\n",
    "    A Grouper allows the user to specify a groupby instruction for an object.\n",
    "    This specification will select a column via the key parameter, or if the\n",
    "    level and/or axis parameters are given, a level of the index of the target\n",
    "    object.\n",
    "\n",
    "```"
   ]
  },
  {
   "cell_type": "code",
   "execution_count": null,
   "metadata": {},
   "outputs": [],
   "source": []
  }
 ],
 "metadata": {
  "kernelspec": {
   "display_name": "Python 3 (ipykernel)",
   "language": "python",
   "name": "python3"
  },
  "language_info": {
   "codemirror_mode": {
    "name": "ipython",
    "version": 3
   },
   "file_extension": ".py",
   "mimetype": "text/x-python",
   "name": "python",
   "nbconvert_exporter": "python",
   "pygments_lexer": "ipython3",
   "version": "3.12.2"
  }
 },
 "nbformat": 4,
 "nbformat_minor": 4
}
