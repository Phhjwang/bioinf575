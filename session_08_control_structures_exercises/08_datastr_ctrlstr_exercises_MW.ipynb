{
 "cells": [
  {
   "cell_type": "markdown",
   "metadata": {},
   "source": [
    "## Data types and control structures exercises\n",
    "### Debugging\n",
    "### BIOINF 575"
   ]
  },
  {
   "cell_type": "markdown",
   "metadata": {
    "tags": []
   },
   "source": [
    "_____\n",
    "### <font color = \"red\">Exercise</font> \n",
    "Peptides are short chains of between two and fifty amino acids, linked by peptide bonds. Chains of fewer than ten or fifteen amino acids are called oligopeptides.\n",
    "https://en.wikipedia.org/wiki/Peptide\n",
    "\n",
    "<img src = \"https://upload.wikimedia.org/wikipedia/commons/b/b8/PEPTIDE-BOND-FIGURE.png\" width = \"300\"/>\n",
    "\n",
    "https://en.wikipedia.org/wiki/Peptide_bond\n",
    "\n",
    "We have a text containing a series of peptides separated by space.\n",
    "\n",
    "```python\n",
    "peptides_sequence = \"MAAGGSGAESAPPTPSMSSLPLAALNVRVRHRLSLFLNVRTQVAADWTGLAEEM NFEYLEIRRLETHPDPTRSLLDDWQGRPGASVGRLLELLAKLGRDDVLVELGPS IEEDCRKYILKQQQEAAEKPLQVDSVDSSIPWMSGITIRDDPLGQMPEHFDAFI CYCPSDIQFVQEMIRQLEQTNYRLKLCVSDRDVLPGTCVWSIASELIEKRCRRM VVVVSDDYLQSKECDFQTKFALSLSPGAHQKRLIPVKYKSMKKEFPSILRFITV CDYTNPCTKSWFWTRLARALSLP\"\n",
    "```\n",
    "\n",
    "- Count the number of Glutamine elements in the third peptide.\n",
    "- Count the number of Glutamine elements in each peptide, store them in a dictionary:   \n",
    "e.g.: {\"peptide1\": 3, \"peptide2\": 4, ...}\n",
    "- Check if we have at least one peptide with more than 5 Glutamine elements"
   ]
  },
  {
   "cell_type": "code",
   "execution_count": 2,
   "metadata": {},
   "outputs": [
    {
     "data": {
      "text/plain": [
       "'MAAGGSGAESAPPTPSMSSLPLAALNVRVRHRLSLFLNVRTQVAADWTGLAEEM NFEYLEIRRLETHPDPTRSLLDDWQGRPGASVGRLLELLAKLGRDDVLVELGPS IEEDCRKYILKQQQEAAEKPLQVDSVDSSIPWMSGITIRDDPLGQMPEHFDAFI CYCPSDIQFVQEMIRQLEQTNYRLKLCVSDRDVLPGTCVWSIASELIEKRCRRM VVVVSDDYLQSKECDFQTKFALSLSPGAHQKRLIPVKYKSMKKEFPSILRFITV CDYTNPCTKSWFWTRLARALSLP'"
      ]
     },
     "execution_count": 2,
     "metadata": {},
     "output_type": "execute_result"
    }
   ],
   "source": [
    "peptides_sequence = \"MAAGGSGAESAPPTPSMSSLPLAALNVRVRHRLSLFLNVRTQVAADWTGLAEEM NFEYLEIRRLETHPDPTRSLLDDWQGRPGASVGRLLELLAKLGRDDVLVELGPS IEEDCRKYILKQQQEAAEKPLQVDSVDSSIPWMSGITIRDDPLGQMPEHFDAFI CYCPSDIQFVQEMIRQLEQTNYRLKLCVSDRDVLPGTCVWSIASELIEKRCRRM VVVVSDDYLQSKECDFQTKFALSLSPGAHQKRLIPVKYKSMKKEFPSILRFITV CDYTNPCTKSWFWTRLARALSLP\"\n",
    "peptides_sequence"
   ]
  },
  {
   "cell_type": "code",
   "execution_count": 10,
   "metadata": {},
   "outputs": [
    {
     "data": {
      "text/plain": [
       "5"
      ]
     },
     "execution_count": 10,
     "metadata": {},
     "output_type": "execute_result"
    }
   ],
   "source": [
    "peptides_lst = peptides_sequence.split(\" \")\n",
    "idx = 2\n",
    "aa = \"Q\"\n",
    "peptides_lst[idx].count(aa)"
   ]
  },
  {
   "cell_type": "code",
   "execution_count": 16,
   "metadata": {},
   "outputs": [
    {
     "name": "stdout",
     "output_type": "stream",
     "text": [
      "1\n",
      "1\n",
      "5\n",
      "4\n",
      "3\n",
      "0\n"
     ]
    }
   ],
   "source": [
    "aa = \"Q\"\n",
    "for peptide in peptides_lst:\n",
    "    value = peptide.count(aa)\n",
    "    print(value)"
   ]
  },
  {
   "cell_type": "code",
   "execution_count": null,
   "metadata": {},
   "outputs": [],
   "source": []
  },
  {
   "cell_type": "code",
   "execution_count": 14,
   "metadata": {},
   "outputs": [
    {
     "data": {
      "text/plain": [
       "[(0, 'MAAGGSGAESAPPTPSMSSLPLAALNVRVRHRLSLFLNVRTQVAADWTGLAEEM'),\n",
       " (1, 'NFEYLEIRRLETHPDPTRSLLDDWQGRPGASVGRLLELLAKLGRDDVLVELGPS'),\n",
       " (2, 'IEEDCRKYILKQQQEAAEKPLQVDSVDSSIPWMSGITIRDDPLGQMPEHFDAFI'),\n",
       " (3, 'CYCPSDIQFVQEMIRQLEQTNYRLKLCVSDRDVLPGTCVWSIASELIEKRCRRM'),\n",
       " (4, 'VVVVSDDYLQSKECDFQTKFALSLSPGAHQKRLIPVKYKSMKKEFPSILRFITV'),\n",
       " (5, 'CDYTNPCTKSWFWTRLARALSLP')]"
      ]
     },
     "execution_count": 14,
     "metadata": {},
     "output_type": "execute_result"
    }
   ],
   "source": [
    "list(enumerate(peptides_lst))"
   ]
  },
  {
   "cell_type": "code",
   "execution_count": 22,
   "metadata": {},
   "outputs": [
    {
     "name": "stdout",
     "output_type": "stream",
     "text": [
      "{'peptide1': 1, 'peptide2': 1, 'peptide3': 5, 'peptide4': 4, 'peptide5': 3, 'peptide6': 0}\n"
     ]
    }
   ],
   "source": [
    "countsd = {}\n",
    "aa = \"Q\"\n",
    "for i, peptide in enumerate(peptides_lst):\n",
    "    value = peptide.count(aa)\n",
    "    key = \"peptide\" + str(i+1)\n",
    "    countsd[key] = value\n",
    "print(countsd)"
   ]
  },
  {
   "cell_type": "markdown",
   "metadata": {},
   "source": [
    "\n",
    "___\n",
    "\n",
    "### Function Definition - creating the function"
   ]
  },
  {
   "cell_type": "markdown",
   "metadata": {},
   "source": [
    "```python\n",
    "def function_name(arg1, arg2, darg=None):\n",
    "    # instructions to compute result\n",
    "    return result\n",
    "```"
   ]
  },
  {
   "cell_type": "markdown",
   "metadata": {},
   "source": [
    "### Function Call - running the function"
   ]
  },
  {
   "cell_type": "markdown",
   "metadata": {},
   "source": [
    "```python\n",
    "function_result = function_name(val1, val2, dval)\n",
    "```"
   ]
  },
  {
   "cell_type": "markdown",
   "metadata": {},
   "source": [
    "____\n",
    "### <font color = \"red\">Exercise</font>\n",
    "#### Gene regulatory network\n",
    "\n",
    "\"Formally speaking, a gene regulatory network or genetic regulatory network (GRN) is a collection of DNA segments in a cell which interact with each other (indirectly through their RNA and protein expression products) and with other substances in the cell, thereby governing the rates at which genes in the network are transcribed into mRNA. In general, each mRNA molecule goes on to make a specific protein (or set of proteins).\"  \n",
    "https://link.springer.com/referenceworkentry/10.1007%2F978-1-4419-9863-7_364\n",
    "\n",
    "<img src = \"https://media.springernature.com/original/springer-static/image/prt%3A978-1-4419-9863-7%2F7/MediaObjects/978-1-4419-9863-7_7_Part_Fig1-364_HTML.gif\" width = 200/>\n",
    "\n"
   ]
  },
  {
   "cell_type": "markdown",
   "metadata": {},
   "source": [
    "\n",
    "We have a list with tuples of 2 elements where the first elelment is a gene from the network above and the second element is a tuple of the genes it directly regulates (through orange links only).    \n",
    "We create a dictionary from the above list. \n",
    "\n",
    "- Write a function that uses the dictionary and computes and returns the set of the genes that a given gene indirectly regulates through exactly one intermediate gene.\n",
    "\n",
    "- Test the function for at least three cases.\n",
    "\n",
    "\n"
   ]
  },
  {
   "cell_type": "code",
   "execution_count": 24,
   "metadata": {},
   "outputs": [],
   "source": [
    "network_list = [(\"Gene1\", (\"Gene2\",)), (\"Gene2\",(\"Gene6\",)), \n",
    "                (\"Gene3\", (\"Gene1\",\"Gene5\")), (\"Gene4\", (\"Gene2\",)),\n",
    "                (\"Gene5\", (\"Gene1\",)), (\"Gene6\", (\"Gene1\",))]"
   ]
  },
  {
   "cell_type": "code",
   "execution_count": 26,
   "metadata": {},
   "outputs": [],
   "source": [
    "network = dict(network_list)"
   ]
  },
  {
   "cell_type": "code",
   "execution_count": 28,
   "metadata": {},
   "outputs": [
    {
     "data": {
      "text/plain": [
       "{'Gene1': ('Gene2',),\n",
       " 'Gene2': ('Gene6',),\n",
       " 'Gene3': ('Gene1', 'Gene5'),\n",
       " 'Gene4': ('Gene2',),\n",
       " 'Gene5': ('Gene1',),\n",
       " 'Gene6': ('Gene1',)}"
      ]
     },
     "execution_count": 28,
     "metadata": {},
     "output_type": "execute_result"
    }
   ],
   "source": [
    "network"
   ]
  },
  {
   "cell_type": "code",
   "execution_count": 51,
   "metadata": {},
   "outputs": [],
   "source": [
    "def compute_reg2_geneset(reg, biological_network):\n",
    "    reg2_geneset = set()\n",
    "    val = biological_network.get(reg, ())\n",
    "    for interm in val:\n",
    "        val2 = biological_network.get(interm, ())\n",
    "        reg2_geneset.update(val2)        \n",
    "    return reg2_geneset"
   ]
  },
  {
   "cell_type": "code",
   "execution_count": null,
   "metadata": {},
   "outputs": [],
   "source": []
  },
  {
   "cell_type": "code",
   "execution_count": 54,
   "metadata": {},
   "outputs": [
    {
     "data": {
      "text/plain": [
       "{'Gene1', 'Gene2'}"
      ]
     },
     "execution_count": 54,
     "metadata": {},
     "output_type": "execute_result"
    }
   ],
   "source": [
    "compute_reg2_geneset(\"Gene3\", network)"
   ]
  },
  {
   "cell_type": "code",
   "execution_count": 56,
   "metadata": {},
   "outputs": [
    {
     "data": {
      "text/plain": [
       "{'Gene1'}"
      ]
     },
     "execution_count": 56,
     "metadata": {},
     "output_type": "execute_result"
    }
   ],
   "source": [
    "compute_reg2_geneset(\"Gene2\", network)"
   ]
  },
  {
   "cell_type": "code",
   "execution_count": 60,
   "metadata": {},
   "outputs": [
    {
     "data": {
      "text/plain": [
       "{'Gene2'}"
      ]
     },
     "execution_count": 60,
     "metadata": {},
     "output_type": "execute_result"
    }
   ],
   "source": [
    "compute_reg2_geneset(\"Gene6\", network)"
   ]
  },
  {
   "cell_type": "code",
   "execution_count": null,
   "metadata": {},
   "outputs": [],
   "source": []
  },
  {
   "cell_type": "code",
   "execution_count": null,
   "metadata": {},
   "outputs": [],
   "source": []
  },
  {
   "cell_type": "code",
   "execution_count": null,
   "metadata": {},
   "outputs": [],
   "source": []
  },
  {
   "cell_type": "code",
   "execution_count": null,
   "metadata": {},
   "outputs": [],
   "source": []
  },
  {
   "cell_type": "code",
   "execution_count": null,
   "metadata": {},
   "outputs": [],
   "source": []
  },
  {
   "cell_type": "code",
   "execution_count": null,
   "metadata": {},
   "outputs": [],
   "source": []
  },
  {
   "cell_type": "code",
   "execution_count": null,
   "metadata": {},
   "outputs": [],
   "source": []
  },
  {
   "cell_type": "markdown",
   "metadata": {
    "tags": []
   },
   "source": [
    "____\n",
    "\n",
    "#### File operations \n",
    "A file is a named location on disk to store related information <BR>\n",
    "It is used to permanently store data in a non-volatile memory (e.g. hard disk)<br>\n",
    "https://www.programiz.com/python-programming/file-operation <br><br>\n",
    "#### open – open a file for reading or writing<br>\n",
    "    \n",
    "```python\n",
    "open(file, mode='r', buffering=-1, encoding=None, errors=None, newline=None, closefd=True, opener=None)\n",
    "  \n",
    "fileObj = open(fileName, ‘r’) # open file for reading, r+\n",
    "fileObj = open(fileName, ‘w’) # open file for writing, w+\n",
    "fileObj = open(fileName, ‘a’) # open file for  appending, a+\n",
    "```\n",
    "(Note: file - is the file name or path and must be a string or reference to one)\n",
    "\n",
    "The file object is iterable by line/buffer\n"
   ]
  },
  {
   "cell_type": "markdown",
   "metadata": {
    "tags": []
   },
   "source": [
    "_______\n",
    "### <font color = \"red\">Exercise</font> \n"
   ]
  },
  {
   "cell_type": "markdown",
   "metadata": {},
   "source": [
    "#### Gene promoter:\n",
    "https://www.genome.gov/genetics-glossary/Promoter  \n",
    "\"A promoter is a sequence of DNA needed to turn a gene on or off. The process of transcription is initiated at the promoter. Usually found near the beginning of a gene, the promoter has a binding site for the enzyme used to make a messenger RNA (mRNA) molecule.\"\n",
    "\n",
    "https://signagen.com/blog/2015/10/14/how-to-locate-promoter-sequence-for-a-specific-gene/\n",
    "\n"
   ]
  },
  {
   "cell_type": "markdown",
   "metadata": {},
   "source": [
    "- Write the elements of the follwing two lists into a file `gene_promoter_sequence.txt` as two columns separated by tab. \n",
    "- Write a function that computes the GC content of a sequence\n",
    "- Read the gene and promoter sequence from `gene_promoter_sequence.txt` and use the function to compute the GC content of the promoter sequence and of each gene and write the gene symbol and GC content in a different file called `promoter_GC_content.tsv`, one line per gene; gene symbol and GC content separated by tab - because we have a .tsv file."
   ]
  },
  {
   "cell_type": "code",
   "execution_count": 62,
   "metadata": {},
   "outputs": [],
   "source": [
    "gene = [\"BRCA2\", \"EGFR\", \"TP53\", \"TNF\"]\n",
    "sequence = [\n",
    "\"AACGAATTCGGAGATGAAGTCAGGTCTTCCAGTTCAGCCTGCGAGGAAGACAGGTGATCCGAATCCTAAGAATGCAAAAGATGGGCCGGGTGTGGTGGCTCATGCCTGTAATCCCAGCGCTTTGGGAGGCCGAGGCAGGCAGATCACCTGAGGTCGGGAGGTTGAGACCAGACTGACCAACAACGGAGAAACCCCGTCTCTACTTAAAAATGCAAAGTTAGCCGTGCGTGGTGGCCCATGCCTGTATTCCCAGCTACTCGGGAGGCTGAGGCAGGAGAACCACTTGATCCCTGGAGGCGGAAGTTGCGGTGAGCGGAGATTGCGCCATTGCACACCAGCCCGGGCCACAAGAGCGAAACTCCGTCTCAAAAAAAAAAGCAAAAGATACTACCAAGCCCTGCGGAGCAAGGTACCTCACACTTCATGAGCGAGTTAAGATGGGTTTCACAATTTTTCAAGCAAGGAAACGGGCTCGGAGGTCTTGAACACCTGCTACCCAATAGCAGAACAGCTACTGGAACTAAAATCCTCTGATTTCAAATAACAGCCCCGCCCACTACCACTAAGTGAAGTCATCCACAACCACACACCGACCACTCT\",  \n",
    "\"CTGAAGGACCCTCGGACTTTAGAGCACCACCTCGGACGCCTGGCACCCCTGCCGCGCGGGCACGGCGACCTCCTCAGCTGCCAGGCCAGCCTCTGATCCCCGAGAGGGTCCCGTAGTGCTGCAGGGGAGGTGGGGACCCGAATAAAGGAGCAGTTTCCCCGTCGGTGCCATTATCCGACGCTGGCTCTAAGGCTCGGCCAGTCTGTCTAAAGCTGGTACAAGTTTGCTTTGTAAAACAAAAGAAGGGAAAGGGGGAAGGGGACCCTGGCACAGATTTGGCTCGACCTGGACATAGGCTGGGCCTGCAAGTCCGCGGGGACCGGGTCCAGAGGGGCAGTGCTGGGAACGCCCCTCTCGGAAATTAACTCCTCAGGGCACCCGCTCCCCTCCCATGCGCCGCCCCACTCCCGCCGGAGACTAGGTCCCGCGGGGGCCACCGCTGTCCACCGCCTCCGGCGGCCGCTGGCCTTGGGTCCCCGCTGCTGGTTCTCCTCCCTCCTCCTCGCATTCTCCTCCTCCTCTGCTCCTCCCGATCCCTCCTCCGCCGCCTGGTCCCTCCTCCTCCCGCCCTGCCTCCCCGCGCCTCGGCCCGCGCGAGCT\",\n",
    "\"GCTTCAGACCTGTCTCCCTCATTCAAAAAATATTTATTATCGAGCTCTTACTTGCTACCCAGCACTGATATAGGCACTCAGGAATACAACAATGAATAAGATAGTAGAAAAATTCTATATCCTCATAAGGCTTACGTTTCCATGTACTGAAAGCAATGAACAAATAAATCTTATCAGAGTGATAAGGGTTGTGAAGGAGATTAAATAAGATGGTGTGATATAAAGTATCTGGGAGAAAACGTTAGGGTGTGATATTACGGAAAGCCTTCCTAAAAAATGACATTTTAACTGATGAGAAGAAAGGATCCAGCTGAGAGCAAACGCAAAAGCTTTCTTCCTTCCACCCTTCATATTTGACACAATGCAGGATTCCTCCAAAATGATTTCCACCAATTCTGCCCTCACAGCTCTGGCTTGCAGAATTTTCCACCCCAAAATGTTAGTATCTACGGCACCAGGTCGGCGAGAATCCTGACTCTGCACCCTCCTCCCCAACTCCATTTCCTTTGCTTCCTCCGGCAGGCGGATTACTTGCCCTTACTTGTCATGGCGACTGTCCAGCTTTGTGCCAGGAGCCTCGCAGGGGTTGATGGGATTGGG\",\n",
    "\"GGGCTGTCCCAGGCTTGTCCCTGCTACCCCCACCCAGCCTTTCCTGAGGCCTCAAGCCTGCCACCAAGCCCCCAGCTCCTTCTCCCCGCAGGGACCCAAACACAGGCCTCAGGACTCAACACAGCTTTTCCCTCCAACCCCGTTTTCTCTCCCTCAAGGACTCAGCTTTCTGAAGCCCCTCCCAGTTCTAGTTCTATCTTTTTCCTGCATCCTGTCTGGAAGTTAGAAGGAAACAGACCACAGACCTGGTCCCCAAAAGAAATGGAGGCAATAGGTTTTGAGGGGCATGGGGACGGGGTTCAGCCTCCAGGGTCCTACACACAAATCAGTCAGTGGCCCAGAAGACCCCCCTCGGAATCGGAGCAGGGAGGATGGGGAGTGTGAGGGGTATCCTTGATGCTTGTGTGTCCCCAACTTTCCAAATCCCCGCCCCCGCGATGGAGAAGAAACCGAGACAGAAGGTGCAGGGCCCACTACCGCTTCCTCCAGATGAGCTCATGGGTTTCTCCACCAAGGAAGTTTTCCGCTGGTTGAATGATTCTTTCCCCGCCCTCCTCTCGCCCCAGGGACATATAAAGGCAGTTGTTGGCACACCCAGCC\"\n",
    "]"
   ]
  },
  {
   "cell_type": "code",
   "execution_count": 64,
   "metadata": {},
   "outputs": [
    {
     "data": {
      "text/plain": [
       "['BRCA2', 'EGFR', 'TP53', 'TNF']"
      ]
     },
     "execution_count": 64,
     "metadata": {},
     "output_type": "execute_result"
    }
   ],
   "source": [
    "gene"
   ]
  },
  {
   "cell_type": "code",
   "execution_count": 66,
   "metadata": {},
   "outputs": [
    {
     "data": {
      "text/plain": [
       "['AACGAATTCGGAGATGAAGTCAGGTCTTCCAGTTCAGCCTGCGAGGAAGACAGGTGATCCGAATCCTAAGAATGCAAAAGATGGGCCGGGTGTGGTGGCTCATGCCTGTAATCCCAGCGCTTTGGGAGGCCGAGGCAGGCAGATCACCTGAGGTCGGGAGGTTGAGACCAGACTGACCAACAACGGAGAAACCCCGTCTCTACTTAAAAATGCAAAGTTAGCCGTGCGTGGTGGCCCATGCCTGTATTCCCAGCTACTCGGGAGGCTGAGGCAGGAGAACCACTTGATCCCTGGAGGCGGAAGTTGCGGTGAGCGGAGATTGCGCCATTGCACACCAGCCCGGGCCACAAGAGCGAAACTCCGTCTCAAAAAAAAAAGCAAAAGATACTACCAAGCCCTGCGGAGCAAGGTACCTCACACTTCATGAGCGAGTTAAGATGGGTTTCACAATTTTTCAAGCAAGGAAACGGGCTCGGAGGTCTTGAACACCTGCTACCCAATAGCAGAACAGCTACTGGAACTAAAATCCTCTGATTTCAAATAACAGCCCCGCCCACTACCACTAAGTGAAGTCATCCACAACCACACACCGACCACTCT',\n",
       " 'CTGAAGGACCCTCGGACTTTAGAGCACCACCTCGGACGCCTGGCACCCCTGCCGCGCGGGCACGGCGACCTCCTCAGCTGCCAGGCCAGCCTCTGATCCCCGAGAGGGTCCCGTAGTGCTGCAGGGGAGGTGGGGACCCGAATAAAGGAGCAGTTTCCCCGTCGGTGCCATTATCCGACGCTGGCTCTAAGGCTCGGCCAGTCTGTCTAAAGCTGGTACAAGTTTGCTTTGTAAAACAAAAGAAGGGAAAGGGGGAAGGGGACCCTGGCACAGATTTGGCTCGACCTGGACATAGGCTGGGCCTGCAAGTCCGCGGGGACCGGGTCCAGAGGGGCAGTGCTGGGAACGCCCCTCTCGGAAATTAACTCCTCAGGGCACCCGCTCCCCTCCCATGCGCCGCCCCACTCCCGCCGGAGACTAGGTCCCGCGGGGGCCACCGCTGTCCACCGCCTCCGGCGGCCGCTGGCCTTGGGTCCCCGCTGCTGGTTCTCCTCCCTCCTCCTCGCATTCTCCTCCTCCTCTGCTCCTCCCGATCCCTCCTCCGCCGCCTGGTCCCTCCTCCTCCCGCCCTGCCTCCCCGCGCCTCGGCCCGCGCGAGCT',\n",
       " 'GCTTCAGACCTGTCTCCCTCATTCAAAAAATATTTATTATCGAGCTCTTACTTGCTACCCAGCACTGATATAGGCACTCAGGAATACAACAATGAATAAGATAGTAGAAAAATTCTATATCCTCATAAGGCTTACGTTTCCATGTACTGAAAGCAATGAACAAATAAATCTTATCAGAGTGATAAGGGTTGTGAAGGAGATTAAATAAGATGGTGTGATATAAAGTATCTGGGAGAAAACGTTAGGGTGTGATATTACGGAAAGCCTTCCTAAAAAATGACATTTTAACTGATGAGAAGAAAGGATCCAGCTGAGAGCAAACGCAAAAGCTTTCTTCCTTCCACCCTTCATATTTGACACAATGCAGGATTCCTCCAAAATGATTTCCACCAATTCTGCCCTCACAGCTCTGGCTTGCAGAATTTTCCACCCCAAAATGTTAGTATCTACGGCACCAGGTCGGCGAGAATCCTGACTCTGCACCCTCCTCCCCAACTCCATTTCCTTTGCTTCCTCCGGCAGGCGGATTACTTGCCCTTACTTGTCATGGCGACTGTCCAGCTTTGTGCCAGGAGCCTCGCAGGGGTTGATGGGATTGGG',\n",
       " 'GGGCTGTCCCAGGCTTGTCCCTGCTACCCCCACCCAGCCTTTCCTGAGGCCTCAAGCCTGCCACCAAGCCCCCAGCTCCTTCTCCCCGCAGGGACCCAAACACAGGCCTCAGGACTCAACACAGCTTTTCCCTCCAACCCCGTTTTCTCTCCCTCAAGGACTCAGCTTTCTGAAGCCCCTCCCAGTTCTAGTTCTATCTTTTTCCTGCATCCTGTCTGGAAGTTAGAAGGAAACAGACCACAGACCTGGTCCCCAAAAGAAATGGAGGCAATAGGTTTTGAGGGGCATGGGGACGGGGTTCAGCCTCCAGGGTCCTACACACAAATCAGTCAGTGGCCCAGAAGACCCCCCTCGGAATCGGAGCAGGGAGGATGGGGAGTGTGAGGGGTATCCTTGATGCTTGTGTGTCCCCAACTTTCCAAATCCCCGCCCCCGCGATGGAGAAGAAACCGAGACAGAAGGTGCAGGGCCCACTACCGCTTCCTCCAGATGAGCTCATGGGTTTCTCCACCAAGGAAGTTTTCCGCTGGTTGAATGATTCTTTCCCCGCCCTCCTCTCGCCCCAGGGACATATAAAGGCAGTTGTTGGCACACCCAGCC']"
      ]
     },
     "execution_count": 66,
     "metadata": {},
     "output_type": "execute_result"
    }
   ],
   "source": [
    "sequence"
   ]
  },
  {
   "cell_type": "code",
   "execution_count": null,
   "metadata": {},
   "outputs": [],
   "source": [
    "\n"
   ]
  },
  {
   "cell_type": "code",
   "execution_count": 80,
   "metadata": {},
   "outputs": [],
   "source": [
    "gp_seq_file = open(\"gene_promoter_sequence.txt\", \"w\")\n",
    "n1 = len(sequence)\n",
    "n2 = len(gene)\n",
    "n = min(n1,n2)\n",
    "for i in range(n):\n",
    "    text = gene[i] + \"\\t\" + sequence[i] + \"\\n\"\n",
    "    gp_seq_file.write(text)\n",
    "gp_seq_file.close()"
   ]
  },
  {
   "cell_type": "code",
   "execution_count": 2,
   "metadata": {},
   "outputs": [],
   "source": [
    "def compute_GCp(s):\n",
    "    return (s.count(\"C\")+s.count(\"G\"))/len(s)"
   ]
  },
  {
   "cell_type": "code",
   "execution_count": 8,
   "metadata": {},
   "outputs": [
    {
     "data": {
      "text/plain": [
       "0.625"
      ]
     },
     "execution_count": 8,
     "metadata": {},
     "output_type": "execute_result"
    }
   ],
   "source": [
    "compute_GCp(\"AACCTGGG\")"
   ]
  },
  {
   "cell_type": "code",
   "execution_count": 24,
   "metadata": {},
   "outputs": [],
   "source": [
    "gp_seq_file = open(\"gene_promoter_sequence.txt\")\n",
    "out_file = open(\"promoter_GC_content.tsv\", \"w\")\n",
    "for line in gp_seq_file:\n",
    "    sym, seq = line.split()\n",
    "    gc = compute_GCp(seq)\n",
    "    out_file.write(f\"{sym}\\t{gc}\\n\")\n",
    "gp_seq_file.close()\n",
    "out_file.close()\n",
    "    "
   ]
  },
  {
   "cell_type": "code",
   "execution_count": null,
   "metadata": {},
   "outputs": [],
   "source": []
  }
 ],
 "metadata": {
  "kernelspec": {
   "display_name": "Python 3 (ipykernel)",
   "language": "python",
   "name": "python3"
  },
  "language_info": {
   "codemirror_mode": {
    "name": "ipython",
    "version": 3
   },
   "file_extension": ".py",
   "mimetype": "text/x-python",
   "name": "python",
   "nbconvert_exporter": "python",
   "pygments_lexer": "ipython3",
   "version": "3.12.2"
  }
 },
 "nbformat": 4,
 "nbformat_minor": 4
}
