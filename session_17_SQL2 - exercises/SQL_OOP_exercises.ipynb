{
 "cells": [
  {
   "cell_type": "markdown",
   "metadata": {
    "tags": []
   },
   "source": [
    "### OOP - SQL Exercises\n",
    "\n",
    "#### BIOINF 575\n",
    "\n"
   ]
  },
  {
   "cell_type": "markdown",
   "metadata": {},
   "source": [
    "___\n",
    "\n",
    "<b> <font color = \"red\">Exercise</font></b>\n",
    "\n",
    "* <b>Implement the class `Gene` that should have an id (`gid`), `symbol` and `description`.   \n",
    "* <b>Create a list of 5 new genes with id 0, symbol \"TestGene\" and description \"Test gene description\"\n",
    "* <b>Change the symbol of the second gene in the list  to \"Gene2\"\n",
    "* <b>Create a list of genes from the file `gene_description.txt` and create a dataframe from that list.\n",
    "\n",
    "The contains generated data that does not have any biological meaning.\n"
   ]
  },
  {
   "cell_type": "code",
   "execution_count": null,
   "metadata": {},
   "outputs": [],
   "source": [
    "# Write your solution here\n",
    "import pandas as pd\n",
    "\n"
   ]
  },
  {
   "cell_type": "markdown",
   "metadata": {},
   "source": [
    "#### Implement the Gene class"
   ]
  },
  {
   "cell_type": "code",
   "execution_count": null,
   "metadata": {},
   "outputs": [],
   "source": [
    "# implement the Gene class\n",
    "# implement the __init__ method \n",
    "# in __init__ we create custom attributes:  gid, symbol and description\n",
    "# implement __str__ and __repr__ methods to be able to display the object \n",
    "# implement the __eq__ method to be able to chech equality between Gene objects\n",
    "\n",
    " \n",
    "    "
   ]
  },
  {
   "cell_type": "code",
   "execution_count": null,
   "metadata": {},
   "outputs": [],
   "source": [
    "# Create a list of 5 new genes\n",
    "# you can use a for loop or a comprehension\n",
    "# Our __init__ function has parameters without default values \n",
    "# so we cannot use Gene()\n",
    "# use 0 for the id, \"TestGene\" for the symbol, \"Test gene description\" for the description\n",
    "\n"
   ]
  },
  {
   "cell_type": "code",
   "execution_count": null,
   "metadata": {},
   "outputs": [],
   "source": [
    "# change the gene symbol of the second gene in the list to \"Gene2\"\n",
    "# you can access the list elements by index and \n",
    "# use the dot notation and assignment operator to change an attribute\n",
    "# have a look at the list of genes after you make the change\n",
    "\n"
   ]
  },
  {
   "cell_type": "markdown",
   "metadata": {},
   "source": [
    "#### Create a list of genes (Gene objects) from the `gene_description.txt` file, a comma separated file with the gene symbol and gene description. "
   ]
  },
  {
   "cell_type": "code",
   "execution_count": null,
   "metadata": {},
   "outputs": [],
   "source": []
  },
  {
   "cell_type": "markdown",
   "metadata": {},
   "source": [
    "#### Create pandas data frames from the genes list\n",
    "##### look into the `vars` function, and `__dict__` attribute for an object"
   ]
  },
  {
   "cell_type": "code",
   "execution_count": null,
   "metadata": {},
   "outputs": [],
   "source": [
    "# To create a dataframe from an object we can use the __dict__ attribute or the vars() function\n",
    "\n"
   ]
  },
  {
   "cell_type": "code",
   "execution_count": null,
   "metadata": {},
   "outputs": [],
   "source": [
    "# we can create a dataframe from a dictionary if we have the columns as keys\n",
    "# help(pd.DataFrame.from_dict)\n",
    "\n",
    "# we can create a dataframe from a list of dictionaries \n",
    "# if we have each dictionary with the same key\n",
    "# each dictionary in the list is a row\n",
    "# help(pd.DataFrame.from_records)\n",
    "\n",
    "import pandas as pd\n",
    "import numpy as np\n"
   ]
  },
  {
   "cell_type": "code",
   "execution_count": null,
   "metadata": {},
   "outputs": [],
   "source": []
  },
  {
   "cell_type": "code",
   "execution_count": null,
   "metadata": {},
   "outputs": [],
   "source": []
  },
  {
   "cell_type": "markdown",
   "metadata": {},
   "source": [
    "____________\n",
    "____________\n",
    "## SQL "
   ]
  },
  {
   "cell_type": "code",
   "execution_count": null,
   "metadata": {},
   "outputs": [],
   "source": [
    "# put the import statements at the top of the notebook\n",
    "\n",
    "# bring in the functionality from the sqlite3 module\n",
    "# specifically the connect function\n",
    "\n",
    "from sqlite3 import connect\n",
    "\n",
    "# import pandas so you can see the select results as a dataframe\n",
    "import pandas as pd"
   ]
  },
  {
   "cell_type": "code",
   "execution_count": null,
   "metadata": {},
   "outputs": [],
   "source": [
    "# put the functions at the beginning of your notebook after imports"
   ]
  },
  {
   "cell_type": "code",
   "execution_count": null,
   "metadata": {},
   "outputs": [],
   "source": [
    "# run a select query and create a dataframe\n",
    "\n",
    "def run_select_query(query, cursor):\n",
    "    cursor.execute(query)\n",
    "    data_header = [t[0] for t in cursor.description]\n",
    "    df = pd.DataFrame(cursor.fetchall(), columns = data_header)\n",
    "    return df"
   ]
  },
  {
   "cell_type": "code",
   "execution_count": null,
   "metadata": {},
   "outputs": [],
   "source": [
    "# check the sqlite_master table\n",
    "\n",
    "def check_master_table(cursor):\n",
    "    select_master = \"SELECT name, type FROM sqlite_master;\"\n",
    "    return run_select_query(select_master, cursor)\n"
   ]
  },
  {
   "cell_type": "code",
   "execution_count": null,
   "metadata": {},
   "outputs": [],
   "source": [
    "# we do the same thing multiple times - we can use a function\n",
    "\n",
    "def run_create_table(sql, cursor, connection):\n",
    "        cursor.execute(sql)\n",
    "        connection.commit()"
   ]
  },
  {
   "cell_type": "markdown",
   "metadata": {
    "tags": []
   },
   "source": [
    "___\n",
    "\n",
    "<b> <font color = \"red\">Exercise</font></b>\n",
    "\n",
    "#### Query a database \n",
    "The music store sqlite database available in the file `chinook.db` has the tables that you can see in the below diagram.\n",
    "You can download the database (the file `chinook.db`) from the following link:\n",
    "https://www.sqlitetutorial.net/sqlite-sample-database/\n",
    "\n",
    "<img src = https://www.sqlitetutorial.net/wp-content/uploads/2015/11/sqlite-sample-database-color.jpg width = 675>\n",
    "\n",
    "https://www.sqlitetutorial.net/wp-content/uploads/2015/11/sqlite-sample-database-color.jpg\n",
    "\n",
    "\n"
   ]
  },
  {
   "cell_type": "markdown",
   "metadata": {},
   "source": [
    "Write SQL queries to:\n",
    "- Retrieve the name of the artists with more than 50 tracks in this database.\n",
    "    - See the artists, albums and tracks tables and the TrackId, AlbumId and ArtistId columns in these tables.   \n",
    "- What is the name of the most expensive track and the name of the artist for that track?\n",
    "    - See the artists, albums and tracks tables and the ArtistId, AlbumId, TrackId, and UnitPrice columns in those tables.    \n",
    "- Retrieve the name of the artist with the highest number of tracks sold.\n",
    "    - See the invoice table, sum up the quantity for all tracks from albums associated with that artist.   \n",
    "\n",
    "Feel free to build other quesries for questions you may have."
   ]
  },
  {
   "cell_type": "markdown",
   "metadata": {},
   "source": [
    "Check the list of aggregate functions - we see that for mean we use avg()  \n",
    "https://www.sqlite.org/lang_aggfunc.html"
   ]
  },
  {
   "cell_type": "code",
   "execution_count": null,
   "metadata": {},
   "outputs": [],
   "source": [
    "# Write your solution here\n",
    "\n",
    "\n"
   ]
  },
  {
   "cell_type": "code",
   "execution_count": null,
   "metadata": {
    "tags": []
   },
   "outputs": [],
   "source": [
    "# task1: Retrieve the name of the artists with more than 50 tracks in this database.\n",
    "# We need to connect all three tables to get tracks information that connect to albums that have the artistid.\n",
    "# We need to group the data to count tracks for each artist (name),\n",
    "# We order the results so we can easily interpret them.\n",
    "\n",
    "\n"
   ]
  },
  {
   "cell_type": "code",
   "execution_count": null,
   "metadata": {
    "tags": []
   },
   "outputs": [],
   "source": [
    "# task2: What is the name of the most expensive track and the name of the artist for that track?\n",
    "# We need to connect the albums tracks and artists and get the track name and max unit price from tracks  \n",
    "# and the artist name from artists\n",
    "\n"
   ]
  },
  {
   "cell_type": "code",
   "execution_count": null,
   "metadata": {},
   "outputs": [],
   "source": [
    "# What is the name of the least expensive track and the name of the artist for that track?\n",
    "\n"
   ]
  },
  {
   "cell_type": "code",
   "execution_count": null,
   "metadata": {},
   "outputs": [],
   "source": [
    "# task3: Retrieve the name of the artist with the highest number of tracks sold.\n",
    "# We need to connect the invoice_item, albums tracks and artists tables\n",
    "# Compute the sum of the quantity for each artist name, order the data and take the highest value\n",
    "\n"
   ]
  },
  {
   "cell_type": "code",
   "execution_count": null,
   "metadata": {},
   "outputs": [],
   "source": [
    "# answer more interesting questions here"
   ]
  },
  {
   "cell_type": "code",
   "execution_count": null,
   "metadata": {},
   "outputs": [],
   "source": [
    "# when we are done working with the database\n",
    "# close the cursor and the connection\n",
    "\n"
   ]
  },
  {
   "cell_type": "code",
   "execution_count": null,
   "metadata": {},
   "outputs": [],
   "source": []
  },
  {
   "cell_type": "code",
   "execution_count": null,
   "metadata": {},
   "outputs": [],
   "source": []
  },
  {
   "cell_type": "markdown",
   "metadata": {
    "tags": []
   },
   "source": [
    "___\n",
    "\n",
    "<b> <font color = \"red\">Exercise</font></b>\n",
    "\n",
    "#### Gene annotation database\n",
    "\n",
    "Create a gene_go sqlite database with 3 tables gene and go_term and gene_go from the files `gene_description.txt` and `gene_go.txt`. \n",
    "* `gene_description.txt` - a comma separated file with the gene symbol and gene description\n",
    "* `gene_go.txt` - a comma separated file with the gene symbol, go term abreviation and go term name\n",
    "\n",
    "The genes table has the following columns:\n",
    "* gid - integer, primary key, autoincrement\n",
    "* symbol - text, not null\n",
    "* desc - text\n",
    "\n",
    "The go_terms table has the following columns:\n",
    "* gtid - integer, primary key, autoincrement\n",
    "* abbr - text, not null\n",
    "* name - text\n",
    "\n",
    "The gene_go:\n",
    "* gene_id - integer, not null\n",
    "* goterm_id - integer, not null\n",
    "\n",
    "\n",
    "Run the following querries:\n",
    "- A select that retrieves how many genes we have.\n",
    "- A select that retrieves how many go terms we have.\n",
    "- A select of the gene symbol for the gene with the highest number of associated go terms.\n",
    "\n",
    "\n"
   ]
  },
  {
   "cell_type": "code",
   "execution_count": null,
   "metadata": {},
   "outputs": [],
   "source": [
    "# Write your solution here\n",
    "\n",
    "\n"
   ]
  },
  {
   "cell_type": "code",
   "execution_count": null,
   "metadata": {},
   "outputs": [],
   "source": [
    "# create and connect to the gene_go.sqlite database\n",
    "# this should be a new file\n",
    "# make sure it does not exist in your current folder\n",
    "\n",
    "\n"
   ]
  },
  {
   "cell_type": "code",
   "execution_count": null,
   "metadata": {},
   "outputs": [],
   "source": [
    "# create tables in the database\n",
    "\n",
    "# write the create statements\n",
    "\n"
   ]
  },
  {
   "cell_type": "code",
   "execution_count": null,
   "metadata": {},
   "outputs": [],
   "source": [
    "# check the sqlite_master table - should be empty at this point\n",
    "\n"
   ]
  },
  {
   "cell_type": "code",
   "execution_count": null,
   "metadata": {},
   "outputs": [],
   "source": [
    "# run the create table commands\n",
    "# commit the changes\n"
   ]
  },
  {
   "cell_type": "code",
   "execution_count": null,
   "metadata": {},
   "outputs": [],
   "source": [
    "# check the sqlite_master table \n",
    "# should have the three tables\n",
    "\n"
   ]
  },
  {
   "cell_type": "code",
   "execution_count": null,
   "metadata": {},
   "outputs": [],
   "source": [
    "# write the insert statements\n",
    "\n",
    "\n"
   ]
  },
  {
   "cell_type": "code",
   "execution_count": null,
   "metadata": {},
   "outputs": [],
   "source": [
    "# parse the  \"gene_description.txt\" file and create lists of the rows for the genes table \n",
    "\n"
   ]
  },
  {
   "cell_type": "code",
   "execution_count": null,
   "metadata": {},
   "outputs": [],
   "source": [
    "# insert all the sublists from genes_lst as rows in the genes table\n",
    "# use cursor.executemany with the sql statement and the list of lists\n",
    "# commit the changes"
   ]
  },
  {
   "cell_type": "code",
   "execution_count": null,
   "metadata": {},
   "outputs": [],
   "source": [
    "# check the genes table \n",
    "# should have data now\n",
    "\n",
    "\n"
   ]
  },
  {
   "cell_type": "code",
   "execution_count": null,
   "metadata": {},
   "outputs": [],
   "source": [
    "# parse the  \"gene_go.txt\" file and create lists of the rows for the go_terms and gene_go tables \n",
    "# create the go_terms and gene_go lists\n",
    "# in the gene_go table we can have multiple genes connected to multiple go terms\n",
    "# we already have the data for genes\n",
    "# this file will be used to only add data/rows in the go_terms and gene_go tables\n",
    "# if you want to be more thorough - add new genes without description if they appear in the gene_go table\n",
    "\n",
    "\n"
   ]
  },
  {
   "cell_type": "code",
   "execution_count": null,
   "metadata": {},
   "outputs": [],
   "source": []
  },
  {
   "cell_type": "code",
   "execution_count": null,
   "metadata": {},
   "outputs": [],
   "source": []
  },
  {
   "cell_type": "code",
   "execution_count": null,
   "metadata": {},
   "outputs": [],
   "source": []
  },
  {
   "cell_type": "code",
   "execution_count": null,
   "metadata": {},
   "outputs": [],
   "source": []
  },
  {
   "cell_type": "code",
   "execution_count": null,
   "metadata": {},
   "outputs": [],
   "source": [
    "# insert all the sublists from genes_lst as rows in the genes table\n",
    "# use cursor.executemany with the sql statement and the list of lists\n",
    "# commit the changescursor.executemany(insert_go_term, go_term_lst)\n"
   ]
  },
  {
   "cell_type": "code",
   "execution_count": null,
   "metadata": {},
   "outputs": [],
   "source": [
    "# check the go_terms table \n",
    "# should have data now\n",
    "\n"
   ]
  },
  {
   "cell_type": "code",
   "execution_count": null,
   "metadata": {},
   "outputs": [],
   "source": []
  },
  {
   "cell_type": "code",
   "execution_count": null,
   "metadata": {},
   "outputs": [],
   "source": [
    "# check the gene_go table \n",
    "# should have data now\n",
    "\n"
   ]
  },
  {
   "cell_type": "code",
   "execution_count": null,
   "metadata": {},
   "outputs": [],
   "source": []
  },
  {
   "cell_type": "code",
   "execution_count": null,
   "metadata": {},
   "outputs": [],
   "source": [
    "# A select that retrieves how many genes we have.\n",
    "\n",
    "# we use count\n",
    "\n",
    "\n"
   ]
  },
  {
   "cell_type": "code",
   "execution_count": null,
   "metadata": {},
   "outputs": [],
   "source": [
    "# A select that retrieves how many go_terms we have.\n",
    "\n",
    "# we use count\n",
    "\n",
    "\n"
   ]
  },
  {
   "cell_type": "code",
   "execution_count": null,
   "metadata": {},
   "outputs": [],
   "source": [
    "# A select of the gene symbol for the gene with the highest number of associated go terms.\n",
    "\n",
    "\n"
   ]
  },
  {
   "cell_type": "code",
   "execution_count": null,
   "metadata": {},
   "outputs": [],
   "source": [
    "# we are done working with this database\n",
    "# close cursor and connection\n",
    "\n"
   ]
  },
  {
   "cell_type": "code",
   "execution_count": null,
   "metadata": {},
   "outputs": [],
   "source": []
  },
  {
   "cell_type": "markdown",
   "metadata": {},
   "source": [
    "____________\n",
    "____________"
   ]
  },
  {
   "cell_type": "markdown",
   "metadata": {
    "tags": []
   },
   "source": [
    "___\n",
    "\n",
    "<b> <font color = \"red\">Exercise</font></b>\n",
    "\n",
    "#### Package exploration\n",
    "You do not need to install these packages to have a look at what they do and answer the questions.\n",
    "\n",
    "Look into one of the following packages: \n",
    "* scipy: https://github.com/scipy/scipy\n",
    "* scikit-learn: https://github.com/scikit-learn/scikit-learn\n",
    "* tensorflow: https://github.com/tensorflow/tensorflow\n",
    "* keras: https://github.com/keras-team/keras\n",
    "* pytorch: https://github.com/pytorch/pytorch\n",
    "\n",
    "Answer the following questions:\n",
    "- Does this package come with base python or needs to be installed?\n",
    "- What is the command to install the package?\n",
    "- What does this package do?\n",
    "    -  In your own words. The readme file can be a good resource. \n",
    "- What is one of the main functions in the package and what does it do?\n",
    "    - short description - mention the input and output.\n",
    "- Find a class definition. What is the file that contains the class definition (github link to the file and line number where the class definition starts)?\n",
    "    - You can search for a word in GitHub repository and all files that contain that word from that repository will be retrieved with the word highlighted\n",
    "-  Look for the setup.py, pyproject.toml and requirements.txt files in the package GitHub repository. These files contain configuration settings for the package like package dependencies (sometimes listed in the requirements.txt file), package version, package supported python versions. Look into the setup.py or pyproject.tomlfile for the classifiers word and in that list you will find some of these elements. Write ine classifier name and value and explain what they mean.\n",
    "    - The following examples from the classifiers list means that the package supports the listed operating sysytems. Can be installed for all the listed operating systems. \n",
    "```\n",
    "  \"Operating System :: Microsoft :: Windows\",\n",
    "  \"Operating System :: POSIX\",\n",
    "  \"Operating System :: Unix\",\n",
    "  \"Operating System :: MacOS\",\n",
    "```\n",
    "\n"
   ]
  },
  {
   "cell_type": "code",
   "execution_count": null,
   "metadata": {},
   "outputs": [],
   "source": [
    "# Write your solution here\n",
    "\n",
    "\n"
   ]
  },
  {
   "cell_type": "markdown",
   "metadata": {},
   "source": [
    "### Example for bamnostic\n",
    "\n",
    "To find out how the project will be set up look in `setup.py`:    \n",
    "https://github.com/betteridiot/bamnostic/blob/master/setup.py\n",
    "\n",
    "OPERATING SYSTEM:\n",
    "\n",
    "Classifiers can be used for searching and to specify various package attributes.    \n",
    "https://packaging.python.org/guides/distributing-packages-using-setuptools/#classifiers     \n",
    "https://packaging.python.org/guides/distributing-packages-using-setuptools/#python-requires\n",
    "\n",
    "Although the list of classifiers is often used to declare what Python versions a project supports, this information is only used for searching & browsing projects on PyPI, not for installing projects. To actually restrict what Python versions a project can be installed on, use the python_requires argument.\n",
    "\n",
    "List of classifiers:      \n",
    "https://pypi.org/classifiers/\n",
    "\n",
    "https://pypi.org/search/?q=&o=     \n",
    "If you look on the left panel at filter by classifier - operating system - you can see all operating systems. available in general.\n",
    "\n",
    "For <b>bamnostic</b> we have:     \n",
    "https://github.com/betteridiot/bamnostic/blob/master/setup.py\n",
    "\n",
    "Operating systems: Unix, Microsoft :: Windows, MacOS\n",
    "```\n",
    "        \"Operating System :: Unix\",\n",
    "        \"Operating System :: Microsoft :: Windows\",\n",
    "        \"Operating System :: MacOS\",\n",
    "        \"Programming Language :: Python :: 2.7\",\n",
    "        \"Programming Language :: Python :: 3\",\n",
    "        \"Programming Language :: Python :: 3.0\",\n",
    "        \"Programming Language :: Python :: 3.1\",\n",
    "        \"Programming Language :: Python :: 3.2\",\n",
    "        \"Programming Language :: Python :: 3.3\",\n",
    "        \"Programming Language :: Python :: 3.4\",\n",
    "        \"Programming Language :: Python :: 3.5\",\n",
    "        \"Programming Language :: Python :: 3.6\",\n",
    "        \"Programming Language :: Python :: 3.7\",\n",
    "        \"Programming Language :: Python :: 3.8\",\n",
    "        \n",
    "```\n",
    "\n",
    "DEPENDENCIES: \n",
    "\n",
    "`install_requires` should be used to specify what dependencies a project minimally needs to run.    \n",
    "When the project is installed by pip, this is the specification that is used to install its dependencies.\n",
    "For more on using “install_requires” see install_requires vs requirements files.\n",
    "https://packaging.python.org/guides/distributing-packages-using-setuptools/#install-requires\n",
    "https://packaging.python.org/discussions/install-requires-vs-requirements/#install-requires-vs-requirements-files\n",
    "\n",
    "https://python-packaging.readthedocs.io/en/latest/dependencies.html      \n",
    "https://packaging.python.org/guides/distributing-packages-using-setuptools/#python-requires\n",
    "\n",
    "\n",
    "For <b>bamnostic</b> we have: Dependencies: None        \n",
    "https://github.com/betteridiot/bamnostic/blob/master/setup.py    \n",
    "\n",
    "\n",
    "```\n",
    "    # setup_requires=['pytest-runner'],\n",
    "    tests_require=[\"pytest\"],\n",
    "\n",
    "```\n",
    "\n",
    "Also `requirements.txt` is empty. That is the file that stores dependencies.   \n",
    "https://github.com/betteridiot/bamnostic/blob/master/requirements.txt\n",
    "\n",
    "CLASSES:\n",
    "\n",
    "Look into the folder with the same name as the package, that is where the code is (.py files are modules).\n",
    "Search for the keyword `class`.\n",
    "\n",
    "For <b>bamnostic</b> in the file `core.py` I found a class at line 113.     \n",
    "https://github.com/betteridiot/bamnostic/blob/master/bamnostic/core.py   \n",
    "```\n",
    "class AlignmentFile(bam.BamReader, bam.BamWriter):\n",
    "```\n"
   ]
  },
  {
   "cell_type": "markdown",
   "metadata": {},
   "source": [
    "________"
   ]
  }
 ],
 "metadata": {
  "kernelspec": {
   "display_name": "Python 3 (ipykernel)",
   "language": "python",
   "name": "python3"
  },
  "language_info": {
   "codemirror_mode": {
    "name": "ipython",
    "version": 3
   },
   "file_extension": ".py",
   "mimetype": "text/x-python",
   "name": "python",
   "nbconvert_exporter": "python",
   "pygments_lexer": "ipython3",
   "version": "3.12.2"
  }
 },
 "nbformat": 4,
 "nbformat_minor": 4
}
