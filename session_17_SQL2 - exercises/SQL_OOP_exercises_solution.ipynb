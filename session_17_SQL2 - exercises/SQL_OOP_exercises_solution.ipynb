{
 "cells": [
  {
   "cell_type": "markdown",
   "metadata": {
    "tags": []
   },
   "source": [
    "### OOP - SQL Exercises\n",
    "\n",
    "#### BIOINF 575\n",
    "\n",
    "##### SOLUTION\n"
   ]
  },
  {
   "cell_type": "markdown",
   "metadata": {},
   "source": [
    "___\n",
    "<b> <font color = \"red\">Exercise</font></b>\n",
    "\n",
    "* <b>Implement the class `Gene` that should have an id (`gid`), `symbol` and `description`.   \n",
    "* <b>Create a list of 5 new genes with id 0, symbol \"TestGene\" and description \"Test gene description\"\n",
    "* <b>Change the symbol of the second gene in the list  to \"Gene2\"\n",
    "* <b>Create a list of genes from the file `gene_description.txt` and create a dataframe from that list.\n",
    "\n",
    "The contains generated data that does not have any biological meaning.\n"
   ]
  },
  {
   "cell_type": "code",
   "execution_count": 4,
   "metadata": {},
   "outputs": [],
   "source": [
    "# Write your solution here\n",
    "import pandas as pd\n",
    "\n"
   ]
  },
  {
   "cell_type": "markdown",
   "metadata": {},
   "source": [
    "#### Implement the Gene class"
   ]
  },
  {
   "cell_type": "code",
   "execution_count": 6,
   "metadata": {},
   "outputs": [],
   "source": [
    "# implement the Gene class\n",
    "# implement the __init__ method \n",
    "# in __init__ we create custom attributes:  gid, symbol and description\n",
    "# implement __str__ and __repr__ methods to be able to display the object \n",
    "# implement the __eq__ method to be able to chech equality between Gnee objects\n",
    "\n",
    "class Gene:\n",
    "    def __init__(self,  gid, sym, desc): \n",
    "        # checks can be done to make sure the data is not missing and \n",
    "        # each parameter should ahve the correct type\n",
    "        self.gid = gid\n",
    "        self.symbol = sym\n",
    "        self.description = desc\n",
    "        \n",
    "    def __str__(self):\n",
    "        return f\"Gene({self.gid},'{self.symbol}','{self.description}')\"\n",
    "    \n",
    "    def __repr__(self):\n",
    "        return f\"Gene({self.gid},'{self.symbol}','{self.description}')\"\n",
    "    \n",
    "    def __eq__(self, g):\n",
    "        return self.gid == g.gid and self.symbol == g.symbol and self.description == g.description\n",
    "    \n",
    "    "
   ]
  },
  {
   "cell_type": "code",
   "execution_count": 7,
   "metadata": {},
   "outputs": [
    {
     "data": {
      "text/plain": [
       "Gene(2,'GSYM','Gene for testing')"
      ]
     },
     "execution_count": 7,
     "metadata": {},
     "output_type": "execute_result"
    }
   ],
   "source": [
    "# test \n",
    "\n",
    "g = Gene(2, \"GSYM\", \"Gene for testing\")\n",
    "g"
   ]
  },
  {
   "cell_type": "code",
   "execution_count": 8,
   "metadata": {},
   "outputs": [
    {
     "data": {
      "text/plain": [
       "[Gene(0,'TestGene','Test gene description'),\n",
       " Gene(0,'TestGene','Test gene description'),\n",
       " Gene(0,'TestGene','Test gene description'),\n",
       " Gene(0,'TestGene','Test gene description'),\n",
       " Gene(0,'TestGene','Test gene description')]"
      ]
     },
     "execution_count": 8,
     "metadata": {},
     "output_type": "execute_result"
    }
   ],
   "source": [
    "# Create a list of 5 new genes\n",
    "# you can use a for loop or a comprehension\n",
    "# Our __init__ function has parameters without default values \n",
    "# so we cannot use Gene()\n",
    "# use 0 for the id, \"TestGene\" for the symbol, \"Test gene description\" for the description\n",
    "\n",
    "n = 5\n",
    "gene_lst = [Gene(0,\"TestGene\", \"Test gene description\") for i in range(n)]\n",
    "gene_lst"
   ]
  },
  {
   "cell_type": "code",
   "execution_count": 9,
   "metadata": {},
   "outputs": [
    {
     "data": {
      "text/plain": [
       "[Gene(0,'TestGene','Test gene description'),\n",
       " Gene(0,'Gene2','Test gene description'),\n",
       " Gene(0,'TestGene','Test gene description'),\n",
       " Gene(0,'TestGene','Test gene description'),\n",
       " Gene(0,'TestGene','Test gene description')]"
      ]
     },
     "execution_count": 9,
     "metadata": {},
     "output_type": "execute_result"
    }
   ],
   "source": [
    "# change the gene symbol of the second gene in the list to \"Gene2\"\n",
    "# you can access the list elements by index and \n",
    "# use the dot notation and assignment operator to change an attribute\n",
    "# have a look at the list of genes after you make the change\n",
    "\n",
    "gene_lst[1].symbol = \"Gene2\"\n",
    "\n",
    "gene_lst"
   ]
  },
  {
   "cell_type": "markdown",
   "metadata": {},
   "source": [
    "#### Create a list of genes (Gene objects) from the `gene_description.txt` file, a comma separated file with the gene symbol and gene description. "
   ]
  },
  {
   "cell_type": "code",
   "execution_count": 11,
   "metadata": {},
   "outputs": [
    {
     "name": "stdout",
     "output_type": "stream",
     "text": [
      "Gene,Description\n",
      "\n"
     ]
    },
    {
     "data": {
      "text/plain": [
       "[Gene(1,'Gene3','Description of gene 3'),\n",
       " Gene(2,'Gene22','Description of gene 22'),\n",
       " Gene(3,'Gene24','Description of gene 24'),\n",
       " Gene(4,'Gene70','Description of gene 70')]"
      ]
     },
     "execution_count": 11,
     "metadata": {},
     "output_type": "execute_result"
    }
   ],
   "source": [
    "# initialize variables for the genes list\n",
    "genes_lst = []\n",
    "\n",
    "# read lines from the file one by one\n",
    "file_name = \"gene_description.txt\"\n",
    "gene_id = 0\n",
    "with open(file_name) as gene_file:\n",
    "    header_line = gene_file.readline()\n",
    "    print(header_line)\n",
    "    for line in gene_file:\n",
    "        # increase the gene id\n",
    "        gene_id = gene_id + 1\n",
    "        line_list = line.strip().split(\",\")\n",
    "        line_list = [gene_id] + line_list\n",
    "        # Create a Gene object and add it to the list\n",
    "        # *line_list will take the values from the list \n",
    "        # and pass them as values for the parameters of the function\n",
    "        # gid, sym and desc\n",
    "        genes_lst.append(Gene(*line_list))\n",
    "        \n",
    "genes_lst"
   ]
  },
  {
   "cell_type": "markdown",
   "metadata": {},
   "source": [
    "#### Create pandas data frames from the genes list\n",
    "##### look into the `vars` function, and `__dict__` attribute for an object"
   ]
  },
  {
   "cell_type": "code",
   "execution_count": 13,
   "metadata": {},
   "outputs": [
    {
     "name": "stdout",
     "output_type": "stream",
     "text": [
      "{'gid': 2, 'symbol': 'GSYM', 'description': 'Gene for testing'}\n"
     ]
    }
   ],
   "source": [
    "# To create a dataframe from an object we can use the __dict__ attribute or the vars() function\n",
    "\n",
    "print(g.__dict__)"
   ]
  },
  {
   "cell_type": "code",
   "execution_count": 14,
   "metadata": {},
   "outputs": [
    {
     "name": "stdout",
     "output_type": "stream",
     "text": [
      "Help on built-in function vars in module builtins:\n",
      "\n",
      "vars(...)\n",
      "    Show vars.\n",
      "\n",
      "    Without arguments, equivalent to locals().\n",
      "    With an argument, equivalent to object.__dict__.\n",
      "\n"
     ]
    }
   ],
   "source": [
    "help(vars)"
   ]
  },
  {
   "cell_type": "code",
   "execution_count": 15,
   "metadata": {},
   "outputs": [
    {
     "data": {
      "text/html": [
       "<div>\n",
       "<style scoped>\n",
       "    .dataframe tbody tr th:only-of-type {\n",
       "        vertical-align: middle;\n",
       "    }\n",
       "\n",
       "    .dataframe tbody tr th {\n",
       "        vertical-align: top;\n",
       "    }\n",
       "\n",
       "    .dataframe thead th {\n",
       "        text-align: right;\n",
       "    }\n",
       "</style>\n",
       "<table border=\"1\" class=\"dataframe\">\n",
       "  <thead>\n",
       "    <tr style=\"text-align: right;\">\n",
       "      <th></th>\n",
       "      <th>gid</th>\n",
       "      <th>symbol</th>\n",
       "      <th>description</th>\n",
       "    </tr>\n",
       "  </thead>\n",
       "  <tbody>\n",
       "    <tr>\n",
       "      <th>0</th>\n",
       "      <td>2</td>\n",
       "      <td>GSYM</td>\n",
       "      <td>Gene for testing</td>\n",
       "    </tr>\n",
       "  </tbody>\n",
       "</table>\n",
       "</div>"
      ],
      "text/plain": [
       "   gid symbol       description\n",
       "0    2   GSYM  Gene for testing"
      ]
     },
     "execution_count": 15,
     "metadata": {},
     "output_type": "execute_result"
    }
   ],
   "source": [
    "# we can create a dataframe from a dictionary if we have the columns as keys\n",
    "# help(pd.DataFrame.from_dict)\n",
    "\n",
    "# we can create a dataframe from a list of dictionaries \n",
    "# if we have each dictionary with the same key\n",
    "# each dictionary in the list is a row\n",
    "# help(pd.DataFrame.from_records)\n",
    "\n",
    "import numpy as np\n",
    "import pandas as pd\n",
    "\n",
    "pd.DataFrame.from_records([vars(g)])"
   ]
  },
  {
   "cell_type": "code",
   "execution_count": 16,
   "metadata": {},
   "outputs": [
    {
     "data": {
      "text/plain": [
       "[{'gid': 1, 'symbol': 'Gene3', 'description': 'Description of gene 3'},\n",
       " {'gid': 2, 'symbol': 'Gene22', 'description': 'Description of gene 22'},\n",
       " {'gid': 3, 'symbol': 'Gene24', 'description': 'Description of gene 24'},\n",
       " {'gid': 4, 'symbol': 'Gene70', 'description': 'Description of gene 70'}]"
      ]
     },
     "execution_count": 16,
     "metadata": {},
     "output_type": "execute_result"
    }
   ],
   "source": [
    "# let's create the list of dictionaries\n",
    "\n",
    "[vars(gene) for gene in genes_lst]"
   ]
  },
  {
   "cell_type": "code",
   "execution_count": 17,
   "metadata": {},
   "outputs": [
    {
     "data": {
      "text/html": [
       "<div>\n",
       "<style scoped>\n",
       "    .dataframe tbody tr th:only-of-type {\n",
       "        vertical-align: middle;\n",
       "    }\n",
       "\n",
       "    .dataframe tbody tr th {\n",
       "        vertical-align: top;\n",
       "    }\n",
       "\n",
       "    .dataframe thead th {\n",
       "        text-align: right;\n",
       "    }\n",
       "</style>\n",
       "<table border=\"1\" class=\"dataframe\">\n",
       "  <thead>\n",
       "    <tr style=\"text-align: right;\">\n",
       "      <th></th>\n",
       "      <th>gid</th>\n",
       "      <th>symbol</th>\n",
       "      <th>description</th>\n",
       "    </tr>\n",
       "  </thead>\n",
       "  <tbody>\n",
       "    <tr>\n",
       "      <th>0</th>\n",
       "      <td>1</td>\n",
       "      <td>Gene3</td>\n",
       "      <td>Description of gene 3</td>\n",
       "    </tr>\n",
       "    <tr>\n",
       "      <th>1</th>\n",
       "      <td>2</td>\n",
       "      <td>Gene22</td>\n",
       "      <td>Description of gene 22</td>\n",
       "    </tr>\n",
       "    <tr>\n",
       "      <th>2</th>\n",
       "      <td>3</td>\n",
       "      <td>Gene24</td>\n",
       "      <td>Description of gene 24</td>\n",
       "    </tr>\n",
       "    <tr>\n",
       "      <th>3</th>\n",
       "      <td>4</td>\n",
       "      <td>Gene70</td>\n",
       "      <td>Description of gene 70</td>\n",
       "    </tr>\n",
       "  </tbody>\n",
       "</table>\n",
       "</div>"
      ],
      "text/plain": [
       "   gid  symbol             description\n",
       "0    1   Gene3   Description of gene 3\n",
       "1    2  Gene22  Description of gene 22\n",
       "2    3  Gene24  Description of gene 24\n",
       "3    4  Gene70  Description of gene 70"
      ]
     },
     "execution_count": 17,
     "metadata": {},
     "output_type": "execute_result"
    }
   ],
   "source": [
    "# let's create the dataframe\n",
    "\n",
    "df_genes = pd.DataFrame.from_records([vars(gene) for gene in genes_lst])\n",
    "df_genes"
   ]
  },
  {
   "cell_type": "code",
   "execution_count": null,
   "metadata": {},
   "outputs": [],
   "source": []
  },
  {
   "cell_type": "code",
   "execution_count": null,
   "metadata": {},
   "outputs": [],
   "source": []
  },
  {
   "cell_type": "code",
   "execution_count": 18,
   "metadata": {},
   "outputs": [],
   "source": [
    "# (Optional if you have time after the SQL exercises) \n",
    "\n",
    "# implement the GOTerm class\n",
    "# implement the __init__ method \n",
    "# in __init__ we create custom attributes:  gid, symbol and description\n",
    "# implement __str__ and __repr__ methods to be able to display the object \n",
    "\n",
    "class GOTerm:\n",
    "    def __init__(self,  gtid, abbr, name): \n",
    "        # checks can be done to make sure the data is not missing and \n",
    "        # each parameter should ahve the correct type\n",
    "        self.gtid = gtid\n",
    "        self.abbr = abbr\n",
    "        self.name = name\n",
    "        \n",
    "    def __str__(self):\n",
    "        return f\"GOTerm({self.gtid},'{self.abbr}','{self.name}')\"\n",
    "    \n",
    "    def __repr__(self):\n",
    "        return f\"GOTerm({self.gtid},'{self.abbr}','{self.name}')\"\n",
    "        \n",
    "   "
   ]
  },
  {
   "cell_type": "code",
   "execution_count": 19,
   "metadata": {},
   "outputs": [
    {
     "data": {
      "text/plain": [
       "GOTerm(5,'GO2','Cell adhesion')"
      ]
     },
     "execution_count": 19,
     "metadata": {},
     "output_type": "execute_result"
    }
   ],
   "source": [
    "# test\n",
    "\n",
    "gt = GOTerm(5, \"GO2\",\"Cell adhesion\")\n",
    "gt"
   ]
  },
  {
   "cell_type": "code",
   "execution_count": null,
   "metadata": {},
   "outputs": [],
   "source": []
  },
  {
   "cell_type": "code",
   "execution_count": null,
   "metadata": {},
   "outputs": [],
   "source": []
  },
  {
   "cell_type": "code",
   "execution_count": 20,
   "metadata": {},
   "outputs": [
    {
     "name": "stdout",
     "output_type": "stream",
     "text": [
      "Gene,GO,Name\n",
      "\n"
     ]
    },
    {
     "data": {
      "text/plain": [
       "[GOTerm(1,'GO66','Cell division (mitosis and meiosis)'),\n",
       " GOTerm(2,'GO250','Cell growth and differentiation'),\n",
       " GOTerm(3,'GO233','Cell signaling'),\n",
       " GOTerm(4,'GO489','Apoptosis (programmed cell death)'),\n",
       " GOTerm(5,'GO88','Autophagy'),\n",
       " GOTerm(6,'GO107','Endocytosis and exocytosis'),\n",
       " GOTerm(7,'GO112','Protein synthesis'),\n",
       " GOTerm(8,'GO482','DNA replication'),\n",
       " GOTerm(9,'GO151','Gene expression'),\n",
       " GOTerm(10,'GO119','Glycolysis'),\n",
       " GOTerm(11,'GO93','Citric acid cycle'),\n",
       " GOTerm(12,'GO427','Oxidative phosphorylation'),\n",
       " GOTerm(13,'GO254','Photosynthesis'),\n",
       " GOTerm(14,'GO192','Lipid metabolism'),\n",
       " GOTerm(15,'GO425','Protein metabolism'),\n",
       " GOTerm(16,'GO353','Nucleic acid metabolism'),\n",
       " GOTerm(17,'GO402','Digestion'),\n",
       " GOTerm(18,'GO134','Respiration'),\n",
       " GOTerm(19,'GO500','Circulation'),\n",
       " GOTerm(20,'GO417','Excretion'),\n",
       " GOTerm(21,'GO218','Osmoregulation'),\n",
       " GOTerm(22,'GO334','Thermoregulation'),\n",
       " GOTerm(23,'GO249','Immune response'),\n",
       " GOTerm(24,'GO227','Hormone secretion'),\n",
       " GOTerm(25,'GO40','Nerve impulse transmission'),\n",
       " GOTerm(26,'GO313','Embryogenesis'),\n",
       " GOTerm(27,'GO138','Organogenesis'),\n",
       " GOTerm(28,'GO103','Metamorphosis'),\n",
       " GOTerm(29,'GO257','Regeneration'),\n",
       " GOTerm(30,'GO36','Aging'),\n",
       " GOTerm(31,'GO52','Gametogenesis'),\n",
       " GOTerm(32,'GO190','Fertilization'),\n",
       " GOTerm(33,'GO242','Embryo development'),\n",
       " GOTerm(34,'GO42','Parturition'),\n",
       " GOTerm(35,'GO440','Natural selection'),\n",
       " GOTerm(36,'GO253','Genetic drift'),\n",
       " GOTerm(37,'GO429','Gene flow'),\n",
       " GOTerm(38,'GO56','Mutation'),\n",
       " GOTerm(39,'GO171','Natural selection'),\n",
       " GOTerm(40,'GO49','Genetic drift'),\n",
       " GOTerm(41,'GO438','Gene flow'),\n",
       " GOTerm(42,'GO115','Mutation'),\n",
       " GOTerm(43,'GO344','Speciation'),\n",
       " GOTerm(44,'GO329','Adaptation'),\n",
       " GOTerm(45,'GO376','Predation'),\n",
       " GOTerm(46,'GO271','Competition'),\n",
       " GOTerm(47,'GO424','Symbiosis'),\n",
       " GOTerm(48,'GO400','Decomposition'),\n",
       " GOTerm(49,'GO325','Nutrient cycling'),\n",
       " GOTerm(50,'GO410','Succession'),\n",
       " GOTerm(51,'GO418','Phototropism'),\n",
       " GOTerm(52,'GO414','Geotropism'),\n",
       " GOTerm(53,'GO409','Thigmotropism'),\n",
       " GOTerm(54,'GO166','Transpiration'),\n",
       " GOTerm(55,'GO214','Guttation'),\n",
       " GOTerm(56,'GO423','Vernalization'),\n",
       " GOTerm(57,'GO195','Enzyme catalysis'),\n",
       " GOTerm(58,'GO162','Protein folding'),\n",
       " GOTerm(59,'GO237','Ion transport'),\n",
       " GOTerm(60,'GO363','Osmosis'),\n",
       " GOTerm(61,'GO139','Diffusion'),\n",
       " GOTerm(62,'GO487','Active transport'),\n",
       " GOTerm(63,'GO124','Phototransduction'),\n",
       " GOTerm(64,'GO236','Mechanotransduction'),\n",
       " GOTerm(65,'GO200','Chemoreception'),\n",
       " GOTerm(66,'GO447','Thermoreception'),\n",
       " GOTerm(67,'GO222','Nociception'),\n",
       " GOTerm(68,'GO345','Synaptic transmission'),\n",
       " GOTerm(69,'GO106','Neurotransmitter release'),\n",
       " GOTerm(70,'GO264','Long-term potentiation'),\n",
       " GOTerm(71,'GO403','Long-term depression'),\n",
       " GOTerm(72,'GO205','Neuroplasticity'),\n",
       " GOTerm(73,'GO469','Antigen presentation'),\n",
       " GOTerm(74,'GO279','Antibody production'),\n",
       " GOTerm(75,'GO485','Phagocytosis'),\n",
       " GOTerm(76,'GO292','Inflammation'),\n",
       " GOTerm(77,'GO460','Complement activation'),\n",
       " GOTerm(78,'GO379','Learning'),\n",
       " GOTerm(79,'GO491','Memory formation'),\n",
       " GOTerm(80,'GO59','Circadian rhythm regulation'),\n",
       " GOTerm(81,'GO299','Hibernation'),\n",
       " GOTerm(82,'GO185','Migration'),\n",
       " GOTerm(83,'GO131','RNA interference (RNAi)'),\n",
       " GOTerm(84,'GO362','Alternative splicing'),\n",
       " GOTerm(85,'GO493','Post-translational modification'),\n",
       " GOTerm(86,'GO69','Protein ubiquitination'),\n",
       " GOTerm(87,'GO291','Vesicle trafficking'),\n",
       " GOTerm(88,'GO450','Nuclear pore transport'),\n",
       " GOTerm(89,'GO281','Chromatin remodeling'),\n",
       " GOTerm(90,'GO453','Telomere maintenance'),\n",
       " GOTerm(91,'GO219','DNA methylation'),\n",
       " GOTerm(92,'GO167','Histone modification'),\n",
       " GOTerm(93,'GO84','Vasodilation and vasoconstriction'),\n",
       " GOTerm(94,'GO246','Peristalsis'),\n",
       " GOTerm(95,'GO265','Glomerular filtration'),\n",
       " GOTerm(96,'GO161','Pulmonary gas exchange'),\n",
       " GOTerm(97,'GO102','Bone remodeling'),\n",
       " GOTerm(98,'GO473','Wound healing'),\n",
       " GOTerm(99,'GO188','Blood clotting'),\n",
       " GOTerm(100,'GO326','Synaptic plasticity'),\n",
       " GOTerm(101,'GO366','Muscle hypertrophy'),\n",
       " GOTerm(102,'GO100','Adipogenesis'),\n",
       " GOTerm(103,'GO50','Antigen processing')]"
      ]
     },
     "execution_count": 20,
     "metadata": {},
     "output_type": "execute_result"
    }
   ],
   "source": [
    "# (Optional if you have time after the SQL exercises) \n",
    "# Create also a list of GO terms (GOTerm objects), \n",
    "# and a list of gene to GO term tuples (gene_symbol, go_term_id) elements from the `gene_go.txt` file, \n",
    "# a file comma separated values file with the gene symbol, go term abreviation and the go term name.\n",
    "\n",
    "file_name = \"gene_go.txt\"\n",
    "go_term_id = 0\n",
    "terms_lst = []\n",
    "go_term_lst = []\n",
    "genes_go_terms_lst = []\n",
    "with open(file_name) as go_file:\n",
    "    header_line = go_file.readline()\n",
    "    print(header_line)\n",
    "      # The second column in the file contains the GO terms \n",
    "    for line in go_file:\n",
    "        line_lst = line.strip().split(\",\")\n",
    "        gene_sym = line_lst[0]\n",
    "        go_term = line_lst[1]\n",
    "        go_term_name = line_lst[2]\n",
    "        if  go_term in terms_lst:\n",
    "            go_term_id = terms_lst.index(go_term) + 1\n",
    "        else:\n",
    "            go_term_id = go_term_id + 1\n",
    "            go_term_lst.append(GOTerm(go_term_id, go_term, go_term_name))\n",
    "        genes_go_terms_lst.append((gene_sym, go_term_id))\n",
    "        \n",
    "go_term_lst"
   ]
  },
  {
   "cell_type": "code",
   "execution_count": 21,
   "metadata": {},
   "outputs": [
    {
     "data": {
      "text/plain": [
       "[('Gene3', 1),\n",
       " ('Gene22', 2),\n",
       " ('Gene74', 3),\n",
       " ('Gene91', 4),\n",
       " ('Gene99', 5),\n",
       " ('Gene11', 6),\n",
       " ('Gene95', 7),\n",
       " ('Gene90', 8),\n",
       " ('Gene93', 9),\n",
       " ('Gene97', 10),\n",
       " ('Gene23', 11),\n",
       " ('Gene62', 12),\n",
       " ('Gene92', 13),\n",
       " ('Gene24', 14),\n",
       " ('Gene75', 15),\n",
       " ('Gene52', 16),\n",
       " ('Gene17', 17),\n",
       " ('Gene83', 18),\n",
       " ('Gene15', 19),\n",
       " ('Gene41', 20),\n",
       " ('Gene43', 21),\n",
       " ('Gene42', 22),\n",
       " ('Gene67', 23),\n",
       " ('Gene39', 24),\n",
       " ('Gene64', 25),\n",
       " ('Gene79', 26),\n",
       " ('Gene38', 27),\n",
       " ('Gene8', 28),\n",
       " ('Gene30', 29),\n",
       " ('Gene9', 30),\n",
       " ('Gene94', 31),\n",
       " ('Gene58', 32),\n",
       " ('Gene32', 33),\n",
       " ('Gene51', 34),\n",
       " ('Gene70', 35),\n",
       " ('Gene66', 36),\n",
       " ('Gene29', 37),\n",
       " ('Gene78', 38),\n",
       " ('Gene63', 39),\n",
       " ('Gene18', 40),\n",
       " ('Gene89', 41),\n",
       " ('Gene26', 42),\n",
       " ('Gene48', 43),\n",
       " ('Gene53', 44),\n",
       " ('Gene46', 45),\n",
       " ('Gene1', 46),\n",
       " ('Gene7', 47),\n",
       " ('Gene40', 48),\n",
       " ('Gene98', 49),\n",
       " ('Gene50', 50),\n",
       " ('Gene96', 51),\n",
       " ('Gene54', 52),\n",
       " ('Gene28', 53),\n",
       " ('Gene81', 54),\n",
       " ('Gene72', 55),\n",
       " ('Gene77', 56),\n",
       " ('Gene49', 57),\n",
       " ('Gene56', 58),\n",
       " ('Gene61', 59),\n",
       " ('Gene55', 60),\n",
       " ('Gene13', 61),\n",
       " ('Gene27', 62),\n",
       " ('Gene19', 63),\n",
       " ('Gene69', 64),\n",
       " ('Gene16', 65),\n",
       " ('Gene57', 66),\n",
       " ('Gene71', 67),\n",
       " ('Gene37', 68),\n",
       " ('Gene21', 69),\n",
       " ('Gene14', 70),\n",
       " ('Gene10', 71),\n",
       " ('Gene6', 72),\n",
       " ('Gene87', 73),\n",
       " ('Gene2', 74),\n",
       " ('Gene12', 75),\n",
       " ('Gene33', 76),\n",
       " ('Gene47', 77),\n",
       " ('Gene82', 78),\n",
       " ('Gene85', 79),\n",
       " ('Gene45', 80),\n",
       " ('Gene31', 81),\n",
       " ('Gene76', 82),\n",
       " ('Gene34', 83),\n",
       " ('Gene36', 84),\n",
       " ('Gene84', 85),\n",
       " ('Gene80', 86),\n",
       " ('Gene20', 87),\n",
       " ('Gene60', 88),\n",
       " ('Gene4', 89),\n",
       " ('Gene44', 90),\n",
       " ('Gene35', 91),\n",
       " ('Gene5', 92),\n",
       " ('Gene59', 93),\n",
       " ('Gene86', 94),\n",
       " ('Gene73', 95),\n",
       " ('Gene65', 96),\n",
       " ('Gene25', 97),\n",
       " ('Gene100', 98),\n",
       " ('Gene68', 99),\n",
       " ('Gene88', 100),\n",
       " ('Gene3', 101),\n",
       " ('Gene3', 102),\n",
       " ('Gene70', 103)]"
      ]
     },
     "execution_count": 21,
     "metadata": {},
     "output_type": "execute_result"
    }
   ],
   "source": [
    "genes_go_terms_lst"
   ]
  },
  {
   "cell_type": "code",
   "execution_count": null,
   "metadata": {},
   "outputs": [],
   "source": []
  },
  {
   "cell_type": "code",
   "execution_count": null,
   "metadata": {},
   "outputs": [],
   "source": []
  },
  {
   "cell_type": "markdown",
   "metadata": {},
   "source": [
    "____________\n",
    "____________\n",
    "## SQL "
   ]
  },
  {
   "cell_type": "code",
   "execution_count": 23,
   "metadata": {},
   "outputs": [],
   "source": [
    "# put the import statements at the top of the notebook\n",
    "\n",
    "# bring in the functionality from the sqlite3 module\n",
    "# specifically the connect function\n",
    "\n",
    "from sqlite3 import connect\n",
    "\n",
    "# import pandas so you can see the select results as a dataframe\n",
    "import pandas as pd"
   ]
  },
  {
   "cell_type": "code",
   "execution_count": 24,
   "metadata": {},
   "outputs": [],
   "source": [
    "# put the functions at the beginning of your notebook after imports"
   ]
  },
  {
   "cell_type": "code",
   "execution_count": 25,
   "metadata": {},
   "outputs": [],
   "source": [
    "# run a select query and create a dataframe\n",
    "\n",
    "def run_select_query(query, cursor):\n",
    "    cursor.execute(query)\n",
    "    data_header = [t[0] for t in cursor.description]\n",
    "    df = pd.DataFrame(cursor.fetchall(), columns = data_header)\n",
    "    return df"
   ]
  },
  {
   "cell_type": "code",
   "execution_count": 26,
   "metadata": {},
   "outputs": [],
   "source": [
    "# check the sqlite_master table\n",
    "\n",
    "def check_master_table(cursor):\n",
    "    select_master = \"SELECT name, type FROM sqlite_master;\"\n",
    "    return run_select_query(select_master, cursor)\n"
   ]
  },
  {
   "cell_type": "code",
   "execution_count": 27,
   "metadata": {},
   "outputs": [],
   "source": [
    "# we do the same thing multiple times - we can use a function\n",
    "\n",
    "def run_create_table(sql, cursor, connection):\n",
    "        cursor.execute(sql)\n",
    "        connection.commit()"
   ]
  },
  {
   "cell_type": "markdown",
   "metadata": {
    "tags": []
   },
   "source": [
    "___\n",
    "\n",
    "<b> <font color = \"red\">Exercise</font></b>\n",
    "\n",
    "#### Query a database \n",
    "The music store sqlite database available in the file `chinook.db` has the tables that you can see in the below diagram.\n",
    "You can download the database (the file `chinook.db`) from the following link:\n",
    "https://www.sqlitetutorial.net/sqlite-sample-database/\n",
    "\n",
    "<img src = https://www.sqlitetutorial.net/wp-content/uploads/2015/11/sqlite-sample-database-color.jpg width = 675>\n",
    "\n",
    "https://www.sqlitetutorial.net/wp-content/uploads/2015/11/sqlite-sample-database-color.jpg\n",
    "\n",
    "\n"
   ]
  },
  {
   "cell_type": "markdown",
   "metadata": {},
   "source": [
    "Write SQL queries to:\n",
    "- Retrieve the name of the artists with more than 50 tracks in this database.\n",
    "    - See the artists, albums and tracks tables and the TrackId, AlbumId and ArtistId columns in these tables.   \n",
    "- What is the name of the most expensive track and the name of the artist for that track?\n",
    "    - See the artists, albums and tracks tables and the ArtistId, AlbumId, TrackId, and UnitPrice columns in those tables.    \n",
    "- Retrieve the name of the artist with the highest number of tracks sold.\n",
    "    - See the invoice table, sum up the quantity for all tracks from albums associated with that artist.   \n",
    "\n",
    "Feel free to build other quesries for questions you may have."
   ]
  },
  {
   "cell_type": "markdown",
   "metadata": {},
   "source": [
    "Check the list of aggregate functions - we see that for mean we use avg()  \n",
    "https://www.sqlite.org/lang_aggfunc.html"
   ]
  },
  {
   "cell_type": "code",
   "execution_count": 31,
   "metadata": {},
   "outputs": [],
   "source": [
    "# Write your solution here\n",
    "\n",
    "# connect to the database\n",
    "\n",
    "connection = connect(\"chinook.db\")\n",
    "cursor = connection.cursor()\n"
   ]
  },
  {
   "cell_type": "code",
   "execution_count": 32,
   "metadata": {
    "tags": []
   },
   "outputs": [
    {
     "data": {
      "text/html": [
       "<div>\n",
       "<style scoped>\n",
       "    .dataframe tbody tr th:only-of-type {\n",
       "        vertical-align: middle;\n",
       "    }\n",
       "\n",
       "    .dataframe tbody tr th {\n",
       "        vertical-align: top;\n",
       "    }\n",
       "\n",
       "    .dataframe thead th {\n",
       "        text-align: right;\n",
       "    }\n",
       "</style>\n",
       "<table border=\"1\" class=\"dataframe\">\n",
       "  <thead>\n",
       "    <tr style=\"text-align: right;\">\n",
       "      <th></th>\n",
       "      <th>name</th>\n",
       "      <th>type</th>\n",
       "    </tr>\n",
       "  </thead>\n",
       "  <tbody>\n",
       "    <tr>\n",
       "      <th>0</th>\n",
       "      <td>albums</td>\n",
       "      <td>table</td>\n",
       "    </tr>\n",
       "    <tr>\n",
       "      <th>1</th>\n",
       "      <td>sqlite_sequence</td>\n",
       "      <td>table</td>\n",
       "    </tr>\n",
       "    <tr>\n",
       "      <th>2</th>\n",
       "      <td>artists</td>\n",
       "      <td>table</td>\n",
       "    </tr>\n",
       "    <tr>\n",
       "      <th>3</th>\n",
       "      <td>customers</td>\n",
       "      <td>table</td>\n",
       "    </tr>\n",
       "    <tr>\n",
       "      <th>4</th>\n",
       "      <td>employees</td>\n",
       "      <td>table</td>\n",
       "    </tr>\n",
       "    <tr>\n",
       "      <th>5</th>\n",
       "      <td>genres</td>\n",
       "      <td>table</td>\n",
       "    </tr>\n",
       "    <tr>\n",
       "      <th>6</th>\n",
       "      <td>invoices</td>\n",
       "      <td>table</td>\n",
       "    </tr>\n",
       "    <tr>\n",
       "      <th>7</th>\n",
       "      <td>invoice_items</td>\n",
       "      <td>table</td>\n",
       "    </tr>\n",
       "    <tr>\n",
       "      <th>8</th>\n",
       "      <td>media_types</td>\n",
       "      <td>table</td>\n",
       "    </tr>\n",
       "    <tr>\n",
       "      <th>9</th>\n",
       "      <td>playlists</td>\n",
       "      <td>table</td>\n",
       "    </tr>\n",
       "    <tr>\n",
       "      <th>10</th>\n",
       "      <td>playlist_track</td>\n",
       "      <td>table</td>\n",
       "    </tr>\n",
       "    <tr>\n",
       "      <th>11</th>\n",
       "      <td>sqlite_autoindex_playlist_track_1</td>\n",
       "      <td>index</td>\n",
       "    </tr>\n",
       "    <tr>\n",
       "      <th>12</th>\n",
       "      <td>tracks</td>\n",
       "      <td>table</td>\n",
       "    </tr>\n",
       "    <tr>\n",
       "      <th>13</th>\n",
       "      <td>IFK_AlbumArtistId</td>\n",
       "      <td>index</td>\n",
       "    </tr>\n",
       "    <tr>\n",
       "      <th>14</th>\n",
       "      <td>IFK_CustomerSupportRepId</td>\n",
       "      <td>index</td>\n",
       "    </tr>\n",
       "    <tr>\n",
       "      <th>15</th>\n",
       "      <td>IFK_EmployeeReportsTo</td>\n",
       "      <td>index</td>\n",
       "    </tr>\n",
       "    <tr>\n",
       "      <th>16</th>\n",
       "      <td>IFK_InvoiceCustomerId</td>\n",
       "      <td>index</td>\n",
       "    </tr>\n",
       "    <tr>\n",
       "      <th>17</th>\n",
       "      <td>IFK_InvoiceLineInvoiceId</td>\n",
       "      <td>index</td>\n",
       "    </tr>\n",
       "    <tr>\n",
       "      <th>18</th>\n",
       "      <td>IFK_InvoiceLineTrackId</td>\n",
       "      <td>index</td>\n",
       "    </tr>\n",
       "    <tr>\n",
       "      <th>19</th>\n",
       "      <td>IFK_PlaylistTrackTrackId</td>\n",
       "      <td>index</td>\n",
       "    </tr>\n",
       "    <tr>\n",
       "      <th>20</th>\n",
       "      <td>IFK_TrackAlbumId</td>\n",
       "      <td>index</td>\n",
       "    </tr>\n",
       "    <tr>\n",
       "      <th>21</th>\n",
       "      <td>IFK_TrackGenreId</td>\n",
       "      <td>index</td>\n",
       "    </tr>\n",
       "    <tr>\n",
       "      <th>22</th>\n",
       "      <td>IFK_TrackMediaTypeId</td>\n",
       "      <td>index</td>\n",
       "    </tr>\n",
       "    <tr>\n",
       "      <th>23</th>\n",
       "      <td>sqlite_stat1</td>\n",
       "      <td>table</td>\n",
       "    </tr>\n",
       "  </tbody>\n",
       "</table>\n",
       "</div>"
      ],
      "text/plain": [
       "                                 name   type\n",
       "0                              albums  table\n",
       "1                     sqlite_sequence  table\n",
       "2                             artists  table\n",
       "3                           customers  table\n",
       "4                           employees  table\n",
       "5                              genres  table\n",
       "6                            invoices  table\n",
       "7                       invoice_items  table\n",
       "8                         media_types  table\n",
       "9                           playlists  table\n",
       "10                     playlist_track  table\n",
       "11  sqlite_autoindex_playlist_track_1  index\n",
       "12                             tracks  table\n",
       "13                  IFK_AlbumArtistId  index\n",
       "14           IFK_CustomerSupportRepId  index\n",
       "15              IFK_EmployeeReportsTo  index\n",
       "16              IFK_InvoiceCustomerId  index\n",
       "17           IFK_InvoiceLineInvoiceId  index\n",
       "18             IFK_InvoiceLineTrackId  index\n",
       "19           IFK_PlaylistTrackTrackId  index\n",
       "20                   IFK_TrackAlbumId  index\n",
       "21                   IFK_TrackGenreId  index\n",
       "22               IFK_TrackMediaTypeId  index\n",
       "23                       sqlite_stat1  table"
      ]
     },
     "execution_count": 32,
     "metadata": {},
     "output_type": "execute_result"
    }
   ],
   "source": [
    "# check the tables in the database\n",
    "\n",
    "check_master_table(cursor)"
   ]
  },
  {
   "cell_type": "code",
   "execution_count": null,
   "metadata": {},
   "outputs": [],
   "source": []
  },
  {
   "cell_type": "code",
   "execution_count": 33,
   "metadata": {
    "tags": []
   },
   "outputs": [
    {
     "data": {
      "text/html": [
       "<div>\n",
       "<style scoped>\n",
       "    .dataframe tbody tr th:only-of-type {\n",
       "        vertical-align: middle;\n",
       "    }\n",
       "\n",
       "    .dataframe tbody tr th {\n",
       "        vertical-align: top;\n",
       "    }\n",
       "\n",
       "    .dataframe thead th {\n",
       "        text-align: right;\n",
       "    }\n",
       "</style>\n",
       "<table border=\"1\" class=\"dataframe\">\n",
       "  <thead>\n",
       "    <tr style=\"text-align: right;\">\n",
       "      <th></th>\n",
       "      <th>Name</th>\n",
       "      <th>c</th>\n",
       "    </tr>\n",
       "  </thead>\n",
       "  <tbody>\n",
       "    <tr>\n",
       "      <th>0</th>\n",
       "      <td>Iron Maiden</td>\n",
       "      <td>213</td>\n",
       "    </tr>\n",
       "    <tr>\n",
       "      <th>1</th>\n",
       "      <td>U2</td>\n",
       "      <td>135</td>\n",
       "    </tr>\n",
       "    <tr>\n",
       "      <th>2</th>\n",
       "      <td>Led Zeppelin</td>\n",
       "      <td>114</td>\n",
       "    </tr>\n",
       "    <tr>\n",
       "      <th>3</th>\n",
       "      <td>Metallica</td>\n",
       "      <td>112</td>\n",
       "    </tr>\n",
       "    <tr>\n",
       "      <th>4</th>\n",
       "      <td>Lost</td>\n",
       "      <td>92</td>\n",
       "    </tr>\n",
       "    <tr>\n",
       "      <th>5</th>\n",
       "      <td>Deep Purple</td>\n",
       "      <td>92</td>\n",
       "    </tr>\n",
       "    <tr>\n",
       "      <th>6</th>\n",
       "      <td>Pearl Jam</td>\n",
       "      <td>67</td>\n",
       "    </tr>\n",
       "    <tr>\n",
       "      <th>7</th>\n",
       "      <td>Lenny Kravitz</td>\n",
       "      <td>57</td>\n",
       "    </tr>\n",
       "    <tr>\n",
       "      <th>8</th>\n",
       "      <td>Various Artists</td>\n",
       "      <td>56</td>\n",
       "    </tr>\n",
       "    <tr>\n",
       "      <th>9</th>\n",
       "      <td>The Office</td>\n",
       "      <td>53</td>\n",
       "    </tr>\n",
       "    <tr>\n",
       "      <th>10</th>\n",
       "      <td>Van Halen</td>\n",
       "      <td>52</td>\n",
       "    </tr>\n",
       "    <tr>\n",
       "      <th>11</th>\n",
       "      <td>Faith No More</td>\n",
       "      <td>52</td>\n",
       "    </tr>\n",
       "  </tbody>\n",
       "</table>\n",
       "</div>"
      ],
      "text/plain": [
       "               Name    c\n",
       "0       Iron Maiden  213\n",
       "1                U2  135\n",
       "2      Led Zeppelin  114\n",
       "3         Metallica  112\n",
       "4              Lost   92\n",
       "5       Deep Purple   92\n",
       "6         Pearl Jam   67\n",
       "7     Lenny Kravitz   57\n",
       "8   Various Artists   56\n",
       "9        The Office   53\n",
       "10        Van Halen   52\n",
       "11    Faith No More   52"
      ]
     },
     "execution_count": 33,
     "metadata": {},
     "output_type": "execute_result"
    }
   ],
   "source": [
    "# task1: Retrieve the name of the artists with more than 50 tracks in this database.\n",
    "# We need to connect all three tables to get tracks information that connect to albums that have the artistid.\n",
    "# We need to group the data to count tracks for each artist (name),\n",
    "# We order the results so we can easily interpret them.\n",
    "\n",
    "task1 = '''\n",
    "SELECT ar.name, count(t.trackid) c\n",
    "FROM tracks t \n",
    "    JOIN albums ab ON t.albumid = ab.albumid \n",
    "    JOIN artists ar ON ar.artistid = ab.artistid\n",
    "GROUP BY ar.name\n",
    "HAVING c > 50\n",
    "ORDER BY c DESC;\n",
    "'''\n",
    "\n",
    "run_select_query(task1, cursor)\n"
   ]
  },
  {
   "cell_type": "code",
   "execution_count": 34,
   "metadata": {
    "tags": []
   },
   "outputs": [
    {
     "data": {
      "text/html": [
       "<div>\n",
       "<style scoped>\n",
       "    .dataframe tbody tr th:only-of-type {\n",
       "        vertical-align: middle;\n",
       "    }\n",
       "\n",
       "    .dataframe tbody tr th {\n",
       "        vertical-align: top;\n",
       "    }\n",
       "\n",
       "    .dataframe thead th {\n",
       "        text-align: right;\n",
       "    }\n",
       "</style>\n",
       "<table border=\"1\" class=\"dataframe\">\n",
       "  <thead>\n",
       "    <tr style=\"text-align: right;\">\n",
       "      <th></th>\n",
       "      <th>Name</th>\n",
       "      <th>Name</th>\n",
       "      <th>max(t.unitprice)</th>\n",
       "    </tr>\n",
       "  </thead>\n",
       "  <tbody>\n",
       "    <tr>\n",
       "      <th>0</th>\n",
       "      <td>Battlestar Galactica: The Story So Far</td>\n",
       "      <td>Battlestar Galactica</td>\n",
       "      <td>1.99</td>\n",
       "    </tr>\n",
       "  </tbody>\n",
       "</table>\n",
       "</div>"
      ],
      "text/plain": [
       "                                     Name                  Name  \\\n",
       "0  Battlestar Galactica: The Story So Far  Battlestar Galactica   \n",
       "\n",
       "   max(t.unitprice)  \n",
       "0              1.99  "
      ]
     },
     "execution_count": 34,
     "metadata": {},
     "output_type": "execute_result"
    }
   ],
   "source": [
    "# task2: What is the name of the most expensive track and the name of the artist for that track?\n",
    "task2 = '''\n",
    "SELECT t.name, ar.name, max(t.unitprice)\n",
    "FROM tracks t\n",
    "    JOIN albums ab ON t.albumid = ab.albumid \n",
    "    JOIN artists ar ON ar.artistid = ab.artistid;\n",
    "'''\n",
    "\n",
    "run_select_query(task2, cursor)"
   ]
  },
  {
   "cell_type": "code",
   "execution_count": 35,
   "metadata": {},
   "outputs": [
    {
     "data": {
      "text/html": [
       "<div>\n",
       "<style scoped>\n",
       "    .dataframe tbody tr th:only-of-type {\n",
       "        vertical-align: middle;\n",
       "    }\n",
       "\n",
       "    .dataframe tbody tr th {\n",
       "        vertical-align: top;\n",
       "    }\n",
       "\n",
       "    .dataframe thead th {\n",
       "        text-align: right;\n",
       "    }\n",
       "</style>\n",
       "<table border=\"1\" class=\"dataframe\">\n",
       "  <thead>\n",
       "    <tr style=\"text-align: right;\">\n",
       "      <th></th>\n",
       "      <th>Name</th>\n",
       "      <th>Name</th>\n",
       "      <th>min(t.unitprice)</th>\n",
       "    </tr>\n",
       "  </thead>\n",
       "  <tbody>\n",
       "    <tr>\n",
       "      <th>0</th>\n",
       "      <td>For Those About To Rock (We Salute You)</td>\n",
       "      <td>AC/DC</td>\n",
       "      <td>0.99</td>\n",
       "    </tr>\n",
       "  </tbody>\n",
       "</table>\n",
       "</div>"
      ],
      "text/plain": [
       "                                      Name   Name  min(t.unitprice)\n",
       "0  For Those About To Rock (We Salute You)  AC/DC              0.99"
      ]
     },
     "execution_count": 35,
     "metadata": {},
     "output_type": "execute_result"
    }
   ],
   "source": [
    "# What is the name of the least expensive track and the name of the artist for that track?\n",
    "task2 = '''\n",
    "SELECT t.name, ar.name, min(t.unitprice)\n",
    "FROM tracks t\n",
    "    JOIN albums ab ON t.albumid = ab.albumid \n",
    "    JOIN artists ar ON ar.artistid = ab.artistid;\n",
    "'''\n",
    "\n",
    "run_select_query(task2, cursor)"
   ]
  },
  {
   "cell_type": "code",
   "execution_count": 36,
   "metadata": {},
   "outputs": [
    {
     "data": {
      "text/html": [
       "<div>\n",
       "<style scoped>\n",
       "    .dataframe tbody tr th:only-of-type {\n",
       "        vertical-align: middle;\n",
       "    }\n",
       "\n",
       "    .dataframe tbody tr th {\n",
       "        vertical-align: top;\n",
       "    }\n",
       "\n",
       "    .dataframe thead th {\n",
       "        text-align: right;\n",
       "    }\n",
       "</style>\n",
       "<table border=\"1\" class=\"dataframe\">\n",
       "  <thead>\n",
       "    <tr style=\"text-align: right;\">\n",
       "      <th></th>\n",
       "      <th>Name</th>\n",
       "      <th>s</th>\n",
       "    </tr>\n",
       "  </thead>\n",
       "  <tbody>\n",
       "    <tr>\n",
       "      <th>0</th>\n",
       "      <td>Academy of St. Martin in the Fields &amp; Sir Nevi...</td>\n",
       "      <td>1</td>\n",
       "    </tr>\n",
       "  </tbody>\n",
       "</table>\n",
       "</div>"
      ],
      "text/plain": [
       "                                                Name  s\n",
       "0  Academy of St. Martin in the Fields & Sir Nevi...  1"
      ]
     },
     "execution_count": 36,
     "metadata": {},
     "output_type": "execute_result"
    }
   ],
   "source": [
    "# task3: Retrieve the name of the artist with the highest number of tracks sold.\n",
    "\n",
    "task3 = '''\n",
    "SELECT  a.name, sum(i.quantity) s\n",
    "FROM invoice_items i \n",
    "    JOIN tracks t ON i.trackid = t.trackid\n",
    "    JOIN albums ab ON t.albumid = ab.albumid \n",
    "    JOIN artists a ON ab.artistid = a.artistid\n",
    "GROUP BY a.name\n",
    "ORDER BY s\n",
    "LIMIT 1;\n",
    "'''\n",
    "\n",
    "run_select_query(task3, cursor)"
   ]
  },
  {
   "cell_type": "code",
   "execution_count": 37,
   "metadata": {},
   "outputs": [
    {
     "data": {
      "text/html": [
       "<div>\n",
       "<style scoped>\n",
       "    .dataframe tbody tr th:only-of-type {\n",
       "        vertical-align: middle;\n",
       "    }\n",
       "\n",
       "    .dataframe tbody tr th {\n",
       "        vertical-align: top;\n",
       "    }\n",
       "\n",
       "    .dataframe thead th {\n",
       "        text-align: right;\n",
       "    }\n",
       "</style>\n",
       "<table border=\"1\" class=\"dataframe\">\n",
       "  <thead>\n",
       "    <tr style=\"text-align: right;\">\n",
       "      <th></th>\n",
       "      <th>Name</th>\n",
       "      <th>s</th>\n",
       "    </tr>\n",
       "  </thead>\n",
       "  <tbody>\n",
       "    <tr>\n",
       "      <th>0</th>\n",
       "      <td>Iron Maiden</td>\n",
       "      <td>140</td>\n",
       "    </tr>\n",
       "  </tbody>\n",
       "</table>\n",
       "</div>"
      ],
      "text/plain": [
       "          Name    s\n",
       "0  Iron Maiden  140"
      ]
     },
     "execution_count": 37,
     "metadata": {},
     "output_type": "execute_result"
    }
   ],
   "source": [
    "# task3: Retrieve the name of the artist with the highest number of tracks sold.\n",
    "# We connect all 4 tables to get the artist name and quanity if tracks sold\n",
    "# We sum up the quantity grouping by  artist \n",
    "# We order the data descending to have the highest on top and take the first row\n",
    "\n",
    "task3 = '''\n",
    "SELECT  a.name, sum(i.quantity) s\n",
    "FROM invoice_items i \n",
    "    JOIN tracks t ON i.trackid = t.trackid\n",
    "    JOIN albums ab ON t.albumid = ab.albumid \n",
    "    JOIN artists a ON ab.artistid = a.artistid\n",
    "GROUP BY a.name\n",
    "ORDER BY s DESC\n",
    "LIMIT 1;\n",
    "'''\n",
    "\n",
    "run_select_query(task3, cursor)"
   ]
  },
  {
   "cell_type": "code",
   "execution_count": 38,
   "metadata": {},
   "outputs": [
    {
     "data": {
      "text/html": [
       "<div>\n",
       "<style scoped>\n",
       "    .dataframe tbody tr th:only-of-type {\n",
       "        vertical-align: middle;\n",
       "    }\n",
       "\n",
       "    .dataframe tbody tr th {\n",
       "        vertical-align: top;\n",
       "    }\n",
       "\n",
       "    .dataframe thead th {\n",
       "        text-align: right;\n",
       "    }\n",
       "</style>\n",
       "<table border=\"1\" class=\"dataframe\">\n",
       "  <thead>\n",
       "    <tr style=\"text-align: right;\">\n",
       "      <th></th>\n",
       "      <th>name</th>\n",
       "      <th>m</th>\n",
       "    </tr>\n",
       "  </thead>\n",
       "  <tbody>\n",
       "    <tr>\n",
       "      <th>0</th>\n",
       "      <td>Iron Maiden</td>\n",
       "      <td>140</td>\n",
       "    </tr>\n",
       "  </tbody>\n",
       "</table>\n",
       "</div>"
      ],
      "text/plain": [
       "          name    m\n",
       "0  Iron Maiden  140"
      ]
     },
     "execution_count": 38,
     "metadata": {},
     "output_type": "execute_result"
    }
   ],
   "source": [
    "# We could use max on the sum column\n",
    "\n",
    "task3 = '''\n",
    "SELECT name, max(s) m \n",
    "FROM \n",
    "    (SELECT  a.name, sum(i.quantity) s\n",
    "    FROM invoice_items i \n",
    "        JOIN tracks t ON i.trackid = t.trackid\n",
    "        JOIN albums ab ON t.albumid = ab.albumid \n",
    "        JOIN artists a ON ab.artistid = a.artistid\n",
    "    GROUP BY a.name);\n",
    "'''\n",
    "\n",
    "run_select_query(task3, cursor)"
   ]
  },
  {
   "cell_type": "code",
   "execution_count": 39,
   "metadata": {},
   "outputs": [],
   "source": [
    "# answer more interesting questions here"
   ]
  },
  {
   "cell_type": "code",
   "execution_count": 40,
   "metadata": {},
   "outputs": [],
   "source": [
    "# when we are done working with the database\n",
    "# close the cursor and the connection\n",
    "\n",
    "cursor.close()\n",
    "connection.close()\n"
   ]
  },
  {
   "cell_type": "code",
   "execution_count": null,
   "metadata": {},
   "outputs": [],
   "source": []
  },
  {
   "cell_type": "code",
   "execution_count": null,
   "metadata": {},
   "outputs": [],
   "source": []
  },
  {
   "cell_type": "markdown",
   "metadata": {
    "tags": []
   },
   "source": [
    "___\n",
    "\n",
    "<b> <font color = \"red\">Exercise</font></b>\n",
    "\n",
    "#### Gene annotation database\n",
    "\n",
    "Create a gene_go sqlite database with 3 tables gene and go_term and gene_go from the files `gene_description.txt` and `gene_go.txt`. \n",
    "* `gene_description.txt` - a comma separated file with the gene symbol and gene description\n",
    "* `gene_go.txt` - a comma separated file with the gene symbol, go term abreviation and go term name\n",
    "\n",
    "The genes table has the following columns:\n",
    "* gid - integer, primary key, autoincrement\n",
    "* symbol - text, not null\n",
    "* desc - text\n",
    "\n",
    "The go_terms table has the following columns:\n",
    "* gtid - integer, primary key, autoincrement\n",
    "* abbr - text, not null\n",
    "* name - text\n",
    "\n",
    "The gene_go:\n",
    "* gene_id - integer, not null\n",
    "* goterm_id - integer, not null\n",
    "\n",
    "\n",
    "Run the following querries:\n",
    "- A select that retrieves how many genes we have.\n",
    "- A select that retrieves how many go terms we have.\n",
    "- A select of the gene symbol for the gene with the highest number of associated go terms.\n",
    "\n",
    "\n"
   ]
  },
  {
   "cell_type": "code",
   "execution_count": 42,
   "metadata": {},
   "outputs": [],
   "source": [
    "# Write your solution here\n",
    "\n",
    "\n"
   ]
  },
  {
   "cell_type": "code",
   "execution_count": 43,
   "metadata": {},
   "outputs": [],
   "source": [
    "# create and connect to the gene_go.sqlite database\n",
    "# this should be a new file\n",
    "# make sure it does not exist in your current folder\n",
    "\n",
    "connection = connect(\"gene_go.sqlite\")\n",
    "\n",
    "# create a cursor\n",
    "cursor = connection.cursor()"
   ]
  },
  {
   "cell_type": "code",
   "execution_count": 44,
   "metadata": {},
   "outputs": [],
   "source": [
    "# create tables in the database\n",
    "\n",
    "# write the create statements\n",
    "\n",
    "#-------\n",
    "create_genes = '''\n",
    "CREATE TABLE IF NOT EXISTS genes (\n",
    "      gid INTEGER PRIMARY KEY AUTOINCREMENT,\n",
    "      symbol TEXT NOT NULL,\n",
    "      desc TEXT  NOT NULL\n",
    "    );\n",
    "'''\n",
    "#-------\n",
    "create_go_terms = '''\n",
    "CREATE TABLE IF NOT EXISTS go_terms (\n",
    "      gtid INTEGER PRIMARY KEY AUTOINCREMENT,\n",
    "      abbr TEXT NOT NULL,\n",
    "      name TEXT \n",
    "    );\n",
    "'''\n",
    "#-------\n",
    "create_gene_go = '''\n",
    "CREATE TABLE IF NOT EXISTS gene_go (\n",
    "      gene_id INTEGER NOT NULL,\n",
    "      goterm_id INTEGER NOT NULL,\n",
    "      FOREIGN KEY (gene_id) REFERENCES genes(gid),\n",
    "      FOREIGN KEY (goterm_id) REFERENCES go_terms(gtid)\n",
    "    );\n",
    "'''\n",
    "#-------"
   ]
  },
  {
   "cell_type": "code",
   "execution_count": 45,
   "metadata": {},
   "outputs": [
    {
     "data": {
      "text/html": [
       "<div>\n",
       "<style scoped>\n",
       "    .dataframe tbody tr th:only-of-type {\n",
       "        vertical-align: middle;\n",
       "    }\n",
       "\n",
       "    .dataframe tbody tr th {\n",
       "        vertical-align: top;\n",
       "    }\n",
       "\n",
       "    .dataframe thead th {\n",
       "        text-align: right;\n",
       "    }\n",
       "</style>\n",
       "<table border=\"1\" class=\"dataframe\">\n",
       "  <thead>\n",
       "    <tr style=\"text-align: right;\">\n",
       "      <th></th>\n",
       "      <th>name</th>\n",
       "      <th>type</th>\n",
       "    </tr>\n",
       "  </thead>\n",
       "  <tbody>\n",
       "  </tbody>\n",
       "</table>\n",
       "</div>"
      ],
      "text/plain": [
       "Empty DataFrame\n",
       "Columns: [name, type]\n",
       "Index: []"
      ]
     },
     "execution_count": 45,
     "metadata": {},
     "output_type": "execute_result"
    }
   ],
   "source": [
    "# check the sqlite_master table - should be empty at this point\n",
    "\n",
    "check_master_table(cursor)"
   ]
  },
  {
   "cell_type": "code",
   "execution_count": 46,
   "metadata": {},
   "outputs": [
    {
     "data": {
      "text/plain": [
       "(('name', None, None, None, None, None, None),\n",
       " ('type', None, None, None, None, None, None))"
      ]
     },
     "execution_count": 46,
     "metadata": {},
     "output_type": "execute_result"
    }
   ],
   "source": [
    "cursor.description"
   ]
  },
  {
   "cell_type": "code",
   "execution_count": 47,
   "metadata": {},
   "outputs": [
    {
     "data": {
      "text/plain": [
       "['name', 'type']"
      ]
     },
     "execution_count": 47,
     "metadata": {},
     "output_type": "execute_result"
    }
   ],
   "source": [
    "[t[0] for t in cursor.description]"
   ]
  },
  {
   "cell_type": "code",
   "execution_count": 48,
   "metadata": {},
   "outputs": [
    {
     "data": {
      "text/plain": [
       "[]"
      ]
     },
     "execution_count": 48,
     "metadata": {},
     "output_type": "execute_result"
    }
   ],
   "source": [
    "list(cursor)"
   ]
  },
  {
   "cell_type": "code",
   "execution_count": 49,
   "metadata": {},
   "outputs": [],
   "source": [
    "# run the commands\n",
    "run_create_table(create_genes, cursor, connection)\n",
    "run_create_table(create_go_terms, cursor, connection)\n",
    "run_create_table(create_gene_go, cursor, connection)\n"
   ]
  },
  {
   "cell_type": "code",
   "execution_count": 50,
   "metadata": {},
   "outputs": [
    {
     "data": {
      "text/html": [
       "<div>\n",
       "<style scoped>\n",
       "    .dataframe tbody tr th:only-of-type {\n",
       "        vertical-align: middle;\n",
       "    }\n",
       "\n",
       "    .dataframe tbody tr th {\n",
       "        vertical-align: top;\n",
       "    }\n",
       "\n",
       "    .dataframe thead th {\n",
       "        text-align: right;\n",
       "    }\n",
       "</style>\n",
       "<table border=\"1\" class=\"dataframe\">\n",
       "  <thead>\n",
       "    <tr style=\"text-align: right;\">\n",
       "      <th></th>\n",
       "      <th>name</th>\n",
       "      <th>type</th>\n",
       "    </tr>\n",
       "  </thead>\n",
       "  <tbody>\n",
       "    <tr>\n",
       "      <th>0</th>\n",
       "      <td>genes</td>\n",
       "      <td>table</td>\n",
       "    </tr>\n",
       "    <tr>\n",
       "      <th>1</th>\n",
       "      <td>sqlite_sequence</td>\n",
       "      <td>table</td>\n",
       "    </tr>\n",
       "    <tr>\n",
       "      <th>2</th>\n",
       "      <td>go_terms</td>\n",
       "      <td>table</td>\n",
       "    </tr>\n",
       "    <tr>\n",
       "      <th>3</th>\n",
       "      <td>gene_go</td>\n",
       "      <td>table</td>\n",
       "    </tr>\n",
       "  </tbody>\n",
       "</table>\n",
       "</div>"
      ],
      "text/plain": [
       "              name   type\n",
       "0            genes  table\n",
       "1  sqlite_sequence  table\n",
       "2         go_terms  table\n",
       "3          gene_go  table"
      ]
     },
     "execution_count": 50,
     "metadata": {},
     "output_type": "execute_result"
    }
   ],
   "source": [
    "# check the sqlite_master table \n",
    "# should have the three tables\n",
    "\n",
    "check_master_table(cursor)"
   ]
  },
  {
   "cell_type": "code",
   "execution_count": 51,
   "metadata": {},
   "outputs": [],
   "source": [
    "# write the insert statements\n",
    "\n",
    "#-------\n",
    "insert_gene = \"\"\"\n",
    "INSERT INTO genes VALUES (?,?,?)\n",
    "\"\"\"\n",
    "#-------\n",
    "\n",
    "insert_go_term = \"\"\"\n",
    "INSERT INTO go_terms VALUES (?,?,?)\n",
    "\"\"\"\n",
    "#-------\n",
    "\n",
    "insert_gene_go = \"\"\"\n",
    "INSERT INTO gene_go VALUES (?,?)\n",
    "\"\"\"\n",
    "#-------\n"
   ]
  },
  {
   "cell_type": "code",
   "execution_count": 52,
   "metadata": {},
   "outputs": [
    {
     "name": "stdout",
     "output_type": "stream",
     "text": [
      "Gene,Description\n",
      "\n"
     ]
    },
    {
     "data": {
      "text/plain": [
       "[[1, 'Gene3', 'Description of gene 3'],\n",
       " [2, 'Gene22', 'Description of gene 22'],\n",
       " [3, 'Gene24', 'Description of gene 24'],\n",
       " [4, 'Gene70', 'Description of gene 70']]"
      ]
     },
     "execution_count": 52,
     "metadata": {},
     "output_type": "execute_result"
    }
   ],
   "source": [
    "genes_lst = []\n",
    "\n",
    "# read lines from the file one by one\n",
    "file_name = \"gene_description.txt\"\n",
    "gene_id = 0\n",
    "with open(file_name) as gene_file:\n",
    "    header_line = gene_file.readline()\n",
    "    print(header_line)\n",
    "    for line in gene_file:\n",
    "        # increase the gene id\n",
    "        gene_id = gene_id + 1\n",
    "        line_list = line.strip().split(\",\")\n",
    "        line_list = [gene_id] + line_list\n",
    "        # Create a list for a row in the genes table\n",
    "        # gid, symbol and desc\n",
    "        # and ad it to a rows list for the table \n",
    "        genes_lst.append(line_list)\n",
    "        \n",
    "genes_lst"
   ]
  },
  {
   "cell_type": "code",
   "execution_count": 53,
   "metadata": {},
   "outputs": [],
   "source": [
    "# insert all the sublists from genes_lst as rows in the genes table\n",
    "cursor.executemany(insert_gene, genes_lst)\n",
    "connection.commit()"
   ]
  },
  {
   "cell_type": "code",
   "execution_count": 54,
   "metadata": {},
   "outputs": [
    {
     "data": {
      "text/html": [
       "<div>\n",
       "<style scoped>\n",
       "    .dataframe tbody tr th:only-of-type {\n",
       "        vertical-align: middle;\n",
       "    }\n",
       "\n",
       "    .dataframe tbody tr th {\n",
       "        vertical-align: top;\n",
       "    }\n",
       "\n",
       "    .dataframe thead th {\n",
       "        text-align: right;\n",
       "    }\n",
       "</style>\n",
       "<table border=\"1\" class=\"dataframe\">\n",
       "  <thead>\n",
       "    <tr style=\"text-align: right;\">\n",
       "      <th></th>\n",
       "      <th>gid</th>\n",
       "      <th>symbol</th>\n",
       "      <th>desc</th>\n",
       "    </tr>\n",
       "  </thead>\n",
       "  <tbody>\n",
       "    <tr>\n",
       "      <th>0</th>\n",
       "      <td>1</td>\n",
       "      <td>Gene3</td>\n",
       "      <td>Description of gene 3</td>\n",
       "    </tr>\n",
       "    <tr>\n",
       "      <th>1</th>\n",
       "      <td>2</td>\n",
       "      <td>Gene22</td>\n",
       "      <td>Description of gene 22</td>\n",
       "    </tr>\n",
       "    <tr>\n",
       "      <th>2</th>\n",
       "      <td>3</td>\n",
       "      <td>Gene24</td>\n",
       "      <td>Description of gene 24</td>\n",
       "    </tr>\n",
       "    <tr>\n",
       "      <th>3</th>\n",
       "      <td>4</td>\n",
       "      <td>Gene70</td>\n",
       "      <td>Description of gene 70</td>\n",
       "    </tr>\n",
       "  </tbody>\n",
       "</table>\n",
       "</div>"
      ],
      "text/plain": [
       "   gid  symbol                    desc\n",
       "0    1   Gene3   Description of gene 3\n",
       "1    2  Gene22  Description of gene 22\n",
       "2    3  Gene24  Description of gene 24\n",
       "3    4  Gene70  Description of gene 70"
      ]
     },
     "execution_count": 54,
     "metadata": {},
     "output_type": "execute_result"
    }
   ],
   "source": [
    "# check the genes table \n",
    "# should have data now\n",
    "\n",
    "select_genes = \"SELECT * FROM genes;\"\n",
    "run_select_query(select_genes, cursor)\n"
   ]
  },
  {
   "cell_type": "code",
   "execution_count": 55,
   "metadata": {},
   "outputs": [],
   "source": [
    "# create the go_terms and gene_go lists\n",
    "# in the gene_go table we can have multiple genes connected to multiple go terms\n",
    "# we already have the data for genes\n",
    "# this file will be used to only add data/rows in the go_terms and gene_go tables\n",
    "# if you want to be more thorough - add new genes without description if they appear in the gene_go table\n",
    "\n",
    "select_gene = \"SELECT gid FROM genes WHERE symbol = ?;\"\n",
    "\n",
    "file_name = \"gene_go.txt\"\n",
    "go_term_id = 0\n",
    "terms_lst = []\n",
    "go_term_lst = []\n",
    "genes_go_terms_lst = []\n",
    "with open(file_name) as go_file:\n",
    "    header_line = go_file.readline()\n",
    "    # print(header_line)\n",
    "      # The second column in the file contains the GO terms \n",
    "    for line in go_file:\n",
    "        line_lst = line.strip().split(\",\")\n",
    "        gene_sym = line_lst[0] # we only have the gene symbol we need the id\n",
    "        cursor.execute(select_gene, [gene_sym])\n",
    "        res = cursor.fetchone()\n",
    "        if res: # make sure at least one id was retrieved\n",
    "            gene_id = res[0]\n",
    "        else: \n",
    "            gene_id = None\n",
    "        go_term = line_lst[1]\n",
    "        go_term_name = line_lst[2]\n",
    "        if  go_term in terms_lst: # make sure we do not have duplicate go terms in the go terms table\n",
    "            go_term_id = terms_lst.index(go_term) + 1\n",
    "        else:\n",
    "            go_term_id = go_term_id + 1\n",
    "            go_term_lst.append((go_term_id, go_term, go_term_name))\n",
    "        if gene_id: # make sure the gene is in the genes table\n",
    "            genes_go_terms_lst.append((gene_id, go_term_id))\n",
    "        \n"
   ]
  },
  {
   "cell_type": "code",
   "execution_count": 56,
   "metadata": {},
   "outputs": [
    {
     "data": {
      "text/plain": [
       "'Gene70'"
      ]
     },
     "execution_count": 56,
     "metadata": {},
     "output_type": "execute_result"
    }
   ],
   "source": [
    "gene_sym"
   ]
  },
  {
   "cell_type": "code",
   "execution_count": 57,
   "metadata": {},
   "outputs": [
    {
     "data": {
      "text/plain": [
       "1"
      ]
     },
     "execution_count": 57,
     "metadata": {},
     "output_type": "execute_result"
    }
   ],
   "source": [
    "cursor.arraysize"
   ]
  },
  {
   "cell_type": "code",
   "execution_count": 58,
   "metadata": {},
   "outputs": [
    {
     "data": {
      "text/plain": [
       "[(1, 'GO66', 'Cell division (mitosis and meiosis)'),\n",
       " (2, 'GO250', 'Cell growth and differentiation'),\n",
       " (3, 'GO233', 'Cell signaling'),\n",
       " (4, 'GO489', 'Apoptosis (programmed cell death)'),\n",
       " (5, 'GO88', 'Autophagy'),\n",
       " (6, 'GO107', 'Endocytosis and exocytosis'),\n",
       " (7, 'GO112', 'Protein synthesis'),\n",
       " (8, 'GO482', 'DNA replication'),\n",
       " (9, 'GO151', 'Gene expression'),\n",
       " (10, 'GO119', 'Glycolysis'),\n",
       " (11, 'GO93', 'Citric acid cycle'),\n",
       " (12, 'GO427', 'Oxidative phosphorylation'),\n",
       " (13, 'GO254', 'Photosynthesis'),\n",
       " (14, 'GO192', 'Lipid metabolism'),\n",
       " (15, 'GO425', 'Protein metabolism'),\n",
       " (16, 'GO353', 'Nucleic acid metabolism'),\n",
       " (17, 'GO402', 'Digestion'),\n",
       " (18, 'GO134', 'Respiration'),\n",
       " (19, 'GO500', 'Circulation'),\n",
       " (20, 'GO417', 'Excretion'),\n",
       " (21, 'GO218', 'Osmoregulation'),\n",
       " (22, 'GO334', 'Thermoregulation'),\n",
       " (23, 'GO249', 'Immune response'),\n",
       " (24, 'GO227', 'Hormone secretion'),\n",
       " (25, 'GO40', 'Nerve impulse transmission'),\n",
       " (26, 'GO313', 'Embryogenesis'),\n",
       " (27, 'GO138', 'Organogenesis'),\n",
       " (28, 'GO103', 'Metamorphosis'),\n",
       " (29, 'GO257', 'Regeneration'),\n",
       " (30, 'GO36', 'Aging'),\n",
       " (31, 'GO52', 'Gametogenesis'),\n",
       " (32, 'GO190', 'Fertilization'),\n",
       " (33, 'GO242', 'Embryo development'),\n",
       " (34, 'GO42', 'Parturition'),\n",
       " (35, 'GO440', 'Natural selection'),\n",
       " (36, 'GO253', 'Genetic drift'),\n",
       " (37, 'GO429', 'Gene flow'),\n",
       " (38, 'GO56', 'Mutation'),\n",
       " (39, 'GO171', 'Natural selection'),\n",
       " (40, 'GO49', 'Genetic drift'),\n",
       " (41, 'GO438', 'Gene flow'),\n",
       " (42, 'GO115', 'Mutation'),\n",
       " (43, 'GO344', 'Speciation'),\n",
       " (44, 'GO329', 'Adaptation'),\n",
       " (45, 'GO376', 'Predation'),\n",
       " (46, 'GO271', 'Competition'),\n",
       " (47, 'GO424', 'Symbiosis'),\n",
       " (48, 'GO400', 'Decomposition'),\n",
       " (49, 'GO325', 'Nutrient cycling'),\n",
       " (50, 'GO410', 'Succession'),\n",
       " (51, 'GO418', 'Phototropism'),\n",
       " (52, 'GO414', 'Geotropism'),\n",
       " (53, 'GO409', 'Thigmotropism'),\n",
       " (54, 'GO166', 'Transpiration'),\n",
       " (55, 'GO214', 'Guttation'),\n",
       " (56, 'GO423', 'Vernalization'),\n",
       " (57, 'GO195', 'Enzyme catalysis'),\n",
       " (58, 'GO162', 'Protein folding'),\n",
       " (59, 'GO237', 'Ion transport'),\n",
       " (60, 'GO363', 'Osmosis'),\n",
       " (61, 'GO139', 'Diffusion'),\n",
       " (62, 'GO487', 'Active transport'),\n",
       " (63, 'GO124', 'Phototransduction'),\n",
       " (64, 'GO236', 'Mechanotransduction'),\n",
       " (65, 'GO200', 'Chemoreception'),\n",
       " (66, 'GO447', 'Thermoreception'),\n",
       " (67, 'GO222', 'Nociception'),\n",
       " (68, 'GO345', 'Synaptic transmission'),\n",
       " (69, 'GO106', 'Neurotransmitter release'),\n",
       " (70, 'GO264', 'Long-term potentiation'),\n",
       " (71, 'GO403', 'Long-term depression'),\n",
       " (72, 'GO205', 'Neuroplasticity'),\n",
       " (73, 'GO469', 'Antigen presentation'),\n",
       " (74, 'GO279', 'Antibody production'),\n",
       " (75, 'GO485', 'Phagocytosis'),\n",
       " (76, 'GO292', 'Inflammation'),\n",
       " (77, 'GO460', 'Complement activation'),\n",
       " (78, 'GO379', 'Learning'),\n",
       " (79, 'GO491', 'Memory formation'),\n",
       " (80, 'GO59', 'Circadian rhythm regulation'),\n",
       " (81, 'GO299', 'Hibernation'),\n",
       " (82, 'GO185', 'Migration'),\n",
       " (83, 'GO131', 'RNA interference (RNAi)'),\n",
       " (84, 'GO362', 'Alternative splicing'),\n",
       " (85, 'GO493', 'Post-translational modification'),\n",
       " (86, 'GO69', 'Protein ubiquitination'),\n",
       " (87, 'GO291', 'Vesicle trafficking'),\n",
       " (88, 'GO450', 'Nuclear pore transport'),\n",
       " (89, 'GO281', 'Chromatin remodeling'),\n",
       " (90, 'GO453', 'Telomere maintenance'),\n",
       " (91, 'GO219', 'DNA methylation'),\n",
       " (92, 'GO167', 'Histone modification'),\n",
       " (93, 'GO84', 'Vasodilation and vasoconstriction'),\n",
       " (94, 'GO246', 'Peristalsis'),\n",
       " (95, 'GO265', 'Glomerular filtration'),\n",
       " (96, 'GO161', 'Pulmonary gas exchange'),\n",
       " (97, 'GO102', 'Bone remodeling'),\n",
       " (98, 'GO473', 'Wound healing'),\n",
       " (99, 'GO188', 'Blood clotting'),\n",
       " (100, 'GO326', 'Synaptic plasticity'),\n",
       " (101, 'GO366', 'Muscle hypertrophy'),\n",
       " (102, 'GO100', 'Adipogenesis'),\n",
       " (103, 'GO50', 'Antigen processing')]"
      ]
     },
     "execution_count": 58,
     "metadata": {},
     "output_type": "execute_result"
    }
   ],
   "source": [
    "go_term_lst"
   ]
  },
  {
   "cell_type": "code",
   "execution_count": 59,
   "metadata": {},
   "outputs": [
    {
     "data": {
      "text/plain": [
       "[(1, 1), (2, 2), (3, 14), (4, 35), (1, 101), (1, 102), (4, 103)]"
      ]
     },
     "execution_count": 59,
     "metadata": {},
     "output_type": "execute_result"
    }
   ],
   "source": [
    "genes_go_terms_lst"
   ]
  },
  {
   "cell_type": "code",
   "execution_count": 60,
   "metadata": {},
   "outputs": [],
   "source": [
    "cursor.executemany(insert_go_term, go_term_lst)\n",
    "connection.commit()"
   ]
  },
  {
   "cell_type": "code",
   "execution_count": 61,
   "metadata": {},
   "outputs": [
    {
     "data": {
      "text/html": [
       "<div>\n",
       "<style scoped>\n",
       "    .dataframe tbody tr th:only-of-type {\n",
       "        vertical-align: middle;\n",
       "    }\n",
       "\n",
       "    .dataframe tbody tr th {\n",
       "        vertical-align: top;\n",
       "    }\n",
       "\n",
       "    .dataframe thead th {\n",
       "        text-align: right;\n",
       "    }\n",
       "</style>\n",
       "<table border=\"1\" class=\"dataframe\">\n",
       "  <thead>\n",
       "    <tr style=\"text-align: right;\">\n",
       "      <th></th>\n",
       "      <th>gtid</th>\n",
       "      <th>abbr</th>\n",
       "      <th>name</th>\n",
       "    </tr>\n",
       "  </thead>\n",
       "  <tbody>\n",
       "    <tr>\n",
       "      <th>0</th>\n",
       "      <td>1</td>\n",
       "      <td>GO66</td>\n",
       "      <td>Cell division (mitosis and meiosis)</td>\n",
       "    </tr>\n",
       "    <tr>\n",
       "      <th>1</th>\n",
       "      <td>2</td>\n",
       "      <td>GO250</td>\n",
       "      <td>Cell growth and differentiation</td>\n",
       "    </tr>\n",
       "    <tr>\n",
       "      <th>2</th>\n",
       "      <td>3</td>\n",
       "      <td>GO233</td>\n",
       "      <td>Cell signaling</td>\n",
       "    </tr>\n",
       "    <tr>\n",
       "      <th>3</th>\n",
       "      <td>4</td>\n",
       "      <td>GO489</td>\n",
       "      <td>Apoptosis (programmed cell death)</td>\n",
       "    </tr>\n",
       "    <tr>\n",
       "      <th>4</th>\n",
       "      <td>5</td>\n",
       "      <td>GO88</td>\n",
       "      <td>Autophagy</td>\n",
       "    </tr>\n",
       "    <tr>\n",
       "      <th>...</th>\n",
       "      <td>...</td>\n",
       "      <td>...</td>\n",
       "      <td>...</td>\n",
       "    </tr>\n",
       "    <tr>\n",
       "      <th>98</th>\n",
       "      <td>99</td>\n",
       "      <td>GO188</td>\n",
       "      <td>Blood clotting</td>\n",
       "    </tr>\n",
       "    <tr>\n",
       "      <th>99</th>\n",
       "      <td>100</td>\n",
       "      <td>GO326</td>\n",
       "      <td>Synaptic plasticity</td>\n",
       "    </tr>\n",
       "    <tr>\n",
       "      <th>100</th>\n",
       "      <td>101</td>\n",
       "      <td>GO366</td>\n",
       "      <td>Muscle hypertrophy</td>\n",
       "    </tr>\n",
       "    <tr>\n",
       "      <th>101</th>\n",
       "      <td>102</td>\n",
       "      <td>GO100</td>\n",
       "      <td>Adipogenesis</td>\n",
       "    </tr>\n",
       "    <tr>\n",
       "      <th>102</th>\n",
       "      <td>103</td>\n",
       "      <td>GO50</td>\n",
       "      <td>Antigen processing</td>\n",
       "    </tr>\n",
       "  </tbody>\n",
       "</table>\n",
       "<p>103 rows × 3 columns</p>\n",
       "</div>"
      ],
      "text/plain": [
       "     gtid   abbr                                 name\n",
       "0       1   GO66  Cell division (mitosis and meiosis)\n",
       "1       2  GO250      Cell growth and differentiation\n",
       "2       3  GO233                       Cell signaling\n",
       "3       4  GO489    Apoptosis (programmed cell death)\n",
       "4       5   GO88                            Autophagy\n",
       "..    ...    ...                                  ...\n",
       "98     99  GO188                       Blood clotting\n",
       "99    100  GO326                  Synaptic plasticity\n",
       "100   101  GO366                   Muscle hypertrophy\n",
       "101   102  GO100                         Adipogenesis\n",
       "102   103   GO50                   Antigen processing\n",
       "\n",
       "[103 rows x 3 columns]"
      ]
     },
     "execution_count": 61,
     "metadata": {},
     "output_type": "execute_result"
    }
   ],
   "source": [
    "# check the go_terms table \n",
    "# should have data now\n",
    "\n",
    "select_go_terms = \"SELECT * FROM go_terms;\"\n",
    "run_select_query(select_go_terms, cursor)"
   ]
  },
  {
   "cell_type": "code",
   "execution_count": 62,
   "metadata": {},
   "outputs": [],
   "source": [
    "cursor.executemany(insert_gene_go, genes_go_terms_lst)\n",
    "connection.commit()"
   ]
  },
  {
   "cell_type": "code",
   "execution_count": 63,
   "metadata": {},
   "outputs": [
    {
     "data": {
      "text/html": [
       "<div>\n",
       "<style scoped>\n",
       "    .dataframe tbody tr th:only-of-type {\n",
       "        vertical-align: middle;\n",
       "    }\n",
       "\n",
       "    .dataframe tbody tr th {\n",
       "        vertical-align: top;\n",
       "    }\n",
       "\n",
       "    .dataframe thead th {\n",
       "        text-align: right;\n",
       "    }\n",
       "</style>\n",
       "<table border=\"1\" class=\"dataframe\">\n",
       "  <thead>\n",
       "    <tr style=\"text-align: right;\">\n",
       "      <th></th>\n",
       "      <th>gene_id</th>\n",
       "      <th>goterm_id</th>\n",
       "    </tr>\n",
       "  </thead>\n",
       "  <tbody>\n",
       "    <tr>\n",
       "      <th>0</th>\n",
       "      <td>1</td>\n",
       "      <td>1</td>\n",
       "    </tr>\n",
       "    <tr>\n",
       "      <th>1</th>\n",
       "      <td>2</td>\n",
       "      <td>2</td>\n",
       "    </tr>\n",
       "    <tr>\n",
       "      <th>2</th>\n",
       "      <td>3</td>\n",
       "      <td>14</td>\n",
       "    </tr>\n",
       "    <tr>\n",
       "      <th>3</th>\n",
       "      <td>4</td>\n",
       "      <td>35</td>\n",
       "    </tr>\n",
       "    <tr>\n",
       "      <th>4</th>\n",
       "      <td>1</td>\n",
       "      <td>101</td>\n",
       "    </tr>\n",
       "    <tr>\n",
       "      <th>5</th>\n",
       "      <td>1</td>\n",
       "      <td>102</td>\n",
       "    </tr>\n",
       "    <tr>\n",
       "      <th>6</th>\n",
       "      <td>4</td>\n",
       "      <td>103</td>\n",
       "    </tr>\n",
       "  </tbody>\n",
       "</table>\n",
       "</div>"
      ],
      "text/plain": [
       "   gene_id  goterm_id\n",
       "0        1          1\n",
       "1        2          2\n",
       "2        3         14\n",
       "3        4         35\n",
       "4        1        101\n",
       "5        1        102\n",
       "6        4        103"
      ]
     },
     "execution_count": 63,
     "metadata": {},
     "output_type": "execute_result"
    }
   ],
   "source": [
    "# check the gene_go table \n",
    "# should have data now\n",
    "\n",
    "select_go_terms = \"SELECT * FROM gene_go;\"\n",
    "run_select_query(select_go_terms, cursor)"
   ]
  },
  {
   "cell_type": "code",
   "execution_count": null,
   "metadata": {},
   "outputs": [],
   "source": []
  },
  {
   "cell_type": "code",
   "execution_count": 64,
   "metadata": {},
   "outputs": [
    {
     "data": {
      "text/html": [
       "<div>\n",
       "<style scoped>\n",
       "    .dataframe tbody tr th:only-of-type {\n",
       "        vertical-align: middle;\n",
       "    }\n",
       "\n",
       "    .dataframe tbody tr th {\n",
       "        vertical-align: top;\n",
       "    }\n",
       "\n",
       "    .dataframe thead th {\n",
       "        text-align: right;\n",
       "    }\n",
       "</style>\n",
       "<table border=\"1\" class=\"dataframe\">\n",
       "  <thead>\n",
       "    <tr style=\"text-align: right;\">\n",
       "      <th></th>\n",
       "      <th>Genes No.</th>\n",
       "    </tr>\n",
       "  </thead>\n",
       "  <tbody>\n",
       "    <tr>\n",
       "      <th>0</th>\n",
       "      <td>4</td>\n",
       "    </tr>\n",
       "  </tbody>\n",
       "</table>\n",
       "</div>"
      ],
      "text/plain": [
       "   Genes No.\n",
       "0          4"
      ]
     },
     "execution_count": 64,
     "metadata": {},
     "output_type": "execute_result"
    }
   ],
   "source": [
    "# A select that retrieves how many genes we have.\n",
    "\n",
    "# we use count\n",
    "\n",
    "select_genes_count = \"SELECT count(gid) 'Genes No.' FROM genes;\"\n",
    "run_select_query(select_genes_count, cursor)\n",
    "\n",
    "\n"
   ]
  },
  {
   "cell_type": "code",
   "execution_count": 65,
   "metadata": {},
   "outputs": [
    {
     "data": {
      "text/html": [
       "<div>\n",
       "<style scoped>\n",
       "    .dataframe tbody tr th:only-of-type {\n",
       "        vertical-align: middle;\n",
       "    }\n",
       "\n",
       "    .dataframe tbody tr th {\n",
       "        vertical-align: top;\n",
       "    }\n",
       "\n",
       "    .dataframe thead th {\n",
       "        text-align: right;\n",
       "    }\n",
       "</style>\n",
       "<table border=\"1\" class=\"dataframe\">\n",
       "  <thead>\n",
       "    <tr style=\"text-align: right;\">\n",
       "      <th></th>\n",
       "      <th>Go Terms No.</th>\n",
       "    </tr>\n",
       "  </thead>\n",
       "  <tbody>\n",
       "    <tr>\n",
       "      <th>0</th>\n",
       "      <td>103</td>\n",
       "    </tr>\n",
       "  </tbody>\n",
       "</table>\n",
       "</div>"
      ],
      "text/plain": [
       "   Go Terms No.\n",
       "0           103"
      ]
     },
     "execution_count": 65,
     "metadata": {},
     "output_type": "execute_result"
    }
   ],
   "source": [
    "# A select that retrieves how many go_terms we have.\n",
    "\n",
    "# we use count\n",
    "\n",
    "select_go_terms_count = \"SELECT count(gtid) 'Go Terms No.' FROM go_terms;\"\n",
    "run_select_query(select_go_terms_count, cursor)\n",
    "\n",
    "\n"
   ]
  },
  {
   "cell_type": "code",
   "execution_count": 66,
   "metadata": {},
   "outputs": [
    {
     "data": {
      "text/html": [
       "<div>\n",
       "<style scoped>\n",
       "    .dataframe tbody tr th:only-of-type {\n",
       "        vertical-align: middle;\n",
       "    }\n",
       "\n",
       "    .dataframe tbody tr th {\n",
       "        vertical-align: top;\n",
       "    }\n",
       "\n",
       "    .dataframe thead th {\n",
       "        text-align: right;\n",
       "    }\n",
       "</style>\n",
       "<table border=\"1\" class=\"dataframe\">\n",
       "  <thead>\n",
       "    <tr style=\"text-align: right;\">\n",
       "      <th></th>\n",
       "      <th>symbol</th>\n",
       "      <th>GoTerm No.</th>\n",
       "    </tr>\n",
       "  </thead>\n",
       "  <tbody>\n",
       "    <tr>\n",
       "      <th>0</th>\n",
       "      <td>Gene3</td>\n",
       "      <td>3</td>\n",
       "    </tr>\n",
       "  </tbody>\n",
       "</table>\n",
       "</div>"
      ],
      "text/plain": [
       "  symbol  GoTerm No.\n",
       "0  Gene3           3"
      ]
     },
     "execution_count": 66,
     "metadata": {},
     "output_type": "execute_result"
    }
   ],
   "source": [
    "# A select of the gene symbol for the gene with the highest number of associated go terms.\n",
    "\n",
    "select_gene_go_count = \"\"\"\n",
    "SELECT symbol, count(*) \"GoTerm No.\" \n",
    "FROM gene_go\n",
    "    JOIN genes ON genes.gid = gene_go.gene_id\n",
    "    JOIN go_terms ON go_terms.gtid = gene_go.goterm_id\n",
    "\n",
    "GROUP BY symbol\n",
    "ORDER BY count(*)  DESC\n",
    "LIMIT 1;\n",
    "\"\"\"\n",
    "run_select_query(select_gene_go_count, cursor)\n",
    "\n"
   ]
  },
  {
   "cell_type": "code",
   "execution_count": 67,
   "metadata": {},
   "outputs": [],
   "source": [
    "# we are done working with this database\n",
    "# close cursor and connection\n",
    "\n",
    "cursor.close()\n",
    "connection.close()"
   ]
  },
  {
   "cell_type": "code",
   "execution_count": null,
   "metadata": {},
   "outputs": [],
   "source": []
  },
  {
   "cell_type": "markdown",
   "metadata": {},
   "source": [
    "____________\n",
    "____________"
   ]
  },
  {
   "cell_type": "markdown",
   "metadata": {
    "tags": []
   },
   "source": [
    "___\n",
    "\n",
    "<b> <font color = \"red\">Exercise</font></b>\n",
    "\n",
    "#### Package exploration\n",
    "You do not need to install these packages to have a look at what they do and answer the questions.\n",
    "\n",
    "Look into one of the following packages: \n",
    "* scipy: https://github.com/scipy/scipy\n",
    "* scikit-learn: https://github.com/scikit-learn/scikit-learn\n",
    "* tensorflow: https://github.com/tensorflow/tensorflow\n",
    "* keras: https://github.com/keras-team/keras\n",
    "* pytorch: https://github.com/pytorch/pytorch\n",
    "\n",
    "Answer the following questions:\n",
    "- Does this package come with base python or needs to be installed?\n",
    "- What is the command to install the package?\n",
    "- What does this package do?\n",
    "    -  In your own words. The readme file can be a good resource. \n",
    "- What is one of the main functions in the package and what does it do?\n",
    "    - short description - mention the input and output.\n",
    "- Find a class definition. What is the file that contains the class definition (github link to the file and line number where the class definition starts)?\n",
    "    - You can search for a word in GitHub repository and all files that contain that word from that repository will be retrieved with the word highlighted\n",
    "-  Look for the setup.py, pyproject.toml and requirements.txt files in the package GitHub repository. These files contain configuration settings for the package like package dependencies (sometimes listed in the requirements.txt file), package version, package supported python versions. Look into the setup.py or pyproject.tomlfile for the classifiers word and in that list you will find some of these elements. Write ine classifier name and value and explain what they mean.\n",
    "    - The following examples from the classifiers list means that the package supports the listed operating sysytems. Can be installed for all the listed operating systems. \n",
    "```\n",
    "  \"Operating System :: Microsoft :: Windows\",\n",
    "  \"Operating System :: POSIX\",\n",
    "  \"Operating System :: Unix\",\n",
    "  \"Operating System :: MacOS\",\n",
    "```\n",
    "\n"
   ]
  },
  {
   "cell_type": "code",
   "execution_count": 70,
   "metadata": {},
   "outputs": [],
   "source": [
    "# Write your solution here\n",
    "\n",
    "\n"
   ]
  },
  {
   "cell_type": "markdown",
   "metadata": {},
   "source": [
    "### Example for bamnostic\n",
    "\n",
    "To find out how the project will be set up look in `setup.py`:    \n",
    "https://github.com/betteridiot/bamnostic/blob/master/setup.py\n",
    "\n",
    "OPERATING SYSTEM:\n",
    "\n",
    "Classifiers can be used for searching and to specify various package attributes.    \n",
    "https://packaging.python.org/guides/distributing-packages-using-setuptools/#classifiers     \n",
    "https://packaging.python.org/guides/distributing-packages-using-setuptools/#python-requires\n",
    "\n",
    "Although the list of classifiers is often used to declare what Python versions a project supports, this information is only used for searching & browsing projects on PyPI, not for installing projects. To actually restrict what Python versions a project can be installed on, use the python_requires argument.\n",
    "\n",
    "List of classifiers:      \n",
    "https://pypi.org/classifiers/\n",
    "\n",
    "https://pypi.org/search/?q=&o=     \n",
    "If you look on the left panel at filter by classifier - operating system - you can see all operating systems. available in general.\n",
    "\n",
    "For <b>bamnostic</b> we have:     \n",
    "https://github.com/betteridiot/bamnostic/blob/master/setup.py\n",
    "\n",
    "Operating systems: Unix, Microsoft :: Windows, MacOS\n",
    "```\n",
    "        \"Operating System :: Unix\",\n",
    "        \"Operating System :: Microsoft :: Windows\",\n",
    "        \"Operating System :: MacOS\",\n",
    "        \"Programming Language :: Python :: 2.7\",\n",
    "        \"Programming Language :: Python :: 3\",\n",
    "        \"Programming Language :: Python :: 3.0\",\n",
    "        \"Programming Language :: Python :: 3.1\",\n",
    "        \"Programming Language :: Python :: 3.2\",\n",
    "        \"Programming Language :: Python :: 3.3\",\n",
    "        \"Programming Language :: Python :: 3.4\",\n",
    "        \"Programming Language :: Python :: 3.5\",\n",
    "        \"Programming Language :: Python :: 3.6\",\n",
    "        \"Programming Language :: Python :: 3.7\",\n",
    "        \"Programming Language :: Python :: 3.8\",\n",
    "        \n",
    "```\n",
    "\n",
    "DEPENDENCIES: \n",
    "\n",
    "`install_requires` should be used to specify what dependencies a project minimally needs to run.    \n",
    "When the project is installed by pip, this is the specification that is used to install its dependencies.\n",
    "For more on using “install_requires” see install_requires vs requirements files.\n",
    "https://packaging.python.org/guides/distributing-packages-using-setuptools/#install-requires\n",
    "https://packaging.python.org/discussions/install-requires-vs-requirements/#install-requires-vs-requirements-files\n",
    "\n",
    "https://python-packaging.readthedocs.io/en/latest/dependencies.html      \n",
    "https://packaging.python.org/guides/distributing-packages-using-setuptools/#python-requires\n",
    "\n",
    "\n",
    "For <b>bamnostic</b> we have: Dependencies: None        \n",
    "https://github.com/betteridiot/bamnostic/blob/master/setup.py    \n",
    "\n",
    "\n",
    "```\n",
    "    # setup_requires=['pytest-runner'],\n",
    "    tests_require=[\"pytest\"],\n",
    "\n",
    "```\n",
    "\n",
    "Also `requirements.txt` is empty. That is the file that stores dependencies.   \n",
    "https://github.com/betteridiot/bamnostic/blob/master/requirements.txt\n",
    "\n",
    "CLASSES:\n",
    "\n",
    "Look into the folder with the same name as the package, that is where the code is (.py files are modules).\n",
    "Search for the keyword `class`.\n",
    "\n",
    "For <b>bamnostic</b> in the file `core.py` I found a class at line 113.     \n",
    "https://github.com/betteridiot/bamnostic/blob/master/bamnostic/core.py   \n",
    "```\n",
    "class AlignmentFile(bam.BamReader, bam.BamWriter):\n",
    "```\n"
   ]
  },
  {
   "cell_type": "markdown",
   "metadata": {},
   "source": [
    "________"
   ]
  },
  {
   "cell_type": "markdown",
   "metadata": {},
   "source": [
    "#### PANDAS\n",
    "\n",
    "OPERATING SYSTEM:\n",
    "\n",
    "The setup information is in `setup.cfg`\n",
    "https://github.com/pandas-dev/pandas/blob/master/setup.cfg\n",
    "\n",
    "```\n",
    "    Operating System :: OS Independent\n",
    "    Programming Language :: Cython\n",
    "    Programming Language :: Python\n",
    "    Programming Language :: Python :: 3\n",
    "    Programming Language :: Python :: 3 :: Only\n",
    "    Programming Language :: Python :: 3.8\n",
    "    Programming Language :: Python :: 3.9\n",
    "    Programming Language :: Python :: 3.10\n",
    "\n",
    "```\n",
    "\n",
    "\n",
    "DEPENDENCIES:\n",
    "\n",
    "```\n",
    "packages = find:\n",
    "install_requires =\n",
    "    numpy>=1.18.5; platform_machine!='aarch64' and platform_machine!='arm64' and python_version<'3.10'\n",
    "    numpy>=1.19.2; platform_machine=='aarch64' and python_version<'3.10'\n",
    "    numpy>=1.20.0; platform_machine=='arm64' and python_version<'3.10'\n",
    "    numpy>=1.21.0; python_version>='3.10'\n",
    "    python-dateutil>=2.8.1\n",
    "    pytz>=2020.1\n",
    "python_requires = >=3.8\n",
    "include_package_data = True\n",
    "zip_safe = False\n",
    "```\n",
    "\n",
    "\n",
    "CLASS:\n",
    "\n",
    "For <b>pandas</b> in the file `goupby.py` I found a class at line 57.\n",
    "https://github.com/pandas-dev/pandas/blob/master/pandas/core/groupby/grouper.py\n",
    "\n",
    "```\n",
    "class Grouper:\n",
    "    \"\"\"\n",
    "    A Grouper allows the user to specify a groupby instruction for an object.\n",
    "    This specification will select a column via the key parameter, or if the\n",
    "    level and/or axis parameters are given, a level of the index of the target\n",
    "    object.\n",
    "\n",
    "```"
   ]
  }
 ],
 "metadata": {
  "kernelspec": {
   "display_name": "Python 3 (ipykernel)",
   "language": "python",
   "name": "python3"
  },
  "language_info": {
   "codemirror_mode": {
    "name": "ipython",
    "version": 3
   },
   "file_extension": ".py",
   "mimetype": "text/x-python",
   "name": "python",
   "nbconvert_exporter": "python",
   "pygments_lexer": "ipython3",
   "version": "3.12.2"
  }
 },
 "nbformat": 4,
 "nbformat_minor": 4
}
