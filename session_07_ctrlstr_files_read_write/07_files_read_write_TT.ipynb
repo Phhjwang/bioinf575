{
 "cells": [
  {
   "cell_type": "markdown",
   "metadata": {},
   "source": [
    "## Reading from files and writing to files\n",
    "### BIOINF 575"
   ]
  },
  {
   "cell_type": "code",
   "execution_count": 5,
   "metadata": {},
   "outputs": [],
   "source": [
    "amino_acids = {'Ser': 'Serine', 'Lys': 'Lysine', 'Ala': 'Alanine', 'Leu': 'Leucine'}"
   ]
  },
  {
   "cell_type": "code",
   "execution_count": 7,
   "metadata": {},
   "outputs": [
    {
     "data": {
      "text/plain": [
       "{'Ser': 'Serine', 'Lys': 'Lysine', 'Ala': 'Alanine', 'Leu': 'Leucine'}"
      ]
     },
     "execution_count": 7,
     "metadata": {},
     "output_type": "execute_result"
    }
   ],
   "source": [
    "amino_acids"
   ]
  },
  {
   "cell_type": "markdown",
   "metadata": {},
   "source": [
    "To add a new dictionary element - subset the dictionay using the new key and assign the value or use the update function"
   ]
  },
  {
   "cell_type": "code",
   "execution_count": 9,
   "metadata": {},
   "outputs": [],
   "source": [
    "amino_acids[\"new_key\"] = \"new value\""
   ]
  },
  {
   "cell_type": "code",
   "execution_count": 11,
   "metadata": {},
   "outputs": [
    {
     "data": {
      "text/plain": [
       "{'Ser': 'Serine',\n",
       " 'Lys': 'Lysine',\n",
       " 'Ala': 'Alanine',\n",
       " 'Leu': 'Leucine',\n",
       " 'new_key': 'new value'}"
      ]
     },
     "execution_count": 11,
     "metadata": {},
     "output_type": "execute_result"
    }
   ],
   "source": [
    "amino_acids"
   ]
  },
  {
   "cell_type": "code",
   "execution_count": null,
   "metadata": {},
   "outputs": [],
   "source": []
  },
  {
   "cell_type": "code",
   "execution_count": null,
   "metadata": {},
   "outputs": [],
   "source": []
  },
  {
   "cell_type": "code",
   "execution_count": 17,
   "metadata": {},
   "outputs": [
    {
     "name": "stdin",
     "output_type": "stream",
     "text": [
      " fdghdfgh\n"
     ]
    },
    {
     "name": "stdout",
     "output_type": "stream",
     "text": [
      "input fdghdfgh\n"
     ]
    },
    {
     "name": "stdin",
     "output_type": "stream",
     "text": [
      " w4655436\n"
     ]
    },
    {
     "name": "stdout",
     "output_type": "stream",
     "text": [
      "input w4655436\n"
     ]
    },
    {
     "name": "stdin",
     "output_type": "stream",
     "text": [
      " 456\n"
     ]
    },
    {
     "name": "stdout",
     "output_type": "stream",
     "text": [
      "input 456\n"
     ]
    },
    {
     "name": "stdin",
     "output_type": "stream",
     "text": [
      " Stop\n"
     ]
    },
    {
     "name": "stdout",
     "output_type": "stream",
     "text": [
      "input Stop\n"
     ]
    },
    {
     "name": "stdin",
     "output_type": "stream",
     "text": [
      " STOP\n"
     ]
    }
   ],
   "source": [
    "# reading user input: the input() function\n",
    "# reads text, evaluates expression\n",
    "res = input()\n",
    "while res != \"STOP\":\n",
    "    print(\"input\", res)\n",
    "    res = input()"
   ]
  },
  {
   "cell_type": "code",
   "execution_count": null,
   "metadata": {},
   "outputs": [],
   "source": []
  },
  {
   "cell_type": "code",
   "execution_count": null,
   "metadata": {},
   "outputs": [],
   "source": []
  },
  {
   "cell_type": "markdown",
   "metadata": {},
   "source": [
    "### FILES and file access from python"
   ]
  },
  {
   "cell_type": "markdown",
   "metadata": {},
   "source": [
    "####  A file is a named location on disk to store related information \n",
    "#### It is used to permanently store data in a non-volatile memory (e.g. hard disk)\n",
    "#### https://www.programiz.com/python-programming/file-operation <br><br>\n",
    "\n",
    "#### open – builtin function to open a file for reading or writing<br>\n",
    "    \n",
    "```python\n",
    "open(file, mode='r', buffering=-1, encoding=None, errors=None, newline=None, closefd=True, opener=None)\n",
    "  \n",
    "fileObj = open(fileName, ‘r’) # open file for reading, r+\n",
    "fileObj = open(fileName, ‘w’) # open file for writing, w+\n",
    "fileObj = open(fileName, ‘a’) # open file for  appending, a+\n",
    "```\n",
    "\n",
    "| Parameter | Condition | Description                                                       |\n",
    "|-----------|-----------|-------------------------------------------------------------------|\n",
    "| file      | Required  | The pathname (absolute or relative to the current working directory) of the file to be opened                                      |\n",
    "| mode      | Optional  | Specifies the mode you want to open the file in                   |\n",
    "| buffering | Optional  | Sets the buffering policy - how much to read/write from/to the disk at once                                        |\n",
    "| encoding  | Optional  | Specifies encoding                                                |\n",
    "| errors    | Optional  | Specifies different error handling scheme                         |\n",
    "| newline   | Optional  | Controls how universal newlines mode works                        |\n",
    "| closefd   | Optional  | Keeps the underlying file descriptor open when the file is closed |\n",
    "| opener    | Optional  | A custom opener used for low-level I/O operations                 |\n",
    "\n",
    "#### Mode parameter options\n",
    "\n",
    "| Character | Meaning                                                         |\n",
    "|-----------|-----------------------------------------------------------------|\n",
    "| 'r'       | open for reading (default)                                      |\n",
    "| 'w'       | open for writing, truncating the file first                     |\n",
    "| 'x'       | open for exclusive creation, failing if the file already exists |\n",
    "| 'a'       | open for writing, appending to the end of file if it exists     |\n",
    "| 'b'       | binary mode                                                     |\n",
    "| 't'       | text mode (default)                                             |\n",
    "| '+'       | open for updating (reading and writing)                         |\n",
    "\n",
    "The default mode is 'r' (open for reading text, a synonym of 'rt'). Modes 'w+' and 'w+b' open and truncate the file. Modes 'r+' and 'r+b' open the file with no truncation.\n",
    "\n",
    "https://docs.python.org/3/library/functions.html#open\n",
    "\n",
    "https://www.learnbyexample.org/python-open-function/\n",
    "\n",
    "\n",
    "\n",
    "* ##### The `file` parameter must be a string or reference to one\n",
    "    * typically, that would be the file name (if the file is is in the current directory) or the file path (if the file is somewhere elese in the file system)\n",
    "\n",
    "* ##### The file object is iterable by line/buffer\n"
   ]
  },
  {
   "cell_type": "code",
   "execution_count": 19,
   "metadata": {},
   "outputs": [
    {
     "name": "stdout",
     "output_type": "stream",
     "text": [
      "8192\n"
     ]
    }
   ],
   "source": [
    "# buffering default is -1 so it takes the system buffer size\n",
    "\n",
    "import io\n",
    "print(io.DEFAULT_BUFFER_SIZE)"
   ]
  },
  {
   "cell_type": "code",
   "execution_count": null,
   "metadata": {},
   "outputs": [],
   "source": []
  },
  {
   "cell_type": "markdown",
   "metadata": {},
   "source": [
    "#### What is encoding?\n",
    "\n",
    "From: https://www.w3.org/International/questions/qa-what-is-encoding\n",
    "\n",
    "\n",
    "\n",
    "Basically, you can visualise it by assuming that all characters are stored in computers using a special code, like the ciphers used in espionage. \n",
    "A character encoding provides a key to unlock (ie. crack) the code. \n",
    "It is a set of mappings between the bytes in the computer and the characters in the character set. \n",
    "Without the key, the data cannot be understood - all or part of the data looks just like strange sequesnces of characters.   \n",
    "\n",
    "Data that should look like this:     \n",
    "<img src = https://www.w3.org/International/questions/qa-what-is-encoding-data/mojibake1.gif />\n",
    "\n",
    "Looks like this:        \n",
    "<img src = https://www.w3.org/International/questions/qa-what-is-encoding-data/mojibake2.gif />\n",
    "\n",
    "==============="
   ]
  },
  {
   "cell_type": "markdown",
   "metadata": {},
   "source": [
    "The `codecs` module defines base classes for standard Python codecs (encoders and decoders) and provides access to the internal Python codec registry, which manages the codec and error handling lookup process. Most standard codecs are text encodings, which encode text to bytes (and decode bytes to text), but there are also codecs provided that encode text to text, and bytes to bytes. Custom codecs may encode and decode between arbitrary types, but some module features are restricted to be used specifically with text encodings or with codecs that encode to bytes.\n",
    "https://docs.python.org/3/library/codecs.html"
   ]
  },
  {
   "cell_type": "code",
   "execution_count": 23,
   "metadata": {},
   "outputs": [
    {
     "data": {
      "text/plain": [
       "['BOM',\n",
       " 'BOM32_BE',\n",
       " 'BOM32_LE',\n",
       " 'BOM64_BE',\n",
       " 'BOM64_LE',\n",
       " 'BOM_BE',\n",
       " 'BOM_LE',\n",
       " 'BOM_UTF16',\n",
       " 'BOM_UTF16_BE',\n",
       " 'BOM_UTF16_LE',\n",
       " 'BOM_UTF32',\n",
       " 'BOM_UTF32_BE',\n",
       " 'BOM_UTF32_LE',\n",
       " 'BOM_UTF8',\n",
       " 'BufferedIncrementalDecoder',\n",
       " 'BufferedIncrementalEncoder',\n",
       " 'Codec',\n",
       " 'CodecInfo',\n",
       " 'EncodedFile',\n",
       " 'IncrementalDecoder',\n",
       " 'IncrementalEncoder',\n",
       " 'StreamReader',\n",
       " 'StreamReaderWriter',\n",
       " 'StreamRecoder',\n",
       " 'StreamWriter',\n",
       " '__all__',\n",
       " '__builtins__',\n",
       " '__doc__',\n",
       " '__file__',\n",
       " '__loader__',\n",
       " '__name__',\n",
       " '__package__',\n",
       " '__spec__',\n",
       " '_false',\n",
       " 'ascii_decode',\n",
       " 'ascii_encode',\n",
       " 'backslashreplace_errors',\n",
       " 'builtins',\n",
       " 'charmap_build',\n",
       " 'charmap_decode',\n",
       " 'charmap_encode',\n",
       " 'decode',\n",
       " 'encode',\n",
       " 'escape_decode',\n",
       " 'escape_encode',\n",
       " 'getdecoder',\n",
       " 'getencoder',\n",
       " 'getincrementaldecoder',\n",
       " 'getincrementalencoder',\n",
       " 'getreader',\n",
       " 'getwriter',\n",
       " 'ignore_errors',\n",
       " 'iterdecode',\n",
       " 'iterencode',\n",
       " 'latin_1_decode',\n",
       " 'latin_1_encode',\n",
       " 'lookup',\n",
       " 'lookup_error',\n",
       " 'make_encoding_map',\n",
       " 'make_identity_dict',\n",
       " 'namereplace_errors',\n",
       " 'open',\n",
       " 'raw_unicode_escape_decode',\n",
       " 'raw_unicode_escape_encode',\n",
       " 'readbuffer_encode',\n",
       " 'register',\n",
       " 'register_error',\n",
       " 'replace_errors',\n",
       " 'strict_errors',\n",
       " 'sys',\n",
       " 'unicode_escape_decode',\n",
       " 'unicode_escape_encode',\n",
       " 'unregister',\n",
       " 'utf_16_be_decode',\n",
       " 'utf_16_be_encode',\n",
       " 'utf_16_decode',\n",
       " 'utf_16_encode',\n",
       " 'utf_16_ex_decode',\n",
       " 'utf_16_le_decode',\n",
       " 'utf_16_le_encode',\n",
       " 'utf_32_be_decode',\n",
       " 'utf_32_be_encode',\n",
       " 'utf_32_decode',\n",
       " 'utf_32_encode',\n",
       " 'utf_32_ex_decode',\n",
       " 'utf_32_le_decode',\n",
       " 'utf_32_le_encode',\n",
       " 'utf_7_decode',\n",
       " 'utf_7_encode',\n",
       " 'utf_8_decode',\n",
       " 'utf_8_encode',\n",
       " 'xmlcharrefreplace_errors']"
      ]
     },
     "execution_count": 23,
     "metadata": {},
     "output_type": "execute_result"
    }
   ],
   "source": [
    "# to explore more information about the codecs module \n",
    "# you can run the following commands\n",
    "\n",
    "import codecs\n",
    "# help(codecs)\n",
    "dir(codecs)"
   ]
  },
  {
   "cell_type": "markdown",
   "metadata": {},
   "source": [
    "##### ASCII code table\n",
    "https://www.ascii-code.com"
   ]
  },
  {
   "cell_type": "markdown",
   "metadata": {},
   "source": [
    "#### Python code to demonstrate str.decode() - adapted from:\n",
    "https://www.geeksforgeeks.org/python-strings-decode-method/"
   ]
  },
  {
   "cell_type": "code",
   "execution_count": 22,
   "metadata": {},
   "outputs": [
    {
     "name": "stdout",
     "output_type": "stream",
     "text": [
      "Text to encode:\n",
      "Symbol ¦ empty set: Ø\n",
      "\n",
      "The encoded text is:\n",
      "b'Symbol \\xc2\\xa6 empty set: \\xc3\\x98'\n",
      "\n",
      "The decoded text is:\n",
      "Symbol ¦ empty set: Ø\n"
     ]
    }
   ],
   "source": [
    "# Python code to demonstrate\n",
    "# decode()\n",
    "\n",
    "# initializing string\n",
    "text_to_encode = \"Symbol \" + chr(166) + \" empty set: \" + chr(216)\n",
    "print(\"Text to encode:\")\n",
    "print(text_to_encode)\n",
    "\n",
    "# encoding string\n",
    "encoded_text = text_to_encode.encode(encoding='utf8')\n",
    "\n",
    "# printing the encoded string\n",
    "print (\"\\nThe encoded text is:\")\n",
    "print (encoded_text )\n",
    "\n",
    "# printing the original decoded string\n",
    "print (\"\\nThe decoded text is:\")\n",
    "print (encoded_text.decode('utf8', 'strict'))\n",
    "\n"
   ]
  },
  {
   "cell_type": "code",
   "execution_count": 25,
   "metadata": {},
   "outputs": [
    {
     "name": "stdout",
     "output_type": "stream",
     "text": [
      "Text to encode:\n",
      "Symbol ¦ empty set: Ø\n"
     ]
    }
   ],
   "source": [
    "text_to_encode = \"Symbol \" + chr(166) + \" empty set: \" + chr(216)\n",
    "print(\"Text to encode:\")\n",
    "print(text_to_encode)"
   ]
  },
  {
   "cell_type": "code",
   "execution_count": 27,
   "metadata": {},
   "outputs": [
    {
     "name": "stdout",
     "output_type": "stream",
     "text": [
      "\n",
      "The encoded text is:\n",
      "b'Symbol \\xc2\\xa6 empty set: \\xc3\\x98'\n"
     ]
    }
   ],
   "source": [
    "encoded_text = text_to_encode.encode(encoding='utf8')\n",
    "\n",
    "# printing the encoded string\n",
    "print (\"\\nThe encoded text is:\")\n",
    "print (encoded_text )"
   ]
  },
  {
   "cell_type": "code",
   "execution_count": 29,
   "metadata": {},
   "outputs": [
    {
     "name": "stdout",
     "output_type": "stream",
     "text": [
      "\n",
      "The decoded text is:\n",
      "Symbol ¦ empty set: Ø\n"
     ]
    }
   ],
   "source": [
    "print (\"\\nThe decoded text is:\")\n",
    "print (encoded_text.decode('utf8', 'strict'))\n"
   ]
  },
  {
   "cell_type": "markdown",
   "metadata": {},
   "source": [
    "____\n",
    "### Now let's open a file"
   ]
  },
  {
   "cell_type": "markdown",
   "metadata": {},
   "source": [
    "```python\n",
    "open(file, mode='r', buffering=-1, encoding=None, errors=None, newline=None, closefd=True, opener=None)\n",
    "  \n",
    "fileObj = open(fileName, ‘r’) # open file for reading, r+\n",
    "fileObj = open(fileName, ‘w’) # open file for writing, w+\n",
    "fileObj = open(fileName, ‘a’) # open file for  appending, a+\n",
    "```"
   ]
  },
  {
   "cell_type": "code",
   "execution_count": 33,
   "metadata": {},
   "outputs": [
    {
     "ename": "FileNotFoundError",
     "evalue": "[Errno 2] No such file or directory: 'test1.txt'",
     "output_type": "error",
     "traceback": [
      "\u001b[0;31m---------------------------------------------------------------------------\u001b[0m",
      "\u001b[0;31mFileNotFoundError\u001b[0m                         Traceback (most recent call last)",
      "Cell \u001b[0;32mIn[33], line 4\u001b[0m\n\u001b[1;32m      1\u001b[0m \u001b[38;5;66;03m# open a file \u001b[39;00m\n\u001b[1;32m      2\u001b[0m \u001b[38;5;66;03m# if it is read mode and the file does not exist it give an error\u001b[39;00m\n\u001b[0;32m----> 4\u001b[0m test_file \u001b[38;5;241m=\u001b[39m \u001b[38;5;28mopen\u001b[39m(\u001b[38;5;124m\"\u001b[39m\u001b[38;5;124mtest1.txt\u001b[39m\u001b[38;5;124m\"\u001b[39m)\n",
      "File \u001b[0;32m/opt/anaconda3/lib/python3.12/site-packages/IPython/core/interactiveshell.py:324\u001b[0m, in \u001b[0;36m_modified_open\u001b[0;34m(file, *args, **kwargs)\u001b[0m\n\u001b[1;32m    317\u001b[0m \u001b[38;5;28;01mif\u001b[39;00m file \u001b[38;5;129;01min\u001b[39;00m {\u001b[38;5;241m0\u001b[39m, \u001b[38;5;241m1\u001b[39m, \u001b[38;5;241m2\u001b[39m}:\n\u001b[1;32m    318\u001b[0m     \u001b[38;5;28;01mraise\u001b[39;00m \u001b[38;5;167;01mValueError\u001b[39;00m(\n\u001b[1;32m    319\u001b[0m         \u001b[38;5;124mf\u001b[39m\u001b[38;5;124m\"\u001b[39m\u001b[38;5;124mIPython won\u001b[39m\u001b[38;5;124m'\u001b[39m\u001b[38;5;124mt let you open fd=\u001b[39m\u001b[38;5;132;01m{\u001b[39;00mfile\u001b[38;5;132;01m}\u001b[39;00m\u001b[38;5;124m by default \u001b[39m\u001b[38;5;124m\"\u001b[39m\n\u001b[1;32m    320\u001b[0m         \u001b[38;5;124m\"\u001b[39m\u001b[38;5;124mas it is likely to crash IPython. If you know what you are doing, \u001b[39m\u001b[38;5;124m\"\u001b[39m\n\u001b[1;32m    321\u001b[0m         \u001b[38;5;124m\"\u001b[39m\u001b[38;5;124myou can use builtins\u001b[39m\u001b[38;5;124m'\u001b[39m\u001b[38;5;124m open.\u001b[39m\u001b[38;5;124m\"\u001b[39m\n\u001b[1;32m    322\u001b[0m     )\n\u001b[0;32m--> 324\u001b[0m \u001b[38;5;28;01mreturn\u001b[39;00m io_open(file, \u001b[38;5;241m*\u001b[39margs, \u001b[38;5;241m*\u001b[39m\u001b[38;5;241m*\u001b[39mkwargs)\n",
      "\u001b[0;31mFileNotFoundError\u001b[0m: [Errno 2] No such file or directory: 'test1.txt'"
     ]
    }
   ],
   "source": [
    "# open a file \n",
    "# if it is read mode and the file does not exist it give an error\n",
    "\n",
    "test_file = open(\"test1.txt\")"
   ]
  },
  {
   "cell_type": "code",
   "execution_count": null,
   "metadata": {},
   "outputs": [],
   "source": []
  },
  {
   "cell_type": "code",
   "execution_count": 35,
   "metadata": {},
   "outputs": [],
   "source": [
    "# open a file \n",
    "# if it is write mode and the file does not exist it will be created\n",
    "\n",
    "test_file = open(\"test.txt\", mode = \"w\")"
   ]
  },
  {
   "cell_type": "code",
   "execution_count": 37,
   "metadata": {},
   "outputs": [
    {
     "data": {
      "text/plain": [
       "_io.TextIOWrapper"
      ]
     },
     "execution_count": 37,
     "metadata": {},
     "output_type": "execute_result"
    }
   ],
   "source": [
    "# check out the type\n",
    "\n",
    "type(test_file)"
   ]
  },
  {
   "cell_type": "code",
   "execution_count": 41,
   "metadata": {},
   "outputs": [
    {
     "data": {
      "text/plain": [
       "<_io.TextIOWrapper name='test.txt' mode='w' encoding='UTF-8'>"
      ]
     },
     "execution_count": 41,
     "metadata": {},
     "output_type": "execute_result"
    }
   ],
   "source": [
    "# display the object \n",
    "\n",
    "test_file"
   ]
  },
  {
   "cell_type": "code",
   "execution_count": 43,
   "metadata": {},
   "outputs": [
    {
     "ename": "UnsupportedOperation",
     "evalue": "not readable",
     "output_type": "error",
     "traceback": [
      "\u001b[0;31m---------------------------------------------------------------------------\u001b[0m",
      "\u001b[0;31mUnsupportedOperation\u001b[0m                      Traceback (most recent call last)",
      "Cell \u001b[0;32mIn[43], line 8\u001b[0m\n\u001b[1;32m      1\u001b[0m \u001b[38;5;66;03m# seems to be a lazy-loading object - let's try to list it\u001b[39;00m\n\u001b[1;32m      2\u001b[0m \u001b[38;5;66;03m# will give an error due to being open for writing only\u001b[39;00m\n\u001b[1;32m      3\u001b[0m \n\u001b[1;32m      4\u001b[0m \u001b[38;5;66;03m# this will only work when opened for reading but \u001b[39;00m\n\u001b[1;32m      5\u001b[0m \u001b[38;5;66;03m# do not try this for very large files \u001b[39;00m\n\u001b[1;32m      6\u001b[0m \u001b[38;5;66;03m# each line will be a item in the list\u001b[39;00m\n\u001b[0;32m----> 8\u001b[0m \u001b[38;5;28mlist\u001b[39m(test_file)\n",
      "\u001b[0;31mUnsupportedOperation\u001b[0m: not readable"
     ]
    }
   ],
   "source": [
    "# seems to be a lazy-loading object - let's try to list it\n",
    "# will give an error due to being open for writing only\n",
    "\n",
    "# this will only work when opened for reading but \n",
    "# do not try this for very large files \n",
    "# each line will be a item in the list\n",
    "\n",
    "list(test_file)"
   ]
  },
  {
   "cell_type": "code",
   "execution_count": 45,
   "metadata": {
    "collapsed": true,
    "jupyter": {
     "outputs_hidden": true
    },
    "scrolled": true
   },
   "outputs": [
    {
     "data": {
      "text/plain": [
       "['_CHUNK_SIZE',\n",
       " '__class__',\n",
       " '__del__',\n",
       " '__delattr__',\n",
       " '__dict__',\n",
       " '__dir__',\n",
       " '__doc__',\n",
       " '__enter__',\n",
       " '__eq__',\n",
       " '__exit__',\n",
       " '__format__',\n",
       " '__ge__',\n",
       " '__getattribute__',\n",
       " '__getstate__',\n",
       " '__gt__',\n",
       " '__hash__',\n",
       " '__init__',\n",
       " '__init_subclass__',\n",
       " '__iter__',\n",
       " '__le__',\n",
       " '__lt__',\n",
       " '__module__',\n",
       " '__ne__',\n",
       " '__new__',\n",
       " '__next__',\n",
       " '__reduce__',\n",
       " '__reduce_ex__',\n",
       " '__repr__',\n",
       " '__setattr__',\n",
       " '__sizeof__',\n",
       " '__str__',\n",
       " '__subclasshook__',\n",
       " '_checkClosed',\n",
       " '_checkReadable',\n",
       " '_checkSeekable',\n",
       " '_checkWritable',\n",
       " '_finalizing',\n",
       " 'buffer',\n",
       " 'close',\n",
       " 'closed',\n",
       " 'detach',\n",
       " 'encoding',\n",
       " 'errors',\n",
       " 'fileno',\n",
       " 'flush',\n",
       " 'isatty',\n",
       " 'line_buffering',\n",
       " 'mode',\n",
       " 'name',\n",
       " 'newlines',\n",
       " 'read',\n",
       " 'readable',\n",
       " 'readline',\n",
       " 'readlines',\n",
       " 'reconfigure',\n",
       " 'seek',\n",
       " 'seekable',\n",
       " 'tell',\n",
       " 'truncate',\n",
       " 'writable',\n",
       " 'write',\n",
       " 'write_through',\n",
       " 'writelines']"
      ]
     },
     "execution_count": 45,
     "metadata": {},
     "output_type": "execute_result"
    }
   ],
   "source": [
    "dir(test_file)"
   ]
  },
  {
   "cell_type": "code",
   "execution_count": 47,
   "metadata": {},
   "outputs": [
    {
     "name": "stdout",
     "output_type": "stream",
     "text": [
      "buffer\n",
      "close\n",
      "closed\n",
      "detach\n",
      "encoding\n",
      "errors\n",
      "fileno\n",
      "flush\n",
      "isatty\n",
      "mode\n",
      "name\n",
      "newlines\n",
      "read\n",
      "readable\n",
      "readline\n",
      "readlines\n",
      "reconfigure\n",
      "seek\n",
      "seekable\n",
      "tell\n",
      "truncate\n",
      "writable\n",
      "write\n",
      "writelines\n"
     ]
    }
   ],
   "source": [
    "# check out what this object can do\n",
    "# display only methods without _ from the dir list\n",
    "\n",
    "for elem in dir(test_file):\n",
    "    if \"_\" not in elem:\n",
    "        print(elem)"
   ]
  },
  {
   "cell_type": "code",
   "execution_count": null,
   "metadata": {},
   "outputs": [],
   "source": []
  },
  {
   "cell_type": "markdown",
   "metadata": {},
   "source": [
    "#### Write text to the file - use the method write\n",
    "\n",
    "```python\n",
    "help(test_file.write)\n",
    "```\n",
    "\n",
    "```\n",
    "Help on built-in function write:\n",
    "\n",
    "write(text, /) method of _io.TextIOWrapper instance\n",
    "    Write string to stream.\n",
    "    Returns the number of characters written (which is always equal to\n",
    "    the length of the string).\n",
    "```"
   ]
  },
  {
   "cell_type": "code",
   "execution_count": 49,
   "metadata": {},
   "outputs": [
    {
     "data": {
      "text/plain": [
       "\u001b[0;31mSignature:\u001b[0m \u001b[0mtest_file\u001b[0m\u001b[0;34m.\u001b[0m\u001b[0mwrite\u001b[0m\u001b[0;34m(\u001b[0m\u001b[0mtext\u001b[0m\u001b[0;34m,\u001b[0m \u001b[0;34m/\u001b[0m\u001b[0;34m)\u001b[0m\u001b[0;34m\u001b[0m\u001b[0;34m\u001b[0m\u001b[0m\n",
       "\u001b[0;31mDocstring:\u001b[0m\n",
       "Write string s to stream.\n",
       "\n",
       "Return the number of characters written\n",
       "(which is always equal to the length of the string).\n",
       "\u001b[0;31mType:\u001b[0m      builtin_function_or_method"
      ]
     },
     "metadata": {},
     "output_type": "display_data"
    }
   ],
   "source": [
    "test_file.write?"
   ]
  },
  {
   "cell_type": "code",
   "execution_count": 51,
   "metadata": {},
   "outputs": [
    {
     "data": {
      "text/plain": [
       "7"
      ]
     },
     "execution_count": 51,
     "metadata": {},
     "output_type": "execute_result"
    }
   ],
   "source": [
    "# Writes text as is, if you want to write on a new line you have to write \"\\n\"\n",
    "\n",
    "test_file.write(\"Hello! \")"
   ]
  },
  {
   "cell_type": "code",
   "execution_count": 53,
   "metadata": {},
   "outputs": [],
   "source": [
    "# make sure to close the file when done\n",
    "# once closed - you have to open it again to read from it or write to it\n",
    "\n",
    "test_file.close()"
   ]
  },
  {
   "cell_type": "code",
   "execution_count": 55,
   "metadata": {},
   "outputs": [
    {
     "ename": "ValueError",
     "evalue": "I/O operation on closed file.",
     "output_type": "error",
     "traceback": [
      "\u001b[0;31m---------------------------------------------------------------------------\u001b[0m",
      "\u001b[0;31mValueError\u001b[0m                                Traceback (most recent call last)",
      "Cell \u001b[0;32mIn[55], line 1\u001b[0m\n\u001b[0;32m----> 1\u001b[0m test_file\u001b[38;5;241m.\u001b[39mwrite(\u001b[38;5;124m\"\u001b[39m\u001b[38;5;124mWriting some text.\u001b[39m\u001b[38;5;130;01m\\n\u001b[39;00m\u001b[38;5;124m\"\u001b[39m)\n",
      "\u001b[0;31mValueError\u001b[0m: I/O operation on closed file."
     ]
    }
   ],
   "source": [
    "test_file.write(\"Writing some text.\\n\")"
   ]
  },
  {
   "cell_type": "markdown",
   "metadata": {},
   "source": [
    "<b>Open for append and Write</b>"
   ]
  },
  {
   "cell_type": "code",
   "execution_count": 57,
   "metadata": {},
   "outputs": [
    {
     "data": {
      "text/plain": [
       "19"
      ]
     },
     "execution_count": 57,
     "metadata": {},
     "output_type": "execute_result"
    }
   ],
   "source": [
    "# open file and write lines into a file \n",
    "# buffering = 1 will write to the disk as soon as it finds a newline character\n",
    "\n",
    "test_file = open(\"test.txt\", mode = \"a\", buffering = 1)\n",
    "test_file.write(\"Writing some text.\\n\")\n"
   ]
  },
  {
   "cell_type": "code",
   "execution_count": 59,
   "metadata": {},
   "outputs": [
    {
     "data": {
      "text/plain": [
       "34"
      ]
     },
     "execution_count": 59,
     "metadata": {},
     "output_type": "execute_result"
    }
   ],
   "source": [
    "test_file.write(\"Writing another line (unfinished).\")\n"
   ]
  },
  {
   "cell_type": "code",
   "execution_count": 61,
   "metadata": {},
   "outputs": [
    {
     "data": {
      "text/plain": [
       "58"
      ]
     },
     "execution_count": 61,
     "metadata": {},
     "output_type": "execute_result"
    }
   ],
   "source": [
    "test_file.write(\"Still writing on the second line.\\nAnd starting the third. \")"
   ]
  },
  {
   "cell_type": "code",
   "execution_count": 63,
   "metadata": {},
   "outputs": [
    {
     "data": {
      "text/plain": [
       "23"
      ]
     },
     "execution_count": 63,
     "metadata": {},
     "output_type": "execute_result"
    }
   ],
   "source": [
    "test_file.write(\"DONE on the third line.\")"
   ]
  },
  {
   "cell_type": "code",
   "execution_count": null,
   "metadata": {},
   "outputs": [],
   "source": []
  },
  {
   "cell_type": "markdown",
   "metadata": {},
   "source": [
    "<b>Close file</b>"
   ]
  },
  {
   "cell_type": "code",
   "execution_count": 65,
   "metadata": {},
   "outputs": [
    {
     "name": "stdout",
     "output_type": "stream",
     "text": [
      "Help on built-in function close:\n",
      "\n",
      "close() method of _io.TextIOWrapper instance\n",
      "    Flush and close the IO object.\n",
      "\n",
      "    This method has no effect if the file is already closed.\n",
      "\n"
     ]
    }
   ],
   "source": [
    "# close()\n",
    "help(test_file.close)\n"
   ]
  },
  {
   "cell_type": "code",
   "execution_count": 67,
   "metadata": {},
   "outputs": [],
   "source": [
    "test_file.close()"
   ]
  },
  {
   "cell_type": "markdown",
   "metadata": {},
   "source": [
    "<b>Open file and then Read file content using the `read` method</b>\n",
    "* by default all content is read (size = -1)\n",
    "* if set to a number other than -1, the number assigned to size is how many characters will be read"
   ]
  },
  {
   "cell_type": "code",
   "execution_count": 69,
   "metadata": {},
   "outputs": [
    {
     "name": "stdout",
     "output_type": "stream",
     "text": [
      "Help on built-in function read:\n",
      "\n",
      "read(size=-1, /) method of _io.TextIOWrapper instance\n",
      "    Read at most size characters from stream.\n",
      "\n",
      "    Read from underlying buffer until we have size characters or we hit EOF.\n",
      "    If size is negative or omitted, read until EOF.\n",
      "\n"
     ]
    }
   ],
   "source": [
    "help(test_file.read)"
   ]
  },
  {
   "cell_type": "code",
   "execution_count": 73,
   "metadata": {},
   "outputs": [
    {
     "name": "stdout",
     "output_type": "stream",
     "text": [
      "Hello! Writing some text.\n",
      "Writing another line (unfinished).Still writing on the second line.\n",
      "And starting the third. DONE on the third line.\n",
      "<class 'str'>\n"
     ]
    }
   ],
   "source": [
    "# open file and read file contents\n",
    "\n",
    "# do not try this for very large files \n",
    "# all file content will be set in a string\n",
    "\n",
    "test_file = open(\"test.txt\", \"r\")\n",
    "res = test_file.read()\n",
    "print(res)\n",
    "print(type(res))\n",
    "test_file.close()\n",
    "\n"
   ]
  },
  {
   "cell_type": "code",
   "execution_count": null,
   "metadata": {},
   "outputs": [],
   "source": []
  },
  {
   "cell_type": "markdown",
   "metadata": {},
   "source": [
    "<b>Read lines - use the `readlines` method to read all lines in a list</b>"
   ]
  },
  {
   "cell_type": "code",
   "execution_count": 81,
   "metadata": {},
   "outputs": [
    {
     "name": "stdout",
     "output_type": "stream",
     "text": [
      "['Hello! Writing some text.\\n', 'Writing another line (unfinished).Still writing on the second line.\\n', 'And starting the third. DONE on the third line.']\n",
      "<class 'list'>\n"
     ]
    }
   ],
   "source": [
    "# do not try this for very large files \n",
    "# each line will be a item in the list\n",
    "\n",
    "test_file = open(\"test.txt\", \"r\")\n",
    "res = test_file.readlines()\n",
    "print(res)\n",
    "print(type(res))\n",
    "test_file.close()"
   ]
  },
  {
   "cell_type": "code",
   "execution_count": 97,
   "metadata": {},
   "outputs": [
    {
     "name": "stdout",
     "output_type": "stream",
     "text": [
      "['Hello! Writing some text.\\n', 'Writing another line (unfinished).Still writing on the second line.\\n', 'And starting the third. DONE on the third line.']\n",
      "None\n"
     ]
    }
   ],
   "source": [
    "# same can be achieved with the list function\n",
    "\n",
    "# do not try this for very large files \n",
    "# each line will be a item in the list\n",
    "\n",
    "test_file = open(\"test.txt\", \"r\")\n",
    "print(list(test_file))\n",
    "print(test_file.close())"
   ]
  },
  {
   "cell_type": "code",
   "execution_count": null,
   "metadata": {},
   "outputs": [],
   "source": []
  },
  {
   "cell_type": "markdown",
   "metadata": {},
   "source": [
    "<b> The reading will continue from where it left off.</b>\n"
   ]
  },
  {
   "cell_type": "code",
   "execution_count": 101,
   "metadata": {},
   "outputs": [
    {
     "data": {
      "text/plain": [
       "''"
      ]
     },
     "execution_count": 101,
     "metadata": {},
     "output_type": "execute_result"
    }
   ],
   "source": [
    "test_file = open(\"test.txt\", \"r\")\n",
    "res1 = test_file.read() # this reads all\n",
    "test_file.read() # nothing left to read"
   ]
  },
  {
   "cell_type": "code",
   "execution_count": 103,
   "metadata": {},
   "outputs": [
    {
     "data": {
      "text/plain": [
       "'Hello! Writing some text.\\nWriting another line (unfinished).Still writing on the second line.\\nAnd starting the third. DONE on the third line.'"
      ]
     },
     "execution_count": 103,
     "metadata": {},
     "output_type": "execute_result"
    }
   ],
   "source": [
    "res1"
   ]
  },
  {
   "cell_type": "markdown",
   "metadata": {},
   "source": [
    "<b>Go at position - use the `seek` method - and start reading from there</b>"
   ]
  },
  {
   "cell_type": "code",
   "execution_count": 105,
   "metadata": {},
   "outputs": [
    {
     "name": "stdout",
     "output_type": "stream",
     "text": [
      "ting some text.\n",
      "\n"
     ]
    }
   ],
   "source": [
    "# seek\n",
    "test_file.seek(10)\n",
    "res = test_file.readline()\n",
    "print(res)"
   ]
  },
  {
   "cell_type": "markdown",
   "metadata": {},
   "source": [
    "<b>Return current position - use the `tell` method</b>"
   ]
  },
  {
   "cell_type": "code",
   "execution_count": 107,
   "metadata": {},
   "outputs": [
    {
     "name": "stdout",
     "output_type": "stream",
     "text": [
      "26\n"
     ]
    }
   ],
   "source": [
    "# tell - check current position\n",
    "print(test_file.tell())\n"
   ]
  },
  {
   "cell_type": "code",
   "execution_count": 109,
   "metadata": {},
   "outputs": [
    {
     "name": "stdout",
     "output_type": "stream",
     "text": [
      "Characters read: Writ\n"
     ]
    },
    {
     "data": {
      "text/plain": [
       "30"
      ]
     },
     "execution_count": 109,
     "metadata": {},
     "output_type": "execute_result"
    }
   ],
   "source": [
    "# read 4 more characters\n",
    "res = test_file.read(4)\n",
    "print(\"Characters read:\", res)\n",
    "\n",
    "# check current position again\n",
    "test_file.tell()"
   ]
  },
  {
   "cell_type": "code",
   "execution_count": 111,
   "metadata": {},
   "outputs": [],
   "source": [
    "# remember to close the file\n",
    "test_file.close()"
   ]
  },
  {
   "cell_type": "code",
   "execution_count": null,
   "metadata": {},
   "outputs": [],
   "source": []
  },
  {
   "cell_type": "markdown",
   "metadata": {},
   "source": [
    "### Context manager"
   ]
  },
  {
   "cell_type": "markdown",
   "metadata": {},
   "source": [
    "<b>with: give code context</b>"
   ]
  },
  {
   "cell_type": "markdown",
   "metadata": {},
   "source": [
    "The special part about with is when it is paired with file handling or database access functionality"
   ]
  },
  {
   "cell_type": "code",
   "execution_count": 117,
   "metadata": {},
   "outputs": [
    {
     "name": "stdout",
     "output_type": "stream",
     "text": [
      "Hello! Writing some text.\n",
      "Writing another line (unfinished).Still writing on the second line.\n",
      "And starting the third. DONE on the third line.\n"
     ]
    }
   ],
   "source": [
    "# Without with\n",
    "test_file = open(\"test.txt\",'r')\n",
    "print(test_file.read())\n",
    "# test_file.close()"
   ]
  },
  {
   "cell_type": "code",
   "execution_count": 119,
   "metadata": {},
   "outputs": [
    {
     "data": {
      "text/plain": [
       "False"
      ]
     },
     "execution_count": 119,
     "metadata": {},
     "output_type": "execute_result"
    }
   ],
   "source": [
    "test_file.closed"
   ]
  },
  {
   "cell_type": "code",
   "execution_count": 121,
   "metadata": {},
   "outputs": [
    {
     "name": "stdout",
     "output_type": "stream",
     "text": [
      "Hello! Writing some text.\n",
      "Writing another line (unfinished).Still writing on the second line.\n",
      "And starting the third. DONE on the third line.\n"
     ]
    }
   ],
   "source": [
    "# With with :)\n",
    "with open(\"test.txt\",'r') as test_file:\n",
    "    print(test_file.read())"
   ]
  },
  {
   "cell_type": "markdown",
   "metadata": {},
   "source": [
    "The file is opened and processed. <br>\n",
    "As soon as you exit the with statement, <b>the file is closed automatically</b>."
   ]
  },
  {
   "cell_type": "code",
   "execution_count": 123,
   "metadata": {},
   "outputs": [
    {
     "data": {
      "text/plain": [
       "True"
      ]
     },
     "execution_count": 123,
     "metadata": {},
     "output_type": "execute_result"
    }
   ],
   "source": [
    "test_file.closed"
   ]
  },
  {
   "cell_type": "markdown",
   "metadata": {
    "tags": []
   },
   "source": [
    "### <font color = \"red\">Exercise</font>:   \n",
    "\n",
    "Open a file `exercise1.txt` and add 10 lines in a for loop.   \n",
    "Each line should contain: the text Line and then a space and then the number (the number for the first line would be 1).    \n",
    "\n",
    "`exercise1.txt` should look like:      \n",
    "```\n",
    "Line 1       \n",
    "Line 2       \n",
    "Line 3       \n",
    "Line 4       \n",
    "Line 5       \n",
    "Line 6       \n",
    "Line 7       \n",
    "Line 8       \n",
    "Line 9      \n",
    "Line 10\n",
    "```"
   ]
  },
  {
   "cell_type": "code",
   "execution_count": 143,
   "metadata": {},
   "outputs": [
    {
     "name": "stdout",
     "output_type": "stream",
     "text": [
      "1\n",
      "2\n",
      "3\n",
      "4\n",
      "5\n",
      "6\n",
      "7\n",
      "8\n",
      "9\n",
      "10\n"
     ]
    }
   ],
   "source": [
    "file_name = \"exercise1.txt\"\n",
    "ex1_file = open(file_name, \"w\")\n",
    "n = 10\n",
    "for i in range(n):\n",
    "    print(i + 1)\n",
    "    ex1_file.write(\"Line \" + str(i+1) + \"\\n\")\n",
    "ex1_file.close()"
   ]
  },
  {
   "cell_type": "code",
   "execution_count": 145,
   "metadata": {},
   "outputs": [
    {
     "name": "stdout",
     "output_type": "stream",
     "text": [
      "1\n",
      "2\n",
      "3\n",
      "4\n",
      "5\n",
      "6\n",
      "7\n",
      "8\n",
      "9\n",
      "10\n"
     ]
    }
   ],
   "source": [
    "file_name = \"exercise1.txt\"\n",
    "ex1_file = open(file_name, \"w\")\n",
    "n = 10\n",
    "for i in range(n):\n",
    "    print(i + 1)\n",
    "    ex1_file.write(f\"Line {i+1}\\n\")\n",
    "ex1_file.close()"
   ]
  },
  {
   "cell_type": "code",
   "execution_count": null,
   "metadata": {},
   "outputs": [],
   "source": []
  },
  {
   "cell_type": "code",
   "execution_count": null,
   "metadata": {},
   "outputs": [],
   "source": []
  },
  {
   "cell_type": "markdown",
   "metadata": {
    "tags": []
   },
   "source": [
    "### <font color = \"red\">Exercise</font>:   \n",
    "\n",
    "Open the file `exercise1.txt` and read each line and take the index and change the index to `number` * 2 - 1. \n",
    "For each line, write \"This line is \" and the new `number` on a line in a new file `exercise2.txt`, then add a new line with a \"---\" text.\n",
    "\n",
    "`exercise2.txt` should look like:      \n",
    "\n",
    "\n",
    "This line is 1         \n",
    "`---           \n",
    "This line is 3           \n",
    "`---            \n",
    "This line is 5                \n",
    "`---      \n",
    "This line is 7          \n",
    "`---      \n",
    "This line is 9      \n",
    "`---      \n",
    "This line is 11         \n",
    "`---      \n",
    "This line is 13         \n",
    "`---      \n",
    "This line is 15         \n",
    "`---      \n",
    "This line is 17         \n",
    "`---      \n",
    "This line is 19        \n",
    "`---      \n"
   ]
  },
  {
   "cell_type": "code",
   "execution_count": 179,
   "metadata": {},
   "outputs": [
    {
     "name": "stdout",
     "output_type": "stream",
     "text": [
      "<class 'str'>\n",
      "<class 'str'>\n",
      "<class 'str'>\n",
      "<class 'str'>\n",
      "<class 'str'>\n",
      "<class 'str'>\n",
      "<class 'str'>\n",
      "<class 'str'>\n",
      "<class 'str'>\n",
      "<class 'str'>\n"
     ]
    }
   ],
   "source": [
    "ex1file_name = \"exercise1.txt\"\n",
    "ex1_file = open(ex1file_name)\n",
    "for line in ex1_file:\n",
    "    line_lst = line.strip().split(\" \")\n",
    "    number = line_lst[1]\n",
    "    print(type(number))\n"
   ]
  },
  {
   "cell_type": "code",
   "execution_count": 202,
   "metadata": {},
   "outputs": [
    {
     "name": "stdout",
     "output_type": "stream",
     "text": [
      "This line is 1\n",
      "---\n",
      "This line is 3\n",
      "---\n",
      "This line is 5\n",
      "---\n",
      "This line is 7\n",
      "---\n",
      "This line is 9\n",
      "---\n",
      "This line is 11\n",
      "---\n",
      "This line is 13\n",
      "---\n",
      "This line is 15\n",
      "---\n",
      "This line is 17\n",
      "---\n",
      "This line is 19\n",
      "---\n"
     ]
    }
   ],
   "source": [
    "ex1file_name = \"exercise1.txt\"\n",
    "ex1_file = open(ex1file_name)\n",
    "for line in ex1_file:\n",
    "    line_lst = line.strip().split(\" \")\n",
    "    number_text = line_lst[1]\n",
    "    # print(type(number))\n",
    "    new_number = 2 * int(number_text) - 1\n",
    "    print(\"This line is \" + str(new_number) + \"\\n\", end = \"\")\n",
    "    print(\"---\\n\", end = \"\")"
   ]
  },
  {
   "cell_type": "code",
   "execution_count": 204,
   "metadata": {},
   "outputs": [],
   "source": [
    "ex1file_name = \"exercise1.txt\"\n",
    "ex2file_name = \"exercise2.txt\"\n",
    "\n",
    "ex1_file = open(ex1file_name)\n",
    "ex2_file = open(ex2file_name, \"w\")\n",
    "\n",
    "\n",
    "for line in ex1_file:\n",
    "    line_lst = line.strip().split(\" \")\n",
    "    number_text = line_lst[1]\n",
    "    # print(type(number))\n",
    "    new_number = 2 * int(number_text) - 1\n",
    "    ex2_file.write(\"This line is \" + str(new_number) + \"\\n\")\n",
    "    ex2_file.write(\"---\\n\")\n",
    "\n",
    "ex2_file.close()\n",
    "ex1_file.close()"
   ]
  },
  {
   "cell_type": "code",
   "execution_count": null,
   "metadata": {},
   "outputs": [],
   "source": []
  },
  {
   "cell_type": "markdown",
   "metadata": {},
   "source": [
    "#### Using a function to process file lines\n"
   ]
  },
  {
   "cell_type": "code",
   "execution_count": 208,
   "metadata": {},
   "outputs": [
    {
     "name": "stdout",
     "output_type": "stream",
     "text": [
      "['Hello!', 'Writing', 'some', 'text.']\n",
      "['Writing', 'another', 'line', '(unfinished).Still', 'writing', 'on', 'the', 'second', 'line.']\n",
      "['And', 'starting', 'the', 'third.', 'DONE', 'on', 'the', 'third', 'line.']\n"
     ]
    }
   ],
   "source": [
    "# parsing files\n",
    "def parse_line(line):\n",
    "    return line.strip().split(\" \")\n",
    "\n",
    "with open(\"test.txt\",'r') as test_file:\n",
    "    line = test_file.readline()\n",
    "    while (line != \"\"):\n",
    "        print(parse_line(line))\n",
    "        line = test_file.readline()"
   ]
  },
  {
   "cell_type": "code",
   "execution_count": 210,
   "metadata": {},
   "outputs": [
    {
     "name": "stdout",
     "output_type": "stream",
     "text": [
      "['Hello!', 'Writing', 'some', 'text.']\n",
      "['Writing', 'another', 'line', '(unfinished).Still', 'writing', 'on', 'the', 'second', 'line.']\n",
      "['And', 'starting', 'the', 'third.', 'DONE', 'on', 'the', 'third', 'line.']\n"
     ]
    }
   ],
   "source": [
    "def process_line(line):\n",
    "    return line.strip().split(\" \")\n",
    "\n",
    "with open(\"test.txt\",'r') as test_file:\n",
    "    for line in test_file:\n",
    "        res = process_line(line)\n",
    "        print(res)"
   ]
  },
  {
   "cell_type": "code",
   "execution_count": null,
   "metadata": {},
   "outputs": [],
   "source": []
  },
  {
   "cell_type": "markdown",
   "metadata": {},
   "source": [
    "https://www.tutorialspoint.com/python/python_files_io.htm\n",
    "https://www.tutorialspoint.com/python/file_methods.htm"
   ]
  }
 ],
 "metadata": {
  "kernelspec": {
   "display_name": "Python 3 (ipykernel)",
   "language": "python",
   "name": "python3"
  },
  "language_info": {
   "codemirror_mode": {
    "name": "ipython",
    "version": 3
   },
   "file_extension": ".py",
   "mimetype": "text/x-python",
   "name": "python",
   "nbconvert_exporter": "python",
   "pygments_lexer": "ipython3",
   "version": "3.12.2"
  }
 },
 "nbformat": 4,
 "nbformat_minor": 4
}
