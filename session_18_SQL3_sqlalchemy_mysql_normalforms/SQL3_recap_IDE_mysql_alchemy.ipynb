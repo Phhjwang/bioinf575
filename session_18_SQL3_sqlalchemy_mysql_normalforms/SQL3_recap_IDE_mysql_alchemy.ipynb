{
 "cells": [
  {
   "cell_type": "markdown",
   "metadata": {},
   "source": [
    "## SQL - Major SQL commands - sqlite recap and DBeaver and mysql\n",
    "### BIOINF 575"
   ]
  },
  {
   "cell_type": "markdown",
   "metadata": {
    "tags": []
   },
   "source": [
    "#### Guidelines for database design:\n",
    "\n",
    "* Normalization is the process of creating or re-arranging data relationships so that it will be easy to store and retrieve data efficiently.  Data is normalized to achieve the following goals: \n",
    "    * Eliminate data redundancies and save space \n",
    "    * Make it easier to change data \n",
    "    * Simplify the enforcement of referential integrity constraints \n",
    "    * Produce a design that is a 'good' representation of the real world (one that is intuitively easy to understand and a good base for further growth)\n",
    "\n",
    "    * Make it easier to change data by avoiding to provide multiple values separated by commas in a column\n",
    "    * All columns in a table should depend on the primary key, all extra related information should be in other tables linked by foreign keys\n",
    "\n",
    "https://support.microsoft.com/en-us/help/283878/description-of-the-database-normalization-basics"
   ]
  },
  {
   "cell_type": "markdown",
   "metadata": {},
   "source": [
    "##### RESOURCES\n",
    "https://dev.mysql.com/doc/refman/8.0/en/         \n",
    "https://www.w3schools.com/mysql/mysql_create_table.asp          \n",
    "https://www.mysqltutorial.org/mysql-sample-database.aspx       \n",
    "https://www.tutorialspoint.com/mysql/index.htm    \n",
    "https://realpython.com/python-mysql/\n",
    "\n",
    "\n"
   ]
  },
  {
   "cell_type": "markdown",
   "metadata": {},
   "source": [
    "https://dev.mysql.com/doc/refman/8.0/en/examples.html\n",
    "\n",
    "#### Connect to the database\n",
    "\n",
    "```mysql your-database-name```\n",
    "\n",
    "#### Create a table and add data, then select data from the table\n",
    "\n",
    "```sql\n",
    "CREATE TABLE shop (\n",
    "    article INT UNSIGNED  DEFAULT '0000' NOT NULL,\n",
    "    dealer  CHAR(20)      DEFAULT ''     NOT NULL,\n",
    "    price   DECIMAL(16,2) DEFAULT '0.00' NOT NULL,\n",
    "    PRIMARY KEY(article, dealer));\n",
    "\n",
    "INSERT INTO shop VALUES\n",
    "    (1,'A',3.45),(1,'B',3.99),(2,'A',10.99),(3,'B',1.45),\n",
    "    (3,'C',1.69),(3,'D',1.25),(4,'D',19.95);\n",
    "    \n",
    "SELECT * FROM shop ORDER BY article;\n",
    "\n",
    "```\n",
    "\n",
    "\n",
    "| article   | dealer   | price   |\n",
    "| --------- |--------  | ------- |\n",
    "|       1   | A        |  3.45   |\n",
    "|       1   | B        |  3.99   |\n",
    "|       2   | A        | 10.99   |\n",
    "|       3   | B        |  1.45   |\n",
    "|       3   | C        |  1.69   |\n",
    "|       3   | D        |  1.25   |\n",
    "|       4   | D        | 19.95   |\n",
    "\n",
    "#### Examples of common querries\n",
    "\n",
    "https://dev.mysql.com/doc/refman/8.0/en/examples.html"
   ]
  },
  {
   "cell_type": "code",
   "execution_count": 5,
   "metadata": {},
   "outputs": [
    {
     "name": "stdout",
     "output_type": "stream",
     "text": [
      "Requirement already satisfied: pymysql in /opt/anaconda3/lib/python3.12/site-packages (1.1.1)\n"
     ]
    }
   ],
   "source": [
    "### install pymysql using the following command in a terminal:\n",
    "! pip install pymysql"
   ]
  },
  {
   "cell_type": "code",
   "execution_count": 6,
   "metadata": {},
   "outputs": [],
   "source": [
    "from pymysql import connect\n"
   ]
  },
  {
   "cell_type": "code",
   "execution_count": 7,
   "metadata": {},
   "outputs": [],
   "source": [
    "from pymysql import connect\n",
    "\n",
    "#Create a connection object\n",
    "conn =connect(host='ensembldb.ensembl.org', user='anonymous',  port=5306, db = \"saccharomyces_cerevisiae_core_94_4\")\n"
   ]
  },
  {
   "cell_type": "code",
   "execution_count": 8,
   "metadata": {
    "tags": []
   },
   "outputs": [
    {
     "name": "stdout",
     "output_type": "stream",
     "text": [
      "alt_allele\n",
      "alt_allele_attrib\n",
      "alt_allele_group\n",
      "analysis\n",
      "analysis_description\n",
      "assembly\n",
      "assembly_exception\n",
      "associated_group\n",
      "associated_xref\n",
      "attrib_type\n",
      "biotype\n",
      "coord_system\n",
      "data_file\n",
      "density_feature\n",
      "density_type\n",
      "dependent_xref\n",
      "ditag\n",
      "ditag_feature\n",
      "dna\n",
      "dna_align_feature\n",
      "dna_align_feature_attrib\n",
      "exon\n",
      "exon_transcript\n",
      "external_db\n",
      "external_synonym\n",
      "gene\n",
      "gene_archive\n",
      "gene_attrib\n",
      "genome_statistics\n",
      "identity_xref\n",
      "interpro\n",
      "intron_supporting_evidence\n",
      "karyotype\n",
      "map\n",
      "mapping_session\n",
      "mapping_set\n",
      "marker\n",
      "marker_feature\n",
      "marker_map_location\n",
      "marker_synonym\n",
      "meta\n",
      "meta_coord\n",
      "misc_attrib\n",
      "misc_feature\n",
      "misc_feature_misc_set\n",
      "misc_set\n",
      "object_xref\n",
      "ontology_xref\n",
      "operon\n",
      "operon_transcript\n",
      "operon_transcript_gene\n",
      "peptide_archive\n",
      "prediction_exon\n",
      "prediction_transcript\n",
      "protein_align_feature\n",
      "protein_feature\n",
      "repeat_consensus\n",
      "repeat_feature\n",
      "seq_region\n",
      "seq_region_attrib\n",
      "seq_region_mapping\n",
      "seq_region_synonym\n",
      "simple_feature\n",
      "stable_id_event\n",
      "supporting_feature\n",
      "transcript\n",
      "transcript_attrib\n",
      "transcript_intron_supporting_evidence\n",
      "transcript_supporting_feature\n",
      "translation\n",
      "translation_attrib\n",
      "unmapped_object\n",
      "unmapped_reason\n",
      "xref\n"
     ]
    }
   ],
   "source": [
    "# May need a password: password = 'password'\n",
    "# Can request specific database: db = 'database'\n",
    "# Get a cursor – it sends SQL statements and receives responses\n",
    "cursor = conn.cursor()\n",
    "sql = \"show tables\"\n",
    "cursor.execute(sql)\n",
    "for (table_name,) in cursor: \n",
    "    print(table_name) \n",
    "\n",
    "#Do your queries, work with responses\n",
    "\n"
   ]
  },
  {
   "cell_type": "code",
   "execution_count": 9,
   "metadata": {
    "tags": []
   },
   "outputs": [
    {
     "data": {
      "text/html": [
       "<div>\n",
       "<style scoped>\n",
       "    .dataframe tbody tr th:only-of-type {\n",
       "        vertical-align: middle;\n",
       "    }\n",
       "\n",
       "    .dataframe tbody tr th {\n",
       "        vertical-align: top;\n",
       "    }\n",
       "\n",
       "    .dataframe thead th {\n",
       "        text-align: right;\n",
       "    }\n",
       "</style>\n",
       "<table border=\"1\" class=\"dataframe\">\n",
       "  <thead>\n",
       "    <tr style=\"text-align: right;\">\n",
       "      <th></th>\n",
       "      <th>gene_id</th>\n",
       "      <th>biotype</th>\n",
       "      <th>analysis_id</th>\n",
       "      <th>seq_region_id</th>\n",
       "      <th>seq_region_start</th>\n",
       "      <th>seq_region_end</th>\n",
       "      <th>seq_region_strand</th>\n",
       "      <th>display_xref_id</th>\n",
       "      <th>source</th>\n",
       "      <th>description</th>\n",
       "      <th>is_current</th>\n",
       "      <th>canonical_transcript_id</th>\n",
       "      <th>stable_id</th>\n",
       "      <th>version</th>\n",
       "      <th>created_date</th>\n",
       "      <th>modified_date</th>\n",
       "    </tr>\n",
       "  </thead>\n",
       "  <tbody>\n",
       "    <tr>\n",
       "      <th>0</th>\n",
       "      <td>35593</td>\n",
       "      <td>protein_coding</td>\n",
       "      <td>501</td>\n",
       "      <td>28</td>\n",
       "      <td>289445</td>\n",
       "      <td>290350</td>\n",
       "      <td>1</td>\n",
       "      <td>None</td>\n",
       "      <td>sgd</td>\n",
       "      <td>None</td>\n",
       "      <td>1</td>\n",
       "      <td>35593</td>\n",
       "      <td>YBR024W</td>\n",
       "      <td>None</td>\n",
       "      <td>2018-03-28 09:28:05</td>\n",
       "      <td>2018-03-28 09:28:05</td>\n",
       "    </tr>\n",
       "    <tr>\n",
       "      <th>1</th>\n",
       "      <td>35592</td>\n",
       "      <td>protein_coding</td>\n",
       "      <td>501</td>\n",
       "      <td>21</td>\n",
       "      <td>11657</td>\n",
       "      <td>13360</td>\n",
       "      <td>-1</td>\n",
       "      <td>None</td>\n",
       "      <td>sgd</td>\n",
       "      <td>None</td>\n",
       "      <td>1</td>\n",
       "      <td>35592</td>\n",
       "      <td>YDL245C</td>\n",
       "      <td>None</td>\n",
       "      <td>2018-03-28 09:28:05</td>\n",
       "      <td>2018-03-28 09:28:05</td>\n",
       "    </tr>\n",
       "    <tr>\n",
       "      <th>2</th>\n",
       "      <td>35591</td>\n",
       "      <td>protein_coding</td>\n",
       "      <td>501</td>\n",
       "      <td>28</td>\n",
       "      <td>683373</td>\n",
       "      <td>683732</td>\n",
       "      <td>-1</td>\n",
       "      <td>None</td>\n",
       "      <td>sgd</td>\n",
       "      <td>None</td>\n",
       "      <td>1</td>\n",
       "      <td>35591</td>\n",
       "      <td>YBR232C</td>\n",
       "      <td>None</td>\n",
       "      <td>2018-03-28 09:28:05</td>\n",
       "      <td>2018-03-28 09:28:05</td>\n",
       "    </tr>\n",
       "    <tr>\n",
       "      <th>3</th>\n",
       "      <td>35590</td>\n",
       "      <td>protein_coding</td>\n",
       "      <td>501</td>\n",
       "      <td>21</td>\n",
       "      <td>1108484</td>\n",
       "      <td>1108621</td>\n",
       "      <td>1</td>\n",
       "      <td>None</td>\n",
       "      <td>sgd</td>\n",
       "      <td>None</td>\n",
       "      <td>1</td>\n",
       "      <td>35590</td>\n",
       "      <td>YDR320W-B</td>\n",
       "      <td>None</td>\n",
       "      <td>2018-03-28 09:28:05</td>\n",
       "      <td>2018-03-28 09:28:05</td>\n",
       "    </tr>\n",
       "    <tr>\n",
       "      <th>4</th>\n",
       "      <td>35589</td>\n",
       "      <td>protein_coding</td>\n",
       "      <td>501</td>\n",
       "      <td>28</td>\n",
       "      <td>281443</td>\n",
       "      <td>283344</td>\n",
       "      <td>1</td>\n",
       "      <td>None</td>\n",
       "      <td>sgd</td>\n",
       "      <td>None</td>\n",
       "      <td>1</td>\n",
       "      <td>35589</td>\n",
       "      <td>YBR021W</td>\n",
       "      <td>None</td>\n",
       "      <td>2018-03-28 09:28:05</td>\n",
       "      <td>2018-03-28 09:28:05</td>\n",
       "    </tr>\n",
       "  </tbody>\n",
       "</table>\n",
       "</div>"
      ],
      "text/plain": [
       "   gene_id         biotype  analysis_id  seq_region_id  seq_region_start  \\\n",
       "0    35593  protein_coding          501             28            289445   \n",
       "1    35592  protein_coding          501             21             11657   \n",
       "2    35591  protein_coding          501             28            683373   \n",
       "3    35590  protein_coding          501             21           1108484   \n",
       "4    35589  protein_coding          501             28            281443   \n",
       "\n",
       "   seq_region_end  seq_region_strand display_xref_id source description  \\\n",
       "0          290350                  1            None    sgd        None   \n",
       "1           13360                 -1            None    sgd        None   \n",
       "2          683732                 -1            None    sgd        None   \n",
       "3         1108621                  1            None    sgd        None   \n",
       "4          283344                  1            None    sgd        None   \n",
       "\n",
       "   is_current  canonical_transcript_id  stable_id version        created_date  \\\n",
       "0           1                    35593    YBR024W    None 2018-03-28 09:28:05   \n",
       "1           1                    35592    YDL245C    None 2018-03-28 09:28:05   \n",
       "2           1                    35591    YBR232C    None 2018-03-28 09:28:05   \n",
       "3           1                    35590  YDR320W-B    None 2018-03-28 09:28:05   \n",
       "4           1                    35589    YBR021W    None 2018-03-28 09:28:05   \n",
       "\n",
       "        modified_date  \n",
       "0 2018-03-28 09:28:05  \n",
       "1 2018-03-28 09:28:05  \n",
       "2 2018-03-28 09:28:05  \n",
       "3 2018-03-28 09:28:05  \n",
       "4 2018-03-28 09:28:05  "
      ]
     },
     "execution_count": 9,
     "metadata": {},
     "output_type": "execute_result"
    }
   ],
   "source": [
    "import pandas as pd\n",
    "select_genes = \"\"\"\n",
    "SELECT * \n",
    "FROM gene\n",
    "LIMIT 5;\n",
    "\"\"\"\n",
    "\n",
    "cursor.execute(select_genes)\n",
    "header = [t[0] for t in cursor.description]\n",
    "df = pd.DataFrame(cursor.fetchall(), columns = header)\n",
    "df"
   ]
  },
  {
   "cell_type": "code",
   "execution_count": 10,
   "metadata": {
    "tags": []
   },
   "outputs": [
    {
     "data": {
      "text/plain": [
       "(('gene_id', 3, None, 10, 10, 0, False),\n",
       " ('biotype', 253, None, 160, 160, 0, False),\n",
       " ('analysis_id', 2, None, 5, 5, 0, False),\n",
       " ('seq_region_id', 3, None, 10, 10, 0, False),\n",
       " ('seq_region_start', 3, None, 10, 10, 0, False),\n",
       " ('seq_region_end', 3, None, 10, 10, 0, False),\n",
       " ('seq_region_strand', 1, None, 2, 2, 0, False),\n",
       " ('display_xref_id', 3, None, 10, 10, 0, True),\n",
       " ('source', 253, None, 160, 160, 0, False),\n",
       " ('description', 252, None, 262140, 262140, 0, True),\n",
       " ('is_current', 1, None, 1, 1, 0, False),\n",
       " ('canonical_transcript_id', 3, None, 10, 10, 0, False),\n",
       " ('stable_id', 253, None, 512, 512, 0, True),\n",
       " ('version', 2, None, 5, 5, 0, True),\n",
       " ('created_date', 12, None, 19, 19, 0, True),\n",
       " ('modified_date', 12, None, 19, 19, 0, True))"
      ]
     },
     "execution_count": 10,
     "metadata": {},
     "output_type": "execute_result"
    }
   ],
   "source": [
    "cursor.description"
   ]
  },
  {
   "cell_type": "code",
   "execution_count": 11,
   "metadata": {
    "tags": []
   },
   "outputs": [
    {
     "data": {
      "text/plain": [
       "((35593, 'protein_coding', 1),\n",
       " (35592, 'protein_coding', 1),\n",
       " (35591, 'protein_coding', 1),\n",
       " (35590, 'protein_coding', 1),\n",
       " (35589, 'protein_coding', 1),\n",
       " (35588, 'protein_coding', 1),\n",
       " (35586, 'tRNA', 1),\n",
       " (35587, 'protein_coding', 1),\n",
       " (35585, 'protein_coding', 1),\n",
       " (35584, 'protein_coding', 1),\n",
       " (35583, 'protein_coding', 1),\n",
       " (35578, 'protein_coding', 1),\n",
       " (35582, 'protein_coding', 1),\n",
       " (35581, 'protein_coding', 1),\n",
       " (35580, 'protein_coding', 1),\n",
       " (35579, 'protein_coding', 1),\n",
       " (35577, 'protein_coding', 1),\n",
       " (35576, 'protein_coding', 1),\n",
       " (35575, 'protein_coding', 1),\n",
       " (35574, 'protein_coding', 1))"
      ]
     },
     "execution_count": 11,
     "metadata": {},
     "output_type": "execute_result"
    }
   ],
   "source": [
    "select_genes = \"\"\"\n",
    "SELECT gene_id, biotype, is_current\n",
    "FROM gene\n",
    "LIMIT 20;\n",
    "\"\"\"\n",
    "\n",
    "cursor.execute(select_genes)\n",
    "cursor.fetchall()"
   ]
  },
  {
   "cell_type": "code",
   "execution_count": 12,
   "metadata": {},
   "outputs": [
    {
     "data": {
      "text/plain": [
       "(('gene_id', 3, None, 10, 10, 0, False),\n",
       " ('biotype', 253, None, 160, 160, 0, False),\n",
       " ('is_current', 1, None, 1, 1, 0, False))"
      ]
     },
     "execution_count": 12,
     "metadata": {},
     "output_type": "execute_result"
    }
   ],
   "source": [
    "cursor.description"
   ]
  },
  {
   "cell_type": "code",
   "execution_count": 13,
   "metadata": {
    "tags": []
   },
   "outputs": [
    {
     "data": {
      "text/plain": [
       "((1, 'BK006935.2', 1, 230218),\n",
       " (2, 'BK006936.2', 1, 813184),\n",
       " (3, 'BK006937.2', 1, 316620),\n",
       " (4, 'BK006938.2', 1, 1531933),\n",
       " (5, 'BK006939.2', 1, 576874),\n",
       " (6, 'BK006940.2', 1, 270161),\n",
       " (7, 'BK006941.2', 1, 1090940),\n",
       " (8, 'BK006934.2', 1, 562643),\n",
       " (9, 'BK006942.2', 1, 439888),\n",
       " (10, 'BK006943.2', 1, 745751),\n",
       " (11, 'BK006944.2', 1, 666816),\n",
       " (12, 'BK006945.2', 1, 1078177),\n",
       " (13, 'BK006946.2', 1, 924431),\n",
       " (14, 'BK006947.3', 1, 784333),\n",
       " (15, 'BK006948.2', 1, 1091291),\n",
       " (16, 'BK006949.2', 1, 948066),\n",
       " (17, 'AJ011856.1', 1, 85779),\n",
       " (19, 'XI', 2, 666816),\n",
       " (20, 'IX', 2, 439888),\n",
       " (21, 'IV', 2, 1531933))"
      ]
     },
     "execution_count": 13,
     "metadata": {},
     "output_type": "execute_result"
    }
   ],
   "source": [
    "select_dnaseq = \"\"\"\n",
    "SELECT * \n",
    "FROM seq_region\n",
    "LIMIT 20;\n",
    "\"\"\"\n",
    "\n",
    "cursor.execute(select_dnaseq)\n",
    "cursor.fetchall()"
   ]
  },
  {
   "cell_type": "code",
   "execution_count": 14,
   "metadata": {},
   "outputs": [
    {
     "data": {
      "text/plain": [
       "(('seq_region_id', 3, None, 10, 10, 0, False),\n",
       " ('name', 253, None, 1020, 1020, 0, False),\n",
       " ('coord_system_id', 3, None, 10, 10, 0, False),\n",
       " ('length', 3, None, 10, 10, 0, False))"
      ]
     },
     "execution_count": 14,
     "metadata": {},
     "output_type": "execute_result"
    }
   ],
   "source": [
    "cursor.description"
   ]
  },
  {
   "cell_type": "code",
   "execution_count": 15,
   "metadata": {},
   "outputs": [
    {
     "data": {
      "text/plain": [
       "((1, 33, 'BK006935.2', 50710),\n",
       " (2, 28, 'BK006936.2', 50710),\n",
       " (3, 22, 'BK006937.2', 50710),\n",
       " (4, 21, 'BK006938.2', 50710),\n",
       " (5, 27, 'BK006939.2', 50710),\n",
       " (6, 26, 'BK006940.2', 50710),\n",
       " (7, 35, 'BK006941.2', 50710),\n",
       " (8, 25, 'BK006934.2', 50710),\n",
       " (9, 20, 'BK006942.2', 50710),\n",
       " (10, 23, 'BK006943.2', 50710),\n",
       " (11, 19, 'BK006944.2', 50710),\n",
       " (12, 24, 'BK006945.2', 50710),\n",
       " (13, 30, 'BK006946.2', 50710),\n",
       " (14, 29, 'BK006947.3', 50710),\n",
       " (15, 32, 'BK006948.2', 50710),\n",
       " (16, 31, 'BK006949.2', 50710),\n",
       " (17, 34, 'AJ011856.1', 50710))"
      ]
     },
     "execution_count": 15,
     "metadata": {},
     "output_type": "execute_result"
    }
   ],
   "source": [
    "select_dnaseq_syn = \"\"\"\n",
    "SELECT * \n",
    "FROM seq_region_synonym\n",
    "LIMIT 20;\n",
    "\"\"\"\n",
    "\n",
    "cursor.execute(select_dnaseq_syn)\n",
    "cursor.fetchall()"
   ]
  },
  {
   "cell_type": "code",
   "execution_count": 16,
   "metadata": {},
   "outputs": [
    {
     "data": {
      "text/plain": [
       "(('seq_region_synonym_id', 3, None, 10, 10, 0, False),\n",
       " ('seq_region_id', 3, None, 10, 10, 0, False),\n",
       " ('synonym', 253, None, 1000, 1000, 0, False),\n",
       " ('external_db_id', 3, None, 10, 10, 0, True))"
      ]
     },
     "execution_count": 16,
     "metadata": {},
     "output_type": "execute_result"
    }
   ],
   "source": [
    "cursor.description"
   ]
  },
  {
   "cell_type": "code",
   "execution_count": 20,
   "metadata": {},
   "outputs": [],
   "source": [
    "# Clean up - do this when done with the database\n",
    "cursor.close()\n",
    "conn.close()"
   ]
  },
  {
   "cell_type": "code",
   "execution_count": null,
   "metadata": {},
   "outputs": [],
   "source": []
  },
  {
   "cell_type": "markdown",
   "metadata": {},
   "source": [
    "### Using custom objects together with SQL\n",
    "### sqlalchemy\n",
    "\n",
    "#### We will follow the tutorial here:\n",
    "\n",
    "https://www.sqlalchemy.org/library.html#talks\n",
    "\n",
    "https://github.com/zzzeek/sqla_tutorial/blob/main/slides/04_orm_basic.py\n",
    "\n",
    "Another resource:    \n",
    "https://docs.sqlalchemy.org/en/14/orm/tutorial.html#version-check"
   ]
  },
  {
   "cell_type": "code",
   "execution_count": 22,
   "metadata": {},
   "outputs": [
    {
     "name": "stdout",
     "output_type": "stream",
     "text": [
      "Requirement already satisfied: SQLAlchemy in /opt/anaconda3/lib/python3.12/site-packages (2.0.30)\n",
      "Requirement already satisfied: typing-extensions>=4.6.0 in /opt/anaconda3/lib/python3.12/site-packages (from SQLAlchemy) (4.11.0)\n"
     ]
    }
   ],
   "source": [
    "! pip install SQLAlchemy"
   ]
  },
  {
   "cell_type": "code",
   "execution_count": 90,
   "metadata": {},
   "outputs": [],
   "source": [
    "import sqlalchemy"
   ]
  },
  {
   "cell_type": "code",
   "execution_count": 92,
   "metadata": {},
   "outputs": [
    {
     "data": {
      "text/plain": [
       "'2.0.30'"
      ]
     },
     "execution_count": 92,
     "metadata": {},
     "output_type": "execute_result"
    }
   ],
   "source": [
    "sqlalchemy.__version__ "
   ]
  },
  {
   "cell_type": "code",
   "execution_count": 94,
   "metadata": {},
   "outputs": [],
   "source": [
    "# code from:\n",
    "# https://www.sqlalchemy.org/library.html#talks\n",
    "# https://github.com/zzzeek/sqla_tutorial/blob/main/slides/04_orm_basic.py"
   ]
  },
  {
   "cell_type": "code",
   "execution_count": 96,
   "metadata": {},
   "outputs": [
    {
     "data": {
      "text/plain": [
       "'None'"
      ]
     },
     "execution_count": 96,
     "metadata": {},
     "output_type": "execute_result"
    }
   ],
   "source": [
    "### slide::\n",
    "### title:: Object Relational Mapping\n",
    "# SQLAlchemy mappings in 1.4 / 2.0 start with a central object\n",
    "# known as the *registry*\n",
    "\n",
    "from sqlalchemy.orm import registry\n",
    "\n",
    "\n",
    "mapper_registry = registry()\n",
    "\n",
    "### slide::\n",
    "# Using the registry, we can map classes in various ways, below illustrated\n",
    "# using its \"mapped\" decorator.\n",
    "# In this form, we arrange class attributes in terms of Column objects\n",
    "# to be mapped to a Table, which is named based on an attribute\n",
    "# \"__tablename__\"\n",
    "\n",
    "from sqlalchemy import Column, Integer, String\n",
    "\n",
    "\n",
    "@mapper_registry.mapped\n",
    "class User:\n",
    "    __tablename__ = \"user_account\"\n",
    "\n",
    "    id = Column(Integer, primary_key=True)\n",
    "    username = Column(String)\n",
    "    fullname = Column(String)\n",
    "\n",
    "    def __repr__(self):\n",
    "        return \"<User(%r, %r)>\" % (self.username, self.fullname)\n",
    "\n",
    "\n",
    "### slide::\n",
    "# the User class now has a Table object associated with it.\n",
    "\n",
    "User.__table__\n",
    "\n",
    "### slide:: i\n",
    "# The Mapper object mediates the relationship between User\n",
    "# and the \"user\" Table object.  This mapper object is generally behind\n",
    "# the scenes.\n",
    "\n",
    "User.__mapper__\n",
    "\n",
    "### slide::\n",
    "# User has a default constructor, accepting field names\n",
    "# as arguments.\n",
    "\n",
    "spongebob = User(username=\"spongebob\", fullname=\"Spongebob Squarepants\")\n",
    "spongebob\n",
    "\n",
    "### slide::\n",
    "# Attributes which we didn't set, such as the \"id\", are displayed as\n",
    "# None when we access them\n",
    "\n",
    "repr(spongebob.id)\n"
   ]
  },
  {
   "cell_type": "code",
   "execution_count": 98,
   "metadata": {},
   "outputs": [
    {
     "data": {
      "text/plain": [
       "<User('spongebob', 'Spongebob Squarepants')>"
      ]
     },
     "execution_count": 98,
     "metadata": {},
     "output_type": "execute_result"
    }
   ],
   "source": [
    "spongebob"
   ]
  },
  {
   "cell_type": "code",
   "execution_count": 104,
   "metadata": {},
   "outputs": [],
   "source": [
    "### slide:: p\n",
    "# Using our registry, we can create a database schema for this class using\n",
    "# a MetaData object that is part of the registry.\n",
    "\n",
    "from sqlalchemy import create_engine\n",
    "\n",
    "engine = create_engine(\"sqlite:///test.sqlite\")\n",
    "with engine.begin() as connection:\n",
    "    mapper_registry.metadata.create_all(connection)\n",
    "\n",
    "### slide::\n",
    "# To persist and load User objects from the database, we\n",
    "# use a Session object, illustrated here from a factory called\n",
    "# sessionmaker.  The Session object makes use of a connection\n",
    "# factory (i.e. an Engine) and will handle the job of connecting,\n",
    "# committing, and releasing connections to this engine.\n",
    "\n",
    "from sqlalchemy.orm import sessionmaker\n",
    "\n",
    "Session = sessionmaker(bind=engine, future=True)\n",
    "\n",
    "session = Session()\n",
    "\n",
    "### slide::\n",
    "# new objects are placed into the Session using add().\n",
    "session.add(spongebob)\n",
    "\n"
   ]
  },
  {
   "cell_type": "code",
   "execution_count": 106,
   "metadata": {},
   "outputs": [
    {
     "data": {
      "text/plain": [
       "IdentitySet([<User('spongebob', 'Spongebob Squarepants')>])"
      ]
     },
     "execution_count": 106,
     "metadata": {},
     "output_type": "execute_result"
    }
   ],
   "source": [
    "### slide:: i\n",
    "# This did not yet modify the database, however the object is now known as\n",
    "# **pending**.  We can see the \"pending\" objects by looking at the session.new\n",
    "# attribute.\n",
    "session.new"
   ]
  },
  {
   "cell_type": "code",
   "execution_count": 108,
   "metadata": {},
   "outputs": [
    {
     "data": {
      "text/plain": [
       "<sqlalchemy.engine.result.ChunkedIteratorResult at 0x143626e50>"
      ]
     },
     "execution_count": 108,
     "metadata": {},
     "output_type": "execute_result"
    }
   ],
   "source": [
    "### slide:: p\n",
    "# We can now query for this **pending** row, by emitting a SELECT statement\n",
    "# that will refer to \"User\" entities.   This will first **autoflush**\n",
    "# the pending changes, then SELECT the row we requested.\n",
    "\n",
    "from sqlalchemy import select\n",
    "\n",
    "select_statement = select(User).filter_by(username=\"spongebob\")\n",
    "result = session.execute(select_statement)\n",
    "result"
   ]
  },
  {
   "cell_type": "code",
   "execution_count": 110,
   "metadata": {},
   "outputs": [
    {
     "data": {
      "text/plain": [
       "<User('spongebob', 'Spongebob Squarepants')>"
      ]
     },
     "execution_count": 110,
     "metadata": {},
     "output_type": "execute_result"
    }
   ],
   "source": [
    "\n",
    "### slide:: i\n",
    "# We can get the data back from the result, in this case using the\n",
    "# .scalar() method which will return the first column of the first row.\n",
    "also_spongebob = result.scalar()\n",
    "also_spongebob"
   ]
  },
  {
   "cell_type": "code",
   "execution_count": 112,
   "metadata": {},
   "outputs": [
    {
     "data": {
      "text/plain": [
       "1"
      ]
     },
     "execution_count": 112,
     "metadata": {},
     "output_type": "execute_result"
    }
   ],
   "source": [
    "\n",
    "### slide::\n",
    "# the User object we've inserted now has a value for \".id\"\n",
    "spongebob.id"
   ]
  },
  {
   "cell_type": "code",
   "execution_count": 114,
   "metadata": {},
   "outputs": [
    {
     "data": {
      "text/plain": [
       "True"
      ]
     },
     "execution_count": 114,
     "metadata": {},
     "output_type": "execute_result"
    }
   ],
   "source": [
    "### slide:: i\n",
    "# the Session maintains a *unique* object per identity.\n",
    "# so \"spongebob\" and \"also_spongebob\" are the *same* object\n",
    "\n",
    "spongebob is also_spongebob"
   ]
  },
  {
   "cell_type": "code",
   "execution_count": 116,
   "metadata": {},
   "outputs": [
    {
     "data": {
      "text/plain": [
       "[((__main__.User, (1,), None), <User('spongebob', 'Spongebob Squarepants')>)]"
      ]
     },
     "execution_count": 116,
     "metadata": {},
     "output_type": "execute_result"
    }
   ],
   "source": [
    "### slide:: i\n",
    "# this is known as the **identity map**, and we can look at it on\n",
    "# the Session.\n",
    "\n",
    "session.identity_map.items()"
   ]
  },
  {
   "cell_type": "code",
   "execution_count": 118,
   "metadata": {},
   "outputs": [],
   "source": [
    "### slide::\n",
    "### title:: Making Changes\n",
    "# Add more objects to be pending for flush.\n",
    "\n",
    "session.add_all(\n",
    "    [\n",
    "        User(username=\"patrick\", fullname=\"Patrick Star\"),\n",
    "        User(username=\"sandy\", fullname=\"Sandy Cheeks\"),\n",
    "    ]\n",
    ")"
   ]
  },
  {
   "cell_type": "code",
   "execution_count": 120,
   "metadata": {},
   "outputs": [
    {
     "data": {
      "text/plain": [
       "IdentitySet([<User('spongebob', 'Spongebob Jones')>])"
      ]
     },
     "execution_count": 120,
     "metadata": {},
     "output_type": "execute_result"
    }
   ],
   "source": [
    "\n",
    "\n",
    "### slide:: i\n",
    "# modify \"spongebob\" - the object is now marked as *dirty*.\n",
    "\n",
    "spongebob.fullname = \"Spongebob Jones\"\n",
    "\n",
    "### slide::\n",
    "# the Session can tell us which objects are dirty...\n",
    "\n",
    "session.dirty"
   ]
  },
  {
   "cell_type": "code",
   "execution_count": 122,
   "metadata": {},
   "outputs": [
    {
     "data": {
      "text/plain": [
       "IdentitySet([<User('patrick', 'Patrick Star')>, <User('sandy', 'Sandy Cheeks')>])"
      ]
     },
     "execution_count": 122,
     "metadata": {},
     "output_type": "execute_result"
    }
   ],
   "source": [
    "\n",
    "### slide:: i\n",
    "# and can also tell us which objects are pending...\n",
    "\n",
    "session.new"
   ]
  },
  {
   "cell_type": "code",
   "execution_count": 124,
   "metadata": {},
   "outputs": [],
   "source": [
    "### slide:: p i\n",
    "# The whole transaction is committed.  Commit always triggers\n",
    "# a final flush of remaining changes.\n",
    "\n",
    "session.commit()"
   ]
  },
  {
   "cell_type": "code",
   "execution_count": 126,
   "metadata": {},
   "outputs": [
    {
     "data": {
      "text/plain": [
       "'Spongebob Jones'"
      ]
     },
     "execution_count": 126,
     "metadata": {},
     "output_type": "execute_result"
    }
   ],
   "source": [
    "### slide:: p\n",
    "# After a commit, theres no transaction.  The Session\n",
    "# *invalidates* all data, so that accessing them will automatically\n",
    "# start a *new* transaction and re-load from the database.  This is\n",
    "# our first example of the ORM *lazy loading* pattern.\n",
    "\n",
    "spongebob.fullname"
   ]
  },
  {
   "cell_type": "code",
   "execution_count": 128,
   "metadata": {},
   "outputs": [],
   "source": [
    "### slide::\n",
    "### title:: rolling back changes\n",
    "# Make another \"dirty\" change, and another \"pending\" change,\n",
    "# that we might change our minds about.\n",
    "\n",
    "spongebob.username = \"Spongy\"\n",
    "fake_user = User(username=\"fakeuser\", fullname=\"Invalid\")\n",
    "session.add(fake_user)"
   ]
  },
  {
   "cell_type": "code",
   "execution_count": 130,
   "metadata": {},
   "outputs": [
    {
     "data": {
      "text/plain": [
       "[(<User('Spongy', 'Spongebob Jones')>,), (<User('fakeuser', 'Invalid')>,)]"
      ]
     },
     "execution_count": 130,
     "metadata": {},
     "output_type": "execute_result"
    }
   ],
   "source": [
    "### slide:: p\n",
    "# run a query, our changes are flushed; results come back.\n",
    "\n",
    "result = session.execute(\n",
    "    select(User).where(User.username.in_([\"Spongy\", \"fakeuser\"]))\n",
    ")\n",
    "result.all()"
   ]
  },
  {
   "cell_type": "code",
   "execution_count": 132,
   "metadata": {},
   "outputs": [],
   "source": [
    "\n",
    "### slide::\n",
    "# But we're inside of a transaction.  Roll it back.\n",
    "session.rollback()"
   ]
  },
  {
   "cell_type": "code",
   "execution_count": 134,
   "metadata": {},
   "outputs": [
    {
     "data": {
      "text/plain": [
       "'spongebob'"
      ]
     },
     "execution_count": 134,
     "metadata": {},
     "output_type": "execute_result"
    }
   ],
   "source": [
    "\n",
    "### slide:: p\n",
    "# Again, the transaction is over, objects are expired.\n",
    "# Accessing an attribute refreshes the object and the \"Spongy\" username is gone\n",
    "spongebob.username"
   ]
  },
  {
   "cell_type": "code",
   "execution_count": 136,
   "metadata": {},
   "outputs": [
    {
     "data": {
      "text/plain": [
       "False"
      ]
     },
     "execution_count": 136,
     "metadata": {},
     "output_type": "execute_result"
    }
   ],
   "source": [
    "\n",
    "### slide::\n",
    "# \"fake_user\" has been evicted from the session.\n",
    "fake_user in session"
   ]
  },
  {
   "cell_type": "code",
   "execution_count": 138,
   "metadata": {},
   "outputs": [
    {
     "data": {
      "text/plain": [
       "[(<User('spongebob', 'Spongebob Jones')>,)]"
      ]
     },
     "execution_count": 138,
     "metadata": {},
     "output_type": "execute_result"
    }
   ],
   "source": [
    "### slide:: pi\n",
    "# and the data is gone from the database too.\n",
    "\n",
    "result = session.execute(\n",
    "    select(User).where(User.username.in_([\"spongebob\", \"fakeuser\"]))\n",
    ")\n",
    "result.all()"
   ]
  },
  {
   "cell_type": "code",
   "execution_count": 140,
   "metadata": {},
   "outputs": [
    {
     "name": "stdout",
     "output_type": "stream",
     "text": [
      "user_account.username = :username_1\n"
     ]
    }
   ],
   "source": [
    "\n",
    "### slide::\n",
    "### title:: ORM Querying\n",
    "# The attributes on our mapped class act like Column objects, and\n",
    "# produce SQL expressions.\n",
    "\n",
    "print(User.username == \"spongebob\")\n"
   ]
  },
  {
   "cell_type": "code",
   "execution_count": 142,
   "metadata": {},
   "outputs": [
    {
     "name": "stdout",
     "output_type": "stream",
     "text": [
      "(<User('spongebob', 'Spongebob Jones')>,)\n"
     ]
    }
   ],
   "source": [
    "\n",
    "### slide::\n",
    "# When ORM-specific expressions are used with select(), the Select construct\n",
    "# itself takes on ORM-enabled features, the most basic of which is that\n",
    "# it can discern between selecting from *columns* vs *entities*.  Below,\n",
    "# the SELECT is to return rows that contain a single element, which would\n",
    "# be an instance of User.   This is translated from the actual SELECT\n",
    "# sent to the database that SELECTs for the individual columns of the\n",
    "# User entity.\n",
    "\n",
    "query = (\n",
    "    select(User).where(User.username == \"spongebob\").order_by(User.id)\n",
    ")\n",
    "\n",
    "### slide:: ip\n",
    "# the rows we get back from Session.execute() then contain User objects\n",
    "# as the first element in each row.\n",
    "result = session.execute(query)\n",
    "\n",
    "for row in result:\n",
    "    print(row)"
   ]
  },
  {
   "cell_type": "code",
   "execution_count": 144,
   "metadata": {},
   "outputs": [
    {
     "name": "stdout",
     "output_type": "stream",
     "text": [
      "<User('spongebob', 'Spongebob Jones')>\n",
      "<User('spongebob', 'Spongebob Jones')>\n"
     ]
    }
   ],
   "source": [
    "\n",
    "### slide:: p\n",
    "# As it is typically convenient for rows that only have a single element\n",
    "# to be delivered as the element alone, we can use the .scalars() method\n",
    "# of Result as we did earlier to return just the first column of each row\n",
    "\n",
    "result = session.execute(query)\n",
    "for user_obj in result.scalars():\n",
    "    print(user_obj)\n",
    "\n",
    "### slide:: pi\n",
    "# we can also qualify the rows we want to get back with methods like\n",
    "# .one()\n",
    "\n",
    "result = session.execute(query)\n",
    "\n",
    "user_obj = result.scalars().one()\n",
    "print(user_obj)"
   ]
  },
  {
   "cell_type": "code",
   "execution_count": 146,
   "metadata": {},
   "outputs": [
    {
     "name": "stdout",
     "output_type": "stream",
     "text": [
      "spongebob Spongebob Jones\n",
      "patrick Patrick Star\n",
      "sandy Sandy Cheeks\n",
      "1 Spongebob Jones spongebob\n",
      "2 Patrick Star patrick\n",
      "3 Sandy Cheeks sandy\n"
     ]
    }
   ],
   "source": [
    "\n",
    "### slide:: p\n",
    "# An ORM query can make use of any combination of columns and entities.\n",
    "# To request the fields of User separately, we name them separately in the\n",
    "# columns clause\n",
    "\n",
    "query = select(User.username, User.fullname)\n",
    "result = session.execute(query)\n",
    "for row in result:\n",
    "    print(f\"{row.username} {row.fullname}\")\n",
    "\n",
    "### slide:: p\n",
    "# as well as combinations of \"entities\" and columns\n",
    "query = select(User, User.username)\n",
    "result = session.execute(query)\n",
    "for row in result:\n",
    "    print(f\"{row.User.id} {row.User.fullname} {row.username}\")\n"
   ]
  },
  {
   "cell_type": "code",
   "execution_count": 148,
   "metadata": {},
   "outputs": [
    {
     "name": "stdout",
     "output_type": "stream",
     "text": [
      "spongebob\n",
      "<User('spongebob', 'Spongebob Jones')>\n"
     ]
    }
   ],
   "source": [
    "\n",
    "\n",
    "\n",
    "\n",
    "\n",
    "### slide:: p\n",
    "# the WHERE clause is either by filter_by(), which is convenient\n",
    "\n",
    "for (username, ) in session.execute(\n",
    "    select(User.username).filter_by(\n",
    "        fullname=\"Spongebob Jones\"\n",
    "    )\n",
    "):\n",
    "    print(username)\n",
    "\n",
    "### slide:: pi\n",
    "# or where() for more explicitness\n",
    "\n",
    "from sqlalchemy import or_\n",
    "\n",
    "for (user, ) in (\n",
    "    session.execute(\n",
    "        select(User)\n",
    "        .where(User.username == \"spongebob\")\n",
    "        .where(or_(User.fullname == \"Spongebob Jones\", User.id < 5))\n",
    "    )\n",
    "):\n",
    "    print(user)\n",
    "\n"
   ]
  },
  {
   "cell_type": "code",
   "execution_count": 150,
   "metadata": {},
   "outputs": [
    {
     "data": {
      "text/plain": [
       "\u001b[0;31mSignature:\u001b[0m \u001b[0msession\u001b[0m\u001b[0;34m.\u001b[0m\u001b[0mclose_all\u001b[0m\u001b[0;34m(\u001b[0m\u001b[0;34m)\u001b[0m \u001b[0;34m->\u001b[0m \u001b[0;34m'None'\u001b[0m\u001b[0;34m\u001b[0m\u001b[0;34m\u001b[0m\u001b[0m\n",
       "\u001b[0;31mDocstring:\u001b[0m\n",
       "Close *all* sessions in memory.\n",
       "\n",
       ".. deprecated:: 1.3 The :meth:`.Session.close_all` method is deprecated and will be removed in a future release.  Please refer to :func:`.session.close_all_sessions`.\n",
       "\u001b[0;31mFile:\u001b[0m      /opt/anaconda3/lib/python3.12/site-packages/sqlalchemy/orm/session.py\n",
       "\u001b[0;31mType:\u001b[0m      method"
      ]
     },
     "metadata": {},
     "output_type": "display_data"
    }
   ],
   "source": [
    "session.close_all?"
   ]
  },
  {
   "cell_type": "code",
   "execution_count": 152,
   "metadata": {},
   "outputs": [
    {
     "data": {
      "text/plain": [
       "\u001b[0;31mSignature:\u001b[0m \u001b[0msession\u001b[0m\u001b[0;34m.\u001b[0m\u001b[0mclose\u001b[0m\u001b[0;34m(\u001b[0m\u001b[0;34m)\u001b[0m \u001b[0;34m->\u001b[0m \u001b[0;34m'None'\u001b[0m\u001b[0;34m\u001b[0m\u001b[0;34m\u001b[0m\u001b[0m\n",
       "\u001b[0;31mDocstring:\u001b[0m\n",
       "Close out the transactional resources and ORM objects used by this\n",
       ":class:`_orm.Session`.\n",
       "\n",
       "This expunges all ORM objects associated with this\n",
       ":class:`_orm.Session`, ends any transaction in progress and\n",
       ":term:`releases` any :class:`_engine.Connection` objects which this\n",
       ":class:`_orm.Session` itself has checked out from associated\n",
       ":class:`_engine.Engine` objects. The operation then leaves the\n",
       ":class:`_orm.Session` in a state which it may be used again.\n",
       "\n",
       ".. tip::\n",
       "\n",
       "    In the default running mode the :meth:`_orm.Session.close`\n",
       "    method **does not prevent the Session from being used again**.\n",
       "    The :class:`_orm.Session` itself does not actually have a\n",
       "    distinct \"closed\" state; it merely means\n",
       "    the :class:`_orm.Session` will release all database connections\n",
       "    and ORM objects.\n",
       "\n",
       "    Setting the parameter :paramref:`_orm.Session.close_resets_only`\n",
       "    to ``False`` will instead make the ``close`` final, meaning that\n",
       "    any further action on the session will be forbidden.\n",
       "\n",
       ".. versionchanged:: 1.4  The :meth:`.Session.close` method does not\n",
       "   immediately create a new :class:`.SessionTransaction` object;\n",
       "   instead, the new :class:`.SessionTransaction` is created only if\n",
       "   the :class:`.Session` is used again for a database operation.\n",
       "\n",
       ".. seealso::\n",
       "\n",
       "    :ref:`session_closing` - detail on the semantics of\n",
       "    :meth:`_orm.Session.close` and :meth:`_orm.Session.reset`.\n",
       "\n",
       "    :meth:`_orm.Session.reset` - a similar method that behaves like\n",
       "    ``close()`` with  the parameter\n",
       "    :paramref:`_orm.Session.close_resets_only` set to ``True``.\n",
       "\u001b[0;31mFile:\u001b[0m      /opt/anaconda3/lib/python3.12/site-packages/sqlalchemy/orm/session.py\n",
       "\u001b[0;31mType:\u001b[0m      method"
      ]
     },
     "metadata": {},
     "output_type": "display_data"
    }
   ],
   "source": [
    "session.close?"
   ]
  },
  {
   "cell_type": "code",
   "execution_count": 154,
   "metadata": {},
   "outputs": [],
   "source": [
    "session.close()\n",
    "engine.dispose()"
   ]
  },
  {
   "cell_type": "code",
   "execution_count": null,
   "metadata": {},
   "outputs": [],
   "source": []
  },
  {
   "cell_type": "code",
   "execution_count": null,
   "metadata": {},
   "outputs": [],
   "source": []
  }
 ],
 "metadata": {
  "kernelspec": {
   "display_name": "Python 3 (ipykernel)",
   "language": "python",
   "name": "python3"
  },
  "language_info": {
   "codemirror_mode": {
    "name": "ipython",
    "version": 3
   },
   "file_extension": ".py",
   "mimetype": "text/x-python",
   "name": "python",
   "nbconvert_exporter": "python",
   "pygments_lexer": "ipython3",
   "version": "3.12.2"
  }
 },
 "nbformat": 4,
 "nbformat_minor": 4
}
