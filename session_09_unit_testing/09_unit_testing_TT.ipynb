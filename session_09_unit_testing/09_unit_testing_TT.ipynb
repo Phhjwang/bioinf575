{
 "cells": [
  {
   "cell_type": "markdown",
   "id": "35baa1f5-4e17-443b-8460-a613d92764c8",
   "metadata": {},
   "source": [
    "## Unit testing  \n",
    "### BIOINF 575"
   ]
  },
  {
   "cell_type": "markdown",
   "id": "c69c6ae5-a45c-492c-942b-99aa3d97d611",
   "metadata": {},
   "source": [
    "Testing is very important in software development because:    \n",
    "* It allows you to verify that your code does what is expected to do. \n",
    "    * If you do not test how would you know?  \n",
    "* It ensures the quality of the software. \n",
    "\n",
    "You have been writing tests from the beginning of this class."
   ]
  },
  {
   "cell_type": "code",
   "execution_count": 1,
   "id": "b3268afd-2607-41f4-bf5e-3d3672e9c495",
   "metadata": {},
   "outputs": [
    {
     "data": {
      "text/plain": [
       "10"
      ]
     },
     "execution_count": 1,
     "metadata": {},
     "output_type": "execute_result"
    }
   ],
   "source": [
    "# compute sum of all numbers from 1 to n\n",
    "n = 4\n",
    "# expected result: 10\n",
    "\n",
    "result = sum(range(n+1))\n",
    "result\n"
   ]
  },
  {
   "cell_type": "code",
   "execution_count": 3,
   "id": "2920416d-cb31-4c6b-b55f-97127fdc07b4",
   "metadata": {},
   "outputs": [
    {
     "data": {
      "text/plain": [
       "15"
      ]
     },
     "execution_count": 3,
     "metadata": {},
     "output_type": "execute_result"
    }
   ],
   "source": [
    "# compute sum of all numbers from 1 to n\n",
    "n = 5\n",
    "# expected result: 15\n",
    "\n",
    "result = sum(range(n+1))\n",
    "result"
   ]
  },
  {
   "cell_type": "code",
   "execution_count": null,
   "id": "47e13371-acef-4212-867e-40340396bdf8",
   "metadata": {},
   "outputs": [],
   "source": []
  },
  {
   "cell_type": "markdown",
   "id": "4e29fc25-1d36-440c-b32d-a9deb95a7e1e",
   "metadata": {},
   "source": [
    "Why we need testing as an integral part of our project:\n",
    "- You have been writing tests and discarding them once you are done confident the code is correct.\n",
    "    - Test cases are designed and written by developers.\n",
    "- If you make a change to the code later on, you will have to write those tests again.\n",
    "- These test cases you created can be run automatically once written. \n",
    "\n",
    "In python there are multiple packages for testing: \n",
    "* unittest - similar framework as the ones available in other major programming languages (e.g.: JUnit)  \n",
    "* doctest - test-support module with a very different flavor, writing the tests in the documentation\n",
    "* pytest - framework with a lighter-weight syntax for writing tests\n",
    "* ..."
   ]
  },
  {
   "cell_type": "markdown",
   "id": "59446dff-00a6-401a-bcf3-473a55c7a047",
   "metadata": {},
   "source": [
    "<b>A unit test is designed to test a small component of your system, a function </b>     \n",
    "(an analogy would be a lightbulb in your car that goes off when you have something go wrong)\n",
    "\n"
   ]
  },
  {
   "cell_type": "code",
   "execution_count": 25,
   "id": "abac5d92-f48f-4800-9187-ed23f67866a4",
   "metadata": {},
   "outputs": [],
   "source": [
    "# Implement the function - but first consider how you would test it works\n",
    "\n",
    "def computeGCp(seq):\n",
    "    \"\"\" \n",
    "    Compute the GC fraction for a given sequence\n",
    "    The GC fraction is the fraction of Cs and Gs outof \n",
    "    the total number of nucleotides in the sequence\n",
    "    \"\"\"\n",
    "    pass"
   ]
  },
  {
   "cell_type": "markdown",
   "id": "1b560a97-e930-4107-92a4-114f1c0729c3",
   "metadata": {},
   "source": [
    "#### How do you typically test the function?   \n",
    "##### Call the function with some test data and check the results."
   ]
  },
  {
   "cell_type": "code",
   "execution_count": 28,
   "id": "90bd5aa0-03dd-466b-b67d-f7431a791052",
   "metadata": {},
   "outputs": [
    {
     "name": "stdout",
     "output_type": "stream",
     "text": [
      "None\n"
     ]
    }
   ],
   "source": [
    "sequence = \"CCTT\" # expected result 0.5 = 50% GC content\n",
    "res = computeGCp(seq = sequence)\n",
    "print(res)"
   ]
  },
  {
   "cell_type": "code",
   "execution_count": 30,
   "id": "c8f65497-587e-4d0c-a01c-48e3e53ddce0",
   "metadata": {},
   "outputs": [
    {
     "name": "stdout",
     "output_type": "stream",
     "text": [
      "None\n"
     ]
    }
   ],
   "source": [
    "sequence = \"CGTTAATA\" # expected result 0.25 = 25% GC content\n",
    "res = computeGCp(seq = sequence)\n",
    "print(res)"
   ]
  },
  {
   "cell_type": "code",
   "execution_count": 32,
   "id": "5ba17ff9-730e-4963-86d6-afb25c3e64ec",
   "metadata": {},
   "outputs": [
    {
     "name": "stdout",
     "output_type": "stream",
     "text": [
      "None\n"
     ]
    }
   ],
   "source": [
    "sequence = \"ATT\" # expected result 0 = 0% GC content\n",
    "res = computeGCp(seq = sequence)\n",
    "print(res)"
   ]
  },
  {
   "cell_type": "code",
   "execution_count": 34,
   "id": "06cb5fca-0219-4cb9-addb-d45b3950aa9e",
   "metadata": {},
   "outputs": [],
   "source": [
    "# Implement the function - but first consider how you would test it works\n",
    "\n",
    "def computeGCp(seq):\n",
    "    \"\"\" \n",
    "    Compute the GC fraction for a geiven sequence\n",
    "    The GC fraction is the fraction of Cs and Gs outof \n",
    "    the total number of nucleotides in the sequence\n",
    "    \"\"\"\n",
    "    return (seq.count(\"C\") + seq.count(\"G\"))/len(seq)"
   ]
  },
  {
   "cell_type": "code",
   "execution_count": 36,
   "id": "9077f195-18bd-4acb-8004-7657447e8ef5",
   "metadata": {},
   "outputs": [
    {
     "data": {
      "text/plain": [
       "1.0"
      ]
     },
     "execution_count": 36,
     "metadata": {},
     "output_type": "execute_result"
    }
   ],
   "source": [
    "# test the function \n",
    "sequence = \"C\" # expected result 1 = 100% GC content\n",
    "computeGCp(seq = sequence)"
   ]
  },
  {
   "cell_type": "code",
   "execution_count": 38,
   "id": "23138189-ae2c-40bf-8041-e868872de1c9",
   "metadata": {},
   "outputs": [
    {
     "name": "stdout",
     "output_type": "stream",
     "text": [
      "0.5\n"
     ]
    }
   ],
   "source": [
    "sequence = \"CCTT\" # expected result 0.5 = 50% GC content\n",
    "res = computeGCp(seq = sequence)\n",
    "print(res)"
   ]
  },
  {
   "cell_type": "code",
   "execution_count": 40,
   "id": "fe737489-0154-402f-aa47-0e03673e9cff",
   "metadata": {},
   "outputs": [
    {
     "name": "stdout",
     "output_type": "stream",
     "text": [
      "0.25\n"
     ]
    }
   ],
   "source": [
    "sequence = \"CGTTAATA\" # expected result 0.25 = 25% GC content\n",
    "res = computeGCp(seq = sequence)\n",
    "print(res)"
   ]
  },
  {
   "cell_type": "code",
   "execution_count": 42,
   "id": "777faa41-cfb6-4a44-992e-49a9ed519ff8",
   "metadata": {},
   "outputs": [
    {
     "name": "stdout",
     "output_type": "stream",
     "text": [
      "0.0\n"
     ]
    }
   ],
   "source": [
    "sequence = \"ATT\" # expected result 0 = 0% GC content\n",
    "res = computeGCp(seq = sequence)\n",
    "print(res)"
   ]
  },
  {
   "cell_type": "code",
   "execution_count": null,
   "id": "1e0006c5-907b-4821-9615-9454e0cf52a3",
   "metadata": {},
   "outputs": [],
   "source": []
  },
  {
   "cell_type": "markdown",
   "id": "8f5fb2af-eacd-42b8-9e5e-f8ac6bce1a9b",
   "metadata": {},
   "source": [
    "#### `assert` allows you to check the result of your function for a given input against the expected output\n",
    "\n",
    "``` python\n",
    " assert condition, message_when_cond_False\n",
    "```\n",
    "\n",
    "https://www.w3schools.com/python/ref_keyword_assert.asp   \n",
    "The `assert` keyword is used when debugging code.\n",
    "\n",
    "The `assert` keyword lets you test if a condition in your code returns True, if not, the program will raise an AssertionError.\n",
    "\n",
    "You can write a message to be written if the code returns False, check the example below.\n",
    "\n"
   ]
  },
  {
   "cell_type": "code",
   "execution_count": 48,
   "id": "55058631-3de4-4f46-95a3-b5df3ebfbb28",
   "metadata": {},
   "outputs": [],
   "source": [
    "assert computeGCp(\"C\") == 1, \"The result should be 1\""
   ]
  },
  {
   "cell_type": "code",
   "execution_count": 52,
   "id": "fdfbaa85-e6fb-40c4-b97a-2ed19bab7fd7",
   "metadata": {},
   "outputs": [],
   "source": [
    "test_input = \"CCGG\"\n",
    "result = computeGCp(test_input)\n",
    "expected_result = 1\n",
    "assert result == expected_result, f\"The result should be {expected_result}, but it is {result}\""
   ]
  },
  {
   "cell_type": "code",
   "execution_count": 58,
   "id": "7a0bffe1-ee2c-43ab-b877-f540a20400ef",
   "metadata": {},
   "outputs": [
    {
     "ename": "AssertionError",
     "evalue": "The result should be 10, but it is 1.0",
     "output_type": "error",
     "traceback": [
      "\u001b[0;31m---------------------------------------------------------------------------\u001b[0m",
      "\u001b[0;31mAssertionError\u001b[0m                            Traceback (most recent call last)",
      "Cell \u001b[0;32mIn[58], line 4\u001b[0m\n\u001b[1;32m      2\u001b[0m result \u001b[38;5;241m=\u001b[39m computeGCp(test_input)\n\u001b[1;32m      3\u001b[0m expected_result \u001b[38;5;241m=\u001b[39m \u001b[38;5;241m10\u001b[39m\n\u001b[0;32m----> 4\u001b[0m \u001b[38;5;28;01massert\u001b[39;00m result \u001b[38;5;241m==\u001b[39m expected_result, \u001b[38;5;124mf\u001b[39m\u001b[38;5;124m\"\u001b[39m\u001b[38;5;124mThe result should be \u001b[39m\u001b[38;5;132;01m{\u001b[39;00mexpected_result\u001b[38;5;132;01m}\u001b[39;00m\u001b[38;5;124m, but it is \u001b[39m\u001b[38;5;132;01m{\u001b[39;00mresult\u001b[38;5;132;01m}\u001b[39;00m\u001b[38;5;124m\"\u001b[39m\n",
      "\u001b[0;31mAssertionError\u001b[0m: The result should be 10, but it is 1.0"
     ]
    }
   ],
   "source": [
    "test_input = \"CCGG\"\n",
    "result = computeGCp(test_input)\n",
    "expected_result = 10\n",
    "assert result == expected_result, f\"The result should be {expected_result}, but it is {result}\""
   ]
  },
  {
   "cell_type": "markdown",
   "id": "65e6b47e-ba28-4815-8c94-fe658897fa96",
   "metadata": {},
   "source": [
    "#### We can write a function to test our function:"
   ]
  },
  {
   "cell_type": "code",
   "execution_count": 64,
   "id": "ba6db51f-0c36-4915-86c0-4c1f58fa6afa",
   "metadata": {},
   "outputs": [],
   "source": [
    "def test_CGp(seq, p):\n",
    "    \"\"\"\n",
    "    Testing the compute GC function\n",
    "    Checking if the computed fraction is the same with the expected fraction (p)\n",
    "    \"\"\"\n",
    "    assert computeGCp(seq) == p, f\"The result should be {p}\""
   ]
  },
  {
   "cell_type": "code",
   "execution_count": 66,
   "id": "cf7a5ffa-60b0-406d-94de-e3a7a10ea2e2",
   "metadata": {},
   "outputs": [
    {
     "ename": "AssertionError",
     "evalue": "The result should be 0.2",
     "output_type": "error",
     "traceback": [
      "\u001b[0;31m---------------------------------------------------------------------------\u001b[0m",
      "\u001b[0;31mAssertionError\u001b[0m                            Traceback (most recent call last)",
      "Cell \u001b[0;32mIn[66], line 2\u001b[0m\n\u001b[1;32m      1\u001b[0m \u001b[38;5;66;03m# failing test - wrong expected result\u001b[39;00m\n\u001b[0;32m----> 2\u001b[0m test_CGp(\u001b[38;5;124m\"\u001b[39m\u001b[38;5;124mAAT\u001b[39m\u001b[38;5;124m\"\u001b[39m, \u001b[38;5;241m0.2\u001b[39m)\n",
      "Cell \u001b[0;32mIn[64], line 6\u001b[0m, in \u001b[0;36mtest_CGp\u001b[0;34m(seq, p)\u001b[0m\n\u001b[1;32m      1\u001b[0m \u001b[38;5;28;01mdef\u001b[39;00m \u001b[38;5;21mtest_CGp\u001b[39m(seq, p):\n\u001b[1;32m      2\u001b[0m \u001b[38;5;250m    \u001b[39m\u001b[38;5;124;03m\"\"\"\u001b[39;00m\n\u001b[1;32m      3\u001b[0m \u001b[38;5;124;03m    Testing the compute GC function\u001b[39;00m\n\u001b[1;32m      4\u001b[0m \u001b[38;5;124;03m    Checking if the computed fraction is the same with the expected fraction (p)\u001b[39;00m\n\u001b[1;32m      5\u001b[0m \u001b[38;5;124;03m    \"\"\"\u001b[39;00m\n\u001b[0;32m----> 6\u001b[0m     \u001b[38;5;28;01massert\u001b[39;00m computeGCp(seq) \u001b[38;5;241m==\u001b[39m p, \u001b[38;5;124mf\u001b[39m\u001b[38;5;124m\"\u001b[39m\u001b[38;5;124mThe result should be \u001b[39m\u001b[38;5;132;01m{\u001b[39;00mp\u001b[38;5;132;01m}\u001b[39;00m\u001b[38;5;124m\"\u001b[39m\n",
      "\u001b[0;31mAssertionError\u001b[0m: The result should be 0.2"
     ]
    }
   ],
   "source": [
    "# failing test - wrong expected result\n",
    "test_CGp(\"AAT\", 0.2)"
   ]
  },
  {
   "cell_type": "code",
   "execution_count": 68,
   "id": "fe58d2d0-15d7-4a59-a58d-15fc1e723677",
   "metadata": {},
   "outputs": [],
   "source": [
    "# good test - correct expected result\n",
    "test_CGp(\"AAT\", 0)"
   ]
  },
  {
   "cell_type": "code",
   "execution_count": 70,
   "id": "210042a5-81d6-4566-894c-584141762071",
   "metadata": {},
   "outputs": [],
   "source": [
    "# good test\n",
    "test_CGp(\"TTCGAATT\", 0.25)"
   ]
  },
  {
   "cell_type": "markdown",
   "id": "4273eae2-5bc6-4ca2-85c6-47916d0ddb90",
   "metadata": {},
   "source": [
    "* We want tests to cover as many as the edge cases we can and we want them to always run without error\n",
    "\n",
    "* We should run our tests every time we change the code to be sure the existing functionality was not broken\n",
    "\n",
    "* If the code changes the  results should change then tests need to be updated "
   ]
  },
  {
   "cell_type": "markdown",
   "id": "56d2b6c5-cfbf-4a24-aa22-14c8c51fe6d2",
   "metadata": {
    "tags": []
   },
   "source": [
    "#### <font color = \"red\">Exercise</font> \n",
    "We decide we want to make the result a pergentage - number between 0 - 100\n",
    "- Make the necessary updated to the code and to the tests"
   ]
  },
  {
   "cell_type": "code",
   "execution_count": 86,
   "id": "744edaa6-02d3-4ecf-a735-4f79f622eb1a",
   "metadata": {},
   "outputs": [],
   "source": [
    "# Implement the function \n",
    "\n",
    "def computeGCp(seq):\n",
    "    \"\"\" \n",
    "    Compute the GC percentage for a geiven sequence\n",
    "    The GC percentage is the pergentage (0-100) of Cs and Gs \n",
    "    outof the total number of nucleotides in the sequence\n",
    "    \"\"\"\n",
    "    return 100 * (seq.count(\"C\") + seq.count(\"G\"))/len(seq)"
   ]
  },
  {
   "cell_type": "markdown",
   "id": "bc5212cf-7271-4300-a198-ac7e542b3c72",
   "metadata": {},
   "source": [
    "##### Update the following tests"
   ]
  },
  {
   "cell_type": "code",
   "execution_count": 89,
   "id": "585b4c32-ae74-4d36-b807-af092685f2c5",
   "metadata": {},
   "outputs": [],
   "source": [
    "# if we need to change the test_CGp function add it here\n",
    "\n"
   ]
  },
  {
   "cell_type": "code",
   "execution_count": 91,
   "id": "5f330860-b107-4ee5-af3f-9fe9ffa9d8b1",
   "metadata": {},
   "outputs": [
    {
     "ename": "AssertionError",
     "evalue": "The result should be 20",
     "output_type": "error",
     "traceback": [
      "\u001b[0;31m---------------------------------------------------------------------------\u001b[0m",
      "\u001b[0;31mAssertionError\u001b[0m                            Traceback (most recent call last)",
      "Cell \u001b[0;32mIn[91], line 2\u001b[0m\n\u001b[1;32m      1\u001b[0m \u001b[38;5;66;03m# failing test \u001b[39;00m\n\u001b[0;32m----> 2\u001b[0m test_CGp(\u001b[38;5;124m\"\u001b[39m\u001b[38;5;124mAAT\u001b[39m\u001b[38;5;124m\"\u001b[39m, \u001b[38;5;241m20\u001b[39m)\n",
      "Cell \u001b[0;32mIn[64], line 6\u001b[0m, in \u001b[0;36mtest_CGp\u001b[0;34m(seq, p)\u001b[0m\n\u001b[1;32m      1\u001b[0m \u001b[38;5;28;01mdef\u001b[39;00m \u001b[38;5;21mtest_CGp\u001b[39m(seq, p):\n\u001b[1;32m      2\u001b[0m \u001b[38;5;250m    \u001b[39m\u001b[38;5;124;03m\"\"\"\u001b[39;00m\n\u001b[1;32m      3\u001b[0m \u001b[38;5;124;03m    Testing the compute GC function\u001b[39;00m\n\u001b[1;32m      4\u001b[0m \u001b[38;5;124;03m    Checking if the computed fraction is the same with the expected fraction (p)\u001b[39;00m\n\u001b[1;32m      5\u001b[0m \u001b[38;5;124;03m    \"\"\"\u001b[39;00m\n\u001b[0;32m----> 6\u001b[0m     \u001b[38;5;28;01massert\u001b[39;00m computeGCp(seq) \u001b[38;5;241m==\u001b[39m p, \u001b[38;5;124mf\u001b[39m\u001b[38;5;124m\"\u001b[39m\u001b[38;5;124mThe result should be \u001b[39m\u001b[38;5;132;01m{\u001b[39;00mp\u001b[38;5;132;01m}\u001b[39;00m\u001b[38;5;124m\"\u001b[39m\n",
      "\u001b[0;31mAssertionError\u001b[0m: The result should be 20"
     ]
    }
   ],
   "source": [
    "# failing test \n",
    "test_CGp(\"AAT\", 20)"
   ]
  },
  {
   "cell_type": "code",
   "execution_count": 93,
   "id": "64b26550-30d4-4108-b013-724c86d6d7fd",
   "metadata": {},
   "outputs": [],
   "source": [
    "# good test\n",
    "test_CGp(\"AAT\", 0)"
   ]
  },
  {
   "cell_type": "code",
   "execution_count": 95,
   "id": "15e1d996-d97a-403b-963f-a4e8026eb317",
   "metadata": {},
   "outputs": [],
   "source": [
    "# good test\n",
    "test_CGp(\"TTCGAATT\", 25)"
   ]
  },
  {
   "cell_type": "code",
   "execution_count": 99,
   "id": "a3b22650-b963-45f3-b79c-368768aed3ff",
   "metadata": {},
   "outputs": [],
   "source": [
    "# good test\n",
    "test_CGp(\"CCGG\", 100)"
   ]
  },
  {
   "cell_type": "code",
   "execution_count": null,
   "id": "6948d11d-0c1b-402a-897c-cad0ade92479",
   "metadata": {},
   "outputs": [],
   "source": []
  },
  {
   "cell_type": "markdown",
   "id": "f59d3425-35b1-4b60-a578-26be3c9d0e6d",
   "metadata": {},
   "source": [
    "#### So far, we organized our tests a bit better \n",
    "- we still run tests one by one  \n",
    "- we cannot account automatically for how many tests passed and how many failed unless we run a for loop and handle exceptions"
   ]
  },
  {
   "cell_type": "markdown",
   "id": "9e818fc4-dc57-4230-9e25-7e4a289f6cec",
   "metadata": {
    "tags": []
   },
   "source": [
    "___ \n",
    "#### pytest\n",
    "\n",
    "https://docs.pytest.org/en/7.2.x/getting-started.html#get-started       \n",
    "https://www.geeksforgeeks.org/getting-started-with-testing-in-python/       \n",
    "https://www.guru99.com/pytest-tutorial.html\n",
    "\n",
    "\"The `pytest` framework makes it easy to write small, readable tests, and can scale to support complex functional testing for applications and libraries.\"\n",
    "\n",
    "\"It supports unittest test cases execution. It has benefits like supporting built in assert statement, filtering of test cases, returning from last failing test etc\"\n",
    "- Very easy to start with because of its simple and easy syntax.\n",
    "- Can run tests in parallel.\n",
    "- Can run a specific test or a subset of tests\n",
    "- Automatically detect tests\n",
    "- Skip tests\n",
    "- Open source\n",
    "\n",
    "\"By default pytest only identifies the file names starting with test_ or ending with _test as the test files. We can explicitly mention other filenames though (explained later). Pytest requires the test method names to start with “test.” All other method names will be ignored even if we explicitly ask to run those methods.\n",
    "\n"
   ]
  },
  {
   "cell_type": "markdown",
   "id": "419e1011-69d0-46c3-829f-3b9d2706a0d1",
   "metadata": {},
   "source": [
    "#### Install pytest \n",
    "- run the following command in a terminal      \n",
    "`pip install pytest`"
   ]
  },
  {
   "cell_type": "markdown",
   "id": "19ea817b-ff3a-4ebc-8058-29c120f783be",
   "metadata": {
    "tags": []
   },
   "source": [
    "#### Testing the function `computeGCp` - we can create a script\n",
    "- create a file `test_function.py` and add the code from the following cell in the file\n",
    "- then run the tests in all .py files using `pytest` \n",
    "- if we only want to run the tests thet contain the keyword `answer` we use `pytest -k 'answer'`\n",
    "- you can also run the tests in all files if you add to the script `import pytest` and the if statement for `__name__ == \"__main__\"` with `pytest.main()` under if and then run the script using `python test_function.py`\n",
    "\n",
    "\n",
    "\n"
   ]
  },
  {
   "cell_type": "code",
   "execution_count": null,
   "id": "b0b9a812-bdf0-4030-b3d0-c24b4f9cfe7a",
   "metadata": {},
   "outputs": [],
   "source": [
    "def computeGCp(seq):\n",
    "    return (seq.count(\"C\") + seq.count(\"G\"))/len(seq)\n",
    "\n",
    "\n",
    "def test_answer():\n",
    "    assert computeGCp(\"CCG\") == 1\n",
    "    \n",
    "def test_answer2():\n",
    "    assert computeGCp(\"AAATT\") == 0"
   ]
  },
  {
   "cell_type": "code",
   "execution_count": 106,
   "id": "109b2cee-3a40-469c-96c6-6de1531beaa7",
   "metadata": {},
   "outputs": [
    {
     "name": "stdout",
     "output_type": "stream",
     "text": [
      "running test answer\n"
     ]
    }
   ],
   "source": [
    "import test_function"
   ]
  },
  {
   "cell_type": "code",
   "execution_count": 108,
   "id": "2745f6d1-c416-4372-a962-0b9836a03968",
   "metadata": {},
   "outputs": [
    {
     "data": {
      "text/plain": [
       "0.6"
      ]
     },
     "execution_count": 108,
     "metadata": {},
     "output_type": "execute_result"
    }
   ],
   "source": [
    "test_function.computeGCp(\"AACCG\")"
   ]
  },
  {
   "cell_type": "code",
   "execution_count": 110,
   "id": "f8aab268-58b7-4695-9574-7a641bf31b38",
   "metadata": {},
   "outputs": [
    {
     "data": {
      "text/plain": [
       "60.0"
      ]
     },
     "execution_count": 110,
     "metadata": {},
     "output_type": "execute_result"
    }
   ],
   "source": [
    "computeGCp(\"AACCG\")"
   ]
  },
  {
   "cell_type": "code",
   "execution_count": 114,
   "id": "3c8e348a-547d-418d-80db-976818046b43",
   "metadata": {},
   "outputs": [
    {
     "name": "stdout",
     "output_type": "stream",
     "text": [
      "Variable               Type             Data/Info\n",
      "-------------------------------------------------\n",
      "NamespaceMagics        MetaHasTraits    <class 'IPython.core.magi<...>mespace.NamespaceMagics'>\n",
      "computeGCp             function         <function computeGCp at 0x12e9f02c0>\n",
      "dataframe_columns      function         <function dataframe_columns at 0x12eaf6a20>\n",
      "dataframe_hash         function         <function dataframe_hash at 0x12eaf4b80>\n",
      "dtypes_str             function         <function dtypes_str at 0x12eaf6700>\n",
      "expected_result        int              10\n",
      "get_dataframes         function         <function get_dataframes at 0x12eaf51c0>\n",
      "get_ipython            function         <function get_ipython at 0x1022f13a0>\n",
      "getpass                module           <module 'getpass' from '/<...>b/python3.12/getpass.py'>\n",
      "hashlib                module           <module 'hashlib' from '/<...>b/python3.12/hashlib.py'>\n",
      "import_pandas_safely   function         <function import_pandas_safely at 0x12eaf44a0>\n",
      "is_data_frame          function         <function is_data_frame at 0x12eaf4860>\n",
      "json                   module           <module 'json' from '/opt<...>on3.12/json/__init__.py'>\n",
      "n                      int              5\n",
      "res                    float            0.0\n",
      "result                 float            1.0\n",
      "sequence               str              ATT\n",
      "sys                    module           <module 'sys' (built-in)>\n",
      "test_CGp               function         <function test_CGp at 0x12e921da0>\n",
      "test_function          module           <module 'test_function' f<...>esting/test_function.py'>\n",
      "test_input             str              CCGG\n"
     ]
    }
   ],
   "source": [
    "%whos"
   ]
  },
  {
   "cell_type": "code",
   "execution_count": 126,
   "id": "390cd99d-425d-4625-b1fe-62c628e9c085",
   "metadata": {},
   "outputs": [],
   "source": [
    "import test_function"
   ]
  },
  {
   "cell_type": "code",
   "execution_count": 128,
   "id": "db16dca0-1607-4801-acfd-1afbfd79826c",
   "metadata": {},
   "outputs": [],
   "source": [
    "del test_function"
   ]
  },
  {
   "cell_type": "code",
   "execution_count": 130,
   "id": "1fccb1cb-54e5-4073-b9e3-778df59f6232",
   "metadata": {},
   "outputs": [
    {
     "name": "stdout",
     "output_type": "stream",
     "text": [
      "Variable               Type             Data/Info\n",
      "-------------------------------------------------\n",
      "NamespaceMagics        MetaHasTraits    <class 'IPython.core.magi<...>mespace.NamespaceMagics'>\n",
      "computeGCp             function         <function computeGCp at 0x12e9f02c0>\n",
      "dataframe_columns      function         <function dataframe_columns at 0x12e922980>\n",
      "dataframe_hash         function         <function dataframe_hash at 0x12e923060>\n",
      "dtypes_str             function         <function dtypes_str at 0x12e9223e0>\n",
      "expected_result        int              10\n",
      "get_dataframes         function         <function get_dataframes at 0x12e921300>\n",
      "get_ipython            function         <function get_ipython at 0x1022f13a0>\n",
      "getpass                module           <module 'getpass' from '/<...>b/python3.12/getpass.py'>\n",
      "hashlib                module           <module 'hashlib' from '/<...>b/python3.12/hashlib.py'>\n",
      "import_pandas_safely   function         <function import_pandas_safely at 0x12e921440>\n",
      "is_data_frame          function         <function is_data_frame at 0x12e922ca0>\n",
      "json                   module           <module 'json' from '/opt<...>on3.12/json/__init__.py'>\n",
      "n                      int              5\n",
      "res                    float            0.0\n",
      "result                 float            1.0\n",
      "sequence               str              ATT\n",
      "sys                    module           <module 'sys' (built-in)>\n",
      "test_CGp               function         <function test_CGp at 0x12e921da0>\n",
      "test_input             str              CCGG\n"
     ]
    }
   ],
   "source": [
    "%whos"
   ]
  },
  {
   "cell_type": "code",
   "execution_count": 2,
   "id": "6c6c3ddf-85b1-463d-9dd5-cc14176f854a",
   "metadata": {},
   "outputs": [
    {
     "name": "stdout",
     "output_type": "stream",
     "text": [
      "test_function\n",
      "running test answer\n"
     ]
    }
   ],
   "source": [
    "# restsrt kernel\n",
    "import test_function"
   ]
  },
  {
   "cell_type": "code",
   "execution_count": 2,
   "id": "7544c365-2b48-43f9-bf71-b320ac0dc4d5",
   "metadata": {},
   "outputs": [
    {
     "name": "stdout",
     "output_type": "stream",
     "text": [
      "test_function\n"
     ]
    }
   ],
   "source": [
    "# restsrt kernel\n",
    "import test_function"
   ]
  },
  {
   "cell_type": "markdown",
   "id": "dff69151-ee91-44e7-9959-7054eb985854",
   "metadata": {
    "tags": []
   },
   "source": [
    "___ \n",
    "#### unittest\n",
    "\n",
    "https://docs.python.org/3/library/unittest.html\n",
    "\n",
    "`unittest` supports some important concepts in an object-oriented way:\n",
    "\n",
    "* test fixture - \n",
    "A test fixture represents the preparation needed to perform one or more tests, and any associated cleanup actions. This may involve, for example, creating temporary or proxy databases, directories, or starting a server process.\n",
    "\n",
    "* test case - \n",
    "A test case is the individual unit of testing. It checks for a specific response to a particular set of inputs. unittest provides a base class, TestCase, which may be used to create new test cases.\n",
    "\n",
    "* test suite - \n",
    "A test suite is a collection of test cases, test suites, or both. It is used to aggregate tests that should be executed together.\n",
    "\n",
    "* test runner - \n",
    "A test runner is a component which orchestrates the execution of tests and provides the outcome to the user. The runner may use a graphical interface, a textual interface, or return a special value to indicate the results of executing the tests.\n",
    "\n",
    "Examples:   \n",
    "https://realpython.com/python-testing/     \n",
    "https://www.datacamp.com/community/tutorials/unit-testing-python        \n",
    "https://www.geeksforgeeks.org/unit-testing-python-unittest/      \n",
    "https://docs.python-guide.org/writing/tests/      \n",
    "https://www.digitalocean.com/community/tutorials/how-to-use-unittest-to-write-a-test-case-for-a-function-in-python\n",
    "\n"
   ]
  },
  {
   "cell_type": "markdown",
   "id": "8fcbefa6-6145-4f43-a627-8b5ede3517af",
   "metadata": {},
   "source": [
    "#### Let's write a unit test\n",
    "\n",
    "`unittest` has been built into the Python standard library since version 2.1. You’ll probably see it in commercial Python applications and open-source projects.\n",
    "\n",
    "`unittest` contains both a testing framework and a test runner. unittest has some important requirements for writing and executing tests.\n",
    "\n",
    "`unittest` requires that:\n",
    "\n",
    "* You put your tests into classes as methods\n",
    "* You use a series of special assertion methods in the unittest.TestCase class instead of the built-in assert statement\n",
    "\n",
    "To convert the earlier example to a `unittest` test case, you would have to:\n",
    "\n",
    "* Import unittest from the standard library\n",
    "* Create a class called TestSum that inherits from the TestCase class\n",
    "* Convert the test functions into methods by adding self as the first argument\n",
    "* Change the assertions to use the self.assertEqual() method on the TestCase class"
   ]
  },
  {
   "cell_type": "code",
   "execution_count": 10,
   "id": "6d3ab094-e672-409e-9192-107bb1710657",
   "metadata": {},
   "outputs": [],
   "source": [
    "import unittest\n",
    "\n",
    "\n",
    "class TestComputeGCp(unittest.TestCase):\n",
    "    \"\"\"\n",
    "    Class to test the function computeGCp \n",
    "    Each method in this class will be a test case\n",
    "    \"\"\"\n",
    "    \n",
    "    def test_computeGCp(self, seq, p):\n",
    "        \"\"\"\n",
    "        General test case when we expect a certain percentage\n",
    "        \"\"\"\n",
    "        self.assertEqual(computeGCp(seq), p, f\"The result should be {p}\")\n",
    "\n",
    "    def test_computeGCp_None(self):\n",
    "        \"\"\"\n",
    "        Exceptional case when we have None as the input sequence\n",
    "        \"\"\"\n",
    "        self.assertEqual(computeGCp(None), None, \"The result should be None\")\n"
   ]
  },
  {
   "cell_type": "code",
   "execution_count": 12,
   "id": "cfb6290e-7f98-49de-8f6a-912afe1c4506",
   "metadata": {},
   "outputs": [],
   "source": [
    "t = TestComputeGCp()"
   ]
  },
  {
   "cell_type": "code",
   "execution_count": 24,
   "id": "2515b8fa-5210-408d-aca2-f24c0b743a81",
   "metadata": {},
   "outputs": [],
   "source": [
    "def computeGCp(seq):\n",
    "    \"\"\" \n",
    "    Compute the GC percentage for a geiven sequence\n",
    "    The GC percentage is the pergentage (0-100) of Cs and Gs \n",
    "    outof the total number of nucleotides in the sequence\n",
    "    \"\"\"\n",
    "    if seq != None:\n",
    "        return 100 * (seq.count(\"C\") + seq.count(\"G\"))/len(seq)"
   ]
  },
  {
   "cell_type": "code",
   "execution_count": 26,
   "id": "e6dcf8c0-d2ff-4113-a892-7df9a3c397f7",
   "metadata": {},
   "outputs": [],
   "source": [
    "t.test_computeGCp(\"GG\", 100)"
   ]
  },
  {
   "cell_type": "code",
   "execution_count": 28,
   "id": "a95c9889-605a-458e-8d63-c974db662e19",
   "metadata": {},
   "outputs": [],
   "source": [
    "t.test_computeGCp_None()"
   ]
  },
  {
   "cell_type": "markdown",
   "id": "9f106cbf-d228-40da-9c9e-ceed51759c79",
   "metadata": {},
   "source": [
    "#### <font color = \"red\">Exercise</font> \n",
    "Handle the case when the input is None"
   ]
  },
  {
   "cell_type": "code",
   "execution_count": 38,
   "id": "54ac5d47-e2fc-48ca-9e2f-bd28b30e5ff2",
   "metadata": {},
   "outputs": [],
   "source": [
    "# handle the case when the input is None\n",
    "# add an if statement\n",
    "def computeGCp(seq):\n",
    "    if seq == None:\n",
    "        return None\n",
    "    elif seq == \"\":\n",
    "        return 0\n",
    "    else:\n",
    "        return 100 * (seq.count(\"C\") + seq.count(\"G\"))/len(seq)"
   ]
  },
  {
   "cell_type": "code",
   "execution_count": 40,
   "id": "a8e9ad3d-b0f3-42f4-9cda-ab7604e0f6b4",
   "metadata": {},
   "outputs": [],
   "source": [
    "t.test_computeGCp_None()"
   ]
  },
  {
   "cell_type": "code",
   "execution_count": 42,
   "id": "adcb374e-0d75-4bfd-8f3e-f78ecf58eabb",
   "metadata": {},
   "outputs": [],
   "source": [
    "# try the case when the sequence is an empty string\n",
    "# will this work? - if not handle this \n",
    "t.test_computeGCp(\"\", 0)"
   ]
  },
  {
   "cell_type": "markdown",
   "id": "297fa5b1-e2a1-40d9-8b1a-ef6426898f52",
   "metadata": {
    "tags": []
   },
   "source": [
    "#### <font color = \"red\">Exercise</font> \n",
    "Handle the case when the input is an empty string"
   ]
  },
  {
   "cell_type": "code",
   "execution_count": 48,
   "id": "90542f82-a1c7-4328-8b3c-e418da49880e",
   "metadata": {},
   "outputs": [],
   "source": [
    "# handle the case when the input is an empty string\n",
    "# add another if statement or expand the previous one\n",
    "def computeGCp(seq):\n",
    "    if seq == None:\n",
    "        return None\n",
    "    elif seq == \"\":\n",
    "        return 0\n",
    "    else:\n",
    "        return 100 * (seq.count(\"C\") + seq.count(\"G\"))/len(seq)"
   ]
  },
  {
   "cell_type": "code",
   "execution_count": 50,
   "id": "40389a86-91c2-4a21-94ee-d4831af03ad6",
   "metadata": {},
   "outputs": [],
   "source": [
    "t.test_computeGCp(\"\", 0)"
   ]
  },
  {
   "cell_type": "code",
   "execution_count": null,
   "id": "2162317b-0bcf-4993-a258-372d50da0e4d",
   "metadata": {},
   "outputs": [],
   "source": []
  },
  {
   "cell_type": "code",
   "execution_count": null,
   "id": "a2690654-f67f-4035-8c78-7db738121338",
   "metadata": {},
   "outputs": [],
   "source": []
  },
  {
   "cell_type": "code",
   "execution_count": null,
   "id": "4c23dc3f-63be-4b75-8ee2-cc7c7c5c1b5f",
   "metadata": {},
   "outputs": [],
   "source": []
  },
  {
   "cell_type": "markdown",
   "id": "30ed8d2b-3990-47d6-a56b-21bf4d33ce96",
   "metadata": {
    "tags": []
   },
   "source": [
    "#### So far, we organized our tests a bit better \n",
    "- we still run tests one by one  \n",
    "- we cannot account automatically for how many tests passed and how many failed unless we run a for loop and handle exceptions"
   ]
  },
  {
   "cell_type": "markdown",
   "id": "8b065d23-3e40-4d14-85b1-9bf761e56717",
   "metadata": {},
   "source": [
    "For a simple way to run the tests use `unittest.main()`\n",
    "- It provides a command-line interface to the test `script`\n",
    "- The code has to be in a script (.py) file and add the following at the end of the file\n",
    "    - this following code will be explained in more detail in a separate session when we talk about modules\n",
    "```python\n",
    "    if __name__ == '__main__':\n",
    "        unittest.main()\n",
    "```"
   ]
  },
  {
   "cell_type": "code",
   "execution_count": null,
   "id": "76d765c9-c972-4628-ae79-e9048a52abef",
   "metadata": {},
   "outputs": [],
   "source": [
    "# unittest.main?"
   ]
  },
  {
   "cell_type": "markdown",
   "id": "a59a7be4-46a0-4660-b027-c7d422a778d7",
   "metadata": {
    "tags": []
   },
   "source": [
    "#### To run all tests and get a summary - we create a script\n",
    "- create a file `test_GC.py` and add the code from the following cell in the file\n",
    "- add the function `computeGCp` to the file\n",
    "- add the above if statement to the end of the file\n",
    "- then run the script using `python test_GC.py`\n",
    "    - you will notice that general tests that have arguments like `test_computeGCp` will not be able to run\n",
    "    - make that test more specific, no arguments, use the sequence \"AACG\" and instead of p the value 50.\n",
    "    "
   ]
  },
  {
   "cell_type": "code",
   "execution_count": null,
   "id": "926c4c64-a1d2-45c2-b6f0-5168ea654552",
   "metadata": {},
   "outputs": [],
   "source": [
    "import unittest\n",
    "\n",
    "\n",
    "class TestComputeGCp(unittest.TestCase):\n",
    "    \"\"\"\n",
    "    Class to test the function computeGCp \n",
    "    Each method in this class will be a test case\n",
    "    \"\"\"\n",
    "    \n",
    "    def test_computeGCp(self, seq, p):\n",
    "        \"\"\"\n",
    "        General test case when we expect a certain percentage\n",
    "        \"\"\"\n",
    "        self.assertEqual(computeGCp(seq), p, f\"The result should be {p}\")\n",
    "\n",
    "    def test_computeGCp_None(self):\n",
    "        \"\"\"\n",
    "        Exceptional case when we have None as the input sequence\n",
    "        \"\"\"\n",
    "        self.assertEqual(computeGCp(None), None, \"The result should be None\")\n",
    "\n"
   ]
  },
  {
   "cell_type": "code",
   "execution_count": null,
   "id": "7ef0dc6a-8ebc-4b17-a41f-62e105008f0c",
   "metadata": {},
   "outputs": [],
   "source": []
  },
  {
   "cell_type": "code",
   "execution_count": 56,
   "id": "8133420e-6956-4823-a17b-fdb989c64291",
   "metadata": {},
   "outputs": [],
   "source": [
    "import test_GC"
   ]
  },
  {
   "cell_type": "code",
   "execution_count": 58,
   "id": "e236d35c-d7d7-43f5-b093-7bd3e20408aa",
   "metadata": {},
   "outputs": [
    {
     "data": {
      "text/plain": [
       "33.333333333333336"
      ]
     },
     "execution_count": 58,
     "metadata": {},
     "output_type": "execute_result"
    }
   ],
   "source": [
    "test_GC.computeGCp(\"AAC\")"
   ]
  },
  {
   "cell_type": "code",
   "execution_count": null,
   "id": "fdfa25f9-e678-450c-a812-4100d5a6c1e2",
   "metadata": {},
   "outputs": [],
   "source": []
  },
  {
   "cell_type": "markdown",
   "id": "94fe0565-bbda-4a2c-beff-b368cda6ed5b",
   "metadata": {},
   "source": [
    "____\n",
    "\n",
    "There are multiple assert functions in the unittest package: \n",
    "\n",
    "| Method                    | Checks that          |\n",
    "|---------------------------|----------------------|\n",
    "| assertEqual(a, b)         | a == b               |\n",
    "| assertNotEqual(a, b)      | a != b               |\n",
    "| assertTrue(x)             | bool(x) is True      |\n",
    "| assertFalse(x)            | bool(x) is False     |\n",
    "| assertIs(a, b)            | a is b               |\n",
    "| assertIsNot(a, b)         | a is not b           |\n",
    "| assertIsNone(x)           | x is None            |\n",
    "| assertIsNotNone(x)        | x is not None        |\n",
    "| assertIn(a, b)            | a in b               |\n",
    "| assertNotIn(a, b)         | a not in b           |\n",
    "| assertIsInstance(a, b)    | isinstance(a, b)     |\n",
    "| assertNotIsInstance(a, b) | not isinstance(a, b) |\n",
    "| assertRaises(exc, fun, *args, **kwds) | fun(*args, **kwds) raises exc |\n",
    "| assertAlmostEqual(a, b) | round(a-b, 7) == 0  |\n",
    "...\n",
    "\n",
    "\n",
    "\n",
    "\n",
    "Complete list:   \n",
    "https://kapeli.com/cheat_sheets/Python_unittest_Assertions.docset/Contents/Resources/Documents/index      \n",
    "https://docs.python.org/3/library/unittest.html#unittest.TestCase.debug"
   ]
  },
  {
   "cell_type": "markdown",
   "id": "2370298e-5b14-43c1-8e86-1f3d96c28b9f",
   "metadata": {
    "tags": []
   },
   "source": [
    "#### <font color = \"red\">Exercise</font> \n"
   ]
  },
  {
   "cell_type": "markdown",
   "id": "c4519680-935b-4b72-9a6d-73aee1b611ff",
   "metadata": {
    "tags": []
   },
   "source": [
    "#### Testing the methods of a class/type - we can create a script\n",
    "- create a file `test_string_methods.py` and add the code from the following cell in the file\n",
    "- add the if statement at the end of the file\n",
    "```python\n",
    "    if __name__ == '__main__':\n",
    "        unittest.main()\n",
    "```\n",
    "- then run the script using `python test_string_methods.py`\n"
   ]
  },
  {
   "cell_type": "code",
   "execution_count": null,
   "id": "458787bb-bec2-4313-b0ac-016f55d255ff",
   "metadata": {},
   "outputs": [],
   "source": [
    "# running this code in a cell in a notebook will give an error\n",
    "\n",
    "import unittest\n",
    "\n",
    "class TestStringMethods(unittest.TestCase):\n",
    "\n",
    "    def test_upper(self):\n",
    "        self.assertEqual('aCg'.upper(), 'ACG')\n",
    "\n",
    "    def test_isupper(self):\n",
    "        self.assertTrue('ACGTT'.isupper())\n",
    "        self.assertFalse('acgT'.isupper())\n",
    "\n",
    "    def test_split(self):\n",
    "        s = 'hello world'\n",
    "        self.assertEqual(s.split(), ['hello', 'world'])\n",
    "        # check that s.split fails when the separator is not a string\n",
    "        with self.assertRaises(TypeError):\n",
    "            s.split(2)\n"
   ]
  },
  {
   "cell_type": "code",
   "execution_count": null,
   "id": "bad53716-2689-4182-a2bc-e337f2c5afe6",
   "metadata": {},
   "outputs": [],
   "source": []
  },
  {
   "cell_type": "markdown",
   "id": "a110920c-7e76-4755-81e2-eaf74300aabc",
   "metadata": {
    "tags": []
   },
   "source": [
    "#### Organizing test code\n",
    "https://docs.python.org/3/library/unittest.html#organizing-test-code\n",
    "\n",
    "The basic building blocks of unit testing are test cases — single scenarios that must be set up and checked for correctness. \n",
    "\n",
    "In unittest, test cases are represented by unittest.TestCase instances. To make your own test cases you must write subclasses of TestCase or use FunctionTestCase.\n",
    "\n",
    "The testing code of a TestCase instance should be entirely self contained, such that it can be run either in isolation or in arbitrary combination with any number of other test cases.\n",
    "\n"
   ]
  },
  {
   "cell_type": "markdown",
   "id": "4a41683b-0f7f-4a6a-b748-754a406d80e9",
   "metadata": {},
   "source": [
    "You can put all your tests in a separate cell in your notebook.   \n",
    "When you write scripts or modules or packages you put the tests in different scripts/modules/packages."
   ]
  },
  {
   "cell_type": "code",
   "execution_count": null,
   "id": "548fed72-b325-4c29-8814-6cb2de0073c5",
   "metadata": {},
   "outputs": [],
   "source": []
  },
  {
   "cell_type": "code",
   "execution_count": null,
   "id": "02c8ce7b-f8d1-4e9d-a5f2-260bcc2b13be",
   "metadata": {},
   "outputs": [],
   "source": []
  },
  {
   "cell_type": "markdown",
   "id": "d45df46a-1794-4229-9cca-b3f743f631d6",
   "metadata": {},
   "source": [
    "#### Summary\n",
    "\n",
    "- Practice test-driven development - write your tests before the code\n",
    "- Write independent tests\n",
    "- Automate your testing\n",
    "- Test individual units - functions/modules but also test the whole system to make sure all components work well together\n",
    "- Do not discard a test because it fails when you change the code - update the test if needed or correct the code\n",
    "- You should strive to write tests that runs most if not all your code\n",
    "    - There are tools that provide a test coverage metric that tells us how much code did our tests run/test\n",
    "        - https://www.pythontutorial.net/python-unit-testing/python-unittest-coverage/\n",
    "        - https://www.pythontutorial.net/python-unit-testing/python-unittest-coverage/"
   ]
  },
  {
   "cell_type": "markdown",
   "id": "a9c9cd7d-efc6-49d0-9833-ff648af3005f",
   "metadata": {},
   "source": [
    "| Automated                                                                                                                                        |  Manual Testing                                                                                               |\n",
    "|--------------------------------------------------------------------------------------------------------------------------------------------------|---------------------------------------------------------------------------------------------------------------|\n",
    "| Test automation software along with testing tools executes the test cases.                                                                       | Explicitly humans involved in executing the tests step by step, and they may be testing without test scripts. |\n",
    "| Test cases are written by QA engineers but execution is fully automatic and it is quite faster and will run for n number of different scenarios. | Analysts and QA engineers need to get involved in end-to-end testing and time consuming.                      |\n",
    "\n",
    "\n",
    "\n",
    "| Unit Tests                                                                                                                        |  Integration Tests                                                                                                                                                                      |\n",
    "|-----------------------------------------------------------------------------------------------------------------------------------|-----------------------------------------------------------------------------------------------------------------------------------------------------------------------------------------|\n",
    "| Unit testing works on component by component basis and hence if any small component to be tested, we need to go for unit testing. | Integration testing works on the whole component, we can conclude as many unit tests make integration testing. And also a software is complete if whole integration testing is complete |\n",
    "| Testing of addition calculation alone in a calculator program for specific set of arguments                                       | Testing of all arithmetic operations like addition, subtraction etc., (whatever present in calculator program) with different set of arguments                                          |"
   ]
  },
  {
   "cell_type": "code",
   "execution_count": null,
   "id": "f921dd8c-861c-4f93-80e4-7d42ae7751ab",
   "metadata": {},
   "outputs": [],
   "source": []
  },
  {
   "cell_type": "code",
   "execution_count": null,
   "id": "b5881ff1-2032-42ac-8e3d-d890b5d83efe",
   "metadata": {},
   "outputs": [],
   "source": []
  }
 ],
 "metadata": {
  "kernelspec": {
   "display_name": "Python 3 (ipykernel)",
   "language": "python",
   "name": "python3"
  },
  "language_info": {
   "codemirror_mode": {
    "name": "ipython",
    "version": 3
   },
   "file_extension": ".py",
   "mimetype": "text/x-python",
   "name": "python",
   "nbconvert_exporter": "python",
   "pygments_lexer": "ipython3",
   "version": "3.12.2"
  }
 },
 "nbformat": 4,
 "nbformat_minor": 5
}
