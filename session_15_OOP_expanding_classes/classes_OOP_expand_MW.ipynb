{
 "cells": [
  {
   "cell_type": "markdown",
   "metadata": {},
   "source": [
    "## Object oriented programming \n",
    "### Expanding classes\n",
    "\n",
    "### BIOINF 575\n",
    "\n",
    "---\n",
    "##### Adapted from material created by Marcus Sherman\n",
    "---"
   ]
  },
  {
   "cell_type": "markdown",
   "metadata": {},
   "source": [
    "\n",
    "You can do perfectly good data science _without_ ever writing a `class`. \n",
    "\n",
    "However, using `Object-Oriented Programming` can make your data science <u>easier to write</u>, <u>easier to read</u>, and <u>more intuitive</u> while also making it **more shareable/extensible**."
   ]
  },
  {
   "cell_type": "markdown",
   "metadata": {
    "slideshow": {
     "slide_type": "slide"
    }
   },
   "source": [
    "---\n",
    "#### Object-Oriented Programming"
   ]
  },
  {
   "cell_type": "markdown",
   "metadata": {
    "slideshow": {
     "slide_type": "fragment"
    }
   },
   "source": [
    "Whenever you code in Python, you should always have a similar questions that you ask yourself during your workflow: \"What do I have?\" and \"What do I need?\". While working on subcomponents of a function, you should always ask yourself \"What ***kind*** of object am I working with, and what does it do?\""
   ]
  },
  {
   "cell_type": "markdown",
   "metadata": {
    "slideshow": {
     "slide_type": "slide"
    }
   },
   "source": [
    "In Python, ***EVERYTHING*** is an object!"
   ]
  },
  {
   "cell_type": "markdown",
   "metadata": {},
   "source": [
    "---\n",
    "### A New Frontier"
   ]
  },
  {
   "cell_type": "markdown",
   "metadata": {
    "slideshow": {
     "slide_type": "slide"
    }
   },
   "source": [
    "Up to this point, we have used objects already defined for us.      \n",
    "However, we are not limited by those boundaries, we can *make* our own objects.     \n",
    "This is done through the `class` keyword."
   ]
  },
  {
   "cell_type": "markdown",
   "metadata": {
    "slideshow": {
     "slide_type": "subslide"
    }
   },
   "source": [
    "<img src='https://ds055uzetaobb.cloudfront.net/image_optimizer/9996aa83f77a2837f41a4de7f2ab517168716532.png' width = 500/>"
   ]
  },
  {
   "cell_type": "markdown",
   "metadata": {
    "slideshow": {
     "slide_type": "subslide"
    }
   },
   "source": [
    "Using `class` is much like `def` functions. However, later on we get to play around with some of those 'dunder' (\\_\\_) methods we have been steering you away from."
   ]
  },
  {
   "cell_type": "markdown",
   "metadata": {},
   "source": [
    "### The Big Idea \n",
    "> The idea behind objects is to **bundle** coherent <u>methods</u> (things the object can _do_) and <u>attributes</u> (things the object _has_) that logically go together into a well-defined _interface_."
   ]
  },
  {
   "cell_type": "markdown",
   "metadata": {
    "slideshow": {
     "slide_type": "slide"
    }
   },
   "source": [
    "They are a data abstraction that has 2 main jobs:\n",
    "1. Captures internal *representation* of the data it is abstracting\n",
    "2. Creates an *interface* for the abstracted data"
   ]
  },
  {
   "cell_type": "markdown",
   "metadata": {},
   "source": [
    "____"
   ]
  },
  {
   "cell_type": "markdown",
   "metadata": {
    "jp-MarkdownHeadingCollapsed": true,
    "tags": []
   },
   "source": [
    "### The syntax\n",
    "\n",
    "```python\n",
    "class ClassName:\n",
    "    def __init__(class_attributes):\n",
    "        # initialize class attributes\n",
    "        pass\n",
    "    \n",
    "    def method_name(arguments):\n",
    "        # compute results, set/reset attributes\n",
    "        pass\n",
    "```"
   ]
  },
  {
   "cell_type": "markdown",
   "metadata": {},
   "source": [
    "### Expanding classes \n",
    "#### Create a general base class then a more specific child class\n",
    "---\n",
    "<img src = https://python.land/wp-content/uploads/2020/12/class-inheritance.png  width = 350 />\n",
    "\n",
    "https://python.land/objects-and-classes/python-inheritance \n",
    "\n",
    "----\n",
    "\n",
    "Design an object called `Cell`:\n",
    "1. Takes three attributes: \n",
    "    - `type`: epithelial, connective, muscle, or nervous\n",
    "    - `organism`: human, mouse, ....\n",
    "    - `level`: number - division level\n",
    "1. Has a method called `divide` that returns in a tuple two cells of the same type"
   ]
  },
  {
   "cell_type": "code",
   "execution_count": 2,
   "metadata": {},
   "outputs": [],
   "source": [
    "class Cell:\n",
    "    def __init__(self, ctype = \"epithelial\", corganism = \"human\", \n",
    "                 clevel = 0, cstatus = \"living\"):\n",
    "        self.type = ctype\n",
    "        self.organism = corganism\n",
    "        self.level = clevel\n",
    "        self.status = cstatus\n",
    "        \n",
    "    def __str__(self):\n",
    "        return f\"Cell('{self.type}','{self.organism}',{self.level},'{self.status}')\"\n",
    "    \n",
    "    def __repr__(self):\n",
    "        return f\"Cell('{self.type}','{self.organism}',{self.level},'{self.status}')\"\n",
    "    \n",
    "    def divide(self):\n",
    "        return (Cell(self.type, self.organism, self.level + 1),\n",
    "                Cell(self.type, self.organism, self.level + 1))\n",
    "        \n",
    "        \n",
    "    "
   ]
  },
  {
   "cell_type": "code",
   "execution_count": 4,
   "metadata": {},
   "outputs": [],
   "source": [
    "# Explore the cell\n",
    "\n",
    "c = Cell()"
   ]
  },
  {
   "cell_type": "code",
   "execution_count": 10,
   "metadata": {},
   "outputs": [
    {
     "data": {
      "text/plain": [
       "__main__.Cell"
      ]
     },
     "execution_count": 10,
     "metadata": {},
     "output_type": "execute_result"
    }
   ],
   "source": [
    "type(c)"
   ]
  },
  {
   "cell_type": "code",
   "execution_count": 6,
   "metadata": {},
   "outputs": [
    {
     "data": {
      "text/plain": [
       "'epithelial'"
      ]
     },
     "execution_count": 6,
     "metadata": {},
     "output_type": "execute_result"
    }
   ],
   "source": [
    "c.type"
   ]
  },
  {
   "cell_type": "code",
   "execution_count": 24,
   "metadata": {},
   "outputs": [
    {
     "name": "stdout",
     "output_type": "stream",
     "text": [
      "2\n",
      "Cell('epithelial','human',1,'living')\n",
      "Cell('epithelial','human',1,'living')\n"
     ]
    },
    {
     "data": {
      "text/plain": [
       "(Cell('epithelial','human',1,'living'), Cell('epithelial','human',1,'living'))"
      ]
     },
     "execution_count": 24,
     "metadata": {},
     "output_type": "execute_result"
    }
   ],
   "source": [
    "cells = c.divide()\n",
    "print(len(cells))\n",
    "print(cells[0])\n",
    "print(cells[1])\n",
    "cells"
   ]
  },
  {
   "cell_type": "code",
   "execution_count": 26,
   "metadata": {},
   "outputs": [
    {
     "data": {
      "text/plain": [
       "__main__.Cell"
      ]
     },
     "execution_count": 26,
     "metadata": {},
     "output_type": "execute_result"
    }
   ],
   "source": [
    "# type, isinstance\n",
    "\n",
    "type(c)"
   ]
  },
  {
   "cell_type": "code",
   "execution_count": 28,
   "metadata": {},
   "outputs": [
    {
     "data": {
      "text/plain": [
       "False"
      ]
     },
     "execution_count": 28,
     "metadata": {},
     "output_type": "execute_result"
    }
   ],
   "source": [
    "isinstance(c, list)"
   ]
  },
  {
   "cell_type": "code",
   "execution_count": 30,
   "metadata": {},
   "outputs": [
    {
     "data": {
      "text/plain": [
       "True"
      ]
     },
     "execution_count": 30,
     "metadata": {},
     "output_type": "execute_result"
    }
   ],
   "source": [
    "isinstance(c, Cell)"
   ]
  },
  {
   "cell_type": "code",
   "execution_count": null,
   "metadata": {},
   "outputs": [],
   "source": []
  },
  {
   "cell_type": "markdown",
   "metadata": {},
   "source": [
    "### Expanding the Cell class  \n",
    "\n",
    "- <font color = \"red\">Add parent class in parantheses after the class name to build on it's functionality</font>\n",
    "- Uses the super() functions to access functionality form the parent class\n",
    "\n",
    "Design an object called `ImmuneCell`:\n",
    "1. Takes three attributes: \n",
    "    - `type`: connective\n",
    "    - `organism`: human, mouse, ....\n",
    "    - `level`: number - division level\n",
    "1. Has a method called `divide` that returns in a tuple two cells of the same type\n",
    "1. Has a method called `kill_cell` that deletes the cell given as an argument\n"
   ]
  },
  {
   "cell_type": "code",
   "execution_count": 32,
   "metadata": {},
   "outputs": [],
   "source": [
    "class ImmuneCell(Cell):\n",
    "    def __init__(self, corganism = \"human\", \n",
    "                 clevel = 0, cstatus = \"living\"):\n",
    "        super(ImmuneCell, self).__init__()\n",
    "        self.type = \"epithelial\"\n",
    "        self.organism = corganism\n",
    "        self.level = clevel\n",
    "        self.status = cstatus\n",
    "        \n",
    "        \n",
    "    def __str__(self):\n",
    "        return f\"ImmuneCell('{self.organism}',{self.level})\"\n",
    "    \n",
    "    def __repr__(self):\n",
    "        return f\"ImmuneCell('{self.organism}',{self.level})\"\n",
    "    \n",
    "    def divide(self):\n",
    "        return super(ImmuneCell,self).divide()\n",
    "    \n",
    "    def kill_cell(self, c):\n",
    "        c.status = \"dead\""
   ]
  },
  {
   "cell_type": "code",
   "execution_count": 34,
   "metadata": {},
   "outputs": [
    {
     "data": {
      "text/plain": [
       "ImmuneCell('human',0)"
      ]
     },
     "execution_count": 34,
     "metadata": {},
     "output_type": "execute_result"
    }
   ],
   "source": [
    "# Explore the new type\n",
    "\n",
    "ic = ImmuneCell()\n",
    "ic"
   ]
  },
  {
   "cell_type": "code",
   "execution_count": 36,
   "metadata": {},
   "outputs": [
    {
     "data": {
      "text/plain": [
       "__main__.ImmuneCell"
      ]
     },
     "execution_count": 36,
     "metadata": {},
     "output_type": "execute_result"
    }
   ],
   "source": [
    "type(ic)"
   ]
  },
  {
   "cell_type": "code",
   "execution_count": 38,
   "metadata": {},
   "outputs": [
    {
     "data": {
      "text/plain": [
       "True"
      ]
     },
     "execution_count": 38,
     "metadata": {},
     "output_type": "execute_result"
    }
   ],
   "source": [
    "# try isinstance for the immune cell see if it a cell\n",
    "\n",
    "isinstance(ic, ImmuneCell)\n"
   ]
  },
  {
   "cell_type": "code",
   "execution_count": 40,
   "metadata": {},
   "outputs": [
    {
     "data": {
      "text/plain": [
       "True"
      ]
     },
     "execution_count": 40,
     "metadata": {},
     "output_type": "execute_result"
    }
   ],
   "source": [
    "isinstance(ic, Cell)"
   ]
  },
  {
   "cell_type": "code",
   "execution_count": 42,
   "metadata": {},
   "outputs": [
    {
     "data": {
      "text/plain": [
       "Cell('epithelial','human',0,'living')"
      ]
     },
     "execution_count": 42,
     "metadata": {},
     "output_type": "execute_result"
    }
   ],
   "source": [
    "c"
   ]
  },
  {
   "cell_type": "code",
   "execution_count": 44,
   "metadata": {},
   "outputs": [
    {
     "data": {
      "text/plain": [
       "False"
      ]
     },
     "execution_count": 44,
     "metadata": {},
     "output_type": "execute_result"
    }
   ],
   "source": [
    "isinstance(c, ImmuneCell)"
   ]
  },
  {
   "cell_type": "code",
   "execution_count": 48,
   "metadata": {},
   "outputs": [
    {
     "data": {
      "text/plain": [
       "'living'"
      ]
     },
     "execution_count": 48,
     "metadata": {},
     "output_type": "execute_result"
    }
   ],
   "source": [
    "# use the immune cell ic to kill the cell c\n",
    "\n",
    "c.status\n"
   ]
  },
  {
   "cell_type": "code",
   "execution_count": 54,
   "metadata": {},
   "outputs": [
    {
     "data": {
      "text/plain": [
       "'dead'"
      ]
     },
     "execution_count": 54,
     "metadata": {},
     "output_type": "execute_result"
    }
   ],
   "source": [
    "ic.kill_cell(c)\n",
    "c.status"
   ]
  },
  {
   "cell_type": "code",
   "execution_count": null,
   "metadata": {},
   "outputs": [],
   "source": []
  },
  {
   "cell_type": "markdown",
   "metadata": {},
   "source": [
    "---"
   ]
  },
  {
   "cell_type": "markdown",
   "metadata": {},
   "source": [
    "### Extra Practice"
   ]
  },
  {
   "cell_type": "markdown",
   "metadata": {},
   "source": [
    "Design an object called `Point`:\n",
    "1. Takes two attributes: `x` and `y`\n",
    "1. Has a method called `distance` that returns the Euclidean distance from another point "
   ]
  },
  {
   "cell_type": "code",
   "execution_count": null,
   "metadata": {},
   "outputs": [],
   "source": [
    "# Define Point here"
   ]
  },
  {
   "cell_type": "markdown",
   "metadata": {},
   "source": [
    "Design an object called `Line`:\n",
    "1. Takes two attributes that are both `Point`s: `start` and `stop` \n",
    "1. Has a method called `length` that returns the distance between `start` and `stop`"
   ]
  },
  {
   "cell_type": "code",
   "execution_count": null,
   "metadata": {},
   "outputs": [],
   "source": [
    "# Define Line here "
   ]
  },
  {
   "cell_type": "code",
   "execution_count": null,
   "metadata": {},
   "outputs": [],
   "source": [
    "# check attributes and methods\n",
    "\n"
   ]
  },
  {
   "cell_type": "markdown",
   "metadata": {},
   "source": [
    "Design and object called `Rectangle`\n",
    "1. Takes 3 attributes: \n",
    "    * `origin` (the lower left `Point` of the `Rectangle`)\n",
    "    * `height`\n",
    "    * `width`\n",
    "1. Has a method called `perimeter` that returns the length of the perimeter of the `Rectangle`\n",
    "1. Has a method called `area` that returns the area of the `Rectangle`"
   ]
  },
  {
   "cell_type": "code",
   "execution_count": null,
   "metadata": {},
   "outputs": [],
   "source": [
    "# Define Rectangle here"
   ]
  },
  {
   "cell_type": "code",
   "execution_count": null,
   "metadata": {},
   "outputs": [],
   "source": [
    "# check attributes and methods\n",
    "\n",
    "\n"
   ]
  }
 ],
 "metadata": {
  "kernelspec": {
   "display_name": "Python 3 (ipykernel)",
   "language": "python",
   "name": "python3"
  },
  "language_info": {
   "codemirror_mode": {
    "name": "ipython",
    "version": 3
   },
   "file_extension": ".py",
   "mimetype": "text/x-python",
   "name": "python",
   "nbconvert_exporter": "python",
   "pygments_lexer": "ipython3",
   "version": "3.12.2"
  }
 },
 "nbformat": 4,
 "nbformat_minor": 4
}
