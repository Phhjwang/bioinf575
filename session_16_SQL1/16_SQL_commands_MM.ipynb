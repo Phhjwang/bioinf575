{
 "cells": [
  {
   "cell_type": "code",
   "execution_count": 12,
   "metadata": {},
   "outputs": [
    {
     "data": {
      "text/html": [
       "<div>\n",
       "<style scoped>\n",
       "    .dataframe tbody tr th:only-of-type {\n",
       "        vertical-align: middle;\n",
       "    }\n",
       "\n",
       "    .dataframe tbody tr th {\n",
       "        vertical-align: top;\n",
       "    }\n",
       "\n",
       "    .dataframe thead th {\n",
       "        text-align: right;\n",
       "    }\n",
       "</style>\n",
       "<table border=\"1\" class=\"dataframe\">\n",
       "  <thead>\n",
       "    <tr style=\"text-align: right;\">\n",
       "      <th></th>\n",
       "      <th>s1</th>\n",
       "      <th>s2</th>\n",
       "      <th>s3</th>\n",
       "    </tr>\n",
       "  </thead>\n",
       "  <tbody>\n",
       "    <tr>\n",
       "      <th>g1</th>\n",
       "      <td>1</td>\n",
       "      <td>2</td>\n",
       "      <td>3</td>\n",
       "    </tr>\n",
       "    <tr>\n",
       "      <th>g2</th>\n",
       "      <td>4</td>\n",
       "      <td>5</td>\n",
       "      <td>6</td>\n",
       "    </tr>\n",
       "    <tr>\n",
       "      <th>g3</th>\n",
       "      <td>7</td>\n",
       "      <td>8</td>\n",
       "      <td>9</td>\n",
       "    </tr>\n",
       "  </tbody>\n",
       "</table>\n",
       "</div>"
      ],
      "text/plain": [
       "    s1  s2  s3\n",
       "g1   1   2   3\n",
       "g2   4   5   6\n",
       "g3   7   8   9"
      ]
     },
     "execution_count": 12,
     "metadata": {},
     "output_type": "execute_result"
    }
   ],
   "source": [
    "import pandas as pd \n",
    "\n",
    "df1 = pd.DataFrame([[1,2,3],[4,5,6],[7,8,9]], index = [\"g1\",\"g2\", \"g3\"], columns = [\"s1\", \"s2\", \"s3\"])\n",
    "df1"
   ]
  },
  {
   "cell_type": "code",
   "execution_count": 14,
   "metadata": {},
   "outputs": [
    {
     "data": {
      "text/html": [
       "<div>\n",
       "<style scoped>\n",
       "    .dataframe tbody tr th:only-of-type {\n",
       "        vertical-align: middle;\n",
       "    }\n",
       "\n",
       "    .dataframe tbody tr th {\n",
       "        vertical-align: top;\n",
       "    }\n",
       "\n",
       "    .dataframe thead th {\n",
       "        text-align: right;\n",
       "    }\n",
       "</style>\n",
       "<table border=\"1\" class=\"dataframe\">\n",
       "  <thead>\n",
       "    <tr style=\"text-align: right;\">\n",
       "      <th></th>\n",
       "      <th>exon_no</th>\n",
       "      <th>length</th>\n",
       "    </tr>\n",
       "  </thead>\n",
       "  <tbody>\n",
       "    <tr>\n",
       "      <th>g1</th>\n",
       "      <td>11</td>\n",
       "      <td>20</td>\n",
       "    </tr>\n",
       "    <tr>\n",
       "      <th>g2</th>\n",
       "      <td>40</td>\n",
       "      <td>50</td>\n",
       "    </tr>\n",
       "    <tr>\n",
       "      <th>g4</th>\n",
       "      <td>70</td>\n",
       "      <td>80</td>\n",
       "    </tr>\n",
       "  </tbody>\n",
       "</table>\n",
       "</div>"
      ],
      "text/plain": [
       "    exon_no  length\n",
       "g1       11      20\n",
       "g2       40      50\n",
       "g4       70      80"
      ]
     },
     "execution_count": 14,
     "metadata": {},
     "output_type": "execute_result"
    }
   ],
   "source": [
    "df2 = pd.DataFrame([[11,20],[40,50],[70,80]], index = [\"g1\",\"g2\", \"g4\"], columns = [\"exon_no\", \"length\"])\n",
    "df2"
   ]
  },
  {
   "cell_type": "code",
   "execution_count": 16,
   "metadata": {},
   "outputs": [
    {
     "data": {
      "text/html": [
       "<div>\n",
       "<style scoped>\n",
       "    .dataframe tbody tr th:only-of-type {\n",
       "        vertical-align: middle;\n",
       "    }\n",
       "\n",
       "    .dataframe tbody tr th {\n",
       "        vertical-align: top;\n",
       "    }\n",
       "\n",
       "    .dataframe thead th {\n",
       "        text-align: right;\n",
       "    }\n",
       "</style>\n",
       "<table border=\"1\" class=\"dataframe\">\n",
       "  <thead>\n",
       "    <tr style=\"text-align: right;\">\n",
       "      <th></th>\n",
       "      <th>s1</th>\n",
       "      <th>s2</th>\n",
       "      <th>s3</th>\n",
       "      <th>exon_no</th>\n",
       "      <th>length</th>\n",
       "    </tr>\n",
       "  </thead>\n",
       "  <tbody>\n",
       "    <tr>\n",
       "      <th>g1</th>\n",
       "      <td>1</td>\n",
       "      <td>2</td>\n",
       "      <td>3</td>\n",
       "      <td>11.0</td>\n",
       "      <td>20.0</td>\n",
       "    </tr>\n",
       "    <tr>\n",
       "      <th>g2</th>\n",
       "      <td>4</td>\n",
       "      <td>5</td>\n",
       "      <td>6</td>\n",
       "      <td>40.0</td>\n",
       "      <td>50.0</td>\n",
       "    </tr>\n",
       "    <tr>\n",
       "      <th>g3</th>\n",
       "      <td>7</td>\n",
       "      <td>8</td>\n",
       "      <td>9</td>\n",
       "      <td>NaN</td>\n",
       "      <td>NaN</td>\n",
       "    </tr>\n",
       "  </tbody>\n",
       "</table>\n",
       "</div>"
      ],
      "text/plain": [
       "    s1  s2  s3  exon_no  length\n",
       "g1   1   2   3     11.0    20.0\n",
       "g2   4   5   6     40.0    50.0\n",
       "g3   7   8   9      NaN     NaN"
      ]
     },
     "execution_count": 16,
     "metadata": {},
     "output_type": "execute_result"
    }
   ],
   "source": [
    "df1.join(df2)"
   ]
  },
  {
   "cell_type": "code",
   "execution_count": 20,
   "metadata": {},
   "outputs": [
    {
     "data": {
      "text/html": [
       "<div>\n",
       "<style scoped>\n",
       "    .dataframe tbody tr th:only-of-type {\n",
       "        vertical-align: middle;\n",
       "    }\n",
       "\n",
       "    .dataframe tbody tr th {\n",
       "        vertical-align: top;\n",
       "    }\n",
       "\n",
       "    .dataframe thead th {\n",
       "        text-align: right;\n",
       "    }\n",
       "</style>\n",
       "<table border=\"1\" class=\"dataframe\">\n",
       "  <thead>\n",
       "    <tr style=\"text-align: right;\">\n",
       "      <th></th>\n",
       "      <th>s1</th>\n",
       "      <th>s2</th>\n",
       "      <th>s3</th>\n",
       "      <th>exon_no</th>\n",
       "      <th>length</th>\n",
       "    </tr>\n",
       "  </thead>\n",
       "  <tbody>\n",
       "    <tr>\n",
       "      <th>g1</th>\n",
       "      <td>1.0</td>\n",
       "      <td>2.0</td>\n",
       "      <td>3.0</td>\n",
       "      <td>11</td>\n",
       "      <td>20</td>\n",
       "    </tr>\n",
       "    <tr>\n",
       "      <th>g2</th>\n",
       "      <td>4.0</td>\n",
       "      <td>5.0</td>\n",
       "      <td>6.0</td>\n",
       "      <td>40</td>\n",
       "      <td>50</td>\n",
       "    </tr>\n",
       "    <tr>\n",
       "      <th>g4</th>\n",
       "      <td>NaN</td>\n",
       "      <td>NaN</td>\n",
       "      <td>NaN</td>\n",
       "      <td>70</td>\n",
       "      <td>80</td>\n",
       "    </tr>\n",
       "  </tbody>\n",
       "</table>\n",
       "</div>"
      ],
      "text/plain": [
       "     s1   s2   s3  exon_no  length\n",
       "g1  1.0  2.0  3.0       11      20\n",
       "g2  4.0  5.0  6.0       40      50\n",
       "g4  NaN  NaN  NaN       70      80"
      ]
     },
     "execution_count": 20,
     "metadata": {},
     "output_type": "execute_result"
    }
   ],
   "source": [
    "df1.join(df2, how = \"right\")"
   ]
  },
  {
   "cell_type": "code",
   "execution_count": 22,
   "metadata": {},
   "outputs": [
    {
     "data": {
      "text/html": [
       "<div>\n",
       "<style scoped>\n",
       "    .dataframe tbody tr th:only-of-type {\n",
       "        vertical-align: middle;\n",
       "    }\n",
       "\n",
       "    .dataframe tbody tr th {\n",
       "        vertical-align: top;\n",
       "    }\n",
       "\n",
       "    .dataframe thead th {\n",
       "        text-align: right;\n",
       "    }\n",
       "</style>\n",
       "<table border=\"1\" class=\"dataframe\">\n",
       "  <thead>\n",
       "    <tr style=\"text-align: right;\">\n",
       "      <th></th>\n",
       "      <th>s1</th>\n",
       "      <th>s2</th>\n",
       "      <th>s3</th>\n",
       "      <th>exon_no</th>\n",
       "      <th>length</th>\n",
       "    </tr>\n",
       "  </thead>\n",
       "  <tbody>\n",
       "    <tr>\n",
       "      <th>g1</th>\n",
       "      <td>1</td>\n",
       "      <td>2</td>\n",
       "      <td>3</td>\n",
       "      <td>11</td>\n",
       "      <td>20</td>\n",
       "    </tr>\n",
       "    <tr>\n",
       "      <th>g2</th>\n",
       "      <td>4</td>\n",
       "      <td>5</td>\n",
       "      <td>6</td>\n",
       "      <td>40</td>\n",
       "      <td>50</td>\n",
       "    </tr>\n",
       "  </tbody>\n",
       "</table>\n",
       "</div>"
      ],
      "text/plain": [
       "    s1  s2  s3  exon_no  length\n",
       "g1   1   2   3       11      20\n",
       "g2   4   5   6       40      50"
      ]
     },
     "execution_count": 22,
     "metadata": {},
     "output_type": "execute_result"
    }
   ],
   "source": [
    "df1.join(df2, how = \"inner\")"
   ]
  },
  {
   "cell_type": "code",
   "execution_count": 24,
   "metadata": {},
   "outputs": [
    {
     "data": {
      "text/html": [
       "<div>\n",
       "<style scoped>\n",
       "    .dataframe tbody tr th:only-of-type {\n",
       "        vertical-align: middle;\n",
       "    }\n",
       "\n",
       "    .dataframe tbody tr th {\n",
       "        vertical-align: top;\n",
       "    }\n",
       "\n",
       "    .dataframe thead th {\n",
       "        text-align: right;\n",
       "    }\n",
       "</style>\n",
       "<table border=\"1\" class=\"dataframe\">\n",
       "  <thead>\n",
       "    <tr style=\"text-align: right;\">\n",
       "      <th></th>\n",
       "      <th>s1</th>\n",
       "      <th>s2</th>\n",
       "      <th>s3</th>\n",
       "      <th>exon_no</th>\n",
       "      <th>length</th>\n",
       "    </tr>\n",
       "  </thead>\n",
       "  <tbody>\n",
       "    <tr>\n",
       "      <th>g1</th>\n",
       "      <td>1.0</td>\n",
       "      <td>2.0</td>\n",
       "      <td>3.0</td>\n",
       "      <td>11.0</td>\n",
       "      <td>20.0</td>\n",
       "    </tr>\n",
       "    <tr>\n",
       "      <th>g2</th>\n",
       "      <td>4.0</td>\n",
       "      <td>5.0</td>\n",
       "      <td>6.0</td>\n",
       "      <td>40.0</td>\n",
       "      <td>50.0</td>\n",
       "    </tr>\n",
       "    <tr>\n",
       "      <th>g3</th>\n",
       "      <td>7.0</td>\n",
       "      <td>8.0</td>\n",
       "      <td>9.0</td>\n",
       "      <td>NaN</td>\n",
       "      <td>NaN</td>\n",
       "    </tr>\n",
       "    <tr>\n",
       "      <th>g4</th>\n",
       "      <td>NaN</td>\n",
       "      <td>NaN</td>\n",
       "      <td>NaN</td>\n",
       "      <td>70.0</td>\n",
       "      <td>80.0</td>\n",
       "    </tr>\n",
       "  </tbody>\n",
       "</table>\n",
       "</div>"
      ],
      "text/plain": [
       "     s1   s2   s3  exon_no  length\n",
       "g1  1.0  2.0  3.0     11.0    20.0\n",
       "g2  4.0  5.0  6.0     40.0    50.0\n",
       "g3  7.0  8.0  9.0      NaN     NaN\n",
       "g4  NaN  NaN  NaN     70.0    80.0"
      ]
     },
     "execution_count": 24,
     "metadata": {},
     "output_type": "execute_result"
    }
   ],
   "source": [
    "df1.join(df2, how = \"outer\")"
   ]
  },
  {
   "cell_type": "code",
   "execution_count": 8,
   "metadata": {},
   "outputs": [],
   "source": [
    "import pandas as pd\n",
    "df1 = pd.DataFrame([[1,2,3, \"g1\"],[4,5,6, \"g2\"],[7,8,9, \"g3\"]], columns = [\"s1\", \"s2\", \"s3\", \"g\"])\n",
    "df2 = pd.DataFrame([[11,20,\"g1\"],[40,50,\"g2\"],[70,80,\"g4\"]], columns = [\"exon_no\", \"length\", \"g\"])\n"
   ]
  },
  {
   "cell_type": "code",
   "execution_count": 10,
   "metadata": {},
   "outputs": [
    {
     "data": {
      "text/html": [
       "<div>\n",
       "<style scoped>\n",
       "    .dataframe tbody tr th:only-of-type {\n",
       "        vertical-align: middle;\n",
       "    }\n",
       "\n",
       "    .dataframe tbody tr th {\n",
       "        vertical-align: top;\n",
       "    }\n",
       "\n",
       "    .dataframe thead th {\n",
       "        text-align: right;\n",
       "    }\n",
       "</style>\n",
       "<table border=\"1\" class=\"dataframe\">\n",
       "  <thead>\n",
       "    <tr style=\"text-align: right;\">\n",
       "      <th></th>\n",
       "      <th>s1</th>\n",
       "      <th>s2</th>\n",
       "      <th>s3</th>\n",
       "      <th>g</th>\n",
       "    </tr>\n",
       "  </thead>\n",
       "  <tbody>\n",
       "    <tr>\n",
       "      <th>0</th>\n",
       "      <td>1</td>\n",
       "      <td>2</td>\n",
       "      <td>3</td>\n",
       "      <td>g1</td>\n",
       "    </tr>\n",
       "    <tr>\n",
       "      <th>1</th>\n",
       "      <td>4</td>\n",
       "      <td>5</td>\n",
       "      <td>6</td>\n",
       "      <td>g2</td>\n",
       "    </tr>\n",
       "    <tr>\n",
       "      <th>2</th>\n",
       "      <td>7</td>\n",
       "      <td>8</td>\n",
       "      <td>9</td>\n",
       "      <td>g3</td>\n",
       "    </tr>\n",
       "  </tbody>\n",
       "</table>\n",
       "</div>"
      ],
      "text/plain": [
       "   s1  s2  s3   g\n",
       "0   1   2   3  g1\n",
       "1   4   5   6  g2\n",
       "2   7   8   9  g3"
      ]
     },
     "execution_count": 10,
     "metadata": {},
     "output_type": "execute_result"
    }
   ],
   "source": [
    "df1"
   ]
  },
  {
   "cell_type": "code",
   "execution_count": null,
   "metadata": {},
   "outputs": [],
   "source": []
  },
  {
   "cell_type": "code",
   "execution_count": 13,
   "metadata": {},
   "outputs": [
    {
     "data": {
      "text/html": [
       "<div>\n",
       "<style scoped>\n",
       "    .dataframe tbody tr th:only-of-type {\n",
       "        vertical-align: middle;\n",
       "    }\n",
       "\n",
       "    .dataframe tbody tr th {\n",
       "        vertical-align: top;\n",
       "    }\n",
       "\n",
       "    .dataframe thead th {\n",
       "        text-align: right;\n",
       "    }\n",
       "</style>\n",
       "<table border=\"1\" class=\"dataframe\">\n",
       "  <thead>\n",
       "    <tr style=\"text-align: right;\">\n",
       "      <th></th>\n",
       "      <th>exon_no</th>\n",
       "      <th>length</th>\n",
       "      <th>g</th>\n",
       "    </tr>\n",
       "  </thead>\n",
       "  <tbody>\n",
       "    <tr>\n",
       "      <th>0</th>\n",
       "      <td>11</td>\n",
       "      <td>20</td>\n",
       "      <td>g1</td>\n",
       "    </tr>\n",
       "    <tr>\n",
       "      <th>1</th>\n",
       "      <td>40</td>\n",
       "      <td>50</td>\n",
       "      <td>g2</td>\n",
       "    </tr>\n",
       "    <tr>\n",
       "      <th>2</th>\n",
       "      <td>70</td>\n",
       "      <td>80</td>\n",
       "      <td>g4</td>\n",
       "    </tr>\n",
       "  </tbody>\n",
       "</table>\n",
       "</div>"
      ],
      "text/plain": [
       "   exon_no  length   g\n",
       "0       11      20  g1\n",
       "1       40      50  g2\n",
       "2       70      80  g4"
      ]
     },
     "execution_count": 13,
     "metadata": {},
     "output_type": "execute_result"
    }
   ],
   "source": [
    "df2"
   ]
  },
  {
   "cell_type": "code",
   "execution_count": 21,
   "metadata": {},
   "outputs": [
    {
     "data": {
      "text/html": [
       "<div>\n",
       "<style scoped>\n",
       "    .dataframe tbody tr th:only-of-type {\n",
       "        vertical-align: middle;\n",
       "    }\n",
       "\n",
       "    .dataframe tbody tr th {\n",
       "        vertical-align: top;\n",
       "    }\n",
       "\n",
       "    .dataframe thead th {\n",
       "        text-align: right;\n",
       "    }\n",
       "</style>\n",
       "<table border=\"1\" class=\"dataframe\">\n",
       "  <thead>\n",
       "    <tr style=\"text-align: right;\">\n",
       "      <th></th>\n",
       "      <th>s1</th>\n",
       "      <th>s2</th>\n",
       "      <th>s3</th>\n",
       "      <th>g</th>\n",
       "      <th>exon_no</th>\n",
       "      <th>length</th>\n",
       "      <th>_merge</th>\n",
       "    </tr>\n",
       "  </thead>\n",
       "  <tbody>\n",
       "    <tr>\n",
       "      <th>0</th>\n",
       "      <td>1</td>\n",
       "      <td>2</td>\n",
       "      <td>3</td>\n",
       "      <td>g1</td>\n",
       "      <td>11.0</td>\n",
       "      <td>20.0</td>\n",
       "      <td>both</td>\n",
       "    </tr>\n",
       "    <tr>\n",
       "      <th>1</th>\n",
       "      <td>4</td>\n",
       "      <td>5</td>\n",
       "      <td>6</td>\n",
       "      <td>g2</td>\n",
       "      <td>40.0</td>\n",
       "      <td>50.0</td>\n",
       "      <td>both</td>\n",
       "    </tr>\n",
       "    <tr>\n",
       "      <th>2</th>\n",
       "      <td>7</td>\n",
       "      <td>8</td>\n",
       "      <td>9</td>\n",
       "      <td>g3</td>\n",
       "      <td>NaN</td>\n",
       "      <td>NaN</td>\n",
       "      <td>left_only</td>\n",
       "    </tr>\n",
       "  </tbody>\n",
       "</table>\n",
       "</div>"
      ],
      "text/plain": [
       "   s1  s2  s3   g  exon_no  length     _merge\n",
       "0   1   2   3  g1     11.0    20.0       both\n",
       "1   4   5   6  g2     40.0    50.0       both\n",
       "2   7   8   9  g3      NaN     NaN  left_only"
      ]
     },
     "execution_count": 21,
     "metadata": {},
     "output_type": "execute_result"
    }
   ],
   "source": [
    "df1.merge(df2, how = \"left\", indicator = True)"
   ]
  },
  {
   "cell_type": "code",
   "execution_count": 40,
   "metadata": {},
   "outputs": [
    {
     "data": {
      "text/plain": [
       "\u001b[0;31mSignature:\u001b[0m\n",
       "\u001b[0mdf1\u001b[0m\u001b[0;34m.\u001b[0m\u001b[0mmerge\u001b[0m\u001b[0;34m(\u001b[0m\u001b[0;34m\u001b[0m\n",
       "\u001b[0;34m\u001b[0m    \u001b[0mright\u001b[0m\u001b[0;34m:\u001b[0m \u001b[0;34m'DataFrame | Series'\u001b[0m\u001b[0;34m,\u001b[0m\u001b[0;34m\u001b[0m\n",
       "\u001b[0;34m\u001b[0m    \u001b[0mhow\u001b[0m\u001b[0;34m:\u001b[0m \u001b[0;34m'MergeHow'\u001b[0m \u001b[0;34m=\u001b[0m \u001b[0;34m'inner'\u001b[0m\u001b[0;34m,\u001b[0m\u001b[0;34m\u001b[0m\n",
       "\u001b[0;34m\u001b[0m    \u001b[0mon\u001b[0m\u001b[0;34m:\u001b[0m \u001b[0;34m'IndexLabel | AnyArrayLike | None'\u001b[0m \u001b[0;34m=\u001b[0m \u001b[0;32mNone\u001b[0m\u001b[0;34m,\u001b[0m\u001b[0;34m\u001b[0m\n",
       "\u001b[0;34m\u001b[0m    \u001b[0mleft_on\u001b[0m\u001b[0;34m:\u001b[0m \u001b[0;34m'IndexLabel | AnyArrayLike | None'\u001b[0m \u001b[0;34m=\u001b[0m \u001b[0;32mNone\u001b[0m\u001b[0;34m,\u001b[0m\u001b[0;34m\u001b[0m\n",
       "\u001b[0;34m\u001b[0m    \u001b[0mright_on\u001b[0m\u001b[0;34m:\u001b[0m \u001b[0;34m'IndexLabel | AnyArrayLike | None'\u001b[0m \u001b[0;34m=\u001b[0m \u001b[0;32mNone\u001b[0m\u001b[0;34m,\u001b[0m\u001b[0;34m\u001b[0m\n",
       "\u001b[0;34m\u001b[0m    \u001b[0mleft_index\u001b[0m\u001b[0;34m:\u001b[0m \u001b[0;34m'bool'\u001b[0m \u001b[0;34m=\u001b[0m \u001b[0;32mFalse\u001b[0m\u001b[0;34m,\u001b[0m\u001b[0;34m\u001b[0m\n",
       "\u001b[0;34m\u001b[0m    \u001b[0mright_index\u001b[0m\u001b[0;34m:\u001b[0m \u001b[0;34m'bool'\u001b[0m \u001b[0;34m=\u001b[0m \u001b[0;32mFalse\u001b[0m\u001b[0;34m,\u001b[0m\u001b[0;34m\u001b[0m\n",
       "\u001b[0;34m\u001b[0m    \u001b[0msort\u001b[0m\u001b[0;34m:\u001b[0m \u001b[0;34m'bool'\u001b[0m \u001b[0;34m=\u001b[0m \u001b[0;32mFalse\u001b[0m\u001b[0;34m,\u001b[0m\u001b[0;34m\u001b[0m\n",
       "\u001b[0;34m\u001b[0m    \u001b[0msuffixes\u001b[0m\u001b[0;34m:\u001b[0m \u001b[0;34m'Suffixes'\u001b[0m \u001b[0;34m=\u001b[0m \u001b[0;34m(\u001b[0m\u001b[0;34m'_x'\u001b[0m\u001b[0;34m,\u001b[0m \u001b[0;34m'_y'\u001b[0m\u001b[0;34m)\u001b[0m\u001b[0;34m,\u001b[0m\u001b[0;34m\u001b[0m\n",
       "\u001b[0;34m\u001b[0m    \u001b[0mcopy\u001b[0m\u001b[0;34m:\u001b[0m \u001b[0;34m'bool | None'\u001b[0m \u001b[0;34m=\u001b[0m \u001b[0;32mNone\u001b[0m\u001b[0;34m,\u001b[0m\u001b[0;34m\u001b[0m\n",
       "\u001b[0;34m\u001b[0m    \u001b[0mindicator\u001b[0m\u001b[0;34m:\u001b[0m \u001b[0;34m'str | bool'\u001b[0m \u001b[0;34m=\u001b[0m \u001b[0;32mFalse\u001b[0m\u001b[0;34m,\u001b[0m\u001b[0;34m\u001b[0m\n",
       "\u001b[0;34m\u001b[0m    \u001b[0mvalidate\u001b[0m\u001b[0;34m:\u001b[0m \u001b[0;34m'MergeValidate | None'\u001b[0m \u001b[0;34m=\u001b[0m \u001b[0;32mNone\u001b[0m\u001b[0;34m,\u001b[0m\u001b[0;34m\u001b[0m\n",
       "\u001b[0;34m\u001b[0m\u001b[0;34m)\u001b[0m \u001b[0;34m->\u001b[0m \u001b[0;34m'DataFrame'\u001b[0m\u001b[0;34m\u001b[0m\u001b[0;34m\u001b[0m\u001b[0m\n",
       "\u001b[0;31mDocstring:\u001b[0m\n",
       "Merge DataFrame or named Series objects with a database-style join.\n",
       "\n",
       "A named Series object is treated as a DataFrame with a single named column.\n",
       "\n",
       "The join is done on columns or indexes. If joining columns on\n",
       "columns, the DataFrame indexes *will be ignored*. Otherwise if joining indexes\n",
       "on indexes or indexes on a column or columns, the index will be passed on.\n",
       "When performing a cross merge, no column specifications to merge on are\n",
       "allowed.\n",
       "\n",
       ".. warning::\n",
       "\n",
       "    If both key columns contain rows where the key is a null value, those\n",
       "    rows will be matched against each other. This is different from usual SQL\n",
       "    join behaviour and can lead to unexpected results.\n",
       "\n",
       "Parameters\n",
       "----------\n",
       "right : DataFrame or named Series\n",
       "    Object to merge with.\n",
       "how : {'left', 'right', 'outer', 'inner', 'cross'}, default 'inner'\n",
       "    Type of merge to be performed.\n",
       "\n",
       "    * left: use only keys from left frame, similar to a SQL left outer join;\n",
       "      preserve key order.\n",
       "    * right: use only keys from right frame, similar to a SQL right outer join;\n",
       "      preserve key order.\n",
       "    * outer: use union of keys from both frames, similar to a SQL full outer\n",
       "      join; sort keys lexicographically.\n",
       "    * inner: use intersection of keys from both frames, similar to a SQL inner\n",
       "      join; preserve the order of the left keys.\n",
       "    * cross: creates the cartesian product from both frames, preserves the order\n",
       "      of the left keys.\n",
       "on : label or list\n",
       "    Column or index level names to join on. These must be found in both\n",
       "    DataFrames. If `on` is None and not merging on indexes then this defaults\n",
       "    to the intersection of the columns in both DataFrames.\n",
       "left_on : label or list, or array-like\n",
       "    Column or index level names to join on in the left DataFrame. Can also\n",
       "    be an array or list of arrays of the length of the left DataFrame.\n",
       "    These arrays are treated as if they are columns.\n",
       "right_on : label or list, or array-like\n",
       "    Column or index level names to join on in the right DataFrame. Can also\n",
       "    be an array or list of arrays of the length of the right DataFrame.\n",
       "    These arrays are treated as if they are columns.\n",
       "left_index : bool, default False\n",
       "    Use the index from the left DataFrame as the join key(s). If it is a\n",
       "    MultiIndex, the number of keys in the other DataFrame (either the index\n",
       "    or a number of columns) must match the number of levels.\n",
       "right_index : bool, default False\n",
       "    Use the index from the right DataFrame as the join key. Same caveats as\n",
       "    left_index.\n",
       "sort : bool, default False\n",
       "    Sort the join keys lexicographically in the result DataFrame. If False,\n",
       "    the order of the join keys depends on the join type (how keyword).\n",
       "suffixes : list-like, default is (\"_x\", \"_y\")\n",
       "    A length-2 sequence where each element is optionally a string\n",
       "    indicating the suffix to add to overlapping column names in\n",
       "    `left` and `right` respectively. Pass a value of `None` instead\n",
       "    of a string to indicate that the column name from `left` or\n",
       "    `right` should be left as-is, with no suffix. At least one of the\n",
       "    values must not be None.\n",
       "copy : bool, default True\n",
       "    If False, avoid copy if possible.\n",
       "\n",
       "    .. note::\n",
       "        The `copy` keyword will change behavior in pandas 3.0.\n",
       "        `Copy-on-Write\n",
       "        <https://pandas.pydata.org/docs/dev/user_guide/copy_on_write.html>`__\n",
       "        will be enabled by default, which means that all methods with a\n",
       "        `copy` keyword will use a lazy copy mechanism to defer the copy and\n",
       "        ignore the `copy` keyword. The `copy` keyword will be removed in a\n",
       "        future version of pandas.\n",
       "\n",
       "        You can already get the future behavior and improvements through\n",
       "        enabling copy on write ``pd.options.mode.copy_on_write = True``\n",
       "indicator : bool or str, default False\n",
       "    If True, adds a column to the output DataFrame called \"_merge\" with\n",
       "    information on the source of each row. The column can be given a different\n",
       "    name by providing a string argument. The column will have a Categorical\n",
       "    type with the value of \"left_only\" for observations whose merge key only\n",
       "    appears in the left DataFrame, \"right_only\" for observations\n",
       "    whose merge key only appears in the right DataFrame, and \"both\"\n",
       "    if the observation's merge key is found in both DataFrames.\n",
       "\n",
       "validate : str, optional\n",
       "    If specified, checks if merge is of specified type.\n",
       "\n",
       "    * \"one_to_one\" or \"1:1\": check if merge keys are unique in both\n",
       "      left and right datasets.\n",
       "    * \"one_to_many\" or \"1:m\": check if merge keys are unique in left\n",
       "      dataset.\n",
       "    * \"many_to_one\" or \"m:1\": check if merge keys are unique in right\n",
       "      dataset.\n",
       "    * \"many_to_many\" or \"m:m\": allowed, but does not result in checks.\n",
       "\n",
       "Returns\n",
       "-------\n",
       "DataFrame\n",
       "    A DataFrame of the two merged objects.\n",
       "\n",
       "See Also\n",
       "--------\n",
       "merge_ordered : Merge with optional filling/interpolation.\n",
       "merge_asof : Merge on nearest keys.\n",
       "DataFrame.join : Similar method using indices.\n",
       "\n",
       "Examples\n",
       "--------\n",
       ">>> df1 = pd.DataFrame({'lkey': ['foo', 'bar', 'baz', 'foo'],\n",
       "...                     'value': [1, 2, 3, 5]})\n",
       ">>> df2 = pd.DataFrame({'rkey': ['foo', 'bar', 'baz', 'foo'],\n",
       "...                     'value': [5, 6, 7, 8]})\n",
       ">>> df1\n",
       "    lkey value\n",
       "0   foo      1\n",
       "1   bar      2\n",
       "2   baz      3\n",
       "3   foo      5\n",
       ">>> df2\n",
       "    rkey value\n",
       "0   foo      5\n",
       "1   bar      6\n",
       "2   baz      7\n",
       "3   foo      8\n",
       "\n",
       "Merge df1 and df2 on the lkey and rkey columns. The value columns have\n",
       "the default suffixes, _x and _y, appended.\n",
       "\n",
       ">>> df1.merge(df2, left_on='lkey', right_on='rkey')\n",
       "  lkey  value_x rkey  value_y\n",
       "0  foo        1  foo        5\n",
       "1  foo        1  foo        8\n",
       "2  bar        2  bar        6\n",
       "3  baz        3  baz        7\n",
       "4  foo        5  foo        5\n",
       "5  foo        5  foo        8\n",
       "\n",
       "Merge DataFrames df1 and df2 with specified left and right suffixes\n",
       "appended to any overlapping columns.\n",
       "\n",
       ">>> df1.merge(df2, left_on='lkey', right_on='rkey',\n",
       "...           suffixes=('_left', '_right'))\n",
       "  lkey  value_left rkey  value_right\n",
       "0  foo           1  foo            5\n",
       "1  foo           1  foo            8\n",
       "2  bar           2  bar            6\n",
       "3  baz           3  baz            7\n",
       "4  foo           5  foo            5\n",
       "5  foo           5  foo            8\n",
       "\n",
       "Merge DataFrames df1 and df2, but raise an exception if the DataFrames have\n",
       "any overlapping columns.\n",
       "\n",
       ">>> df1.merge(df2, left_on='lkey', right_on='rkey', suffixes=(False, False))\n",
       "Traceback (most recent call last):\n",
       "...\n",
       "ValueError: columns overlap but no suffix specified:\n",
       "    Index(['value'], dtype='object')\n",
       "\n",
       ">>> df1 = pd.DataFrame({'a': ['foo', 'bar'], 'b': [1, 2]})\n",
       ">>> df2 = pd.DataFrame({'a': ['foo', 'baz'], 'c': [3, 4]})\n",
       ">>> df1\n",
       "      a  b\n",
       "0   foo  1\n",
       "1   bar  2\n",
       ">>> df2\n",
       "      a  c\n",
       "0   foo  3\n",
       "1   baz  4\n",
       "\n",
       ">>> df1.merge(df2, how='inner', on='a')\n",
       "      a  b  c\n",
       "0   foo  1  3\n",
       "\n",
       ">>> df1.merge(df2, how='left', on='a')\n",
       "      a  b  c\n",
       "0   foo  1  3.0\n",
       "1   bar  2  NaN\n",
       "\n",
       ">>> df1 = pd.DataFrame({'left': ['foo', 'bar']})\n",
       ">>> df2 = pd.DataFrame({'right': [7, 8]})\n",
       ">>> df1\n",
       "    left\n",
       "0   foo\n",
       "1   bar\n",
       ">>> df2\n",
       "    right\n",
       "0   7\n",
       "1   8\n",
       "\n",
       ">>> df1.merge(df2, how='cross')\n",
       "   left  right\n",
       "0   foo      7\n",
       "1   foo      8\n",
       "2   bar      7\n",
       "3   bar      8\n",
       "\u001b[0;31mFile:\u001b[0m      /opt/anaconda3/lib/python3.12/site-packages/pandas/core/frame.py\n",
       "\u001b[0;31mType:\u001b[0m      method"
      ]
     },
     "metadata": {},
     "output_type": "display_data"
    }
   ],
   "source": [
    "df1.merge?"
   ]
  },
  {
   "cell_type": "code",
   "execution_count": 18,
   "metadata": {},
   "outputs": [
    {
     "data": {
      "text/plain": [
       "\u001b[0;31mSignature:\u001b[0m\n",
       "\u001b[0mdf1\u001b[0m\u001b[0;34m.\u001b[0m\u001b[0mjoin\u001b[0m\u001b[0;34m(\u001b[0m\u001b[0;34m\u001b[0m\n",
       "\u001b[0;34m\u001b[0m    \u001b[0mother\u001b[0m\u001b[0;34m:\u001b[0m \u001b[0;34m'DataFrame | Series | Iterable[DataFrame | Series]'\u001b[0m\u001b[0;34m,\u001b[0m\u001b[0;34m\u001b[0m\n",
       "\u001b[0;34m\u001b[0m    \u001b[0mon\u001b[0m\u001b[0;34m:\u001b[0m \u001b[0;34m'IndexLabel | None'\u001b[0m \u001b[0;34m=\u001b[0m \u001b[0;32mNone\u001b[0m\u001b[0;34m,\u001b[0m\u001b[0;34m\u001b[0m\n",
       "\u001b[0;34m\u001b[0m    \u001b[0mhow\u001b[0m\u001b[0;34m:\u001b[0m \u001b[0;34m'MergeHow'\u001b[0m \u001b[0;34m=\u001b[0m \u001b[0;34m'left'\u001b[0m\u001b[0;34m,\u001b[0m\u001b[0;34m\u001b[0m\n",
       "\u001b[0;34m\u001b[0m    \u001b[0mlsuffix\u001b[0m\u001b[0;34m:\u001b[0m \u001b[0;34m'str'\u001b[0m \u001b[0;34m=\u001b[0m \u001b[0;34m''\u001b[0m\u001b[0;34m,\u001b[0m\u001b[0;34m\u001b[0m\n",
       "\u001b[0;34m\u001b[0m    \u001b[0mrsuffix\u001b[0m\u001b[0;34m:\u001b[0m \u001b[0;34m'str'\u001b[0m \u001b[0;34m=\u001b[0m \u001b[0;34m''\u001b[0m\u001b[0;34m,\u001b[0m\u001b[0;34m\u001b[0m\n",
       "\u001b[0;34m\u001b[0m    \u001b[0msort\u001b[0m\u001b[0;34m:\u001b[0m \u001b[0;34m'bool'\u001b[0m \u001b[0;34m=\u001b[0m \u001b[0;32mFalse\u001b[0m\u001b[0;34m,\u001b[0m\u001b[0;34m\u001b[0m\n",
       "\u001b[0;34m\u001b[0m    \u001b[0mvalidate\u001b[0m\u001b[0;34m:\u001b[0m \u001b[0;34m'JoinValidate | None'\u001b[0m \u001b[0;34m=\u001b[0m \u001b[0;32mNone\u001b[0m\u001b[0;34m,\u001b[0m\u001b[0;34m\u001b[0m\n",
       "\u001b[0;34m\u001b[0m\u001b[0;34m)\u001b[0m \u001b[0;34m->\u001b[0m \u001b[0;34m'DataFrame'\u001b[0m\u001b[0;34m\u001b[0m\u001b[0;34m\u001b[0m\u001b[0m\n",
       "\u001b[0;31mDocstring:\u001b[0m\n",
       "Join columns of another DataFrame.\n",
       "\n",
       "Join columns with `other` DataFrame either on index or on a key\n",
       "column. Efficiently join multiple DataFrame objects by index at once by\n",
       "passing a list.\n",
       "\n",
       "Parameters\n",
       "----------\n",
       "other : DataFrame, Series, or a list containing any combination of them\n",
       "    Index should be similar to one of the columns in this one. If a\n",
       "    Series is passed, its name attribute must be set, and that will be\n",
       "    used as the column name in the resulting joined DataFrame.\n",
       "on : str, list of str, or array-like, optional\n",
       "    Column or index level name(s) in the caller to join on the index\n",
       "    in `other`, otherwise joins index-on-index. If multiple\n",
       "    values given, the `other` DataFrame must have a MultiIndex. Can\n",
       "    pass an array as the join key if it is not already contained in\n",
       "    the calling DataFrame. Like an Excel VLOOKUP operation.\n",
       "how : {'left', 'right', 'outer', 'inner', 'cross'}, default 'left'\n",
       "    How to handle the operation of the two objects.\n",
       "\n",
       "    * left: use calling frame's index (or column if on is specified)\n",
       "    * right: use `other`'s index.\n",
       "    * outer: form union of calling frame's index (or column if on is\n",
       "      specified) with `other`'s index, and sort it lexicographically.\n",
       "    * inner: form intersection of calling frame's index (or column if\n",
       "      on is specified) with `other`'s index, preserving the order\n",
       "      of the calling's one.\n",
       "    * cross: creates the cartesian product from both frames, preserves the order\n",
       "      of the left keys.\n",
       "lsuffix : str, default ''\n",
       "    Suffix to use from left frame's overlapping columns.\n",
       "rsuffix : str, default ''\n",
       "    Suffix to use from right frame's overlapping columns.\n",
       "sort : bool, default False\n",
       "    Order result DataFrame lexicographically by the join key. If False,\n",
       "    the order of the join key depends on the join type (how keyword).\n",
       "validate : str, optional\n",
       "    If specified, checks if join is of specified type.\n",
       "\n",
       "    * \"one_to_one\" or \"1:1\": check if join keys are unique in both left\n",
       "      and right datasets.\n",
       "    * \"one_to_many\" or \"1:m\": check if join keys are unique in left dataset.\n",
       "    * \"many_to_one\" or \"m:1\": check if join keys are unique in right dataset.\n",
       "    * \"many_to_many\" or \"m:m\": allowed, but does not result in checks.\n",
       "\n",
       "    .. versionadded:: 1.5.0\n",
       "\n",
       "Returns\n",
       "-------\n",
       "DataFrame\n",
       "    A dataframe containing columns from both the caller and `other`.\n",
       "\n",
       "See Also\n",
       "--------\n",
       "DataFrame.merge : For column(s)-on-column(s) operations.\n",
       "\n",
       "Notes\n",
       "-----\n",
       "Parameters `on`, `lsuffix`, and `rsuffix` are not supported when\n",
       "passing a list of `DataFrame` objects.\n",
       "\n",
       "Examples\n",
       "--------\n",
       ">>> df = pd.DataFrame({'key': ['K0', 'K1', 'K2', 'K3', 'K4', 'K5'],\n",
       "...                    'A': ['A0', 'A1', 'A2', 'A3', 'A4', 'A5']})\n",
       "\n",
       ">>> df\n",
       "  key   A\n",
       "0  K0  A0\n",
       "1  K1  A1\n",
       "2  K2  A2\n",
       "3  K3  A3\n",
       "4  K4  A4\n",
       "5  K5  A5\n",
       "\n",
       ">>> other = pd.DataFrame({'key': ['K0', 'K1', 'K2'],\n",
       "...                       'B': ['B0', 'B1', 'B2']})\n",
       "\n",
       ">>> other\n",
       "  key   B\n",
       "0  K0  B0\n",
       "1  K1  B1\n",
       "2  K2  B2\n",
       "\n",
       "Join DataFrames using their indexes.\n",
       "\n",
       ">>> df.join(other, lsuffix='_caller', rsuffix='_other')\n",
       "  key_caller   A key_other    B\n",
       "0         K0  A0        K0   B0\n",
       "1         K1  A1        K1   B1\n",
       "2         K2  A2        K2   B2\n",
       "3         K3  A3       NaN  NaN\n",
       "4         K4  A4       NaN  NaN\n",
       "5         K5  A5       NaN  NaN\n",
       "\n",
       "If we want to join using the key columns, we need to set key to be\n",
       "the index in both `df` and `other`. The joined DataFrame will have\n",
       "key as its index.\n",
       "\n",
       ">>> df.set_index('key').join(other.set_index('key'))\n",
       "      A    B\n",
       "key\n",
       "K0   A0   B0\n",
       "K1   A1   B1\n",
       "K2   A2   B2\n",
       "K3   A3  NaN\n",
       "K4   A4  NaN\n",
       "K5   A5  NaN\n",
       "\n",
       "Another option to join using the key columns is to use the `on`\n",
       "parameter. DataFrame.join always uses `other`'s index but we can use\n",
       "any column in `df`. This method preserves the original DataFrame's\n",
       "index in the result.\n",
       "\n",
       ">>> df.join(other.set_index('key'), on='key')\n",
       "  key   A    B\n",
       "0  K0  A0   B0\n",
       "1  K1  A1   B1\n",
       "2  K2  A2   B2\n",
       "3  K3  A3  NaN\n",
       "4  K4  A4  NaN\n",
       "5  K5  A5  NaN\n",
       "\n",
       "Using non-unique key values shows how they are matched.\n",
       "\n",
       ">>> df = pd.DataFrame({'key': ['K0', 'K1', 'K1', 'K3', 'K0', 'K1'],\n",
       "...                    'A': ['A0', 'A1', 'A2', 'A3', 'A4', 'A5']})\n",
       "\n",
       ">>> df\n",
       "  key   A\n",
       "0  K0  A0\n",
       "1  K1  A1\n",
       "2  K1  A2\n",
       "3  K3  A3\n",
       "4  K0  A4\n",
       "5  K1  A5\n",
       "\n",
       ">>> df.join(other.set_index('key'), on='key', validate='m:1')\n",
       "  key   A    B\n",
       "0  K0  A0   B0\n",
       "1  K1  A1   B1\n",
       "2  K1  A2   B1\n",
       "3  K3  A3  NaN\n",
       "4  K0  A4   B0\n",
       "5  K1  A5   B1\n",
       "\u001b[0;31mFile:\u001b[0m      /opt/anaconda3/lib/python3.12/site-packages/pandas/core/frame.py\n",
       "\u001b[0;31mType:\u001b[0m      method"
      ]
     },
     "metadata": {},
     "output_type": "display_data"
    }
   ],
   "source": [
    "df1.join?"
   ]
  },
  {
   "cell_type": "code",
   "execution_count": null,
   "metadata": {},
   "outputs": [],
   "source": []
  },
  {
   "cell_type": "markdown",
   "metadata": {},
   "source": [
    "## SQL - Major SQL commands\n",
    "### BIOINF 575"
   ]
  },
  {
   "cell_type": "markdown",
   "metadata": {},
   "source": [
    "##### RESOURCES\n",
    "https://sqlite.org/index.html    \n",
    "https://www.sqlite.org/fullsql.html  \n",
    "https://docs.python.org/3/library/sqlite3.html  \n",
    "https://www.sqlite.org/lang_aggfunc.html  \n",
    "https://www.sqlitetutorial.net/sqlite-create-table/    \n",
    "https://www.sqlite.org/syntaxdiagrams.html    \n",
    "https://www.tutorialspoint.com/python_network_programming/python_databases_and_sql.htm  \n",
    "https://www.tutorialspoint.com/python/python_database_access.htm  \n",
    "https://www.python-course.eu/sql_python.php  \n",
    "https://www.sqlalchemy.org/library.html#reference    \n",
    "https://docs.sqlalchemy.org/en/13/orm/  \n",
    "https://docs.sqlalchemy.org/en/14/orm/tutorial.html#version-check  \n",
    "https://towardsdatascience.com/sql-in-python-for-beginners-b9a4f9293ecf  \n",
    "https://database.guide/2-sample-databases-sqlite/\n",
    "https://www.sqlitetutorial.net/sqlite-sample-database/"
   ]
  },
  {
   "cell_type": "markdown",
   "metadata": {
    "tags": []
   },
   "source": [
    "#### What is a database? \n",
    "\n",
    "* Is an organized collection of data (files)\n",
    "* A way to store and retrieve that information\n",
    "* A relational database is structured to recognize relations between the data elements\n",
    "\n",
    "\n",
    "*  A collection of data\n",
    "\n",
    "        * Dictionary\n",
    "            {\"EGFR\":6.8, \"MYC\": 4.5, \"WNT1\":11.7}\n",
    "\n",
    "        * Tab-separated text file, or pd.DataFrame\n",
    "\n",
    "\n",
    "| GeneID  | GeneSymbol  | ExpressionValue  |\n",
    "|---------|-------------|------------------|\n",
    "| 7471    | WNT1        |             11.7 |\n",
    "| 4609    | MYC         |              4.5 |\n",
    "| 1956    | EGFR        |              6.8 |\n",
    "\n",
    "\n",
    "Entity-Relationship Diagram - shows the relations between tables in a relational database\n",
    "- tables are connected by fields (columns) that are common - called keys\n",
    "\n",
    "\n",
    "https://upload.wikimedia.org/wikipedia/commons/b/b8/Sql_hospital.png\n",
    "\n",
    "\n",
    "<img src = https://upload.wikimedia.org/wikipedia/commons/b/b8/Sql_hospital.png  width = 700 />\n",
    "\n",
    "Relationship diagram as shown by the Relational Database Management Systems (RDBM)\n",
    "\n",
    "https://dcm.uhcl.edu/yue/courses/joinDB/fall2024/notes/toyu/toyu.html\n",
    "\n",
    "<img src = https://dcm.uhcl.edu/yue/courses/joinDB/fall2024/notes/toyu/toyu_er_workbench.jpg  width = 600 />\n",
    "\n",
    "\n",
    "\n",
    "More examples:\n",
    "\n",
    "https://www.sqlitetutorial.net/wp-content/uploads/2015/11/sqlite-sample-database-color.jpg      \n",
    "https://upload.wikimedia.org/wikipedia/commons/b/b8/Sql_hospital.png      \n",
    "https://www.researchgate.net/profile/Adam_Richards3/publication/282134102/figure/fig3/AS:289128232046602@1445944950296/Database-entity-diagram-Data-collected-from-NCBI-the-Gene-Ontology-and-UniProt-are.png      \n",
    "\n",
    "\n",
    "\n",
    "\n",
    "#### Relational Database Management Systems (RDBMS)\n",
    "* Software programs such as Oracle, MySQL, SQLServer, DB2, postgreSQL, SQLite \n",
    "* They handle the data storage, indexing, logging, tracking and security (access)  \n",
    "* They have a very fine-grained way of granting permissions to users at the level of commands that may be used\n",
    "    * Create a database\n",
    "    * Create a table\n",
    "    * Update or insert data\n",
    "    * View certain tables ... and many more   \n",
    "* An important part of learning databases is to understand the type of data which is stored in columns and rows.  \n",
    "* Likewise when we get to the database design section, it is critically important to know what type of data you will be modeling and storing (and roughly how much, in traditional systems) \n",
    "* Exactly which types are available depends on the database system\n",
    "\n",
    "\n",
    "\n",
    "#### Why use databases and Relational Database Management Systems?\n",
    "* Easy, efficient, secure, collaborative management of data that maintains data integrity\n",
    "\n",
    "#### What is the Structured Query Language (SQL) ?\n",
    "* SQL is the standard language for relational database management systems\n",
    "* SQL is used to communicate with a database\n",
    "\n",
    "#### Why SQLite?\n",
    "SQLite is a C library that provides a lightweight disk-based database that doesn’t require a separate server process and allows accessing the database using a nonstandard variant of the SQL query language. Some applications can use SQLite for internal data storage. \n",
    "* SQLite is often the technology of choice for small applications, particularly those of embedded systems and devices like phones and tablets, smart appliances, and instruments.\n",
    "* It’s also possible to prototype an application using SQLite and then port the code to a larger database such as PostgreSQL or Oracle.\n",
    "\n",
    "#### Integrated Development Environment (IDE)\n",
    "\n",
    "There are many tools:      \n",
    "##### https://dbeaver.io - recommended, please install it for the next session\n",
    "\n",
    "<img src = https://github.com/dbeaver/dbeaver/wiki/images/ug/SQL-Editor.png width = 600/>\n",
    "\n",
    "https://github.com/dbeaver/dbeaver/wiki/SQL-Editor\n",
    "\n",
    "Other IDE tools:    \n",
    "https://www.adminer.org    \n",
    "https://razorsql.com\n",
    "https://sqlitebrowser.org    \n",
    "https://towardsdatascience.com/10-best-sql-editor-tools-in-the-market-126acd64ba06    \n",
    "https://learnsql.com/blog/best-sql-editor/     \n",
    "\n",
    "\n",
    "#### sqlite3\n",
    "The sqlite3 module in the Python standard library provides a SQL interface to communicate with databases.<br>\n",
    "https://docs.python.org/3/library/sqlite3.html\n",
    "\n",
    "Once you have a `Connection`, you can create a `Cursor` object and call its execute() method to perform SQL commands.\n",
    "\n",
    "`Cursor` objects represent a database cursor, which is used to manage the context of a fetch/retrieval operation.  \n",
    "A call to the `Cursor`'s execute() method is used to perform SQL commands.\n",
    "\n",
    "#### SQLite uses a greatly simplified set of data types:\n",
    "* INTEGER - numeric\n",
    "* REAL - numeric\n",
    "* TEXT – text of any length\n",
    "    * Dates are held as text\n",
    "* BLOB – binary large objects\n",
    "    * Such as images"
   ]
  },
  {
   "cell_type": "code",
   "execution_count": null,
   "metadata": {},
   "outputs": [],
   "source": []
  },
  {
   "cell_type": "code",
   "execution_count": null,
   "metadata": {},
   "outputs": [],
   "source": []
  },
  {
   "cell_type": "code",
   "execution_count": null,
   "metadata": {},
   "outputs": [],
   "source": []
  },
  {
   "cell_type": "markdown",
   "metadata": {},
   "source": [
    "#### The data\n",
    "\n",
    "https://datacarpentry.org/python-ecology-lesson/\n",
    "\n",
    "Download the database file `portal_mammals.sqlite` from:   \n",
    "https://datacarpentry.org/python-ecology-lesson/setup.html      \n",
    "\"     \n",
    "The data we will be using is a time-series for a small mammal community in southern Arizona.    \n",
    "This is part of a project studying the effects of rodents and ants on the plant community that has been running for almost 40 years.    \n",
    "The rodents are sampled on a series of 24 plots, with different experimental manipulations controlling which rodents are allowed to access which plots.    \n",
    "\"   \n",
    "https://datacarpentry.org/sql-ecology-lesson/00-sql-introduction/index.html\n"
   ]
  },
  {
   "cell_type": "code",
   "execution_count": 5,
   "metadata": {},
   "outputs": [],
   "source": [
    "# bring into the environment the  functionality that \n",
    "# can be used to connect to a database\n",
    "\n",
    "from sqlite3 import connect\n",
    "\n",
    "'''    \n",
    "    Establish a connection to the database.\n",
    "    This statement creates the file at the given path if it does not exist and that will be an empty database.\n",
    "    The file was provided in this case so the statement should just establish the connection.\n",
    "'''\n",
    "\n",
    "# create a connection object to be able to acceess the database\n",
    "\n",
    "connection = connect('portal_mammals.sqlite')\n",
    "\n",
    "# create a cursor to interact with the database and \n",
    "# send commands to the database \n",
    "\n",
    "cursor = connection.cursor()\n"
   ]
  },
  {
   "cell_type": "markdown",
   "metadata": {},
   "source": [
    "#### The cursor and the connection should be closed when we no loger run queries.\n",
    "```python\n",
    "cursor.close()\n",
    "connection.close()\n",
    "```\n",
    "\n",
    "We are still using them so we keep them open for now.     \n",
    "After we close them, we should run the above cell again to reestablish the access to the database."
   ]
  },
  {
   "cell_type": "code",
   "execution_count": 7,
   "metadata": {},
   "outputs": [
    {
     "data": {
      "text/plain": [
       "sqlite3.Connection"
      ]
     },
     "execution_count": 7,
     "metadata": {},
     "output_type": "execute_result"
    }
   ],
   "source": [
    "# what is the type of the connection object?\n",
    "\n",
    "type(connection)\n"
   ]
  },
  {
   "cell_type": "code",
   "execution_count": 47,
   "metadata": {},
   "outputs": [
    {
     "data": {
      "text/plain": [
       "['DataError',\n",
       " 'DatabaseError',\n",
       " 'Error',\n",
       " 'IntegrityError',\n",
       " 'InterfaceError',\n",
       " 'InternalError',\n",
       " 'NotSupportedError',\n",
       " 'OperationalError',\n",
       " 'ProgrammingError',\n",
       " 'Warning',\n",
       " 'autocommit',\n",
       " 'backup',\n",
       " 'blobopen',\n",
       " 'close',\n",
       " 'commit',\n",
       " 'create_aggregate',\n",
       " 'create_collation',\n",
       " 'create_function',\n",
       " 'create_window_function',\n",
       " 'cursor',\n",
       " 'deserialize',\n",
       " 'enable_load_extension',\n",
       " 'execute',\n",
       " 'executemany',\n",
       " 'executescript',\n",
       " 'getconfig',\n",
       " 'getlimit',\n",
       " 'in_transaction',\n",
       " 'interrupt',\n",
       " 'isolation_level',\n",
       " 'iterdump',\n",
       " 'load_extension',\n",
       " 'rollback',\n",
       " 'row_factory',\n",
       " 'serialize',\n",
       " 'set_authorizer',\n",
       " 'set_progress_handler',\n",
       " 'set_trace_callback',\n",
       " 'setconfig',\n",
       " 'setlimit',\n",
       " 'text_factory',\n",
       " 'total_changes']"
      ]
     },
     "execution_count": 47,
     "metadata": {},
     "output_type": "execute_result"
    }
   ],
   "source": [
    "# what can the connection object do? \n",
    "# look at only for non __ methods and attributes\n",
    "\n",
    "[elem for elem in dir(connection) if not elem.startswith(\"__\")]"
   ]
  },
  {
   "cell_type": "code",
   "execution_count": 9,
   "metadata": {},
   "outputs": [
    {
     "data": {
      "text/plain": [
       "sqlite3.Cursor"
      ]
     },
     "execution_count": 9,
     "metadata": {},
     "output_type": "execute_result"
    }
   ],
   "source": [
    "# what is the type of the cursor object?\n",
    "type(cursor)\n"
   ]
  },
  {
   "cell_type": "code",
   "execution_count": 51,
   "metadata": {},
   "outputs": [
    {
     "data": {
      "text/plain": [
       "['arraysize',\n",
       " 'close',\n",
       " 'connection',\n",
       " 'description',\n",
       " 'execute',\n",
       " 'executemany',\n",
       " 'executescript',\n",
       " 'fetchall',\n",
       " 'fetchmany',\n",
       " 'fetchone',\n",
       " 'lastrowid',\n",
       " 'row_factory',\n",
       " 'rowcount',\n",
       " 'setinputsizes',\n",
       " 'setoutputsize']"
      ]
     },
     "execution_count": 51,
     "metadata": {},
     "output_type": "execute_result"
    }
   ],
   "source": [
    "# what can the cursor object do? \n",
    "# look at only for non __ methods and attributes\n",
    "\n",
    "[elem for elem in dir(cursor) if not elem.startswith(\"__\")]"
   ]
  },
  {
   "cell_type": "code",
   "execution_count": null,
   "metadata": {},
   "outputs": [],
   "source": []
  },
  {
   "cell_type": "markdown",
   "metadata": {},
   "source": [
    "____\n",
    "\n",
    "#### Major SQL commands: SELECT, INSERT, DELETE, UPDATE\n",
    "\n",
    "____ \n",
    "\n",
    "#### SELECT - Retrieves data from one or more tables and doesn’t change the data at all \n",
    "\n",
    "<img src = http://www.tutorialscan.com/wp-content/uploads/2018/04/sql_select.jpg width = 300 />\n",
    "\n",
    "http://www.tutorialscan.com/wp-content/uploads/2018/04/sql_select.jpg\n",
    "\n",
    "#### A more complex diagram with all the options is available at:\n",
    "#### https://www.sqlite.org/syntaxdiagrams.html#select-stmt\n",
    "\n",
    "#### Description of each of the options:\n",
    "* **SELECT**  * (means all columns), or the comma separated names of the columns of data you wish to return\n",
    "    * Returns columns (left to right) in the order received. \n",
    "    * '*' selects ALL rows and ALL columns and returns them by column order and row_id\n",
    "* **FROM** is the table source or sources (comma separated)\n",
    "* **WHERE** (optional)** is the predicate clause: conditions for the query\n",
    "    * Evaluates to True or False for each row\n",
    "    * This clause almost always includes Column-Value pairs.\n",
    "    * Omitting the Where clause returns ALL the records in that table.\n",
    "    * Note: the match is case sensitive\n",
    "* **ORDER BY (optional)** indicates a sort order for the output data \n",
    "    * default is row_id, which can be very non-intuitive  \n",
    "    * ASCending or DESCending can be appended to change the sort order.  (ASC is default)\n",
    "* **GROUP BY (optional)** groups by a column and creates summary data for a different column\n",
    "* **HAVING (optional)** allows restrictions on the rows selected\n",
    "    * a GROUP BY clause is required before HAVING\n",
    "* **LIMIT (optional)** reduces the number of rows retrieved to the number provided after this clause\n",
    "* In most SQL clients, the \";\" indicates the end of a statement and requests execution\n"
   ]
  },
  {
   "cell_type": "code",
   "execution_count": 11,
   "metadata": {},
   "outputs": [
    {
     "data": {
      "text/plain": [
       "<sqlite3.Cursor at 0x1042044c0>"
      ]
     },
     "execution_count": 11,
     "metadata": {},
     "output_type": "execute_result"
    }
   ],
   "source": [
    "# In every SQLite database, there is a special table: sqlite_master\n",
    "# sqlite_master -  describes the contents of the database\n",
    "\n",
    "# the SQL command can be ran as is when using a Integrated Development Environment \n",
    "# e.g. DBeaver\n",
    "\n",
    "sql = '''\n",
    "SELECT type, name \n",
    "FROM sqlite_master LIMIT 5;'''\n",
    "cursor.execute(sql)"
   ]
  },
  {
   "cell_type": "code",
   "execution_count": 55,
   "metadata": {},
   "outputs": [
    {
     "data": {
      "text/plain": [
       "[('table', 'surveys'),\n",
       " ('table', 'species'),\n",
       " ('table', 'plots'),\n",
       " ('table', 'sqlite_sequence'),\n",
       " ('table', 'test_table')]"
      ]
     },
     "execution_count": 55,
     "metadata": {},
     "output_type": "execute_result"
    }
   ],
   "source": [
    "list(cursor)"
   ]
  },
  {
   "cell_type": "code",
   "execution_count": 15,
   "metadata": {},
   "outputs": [
    {
     "data": {
      "text/plain": [
       "[('table', 'surveys'),\n",
       " ('table', 'species'),\n",
       " ('table', 'plots'),\n",
       " ('table', 'sqlite_sequence'),\n",
       " ('table', 'test_table'),\n",
       " ('index', 'test_column1_idx'),\n",
       " ('view', 'survey_test')]"
      ]
     },
     "execution_count": 15,
     "metadata": {},
     "output_type": "execute_result"
    }
   ],
   "source": [
    "sql = '''\n",
    "SELECT type, name \n",
    "FROM sqlite_master;'''\n",
    "cursor.execute(sql)\n",
    "list(cursor)"
   ]
  },
  {
   "cell_type": "code",
   "execution_count": 17,
   "metadata": {},
   "outputs": [
    {
     "name": "stdout",
     "output_type": "stream",
     "text": [
      "Help on built-in function fetchall:\n",
      "\n",
      "fetchall() method of sqlite3.Cursor instance\n",
      "    Fetches all rows from the resultset.\n",
      "\n"
     ]
    }
   ],
   "source": [
    "# look at the help of the fetchall method for the cursor \n",
    "help(cursor.fetchall)"
   ]
  },
  {
   "cell_type": "code",
   "execution_count": 21,
   "metadata": {},
   "outputs": [
    {
     "data": {
      "text/plain": [
       "[('table',\n",
       "  'surveys',\n",
       "  'surveys',\n",
       "  2,\n",
       "  'CREATE TABLE surveys (\\n\\trecord_id BIGINT, \\n\\tmonth BIGINT, \\n\\tday BIGINT, \\n\\tyear BIGINT, \\n\\tplot_id BIGINT, \\n\\tspecies_id TEXT, \\n\\tsex TEXT, \\n\\thindfoot_length FLOAT, \\n\\tweight FLOAT\\n)'),\n",
       " ('table',\n",
       "  'species',\n",
       "  'species',\n",
       "  241,\n",
       "  'CREATE TABLE species (\\n\\tspecies_id TEXT, \\n\\tgenus TEXT, \\n\\tspecies TEXT, \\n\\ttaxa TEXT\\n)'),\n",
       " ('table',\n",
       "  'plots',\n",
       "  'plots',\n",
       "  242,\n",
       "  'CREATE TABLE plots (\\n\\tplot_id BIGINT, \\n\\tplot_type TEXT\\n)'),\n",
       " ('table',\n",
       "  'sqlite_sequence',\n",
       "  'sqlite_sequence',\n",
       "  244,\n",
       "  'CREATE TABLE sqlite_sequence(name,seq)'),\n",
       " ('table',\n",
       "  'test_table',\n",
       "  'test_table',\n",
       "  243,\n",
       "  'CREATE TABLE test_table (column1 INTEGER, column2 TEXT)'),\n",
       " ('index',\n",
       "  'test_column1_idx',\n",
       "  'test_table',\n",
       "  245,\n",
       "  'CREATE INDEX test_column1_idx  ON test_table (column1)'),\n",
       " ('view',\n",
       "  'survey_test',\n",
       "  'survey_test',\n",
       "  0,\n",
       "  'CREATE VIEW survey_test (record_id, month, year, plotid, test1, test2) AS\\nSELECT record_id, month, year, plot_id, column1, column2\\nFROM surveys sv\\n\\tINNER JOIN test_table tt \\n\\tON sv.record_id = tt.column1 \\nWHERE record_id < 10')]"
      ]
     },
     "execution_count": 21,
     "metadata": {},
     "output_type": "execute_result"
    }
   ],
   "source": [
    "sql = '''\n",
    "SELECT * \n",
    "FROM sqlite_master;'''\n",
    "cursor.execute(sql)\n",
    "cursor.fetchall()"
   ]
  },
  {
   "cell_type": "code",
   "execution_count": 23,
   "metadata": {},
   "outputs": [
    {
     "data": {
      "text/plain": [
       "(('type', None, None, None, None, None, None),\n",
       " ('name', None, None, None, None, None, None),\n",
       " ('tbl_name', None, None, None, None, None, None),\n",
       " ('rootpage', None, None, None, None, None, None),\n",
       " ('sql', None, None, None, None, None, None))"
      ]
     },
     "execution_count": 23,
     "metadata": {},
     "output_type": "execute_result"
    }
   ],
   "source": [
    "cursor.description"
   ]
  },
  {
   "cell_type": "code",
   "execution_count": null,
   "metadata": {},
   "outputs": [],
   "source": [
    "sql = '''\n",
    "SELECT name,type \n",
    "FROM sqlite_master;\n",
    "'''\n",
    "cursor.execute(sql)\n",
    "cursor.fetchall()"
   ]
  },
  {
   "cell_type": "code",
   "execution_count": 25,
   "metadata": {
    "tags": []
   },
   "outputs": [
    {
     "name": "stdout",
     "output_type": "stream",
     "text": [
      "('surveys', 'table')\n",
      "('species', 'table')\n",
      "('plots', 'table')\n",
      "('sqlite_sequence', 'table')\n",
      "('test_table', 'table')\n",
      "('test_column1_idx', 'index')\n",
      "('survey_test', 'view')\n"
     ]
    }
   ],
   "source": [
    "sql = '''\n",
    "SELECT name,type \n",
    "FROM sqlite_master;\n",
    "'''\n",
    "cursor.execute(sql)\n",
    "\n",
    "# use a for loop to get the rows in the result one by one\n",
    "for row in cursor: \n",
    "    print(row)"
   ]
  },
  {
   "cell_type": "code",
   "execution_count": 29,
   "metadata": {},
   "outputs": [
    {
     "data": {
      "text/plain": [
       "('surveys', 'table')"
      ]
     },
     "execution_count": 29,
     "metadata": {},
     "output_type": "execute_result"
    }
   ],
   "source": [
    "sql = '''\n",
    "SELECT name,type \n",
    "FROM sqlite_master;\n",
    "'''\n",
    "cursor.execute(sql)\n",
    "\n",
    "# use fetchone retrieve just one row from the results\n",
    "cursor.fetchone()"
   ]
  },
  {
   "cell_type": "code",
   "execution_count": 31,
   "metadata": {},
   "outputs": [
    {
     "data": {
      "text/plain": [
       "('species', 'table')"
      ]
     },
     "execution_count": 31,
     "metadata": {},
     "output_type": "execute_result"
    }
   ],
   "source": [
    "cursor.fetchone()"
   ]
  },
  {
   "cell_type": "code",
   "execution_count": 33,
   "metadata": {},
   "outputs": [
    {
     "data": {
      "text/plain": [
       "(('name', None, None, None, None, None, None),\n",
       " ('type', None, None, None, None, None, None))"
      ]
     },
     "execution_count": 33,
     "metadata": {},
     "output_type": "execute_result"
    }
   ],
   "source": [
    "# See the result header\n",
    "\n",
    "cursor.description"
   ]
  },
  {
   "cell_type": "code",
   "execution_count": 41,
   "metadata": {},
   "outputs": [
    {
     "data": {
      "text/plain": [
       "['name', 'type']"
      ]
     },
     "execution_count": 41,
     "metadata": {},
     "output_type": "execute_result"
    }
   ],
   "source": [
    "data_header = [t[0] for t in cursor.description]\n",
    "data_header"
   ]
  },
  {
   "cell_type": "code",
   "execution_count": 43,
   "metadata": {},
   "outputs": [
    {
     "data": {
      "text/html": [
       "<div>\n",
       "<style scoped>\n",
       "    .dataframe tbody tr th:only-of-type {\n",
       "        vertical-align: middle;\n",
       "    }\n",
       "\n",
       "    .dataframe tbody tr th {\n",
       "        vertical-align: top;\n",
       "    }\n",
       "\n",
       "    .dataframe thead th {\n",
       "        text-align: right;\n",
       "    }\n",
       "</style>\n",
       "<table border=\"1\" class=\"dataframe\">\n",
       "  <thead>\n",
       "    <tr style=\"text-align: right;\">\n",
       "      <th></th>\n",
       "      <th>name</th>\n",
       "      <th>type</th>\n",
       "    </tr>\n",
       "  </thead>\n",
       "  <tbody>\n",
       "    <tr>\n",
       "      <th>0</th>\n",
       "      <td>surveys</td>\n",
       "      <td>table</td>\n",
       "    </tr>\n",
       "    <tr>\n",
       "      <th>1</th>\n",
       "      <td>species</td>\n",
       "      <td>table</td>\n",
       "    </tr>\n",
       "    <tr>\n",
       "      <th>2</th>\n",
       "      <td>plots</td>\n",
       "      <td>table</td>\n",
       "    </tr>\n",
       "    <tr>\n",
       "      <th>3</th>\n",
       "      <td>sqlite_sequence</td>\n",
       "      <td>table</td>\n",
       "    </tr>\n",
       "    <tr>\n",
       "      <th>4</th>\n",
       "      <td>test_table</td>\n",
       "      <td>table</td>\n",
       "    </tr>\n",
       "    <tr>\n",
       "      <th>5</th>\n",
       "      <td>test_column1_idx</td>\n",
       "      <td>index</td>\n",
       "    </tr>\n",
       "    <tr>\n",
       "      <th>6</th>\n",
       "      <td>survey_test</td>\n",
       "      <td>view</td>\n",
       "    </tr>\n",
       "  </tbody>\n",
       "</table>\n",
       "</div>"
      ],
      "text/plain": [
       "               name   type\n",
       "0           surveys  table\n",
       "1           species  table\n",
       "2             plots  table\n",
       "3   sqlite_sequence  table\n",
       "4        test_table  table\n",
       "5  test_column1_idx  index\n",
       "6       survey_test   view"
      ]
     },
     "execution_count": 43,
     "metadata": {},
     "output_type": "execute_result"
    }
   ],
   "source": [
    "import pandas as pd\n",
    "\n",
    "cursor.execute(sql)\n",
    "\n",
    "df = pd.DataFrame(cursor)\n",
    "df.columns = data_header\n",
    "df"
   ]
  },
  {
   "cell_type": "code",
   "execution_count": 45,
   "metadata": {},
   "outputs": [],
   "source": [
    "def get_header(cursor):\n",
    "    '''\n",
    "    Makes a tab delimited header row from the cursor description.\n",
    "    Arguments:\n",
    "        cursor: a cursor after a select query\n",
    "    Returns:\n",
    "        string: A string consisting of the column names separated by tabs, no new line\n",
    "    '''\n",
    "    return '\\t'.join([row[0] for row in cursor.description])\n"
   ]
  },
  {
   "cell_type": "code",
   "execution_count": 47,
   "metadata": {},
   "outputs": [
    {
     "data": {
      "text/plain": [
       "'name\\ttype'"
      ]
     },
     "execution_count": 47,
     "metadata": {},
     "output_type": "execute_result"
    }
   ],
   "source": [
    "get_header(cursor)"
   ]
  },
  {
   "cell_type": "code",
   "execution_count": 49,
   "metadata": {},
   "outputs": [
    {
     "name": "stdout",
     "output_type": "stream",
     "text": [
      "name\ttype\n"
     ]
    }
   ],
   "source": [
    "print(get_header(cursor))"
   ]
  },
  {
   "cell_type": "code",
   "execution_count": null,
   "metadata": {},
   "outputs": [],
   "source": []
  },
  {
   "cell_type": "code",
   "execution_count": null,
   "metadata": {},
   "outputs": [],
   "source": []
  },
  {
   "cell_type": "markdown",
   "metadata": {},
   "source": [
    "#### Different ways to retrieve results - observe the different data structures displayed"
   ]
  },
  {
   "cell_type": "code",
   "execution_count": 53,
   "metadata": {},
   "outputs": [
    {
     "name": "stdout",
     "output_type": "stream",
     "text": [
      "\n",
      "SELECT name,type \n",
      "FROM sqlite_master;\n",
      "\n"
     ]
    }
   ],
   "source": [
    "# we already have the query in the sql variable\n",
    "\n",
    "print(sql)"
   ]
  },
  {
   "cell_type": "code",
   "execution_count": 55,
   "metadata": {},
   "outputs": [
    {
     "name": "stdout",
     "output_type": "stream",
     "text": [
      "Iterate through the cursor:\n",
      "('surveys', 'table')\n",
      "('species', 'table')\n",
      "('plots', 'table')\n",
      "('sqlite_sequence', 'table')\n",
      "('test_table', 'table')\n",
      "('test_column1_idx', 'index')\n",
      "('survey_test', 'view')\n",
      "\n",
      "Use the Cursor fetchall() method:\n"
     ]
    },
    {
     "data": {
      "text/plain": [
       "[('surveys', 'table'),\n",
       " ('species', 'table'),\n",
       " ('plots', 'table'),\n",
       " ('sqlite_sequence', 'table'),\n",
       " ('test_table', 'table'),\n",
       " ('test_column1_idx', 'index'),\n",
       " ('survey_test', 'view')]"
      ]
     },
     "execution_count": 55,
     "metadata": {},
     "output_type": "execute_result"
    }
   ],
   "source": [
    "# See the result\n",
    "\n",
    "cursor.execute(sql)\n",
    "print(\"Iterate through the cursor:\")\n",
    "for row in cursor: \n",
    "    print(row)\n",
    "    \n",
    "print()\n",
    "\n",
    "cursor.execute(sql)\n",
    "print(\"Use the Cursor fetchall() method:\")\n",
    "cursor.fetchall()"
   ]
  },
  {
   "cell_type": "code",
   "execution_count": 57,
   "metadata": {},
   "outputs": [],
   "source": [
    "# note that if you have a large result \n",
    "# this function will try to make a very large string from it\n",
    "# so it is recommended for results with less than 10 rows and 10 columns\n",
    "# for other cases use the for loop to go through the rows in the result \n",
    "\n",
    "def get_results(cursor):\n",
    "    '''\n",
    "    Makes a tab delimited table from the cursor results.\n",
    "    Arguments:\n",
    "        cursor: a cursor after a select query\n",
    "    Returns:\n",
    "        string: A string consisting of the column names separated by tabs, no new line\n",
    "    ''' \n",
    "    res = list()\n",
    "    for row in cursor:        \n",
    "        res.append('\\t'.join(list(map(str,row))))\n",
    "    return \"\\n\".join(res)"
   ]
  },
  {
   "cell_type": "code",
   "execution_count": 59,
   "metadata": {},
   "outputs": [
    {
     "name": "stdout",
     "output_type": "stream",
     "text": [
      "name\ttype\n",
      "surveys\ttable\n",
      "species\ttable\n",
      "plots\ttable\n",
      "sqlite_sequence\ttable\n",
      "test_table\ttable\n",
      "test_column1_idx\tindex\n",
      "survey_test\tview\n"
     ]
    }
   ],
   "source": [
    "# use the functions we created for a nice display of the results\n",
    "\n",
    "cursor.execute(sql)\n",
    "\n",
    "print(get_header(cursor))\n",
    "print(get_results(cursor))"
   ]
  },
  {
   "cell_type": "markdown",
   "metadata": {},
   "source": [
    "##### WHERE clause example (-- denotes comment)"
   ]
  },
  {
   "cell_type": "code",
   "execution_count": 61,
   "metadata": {},
   "outputs": [
    {
     "name": "stdout",
     "output_type": "stream",
     "text": [
      "name\n",
      "surveys\n",
      "species\n",
      "plots\n",
      "sqlite_sequence\n",
      "test_table\n"
     ]
    }
   ],
   "source": [
    "# more examples with comments later\n",
    "# in the WHERE clause we put conditions to filter the data\n",
    "\n",
    "sql = '''\n",
    "SELECT name\n",
    "FROM sqlite_master \n",
    "WHERE type = \"table\"; -- condition that allows the selection of specific rows\n",
    "'''\n",
    "cursor.execute(sql)\n",
    "print(get_header(cursor))\n",
    "print(get_results(cursor))"
   ]
  },
  {
   "cell_type": "code",
   "execution_count": 63,
   "metadata": {},
   "outputs": [
    {
     "name": "stdout",
     "output_type": "stream",
     "text": [
      "species_id\tgenus\tspecies\ttaxa\n",
      "AB\tAmphispiza\tbilineata\tBird\n",
      "AH\tAmmospermophilus\tharrisi\tRodent\n",
      "AS\tAmmodramus\tsavannarum\tBird\n",
      "BA\tBaiomys\ttaylori\tRodent\n",
      "CB\tCampylorhynchus\tbrunneicapillus\tBird\n",
      "CM\tCalamospiza\tmelanocorys\tBird\n",
      "CQ\tCallipepla\tsquamata\tBird\n",
      "CS\tCrotalus\tscutalatus\tReptile\n",
      "CT\tCnemidophorus\ttigris\tReptile\n",
      "CU\tCnemidophorus\tuniparens\tReptile\n",
      "CV\tCrotalus\tviridis\tReptile\n",
      "DM\tDipodomys\tmerriami\tRodent\n",
      "DO\tDipodomys\tordii\tRodent\n",
      "DS\tDipodomys\tspectabilis\tRodent\n",
      "DX\tDipodomys\tsp.\tRodent\n",
      "EO\tEumeces\tobsoletus\tReptile\n",
      "GS\tGambelia\tsilus\tReptile\n",
      "NL\tNeotoma\talbigula\tRodent\n",
      "NX\tNeotoma\tsp.\tRodent\n",
      "OL\tOnychomys\tleucogaster\tRodent\n"
     ]
    }
   ],
   "source": [
    "# Selects all columns (*) of the species table \n",
    "# retrieves only 10 rows due to the LIMIT clause\n",
    "# The first column is the species id\n",
    "\n",
    "sql = '''\n",
    "SELECT *\n",
    "FROM species LIMIT 20;\n",
    "'''\n",
    "cursor.execute(sql)\n",
    "print(get_header(cursor))\n",
    "print(get_results(cursor))"
   ]
  },
  {
   "cell_type": "markdown",
   "metadata": {},
   "source": [
    "##### Aliasing column names to make them easier to understand \n",
    "- add a new name for a column next to the column name using quotes if the alias contains spaces, the AS keyword can also be used\n",
    "    - e.g.: column_name AS \"Alias name\"\n",
    "    - e.g.: column_name \"Alias name\"\n",
    "    - e.g.: column_name Alias_name"
   ]
  },
  {
   "cell_type": "code",
   "execution_count": 65,
   "metadata": {},
   "outputs": [
    {
     "name": "stdout",
     "output_type": "stream",
     "text": [
      "ID\tSpecies Name\n",
      "AB\tbilineata\n",
      "AH\tharrisi\n",
      "AS\tsavannarum\n",
      "BA\ttaylori\n",
      "CB\tbrunneicapillus\n"
     ]
    }
   ],
   "source": [
    "# example of aliasing columns\n",
    "\n",
    "sql = '''\n",
    "SELECT species_id ID, species as \"Species Name\"\n",
    "FROM species LIMIT 5;\n",
    "'''\n",
    "cursor.execute(sql)\n",
    "print(get_header(cursor))\n",
    "print(get_results(cursor))"
   ]
  },
  {
   "cell_type": "code",
   "execution_count": 67,
   "metadata": {},
   "outputs": [
    {
     "name": "stdout",
     "output_type": "stream",
     "text": [
      "count(*)\n",
      "54\n"
     ]
    }
   ],
   "source": [
    "# we can use aggregate functions to summarize data\n",
    "# COUNT returns a single number, which is the count of all rows in the table\n",
    "\n",
    "sql = '''\n",
    "SELECT count(*) FROM species;\n",
    "'''\n",
    "cursor.execute(sql)\n",
    "print(get_header(cursor))\n",
    "print(get_results(cursor))"
   ]
  },
  {
   "cell_type": "code",
   "execution_count": 69,
   "metadata": {},
   "outputs": [
    {
     "name": "stdout",
     "output_type": "stream",
     "text": [
      "Number of species\n",
      "54\n"
     ]
    }
   ],
   "source": [
    "sql = '''\n",
    "SELECT count(species_id) AS 'Number of species' \n",
    "FROM species;\n",
    "'''|\n",
    "cursor.execute(sql)\n",
    "print(get_header(cursor))\n",
    "print(get_results(cursor))"
   ]
  },
  {
   "cell_type": "code",
   "execution_count": 71,
   "metadata": {},
   "outputs": [
    {
     "name": "stdout",
     "output_type": "stream",
     "text": [
      "record_id\tmonth\tday\tyear\tplot_id\tspecies_id\tsex\thindfoot_length\tweight\n",
      "1\t7\t16\t1977\t2\tNL\tM\t32.0\tNone\n",
      "2\t7\t16\t1977\t3\tNL\tM\t33.0\tNone\n",
      "3\t7\t16\t1977\t2\tDM\tF\t37.0\tNone\n",
      "4\t7\t16\t1977\t7\tDM\tM\t36.0\tNone\n",
      "5\t7\t16\t1977\t3\tDM\tM\t35.0\tNone\n",
      "6\t7\t16\t1977\t1\tPF\tM\t14.0\tNone\n",
      "7\t7\t16\t1977\t2\tPE\tF\tNone\tNone\n",
      "8\t7\t16\t1977\t1\tDM\tM\t37.0\tNone\n",
      "9\t7\t16\t1977\t1\tDM\tF\t34.0\tNone\n",
      "10\t7\t16\t1977\t6\tPF\tF\t20.0\tNone\n",
      "11\t7\t16\t1977\t5\tDS\tF\t53.0\tNone\n",
      "12\t7\t16\t1977\t7\tDM\tM\t38.0\tNone\n",
      "13\t7\t16\t1977\t3\tDM\tM\t35.0\tNone\n",
      "14\t7\t16\t1977\t8\tDM\tNone\tNone\tNone\n",
      "15\t7\t16\t1977\t6\tDM\tF\t36.0\tNone\n",
      "16\t7\t16\t1977\t4\tDM\tF\t36.0\tNone\n",
      "17\t7\t16\t1977\t3\tDS\tF\t48.0\tNone\n",
      "18\t7\t16\t1977\t2\tPP\tM\t22.0\tNone\n",
      "19\t7\t16\t1977\t4\tPF\tNone\tNone\tNone\n",
      "20\t7\t17\t1977\t11\tDS\tF\t48.0\tNone\n",
      "21\t7\t17\t1977\t14\tDM\tF\t34.0\tNone\n",
      "22\t7\t17\t1977\t15\tNL\tF\t31.0\tNone\n",
      "23\t7\t17\t1977\t13\tDM\tM\t36.0\tNone\n",
      "24\t7\t17\t1977\t13\tSH\tM\t21.0\tNone\n",
      "25\t7\t17\t1977\t9\tDM\tM\t35.0\tNone\n",
      "26\t7\t17\t1977\t15\tDM\tM\t31.0\tNone\n",
      "27\t7\t17\t1977\t15\tDM\tM\t36.0\tNone\n",
      "28\t7\t17\t1977\t11\tDM\tM\t38.0\tNone\n",
      "29\t7\t17\t1977\t11\tPP\tM\tNone\tNone\n",
      "30\t7\t17\t1977\t10\tDS\tF\t52.0\tNone\n",
      "31\t7\t17\t1977\t15\tDM\tF\t37.0\tNone\n",
      "32\t7\t17\t1977\t10\tDM\tF\t35.0\tNone\n",
      "33\t7\t17\t1977\t11\tDM\tF\t36.0\tNone\n",
      "34\t7\t17\t1977\t17\tDM\tNone\tNone\tNone\n",
      "35\t7\t17\t1977\t13\tDM\tF\t38.0\tNone\n",
      "36\t7\t17\t1977\t16\tOT\tF\t22.0\tNone\n",
      "37\t7\t17\t1977\t11\tDM\tF\t35.0\tNone\n",
      "38\t7\t17\t1977\t17\tNL\tM\t33.0\tNone\n",
      "39\t7\t17\t1977\t11\tDM\tF\t36.0\tNone\n",
      "40\t7\t18\t1977\t20\tDM\tM\t36.0\tNone\n",
      "41\t7\t18\t1977\t23\tDM\tF\t34.0\tNone\n",
      "42\t7\t18\t1977\t18\tDS\tF\t46.0\tNone\n",
      "43\t7\t18\t1977\t21\tDM\tM\t36.0\tNone\n",
      "44\t7\t18\t1977\t18\tDM\tF\t35.0\tNone\n",
      "45\t7\t18\t1977\t22\tDM\tM\t36.0\tNone\n",
      "46\t7\t18\t1977\t19\tDM\tM\t35.0\tNone\n",
      "47\t7\t18\t1977\t18\tDM\tM\t32.0\tNone\n",
      "48\t7\t18\t1977\t20\tDM\tF\t36.0\tNone\n",
      "49\t7\t18\t1977\t12\tPP\tF\t17.0\tNone\n",
      "50\t7\t18\t1977\t18\tDM\tF\t32.0\tNone\n"
     ]
    }
   ],
   "source": [
    "# select first 50 rows from the surveys table - all columns\n",
    "sql = \"\"\"\n",
    "SELECT  *\n",
    "FROM surveys\n",
    "LIMIT 50;\n",
    "\"\"\"\n",
    "cursor.execute(sql)\n",
    "print(get_header(cursor))\n",
    "print(get_results(cursor))\n"
   ]
  },
  {
   "cell_type": "code",
   "execution_count": 73,
   "metadata": {},
   "outputs": [
    {
     "name": "stdout",
     "output_type": "stream",
     "text": [
      "record_id\tmonth\tday\tyear\tplot_id\tspecies_id\tsex\thindfoot_length\tweight\n",
      "1\t7\t16\t1977\t2\tNL\tM\t32.0\tNone\n",
      "2\t7\t16\t1977\t3\tNL\tM\t33.0\tNone\n",
      "3\t7\t16\t1977\t2\tDM\tF\t37.0\tNone\n",
      "4\t7\t16\t1977\t7\tDM\tM\t36.0\tNone\n",
      "5\t7\t16\t1977\t3\tDM\tM\t35.0\tNone\n",
      "6\t7\t16\t1977\t1\tPF\tM\t14.0\tNone\n",
      "7\t7\t16\t1977\t2\tPE\tF\tNone\tNone\n",
      "8\t7\t16\t1977\t1\tDM\tM\t37.0\tNone\n",
      "9\t7\t16\t1977\t1\tDM\tF\t34.0\tNone\n",
      "10\t7\t16\t1977\t6\tPF\tF\t20.0\tNone\n",
      "11\t7\t16\t1977\t5\tDS\tF\t53.0\tNone\n",
      "12\t7\t16\t1977\t7\tDM\tM\t38.0\tNone\n",
      "13\t7\t16\t1977\t3\tDM\tM\t35.0\tNone\n",
      "14\t7\t16\t1977\t8\tDM\tNone\tNone\tNone\n",
      "15\t7\t16\t1977\t6\tDM\tF\t36.0\tNone\n",
      "16\t7\t16\t1977\t4\tDM\tF\t36.0\tNone\n",
      "17\t7\t16\t1977\t3\tDS\tF\t48.0\tNone\n",
      "18\t7\t16\t1977\t2\tPP\tM\t22.0\tNone\n",
      "19\t7\t16\t1977\t4\tPF\tNone\tNone\tNone\n",
      "20\t7\t17\t1977\t11\tDS\tF\t48.0\tNone\n"
     ]
    }
   ],
   "source": [
    "sql = '''\n",
    "SELECT * \n",
    "FROM surveys\n",
    "LIMIT 20;\n",
    "'''\n",
    "cursor.execute(sql)\n",
    "print(get_header(cursor))\n",
    "print(get_results(cursor))"
   ]
  },
  {
   "cell_type": "code",
   "execution_count": 81,
   "metadata": {},
   "outputs": [
    {
     "name": "stdout",
     "output_type": "stream",
     "text": [
      "month\tyear\n",
      "7\t1977\n",
      "7\t1977\n",
      "7\t1977\n",
      "7\t1977\n",
      "7\t1977\n",
      "\n",
      "month\tyear\n",
      "7\t1977\n",
      "8\t1977\n",
      "9\t1977\n",
      "10\t1977\n",
      "11\t1977\n"
     ]
    }
   ],
   "source": [
    "# DISTINCT selects  non-duplicated elements (rows)\n",
    "\n",
    "sql = '''\n",
    "SELECT month, year FROM surveys LIMIT 5;\n",
    "'''\n",
    "cursor.execute(sql)\n",
    "print(get_header(cursor))\n",
    "print(get_results(cursor))\n",
    "\n",
    "print()\n",
    "\n",
    "sql = '''\n",
    "SELECT DISTINCT month, year FROM surveys LIMIT 5;\n",
    "'''\n",
    "cursor.execute(sql)\n",
    "print(get_header(cursor))\n",
    "print(get_results(cursor))"
   ]
  },
  {
   "cell_type": "code",
   "execution_count": 87,
   "metadata": {},
   "outputs": [
    {
     "name": "stdout",
     "output_type": "stream",
     "text": [
      "year\n",
      "1977\n",
      "1978\n",
      "1979\n",
      "1980\n",
      "1981\n",
      "1982\n",
      "1983\n",
      "1984\n",
      "1985\n",
      "1986\n",
      "1987\n",
      "1988\n",
      "1989\n",
      "1990\n",
      "1991\n",
      "1992\n",
      "1993\n",
      "1994\n",
      "1995\n",
      "1996\n",
      "1997\n",
      "1998\n",
      "1999\n",
      "2000\n",
      "2001\n",
      "2002\n"
     ]
    }
   ],
   "source": [
    "sql = '''\n",
    "SELECT DISTINCT year FROM surveys ;\n",
    "'''\n",
    "cursor.execute(sql)\n",
    "print(get_header(cursor))\n",
    "print(get_results(cursor))"
   ]
  },
  {
   "cell_type": "code",
   "execution_count": 89,
   "metadata": {},
   "outputs": [
    {
     "name": "stdout",
     "output_type": "stream",
     "text": [
      "MAX_PID\n",
      "24\n"
     ]
    }
   ],
   "source": [
    "# Other aggregate functions are available for numerical columns\n",
    "# https://www.sqlite.org/lang_aggfunc.html\n",
    "# comments are added using -- in front of the test to comment or using /* comment */ \n",
    "\n",
    "sql = '''\n",
    "SELECT MAX(DISTINCT plot_id) MAX_PID \n",
    "FROM surveys; -- comment LIMIT 5; /* comment */\n",
    "'''\n",
    "cursor.execute(sql)\n",
    "print(get_header(cursor))\n",
    "print(get_results(cursor))\n",
    "\n"
   ]
  },
  {
   "cell_type": "code",
   "execution_count": 91,
   "metadata": {},
   "outputs": [
    {
     "name": "stdout",
     "output_type": "stream",
     "text": [
      "MIN_PID\n",
      "1\n"
     ]
    }
   ],
   "source": [
    "sql = '''\n",
    "SELECT MIN(DISTINCT plot_id) MIN_PID \n",
    "FROM surveys; \n",
    "'''\n",
    "cursor.execute(sql)\n",
    "print(get_header(cursor))\n",
    "print(get_results(cursor))"
   ]
  },
  {
   "cell_type": "code",
   "execution_count": 109,
   "metadata": {},
   "outputs": [
    {
     "data": {
      "text/html": [
       "<div>\n",
       "<style scoped>\n",
       "    .dataframe tbody tr th:only-of-type {\n",
       "        vertical-align: middle;\n",
       "    }\n",
       "\n",
       "    .dataframe tbody tr th {\n",
       "        vertical-align: top;\n",
       "    }\n",
       "\n",
       "    .dataframe thead th {\n",
       "        text-align: right;\n",
       "    }\n",
       "</style>\n",
       "<table border=\"1\" class=\"dataframe\">\n",
       "  <thead>\n",
       "    <tr style=\"text-align: right;\">\n",
       "      <th></th>\n",
       "      <th>survey_count</th>\n",
       "    </tr>\n",
       "  </thead>\n",
       "  <tbody>\n",
       "    <tr>\n",
       "      <th>0</th>\n",
       "      <td>35549</td>\n",
       "    </tr>\n",
       "  </tbody>\n",
       "</table>\n",
       "</div>"
      ],
      "text/plain": [
       "   survey_count\n",
       "0         35549"
      ]
     },
     "execution_count": 109,
     "metadata": {},
     "output_type": "execute_result"
    }
   ],
   "source": [
    "# count the number of rows in surveys\n",
    "sql_survey_row_count = \"\"\"\n",
    "SELECT count(*) as survey_count\n",
    "FROM surveys;\n",
    "\"\"\"\n",
    "\n",
    "cursor.execute(sql_survey_row_count)\n",
    "data_header = [t[0] for t in cursor.description]\n",
    "res_df = pd.DataFrame(cursor)\n",
    "res_df.columns = data_header\n",
    "res_df"
   ]
  },
  {
   "cell_type": "code",
   "execution_count": 123,
   "metadata": {},
   "outputs": [
    {
     "data": {
      "text/html": [
       "<div>\n",
       "<style scoped>\n",
       "    .dataframe tbody tr th:only-of-type {\n",
       "        vertical-align: middle;\n",
       "    }\n",
       "\n",
       "    .dataframe tbody tr th {\n",
       "        vertical-align: top;\n",
       "    }\n",
       "\n",
       "    .dataframe thead th {\n",
       "        text-align: right;\n",
       "    }\n",
       "</style>\n",
       "<table border=\"1\" class=\"dataframe\">\n",
       "  <thead>\n",
       "    <tr style=\"text-align: right;\">\n",
       "      <th></th>\n",
       "      <th>survey_count</th>\n",
       "    </tr>\n",
       "  </thead>\n",
       "  <tbody>\n",
       "    <tr>\n",
       "      <th>0</th>\n",
       "      <td>35549</td>\n",
       "    </tr>\n",
       "  </tbody>\n",
       "</table>\n",
       "</div>"
      ],
      "text/plain": [
       "   survey_count\n",
       "0         35549"
      ]
     },
     "execution_count": 123,
     "metadata": {},
     "output_type": "execute_result"
    }
   ],
   "source": [
    "sql_survey_row_count = \"\"\"\n",
    "SELECT DISTINCT count(*) as survey_count\n",
    "FROM surveys;\n",
    "\"\"\"\n",
    "\n",
    "cursor.execute(sql_survey_row_count)\n",
    "data_header = [t[0] for t in cursor.description]\n",
    "res_df = pd.DataFrame(cursor)\n",
    "res_df.columns = data_header\n",
    "res_df"
   ]
  },
  {
   "cell_type": "code",
   "execution_count": 125,
   "metadata": {},
   "outputs": [
    {
     "data": {
      "text/html": [
       "<div>\n",
       "<style scoped>\n",
       "    .dataframe tbody tr th:only-of-type {\n",
       "        vertical-align: middle;\n",
       "    }\n",
       "\n",
       "    .dataframe tbody tr th {\n",
       "        vertical-align: top;\n",
       "    }\n",
       "\n",
       "    .dataframe thead th {\n",
       "        text-align: right;\n",
       "    }\n",
       "</style>\n",
       "<table border=\"1\" class=\"dataframe\">\n",
       "  <thead>\n",
       "    <tr style=\"text-align: right;\">\n",
       "      <th></th>\n",
       "      <th>survey_count</th>\n",
       "    </tr>\n",
       "  </thead>\n",
       "  <tbody>\n",
       "    <tr>\n",
       "      <th>0</th>\n",
       "      <td>48</td>\n",
       "    </tr>\n",
       "  </tbody>\n",
       "</table>\n",
       "</div>"
      ],
      "text/plain": [
       "   survey_count\n",
       "0            48"
      ]
     },
     "execution_count": 125,
     "metadata": {},
     "output_type": "execute_result"
    }
   ],
   "source": [
    "sql_survey_row_count = \"\"\"\n",
    "SELECT count(DISTINCT species_id) as species_count\n",
    "FROM surveys;\n",
    "\"\"\"\n",
    "\n",
    "cursor.execute(sql_survey_row_count)\n",
    "data_header = [t[0] for t in cursor.description]\n",
    "res_df = pd.DataFrame(cursor)\n",
    "res_df.columns = data_header\n",
    "res_df"
   ]
  },
  {
   "cell_type": "code",
   "execution_count": null,
   "metadata": {},
   "outputs": [],
   "source": []
  },
  {
   "cell_type": "code",
   "execution_count": 121,
   "metadata": {},
   "outputs": [
    {
     "data": {
      "text/html": [
       "<div>\n",
       "<style scoped>\n",
       "    .dataframe tbody tr th:only-of-type {\n",
       "        vertical-align: middle;\n",
       "    }\n",
       "\n",
       "    .dataframe tbody tr th {\n",
       "        vertical-align: top;\n",
       "    }\n",
       "\n",
       "    .dataframe thead th {\n",
       "        text-align: right;\n",
       "    }\n",
       "</style>\n",
       "<table border=\"1\" class=\"dataframe\">\n",
       "  <thead>\n",
       "    <tr style=\"text-align: right;\">\n",
       "      <th></th>\n",
       "      <th>species_count</th>\n",
       "    </tr>\n",
       "  </thead>\n",
       "  <tbody>\n",
       "    <tr>\n",
       "      <th>0</th>\n",
       "      <td>48</td>\n",
       "    </tr>\n",
       "  </tbody>\n",
       "</table>\n",
       "</div>"
      ],
      "text/plain": [
       "   species_count\n",
       "0             48"
      ]
     },
     "execution_count": 121,
     "metadata": {},
     "output_type": "execute_result"
    }
   ],
   "source": [
    "# count the number of distinct species in surveys\n",
    "\n",
    "sql_survey_row_count = \"\"\"\n",
    "SELECT count(species_id) species_count\n",
    "FROM \n",
    "    (SELECT DISTINCT species_id \n",
    "    FROM surveys);\n",
    "\"\"\"\n",
    "\n",
    "cursor.execute(sql_survey_row_count)\n",
    "data_header = [t[0] for t in cursor.description]\n",
    "res_df = pd.DataFrame(cursor)\n",
    "res_df.columns = data_header\n",
    "res_df\n"
   ]
  },
  {
   "cell_type": "code",
   "execution_count": null,
   "metadata": {},
   "outputs": [],
   "source": []
  },
  {
   "cell_type": "markdown",
   "metadata": {},
   "source": [
    "#### WHERE clause operators\n",
    "https://www.sqlite.org/lang_expr.html\n",
    "\n",
    "<> ,  != \tinequality <br>\n",
    "<\t\t\tless than <br>\n",
    "<= \t\t\tless than or equal <br>\n",
    "=\t\t\tequal <br>\n",
    "'>\t\t\tgreater than <br>\n",
    "'>= \t\tgreater than or equal <br>\n",
    "BETWEEN v1 AND v2\ttests that a value to lies in a given range <br>\n",
    "EXISTS\t\ttest for existence of rows matching query <br>\n",
    "IN\t\t\ttests if a value falls within a given set or query <br>\n",
    "IS [ NOT ] NULL\tis or is not null <br>\n",
    "[ NOT ] LIKE\t\ttests value to see if like or not like another <br>\n",
    "\n",
    "% is the wildcard in SQL, used in conjunction with LIKE\n",
    "\n"
   ]
  },
  {
   "cell_type": "markdown",
   "metadata": {},
   "source": [
    "........................................................................\n",
    "\n",
    "Merriam's kangaroo rat (Dipodomys merriami - DM)\n",
    "\n",
    "<img src = https://upload.wikimedia.org/wikipedia/commons/thumb/a/a4/Merriam%27s_Kangaroo_Rat.jpg/440px-Merriam%27s_Kangaroo_Rat.jpg width = 150 />\n",
    "\n",
    "https://en.wikipedia.org/wiki/Merriam%27s_kangaroo_rat      \n",
    "........................................................................"
   ]
  },
  {
   "cell_type": "code",
   "execution_count": 127,
   "metadata": {},
   "outputs": [
    {
     "name": "stdout",
     "output_type": "stream",
     "text": [
      "record_id\tmonth\tday\tyear\tplot_id\tspecies_id\tsex\thindfoot_length\tweight\n",
      "17221\t2\t25\t1990\t11\tDM\tF\t37.0\t39.0\n",
      "17550\t5\t24\t1990\t11\tDM\tF\t34.0\t23.0\n",
      "17649\t6\t22\t1990\t11\tDM\tM\t33.0\t20.0\n",
      "17730\t7\t22\t1990\t11\tDM\tF\t36.0\t33.0\n",
      "17808\t8\t17\t1990\t11\tDM\tF\t37.0\t35.0\n",
      "17816\t8\t17\t1990\t11\tDM\tF\t35.0\t23.0\n",
      "17874\t9\t25\t1990\t11\tDM\tF\tNone\t39.0\n",
      "17943\t10\t16\t1990\t11\tDM\tF\t37.0\t39.0\n",
      "18051\t11\t11\t1990\t11\tDM\tF\t37.0\t38.0\n",
      "18156\t12\t16\t1990\t11\tDM\tF\t34.0\t37.0\n",
      "18182\t12\t16\t1990\t11\tDM\tF\t37.0\t37.0\n"
     ]
    }
   ],
   "source": [
    "# we can put multiple conditions in the  where clause \n",
    "# combine conditions with AND, OR\n",
    "# let's see the DM rats that have a weight < 40 and were seen on a specific plot in 1990\n",
    "\n",
    "sql = '''\n",
    "SELECT * FROM surveys \n",
    "WHERE plot_id = '11' AND species_id = \"DM\" AND weight < 40 AND year = 1990;\n",
    "'''\n",
    "cursor.execute(sql)\n",
    "print(get_header(cursor))\n",
    "print(get_results(cursor))"
   ]
  },
  {
   "cell_type": "code",
   "execution_count": 129,
   "metadata": {},
   "outputs": [
    {
     "name": "stdout",
     "output_type": "stream",
     "text": [
      "record_id\tmonth\tday\tyear\tplot_id\tspecies_id\tsex\thindfoot_length\tweight\n",
      "2274\t1\t15\t1980\t11\tDM\tM\t38.0\t37.0\n",
      "2276\t1\t15\t1980\t11\tDS\tM\t47.0\t132.0\n",
      "2286\t1\t15\t1980\t11\tDM\tM\t38.0\t47.0\n",
      "2290\t1\t15\t1980\t11\tDM\tM\t37.0\t49.0\n",
      "2297\t1\t15\t1980\t11\tDM\tM\t37.0\t45.0\n",
      "2310\t1\t15\t1980\t11\tDM\tM\t36.0\t48.0\n",
      "2319\t1\t15\t1980\t11\tDM\tM\t37.0\t26.0\n",
      "2324\t1\t15\t1980\t11\tDM\tM\t35.0\t49.0\n",
      "2641\t3\t9\t1980\t11\tDS\tM\tNone\t147.0\n",
      "2648\t3\t9\t1980\t11\tDM\tM\tNone\t42.0\n",
      "7179\t1\t12\t1983\t11\tDM\tM\t37.0\t38.0\n",
      "7186\t1\t12\t1983\t11\tDM\tM\t36.0\t43.0\n",
      "7223\t1\t12\t1983\t11\tDM\tM\t36.0\t46.0\n",
      "7492\t3\t14\t1983\t11\tDM\tM\t34.0\t42.0\n",
      "7493\t3\t14\t1983\t11\tDM\tM\t37.0\t46.0\n",
      "7498\t3\t14\t1983\t11\tDM\tM\t36.0\t45.0\n",
      "7519\t3\t14\t1983\t11\tPF\tM\t17.0\t6.0\n",
      "7525\t3\t14\t1983\t11\tDM\tM\t37.0\t52.0\n",
      "7537\t3\t14\t1983\t11\tDM\tM\t37.0\t46.0\n"
     ]
    }
   ],
   "source": [
    "sql = '''\n",
    "SELECT * FROM surveys \n",
    "WHERE species_id IN (\"DS\", \"DM\", \"PF\") AND\n",
    "      plot_id IN (10, 11) AND\n",
    "      year IN (1980, 1983) AND \n",
    "      month IN (1,3) AND\n",
    "      sex = \"M\";\n",
    "'''\n",
    "cursor.execute(sql)\n",
    "print(get_header(cursor))\n",
    "print(get_results(cursor))"
   ]
  },
  {
   "cell_type": "code",
   "execution_count": 131,
   "metadata": {},
   "outputs": [
    {
     "name": "stdout",
     "output_type": "stream",
     "text": [
      "record_id\tmonth\tday\tyear\tplot_id\tspecies_id\tsex\thindfoot_length\tweight\n",
      "15469\t1\t11\t1989\t8\tDM\tM\t36.0\t39.0\n",
      "16161\t6\t4\t1989\t8\tDM\tM\t36.0\t34.0\n",
      "16201\t6\t4\t1989\t8\tDM\tF\t50.0\t38.0\n",
      "16306\t7\t4\t1989\t8\tDM\tF\tNone\t32.0\n",
      "16414\t7\t30\t1989\t8\tDM\tF\t36.0\t36.0\n",
      "16545\t10\t8\t1989\t6\tDM\tM\t36.0\t40.0\n",
      "16673\t11\t5\t1989\t8\tDM\tF\t35.0\t39.0\n",
      "16942\t1\t7\t1990\t8\tDM\tF\t36.0\t38.0\n",
      "17055\t1\t30\t1990\t8\tDM\tF\t37.0\t39.0\n",
      "17079\t1\t30\t1990\t8\tDM\tF\t35.0\t35.0\n",
      "17114\t1\t30\t1990\t8\tDM\tF\t37.0\t36.0\n",
      "17197\t2\t25\t1990\t8\tDM\tF\t36.0\t38.0\n",
      "17229\t2\t25\t1990\t8\tDM\tF\t35.0\t40.0\n",
      "17369\t3\t30\t1990\t8\tDM\tF\t36.0\t39.0\n",
      "17441\t4\t26\t1990\t8\tDM\tF\t37.0\t39.0\n",
      "17442\t4\t26\t1990\t8\tDM\tF\t37.0\t40.0\n",
      "17516\t5\t24\t1990\t8\tDM\tM\t36.0\t32.0\n",
      "17529\t5\t24\t1990\t8\tDM\tM\t35.0\t30.0\n",
      "17610\t6\t22\t1990\t8\tDM\tM\t36.0\t37.0\n",
      "17851\t9\t25\t1990\t8\tDM\tF\tNone\t39.0\n",
      "17937\t10\t16\t1990\t8\tDM\tF\t35.0\t40.0\n",
      "18026\t11\t11\t1990\t8\tDM\tF\t36.0\t35.0\n",
      "18029\t11\t11\t1990\t8\tDM\tM\t37.0\t40.0\n",
      "18040\t11\t11\t1990\t8\tDM\tM\t36.0\t35.0\n",
      "18063\t11\t11\t1990\t8\tDM\tM\t36.0\t38.0\n",
      "18065\t11\t11\t1990\t8\tDM\tF\t36.0\t40.0\n",
      "18129\t12\t16\t1990\t8\tDM\tF\t36.0\t40.0\n",
      "18153\t12\t16\t1990\t8\tDM\tM\t37.0\t36.0\n",
      "18168\t12\t16\t1990\t8\tDM\tF\t35.0\t38.0\n",
      "18174\t12\t16\t1990\t8\tDM\tM\t37.0\t39.0\n"
     ]
    }
   ],
   "source": [
    "sql = '''\n",
    "SELECT * FROM surveys \n",
    "WHERE species_id = 'DM' AND \n",
    "      weight BETWEEN 30 AND 40 AND\n",
    "      plot_id BETWEEN 6 AND 8 AND\n",
    "      year BETWEEN 1989 AND 1990;\n",
    "'''\n",
    "cursor.execute(sql)\n",
    "print(get_header(cursor))\n",
    "print(get_results(cursor))"
   ]
  },
  {
   "cell_type": "code",
   "execution_count": 133,
   "metadata": {},
   "outputs": [
    {
     "name": "stdout",
     "output_type": "stream",
     "text": [
      "species_id\tgenus\tspecies\ttaxa\n",
      "AH\tAmmospermophilus\tharrisi\tRodent\n",
      "PE\tPeromyscus\teremicus\tRodent\n",
      "PF\tPerognathus\tflavus\tRodent\n",
      "PH\tPerognathus\thispidus\tRodent\n",
      "PL\tPeromyscus\tleucopus\tRodent\n",
      "PM\tPeromyscus\tmaniculatus\tRodent\n",
      "SS\tSpermophilus\tspilosoma\tRodent\n",
      "ST\tSpermophilus\ttereticaudus\tRodent\n"
     ]
    }
   ],
   "source": [
    "# LIKE allows you to look for patterns\n",
    "\n",
    "sql = '''\n",
    "SELECT * \n",
    "FROM species \n",
    "WHERE genus LIKE '%per%'; -- not case sensitive\n",
    "'''\n",
    "cursor.execute(sql)\n",
    "print(get_header(cursor))\n",
    "print(get_results(cursor))"
   ]
  },
  {
   "cell_type": "code",
   "execution_count": 137,
   "metadata": {},
   "outputs": [
    {
     "data": {
      "text/html": [
       "<div>\n",
       "<style scoped>\n",
       "    .dataframe tbody tr th:only-of-type {\n",
       "        vertical-align: middle;\n",
       "    }\n",
       "\n",
       "    .dataframe tbody tr th {\n",
       "        vertical-align: top;\n",
       "    }\n",
       "\n",
       "    .dataframe thead th {\n",
       "        text-align: right;\n",
       "    }\n",
       "</style>\n",
       "<table border=\"1\" class=\"dataframe\">\n",
       "  <thead>\n",
       "    <tr style=\"text-align: right;\">\n",
       "      <th></th>\n",
       "      <th>record_id</th>\n",
       "      <th>month</th>\n",
       "      <th>day</th>\n",
       "      <th>year</th>\n",
       "      <th>plot_id</th>\n",
       "      <th>species_id</th>\n",
       "      <th>sex</th>\n",
       "      <th>hindfoot_length</th>\n",
       "      <th>weight</th>\n",
       "    </tr>\n",
       "  </thead>\n",
       "  <tbody>\n",
       "    <tr>\n",
       "      <th>0</th>\n",
       "      <td>17604</td>\n",
       "      <td>6</td>\n",
       "      <td>21</td>\n",
       "      <td>1990</td>\n",
       "      <td>1</td>\n",
       "      <td>DM</td>\n",
       "      <td>M</td>\n",
       "      <td>36.0</td>\n",
       "      <td>43.0</td>\n",
       "    </tr>\n",
       "    <tr>\n",
       "      <th>1</th>\n",
       "      <td>17656</td>\n",
       "      <td>7</td>\n",
       "      <td>21</td>\n",
       "      <td>1990</td>\n",
       "      <td>1</td>\n",
       "      <td>DM</td>\n",
       "      <td>M</td>\n",
       "      <td>35.0</td>\n",
       "      <td>43.0</td>\n",
       "    </tr>\n",
       "    <tr>\n",
       "      <th>2</th>\n",
       "      <td>17664</td>\n",
       "      <td>7</td>\n",
       "      <td>21</td>\n",
       "      <td>1990</td>\n",
       "      <td>1</td>\n",
       "      <td>DM</td>\n",
       "      <td>M</td>\n",
       "      <td>38.0</td>\n",
       "      <td>45.0</td>\n",
       "    </tr>\n",
       "    <tr>\n",
       "      <th>3</th>\n",
       "      <td>17666</td>\n",
       "      <td>7</td>\n",
       "      <td>21</td>\n",
       "      <td>1990</td>\n",
       "      <td>1</td>\n",
       "      <td>DM</td>\n",
       "      <td>M</td>\n",
       "      <td>37.0</td>\n",
       "      <td>46.0</td>\n",
       "    </tr>\n",
       "    <tr>\n",
       "      <th>4</th>\n",
       "      <td>17742</td>\n",
       "      <td>8</td>\n",
       "      <td>16</td>\n",
       "      <td>1990</td>\n",
       "      <td>1</td>\n",
       "      <td>DM</td>\n",
       "      <td>F</td>\n",
       "      <td>36.0</td>\n",
       "      <td>43.0</td>\n",
       "    </tr>\n",
       "    <tr>\n",
       "      <th>5</th>\n",
       "      <td>17748</td>\n",
       "      <td>8</td>\n",
       "      <td>16</td>\n",
       "      <td>1990</td>\n",
       "      <td>1</td>\n",
       "      <td>DM</td>\n",
       "      <td>M</td>\n",
       "      <td>37.0</td>\n",
       "      <td>45.0</td>\n",
       "    </tr>\n",
       "    <tr>\n",
       "      <th>6</th>\n",
       "      <td>17767</td>\n",
       "      <td>8</td>\n",
       "      <td>16</td>\n",
       "      <td>1990</td>\n",
       "      <td>1</td>\n",
       "      <td>DM</td>\n",
       "      <td>M</td>\n",
       "      <td>37.0</td>\n",
       "      <td>41.0</td>\n",
       "    </tr>\n",
       "    <tr>\n",
       "      <th>7</th>\n",
       "      <td>22301</td>\n",
       "      <td>6</td>\n",
       "      <td>7</td>\n",
       "      <td>1995</td>\n",
       "      <td>1</td>\n",
       "      <td>DM</td>\n",
       "      <td>F</td>\n",
       "      <td>38.0</td>\n",
       "      <td>50.0</td>\n",
       "    </tr>\n",
       "    <tr>\n",
       "      <th>8</th>\n",
       "      <td>22363</td>\n",
       "      <td>6</td>\n",
       "      <td>27</td>\n",
       "      <td>1995</td>\n",
       "      <td>1</td>\n",
       "      <td>DM</td>\n",
       "      <td>M</td>\n",
       "      <td>38.0</td>\n",
       "      <td>48.0</td>\n",
       "    </tr>\n",
       "    <tr>\n",
       "      <th>9</th>\n",
       "      <td>22435</td>\n",
       "      <td>7</td>\n",
       "      <td>20</td>\n",
       "      <td>1995</td>\n",
       "      <td>1</td>\n",
       "      <td>DM</td>\n",
       "      <td>F</td>\n",
       "      <td>35.0</td>\n",
       "      <td>35.0</td>\n",
       "    </tr>\n",
       "    <tr>\n",
       "      <th>10</th>\n",
       "      <td>22554</td>\n",
       "      <td>8</td>\n",
       "      <td>26</td>\n",
       "      <td>1995</td>\n",
       "      <td>1</td>\n",
       "      <td>DM</td>\n",
       "      <td>F</td>\n",
       "      <td>36.0</td>\n",
       "      <td>42.0</td>\n",
       "    </tr>\n",
       "  </tbody>\n",
       "</table>\n",
       "</div>"
      ],
      "text/plain": [
       "    record_id  month  day  year  plot_id species_id sex  hindfoot_length  \\\n",
       "0       17604      6   21  1990        1         DM   M             36.0   \n",
       "1       17656      7   21  1990        1         DM   M             35.0   \n",
       "2       17664      7   21  1990        1         DM   M             38.0   \n",
       "3       17666      7   21  1990        1         DM   M             37.0   \n",
       "4       17742      8   16  1990        1         DM   F             36.0   \n",
       "5       17748      8   16  1990        1         DM   M             37.0   \n",
       "6       17767      8   16  1990        1         DM   M             37.0   \n",
       "7       22301      6    7  1995        1         DM   F             38.0   \n",
       "8       22363      6   27  1995        1         DM   M             38.0   \n",
       "9       22435      7   20  1995        1         DM   F             35.0   \n",
       "10      22554      8   26  1995        1         DM   F             36.0   \n",
       "\n",
       "    weight  \n",
       "0     43.0  \n",
       "1     43.0  \n",
       "2     45.0  \n",
       "3     46.0  \n",
       "4     43.0  \n",
       "5     45.0  \n",
       "6     41.0  \n",
       "7     50.0  \n",
       "8     48.0  \n",
       "9     35.0  \n",
       "10    42.0  "
      ]
     },
     "execution_count": 137,
     "metadata": {},
     "output_type": "execute_result"
    }
   ],
   "source": [
    "# Retrieve rows from surveys where the species_id is DM \n",
    "# and has been seen in 1990 or 1995 in June-August on plot 1\n",
    "\n",
    "sql_select_surveys = \"\"\"\n",
    "SELECT *\n",
    "FROM surveys\n",
    "WHERE \n",
    "    plot_id = 1 AND\n",
    "    species_id = \"DM\" AND\n",
    "    year IN (1990, 1995) AND\n",
    "    month BETWEEN 6 AND 8;\n",
    "    \n",
    "\"\"\"\n",
    "cursor.execute(sql_select_surveys)\n",
    "data_header = [t[0] for t in cursor.description]\n",
    "res_df = pd.DataFrame(cursor)\n",
    "res_df.columns = data_header\n",
    "res_df"
   ]
  },
  {
   "cell_type": "code",
   "execution_count": null,
   "metadata": {},
   "outputs": [],
   "source": []
  },
  {
   "cell_type": "code",
   "execution_count": 135,
   "metadata": {},
   "outputs": [
    {
     "name": "stdout",
     "output_type": "stream",
     "text": [
      "record_id\tmonth\tday\tyear\tplot_id\tspecies_id\tsex\thindfoot_length\tweight\n",
      "8016\t6\t18\t1983\t11\tOT\tF\t20.0\t30.0\n",
      "8046\t6\t18\t1983\t11\tDS\tF\t52.0\t128.0\n",
      "8010\t6\t18\t1983\t11\tDO\tF\t36.0\t46.0\n",
      "7938\t6\t17\t1983\t12\tPP\tF\t22.0\t20.0\n",
      "7970\t6\t17\t1983\t12\tOT\tF\t20.0\t15.0\n",
      "7936\t6\t17\t1983\t12\tDO\tF\t34.0\t42.0\n",
      "7962\t6\t17\t1983\t12\tDO\tF\t33.0\t39.0\n",
      "7957\t6\t17\t1983\t12\tDM\tF\t36.0\t44.0\n",
      "7980\t6\t17\t1983\t12\tDM\tF\t31.0\t16.0\n",
      "7981\t6\t17\t1983\t13\tDM\tF\t34.0\t49.0\n",
      "7989\t6\t17\t1983\t13\tDM\tF\t35.0\t46.0\n",
      "7953\t6\t17\t1983\t14\tDO\tF\t31.0\t19.0\n",
      "7972\t6\t17\t1983\t14\tDO\tF\t33.0\t15.0\n",
      "7976\t6\t17\t1983\t14\tDO\tF\t33.0\t46.0\n",
      "8031\t6\t18\t1983\t15\tOL\tF\t20.0\t45.0\n",
      "8033\t6\t18\t1983\t15\tNL\tF\t29.0\t117.0\n",
      "7934\t6\t17\t1983\t17\tDM\tF\t33.0\t38.0\n",
      "7968\t6\t17\t1983\t18\tOT\tF\t20.0\t22.0\n",
      "7959\t6\t17\t1983\t18\tNL\tF\t32.0\t162.0\n",
      "7977\t6\t17\t1983\t18\tDS\tF\t47.0\t64.0\n",
      "7983\t6\t17\t1983\t19\tRM\tF\t16.0\t15.0\n",
      "7986\t6\t17\t1983\t19\tPF\tF\t16.0\t7.0\n",
      "7937\t6\t17\t1983\t20\tNL\tF\t31.0\tNone\n",
      "7967\t6\t17\t1983\t20\tNL\tF\t32.0\t150.0\n",
      "7939\t6\t17\t1983\t20\tDS\tF\t50.0\t111.0\n",
      "7947\t6\t17\t1983\t20\tDO\tF\t35.0\t41.0\n",
      "7971\t6\t17\t1983\t20\tDM\tF\t36.0\tNone\n"
     ]
    }
   ],
   "source": [
    "# ORDER BY (optional) - indicates a sort order given by a column in the the output data and the sort order: ASC or DESC\n",
    "\n",
    "sql = '''\n",
    "SELECT *\n",
    "FROM surveys \n",
    "WHERE month = 6 AND year = 1983 AND sex = \"F\" AND plot_id BETWEEN 10 AND 20\n",
    "ORDER BY plot_id  ASC, species_id DESC\n",
    "--LIMIT 20;\n",
    "'''\n",
    "cursor.execute(sql)\n",
    "print(get_header(cursor))\n",
    "print(get_results(cursor))"
   ]
  },
  {
   "cell_type": "markdown",
   "metadata": {},
   "source": [
    "The PRAGMA statement is an SQL extension specific to SQLite and used to modify the operation of the SQLite library or to query the SQLite library for internal (non-table) data.\n",
    "https://www.sqlite.org/pragma.html"
   ]
  },
  {
   "cell_type": "markdown",
   "metadata": {},
   "source": [
    "____\n",
    "Sqlite3 also has some PRAGMA methods <br>\n",
    "This is an SQL extension specific to SQLite that is used to modify the operation of the SQLite library or to query the SQLite library for internal (non-table) data <br>\n",
    "https://www.sqlite.org/pragma.html <br>\n",
    "The code below shows how to get the schema (columns and columns information)"
   ]
  },
  {
   "cell_type": "code",
   "execution_count": 139,
   "metadata": {},
   "outputs": [
    {
     "name": "stdout",
     "output_type": "stream",
     "text": [
      "cid\tname\ttype\tnotnull\tdflt_value\tpk\n",
      "0\tspecies_id\tTEXT\t0\tNone\t0\n",
      "1\tgenus\tTEXT\t0\tNone\t0\n",
      "2\tspecies\tTEXT\t0\tNone\t0\n",
      "3\ttaxa\tTEXT\t0\tNone\t0\n"
     ]
    }
   ],
   "source": [
    "# get the information about the data table\n",
    "# other PRAGMA methods can provide other types of information\n",
    "\n",
    "sql = 'PRAGMA table_info(\"species\")'\n",
    "cursor.execute(sql)\n",
    "print(get_header(cursor))\n",
    "print(get_results(cursor))"
   ]
  },
  {
   "cell_type": "code",
   "execution_count": 143,
   "metadata": {},
   "outputs": [
    {
     "name": "stdout",
     "output_type": "stream",
     "text": [
      "cid\tname\ttype\tnotnull\tdflt_value\tpk\n",
      "0\tspecies_id\tTEXT\t0\tNone\t0\n",
      "1\tgenus\tTEXT\t0\tNone\t0\n",
      "2\tspecies\tTEXT\t0\tNone\t0\n",
      "3\ttaxa\tTEXT\t0\tNone\t0\n"
     ]
    }
   ],
   "source": [
    "sql = '''SELECT * FROM pragma_table_info(\"species\")  '''\n",
    "cursor.execute(sql)\n",
    "print(get_header(cursor))\n",
    "print(get_results(cursor))"
   ]
  },
  {
   "cell_type": "code",
   "execution_count": 145,
   "metadata": {},
   "outputs": [
    {
     "name": "stdout",
     "output_type": "stream",
     "text": [
      "cid\tname\ttype\tnotnull\tdflt_value\tpk\n",
      "0\trecord_id\tBIGINT\t0\tNone\t0\n",
      "1\tmonth\tBIGINT\t0\tNone\t0\n",
      "2\tday\tBIGINT\t0\tNone\t0\n",
      "3\tyear\tBIGINT\t0\tNone\t0\n",
      "4\tplot_id\tBIGINT\t0\tNone\t0\n",
      "5\tspecies_id\tTEXT\t0\tNone\t0\n",
      "6\tsex\tTEXT\t0\tNone\t0\n",
      "7\thindfoot_length\tFLOAT\t0\tNone\t0\n",
      "8\tweight\tFLOAT\t0\tNone\t0\n"
     ]
    }
   ],
   "source": [
    "sql = '''SELECT * FROM pragma_table_info(\"surveys\")  '''\n",
    "cursor.execute(sql)\n",
    "print(get_header(cursor))\n",
    "print(get_results(cursor))"
   ]
  },
  {
   "cell_type": "markdown",
   "metadata": {},
   "source": [
    "___"
   ]
  },
  {
   "cell_type": "code",
   "execution_count": 10,
   "metadata": {},
   "outputs": [],
   "source": [
    "from sqlite3 import connect\n",
    "import pandas as pd\n",
    "connection = connect(\"portal_mammals.sqlite\")\n",
    "cursor = connection.cursor()\n"
   ]
  },
  {
   "cell_type": "code",
   "execution_count": 16,
   "metadata": {},
   "outputs": [],
   "source": [
    "def run_query(cursor, sql):\n",
    "    \n",
    "    cursor.execute(sql)\n",
    "    header = [t[0] for t in cursor.description]\n",
    "    df = pd.DataFrame(cursor.fetchall(), columns = header)\n",
    "    return df"
   ]
  },
  {
   "cell_type": "code",
   "execution_count": 20,
   "metadata": {},
   "outputs": [
    {
     "data": {
      "text/html": [
       "<div>\n",
       "<style scoped>\n",
       "    .dataframe tbody tr th:only-of-type {\n",
       "        vertical-align: middle;\n",
       "    }\n",
       "\n",
       "    .dataframe tbody tr th {\n",
       "        vertical-align: top;\n",
       "    }\n",
       "\n",
       "    .dataframe thead th {\n",
       "        text-align: right;\n",
       "    }\n",
       "</style>\n",
       "<table border=\"1\" class=\"dataframe\">\n",
       "  <thead>\n",
       "    <tr style=\"text-align: right;\">\n",
       "      <th></th>\n",
       "      <th>species_id</th>\n",
       "      <th>genus</th>\n",
       "      <th>species</th>\n",
       "      <th>taxa</th>\n",
       "    </tr>\n",
       "  </thead>\n",
       "  <tbody>\n",
       "    <tr>\n",
       "      <th>0</th>\n",
       "      <td>DM</td>\n",
       "      <td>Dipodomys</td>\n",
       "      <td>merriami</td>\n",
       "      <td>Rodent</td>\n",
       "    </tr>\n",
       "    <tr>\n",
       "      <th>1</th>\n",
       "      <td>DO</td>\n",
       "      <td>Dipodomys</td>\n",
       "      <td>ordii</td>\n",
       "      <td>Rodent</td>\n",
       "    </tr>\n",
       "    <tr>\n",
       "      <th>2</th>\n",
       "      <td>OL</td>\n",
       "      <td>Onychomys</td>\n",
       "      <td>leucogaster</td>\n",
       "      <td>Rodent</td>\n",
       "    </tr>\n",
       "    <tr>\n",
       "      <th>3</th>\n",
       "      <td>OT</td>\n",
       "      <td>Onychomys</td>\n",
       "      <td>torridus</td>\n",
       "      <td>Rodent</td>\n",
       "    </tr>\n",
       "    <tr>\n",
       "      <th>4</th>\n",
       "      <td>PB</td>\n",
       "      <td>Chaetodipus</td>\n",
       "      <td>baileyi</td>\n",
       "      <td>Rodent</td>\n",
       "    </tr>\n",
       "    <tr>\n",
       "      <th>5</th>\n",
       "      <td>PE</td>\n",
       "      <td>Peromyscus</td>\n",
       "      <td>eremicus</td>\n",
       "      <td>Rodent</td>\n",
       "    </tr>\n",
       "    <tr>\n",
       "      <th>6</th>\n",
       "      <td>PF</td>\n",
       "      <td>Perognathus</td>\n",
       "      <td>flavus</td>\n",
       "      <td>Rodent</td>\n",
       "    </tr>\n",
       "    <tr>\n",
       "      <th>7</th>\n",
       "      <td>PM</td>\n",
       "      <td>Peromyscus</td>\n",
       "      <td>maniculatus</td>\n",
       "      <td>Rodent</td>\n",
       "    </tr>\n",
       "    <tr>\n",
       "      <th>8</th>\n",
       "      <td>PP</td>\n",
       "      <td>Chaetodipus</td>\n",
       "      <td>penicillatus</td>\n",
       "      <td>Rodent</td>\n",
       "    </tr>\n",
       "    <tr>\n",
       "      <th>9</th>\n",
       "      <td>RF</td>\n",
       "      <td>Reithrodontomys</td>\n",
       "      <td>fulvescens</td>\n",
       "      <td>Rodent</td>\n",
       "    </tr>\n",
       "    <tr>\n",
       "      <th>10</th>\n",
       "      <td>RM</td>\n",
       "      <td>Reithrodontomys</td>\n",
       "      <td>megalotis</td>\n",
       "      <td>Rodent</td>\n",
       "    </tr>\n",
       "  </tbody>\n",
       "</table>\n",
       "</div>"
      ],
      "text/plain": [
       "   species_id            genus       species    taxa\n",
       "0          DM        Dipodomys      merriami  Rodent\n",
       "1          DO        Dipodomys         ordii  Rodent\n",
       "2          OL        Onychomys   leucogaster  Rodent\n",
       "3          OT        Onychomys      torridus  Rodent\n",
       "4          PB      Chaetodipus       baileyi  Rodent\n",
       "5          PE       Peromyscus      eremicus  Rodent\n",
       "6          PF      Perognathus        flavus  Rodent\n",
       "7          PM       Peromyscus   maniculatus  Rodent\n",
       "8          PP      Chaetodipus  penicillatus  Rodent\n",
       "9          RF  Reithrodontomys    fulvescens  Rodent\n",
       "10         RM  Reithrodontomys     megalotis  Rodent"
      ]
     },
     "execution_count": 20,
     "metadata": {},
     "output_type": "execute_result"
    }
   ],
   "source": [
    "# SUB-QUERY - we can have a query in a query\n",
    "\n",
    "sql = '''\n",
    "SELECT *\n",
    "FROM species\n",
    "WHERE species_id IN\n",
    "    (SELECT DISTINCT species_id \n",
    "    FROM surveys\n",
    "    WHERE year = 1997 AND month = 4); \n",
    "'''\n",
    "df = run_query(cursor, sql)\n",
    "df"
   ]
  },
  {
   "cell_type": "code",
   "execution_count": 22,
   "metadata": {},
   "outputs": [
    {
     "data": {
      "text/html": [
       "<div>\n",
       "<style scoped>\n",
       "    .dataframe tbody tr th:only-of-type {\n",
       "        vertical-align: middle;\n",
       "    }\n",
       "\n",
       "    .dataframe tbody tr th {\n",
       "        vertical-align: top;\n",
       "    }\n",
       "\n",
       "    .dataframe thead th {\n",
       "        text-align: right;\n",
       "    }\n",
       "</style>\n",
       "<table border=\"1\" class=\"dataframe\">\n",
       "  <thead>\n",
       "    <tr style=\"text-align: right;\">\n",
       "      <th></th>\n",
       "      <th>species_id</th>\n",
       "    </tr>\n",
       "  </thead>\n",
       "  <tbody>\n",
       "    <tr>\n",
       "      <th>0</th>\n",
       "      <td>DM</td>\n",
       "    </tr>\n",
       "    <tr>\n",
       "      <th>1</th>\n",
       "      <td>PP</td>\n",
       "    </tr>\n",
       "    <tr>\n",
       "      <th>2</th>\n",
       "      <td>RM</td>\n",
       "    </tr>\n",
       "    <tr>\n",
       "      <th>3</th>\n",
       "      <td>PF</td>\n",
       "    </tr>\n",
       "    <tr>\n",
       "      <th>4</th>\n",
       "      <td>PM</td>\n",
       "    </tr>\n",
       "    <tr>\n",
       "      <th>5</th>\n",
       "      <td>OT</td>\n",
       "    </tr>\n",
       "    <tr>\n",
       "      <th>6</th>\n",
       "      <td>PB</td>\n",
       "    </tr>\n",
       "    <tr>\n",
       "      <th>7</th>\n",
       "      <td>PE</td>\n",
       "    </tr>\n",
       "    <tr>\n",
       "      <th>8</th>\n",
       "      <td>DO</td>\n",
       "    </tr>\n",
       "    <tr>\n",
       "      <th>9</th>\n",
       "      <td>OL</td>\n",
       "    </tr>\n",
       "    <tr>\n",
       "      <th>10</th>\n",
       "      <td>RF</td>\n",
       "    </tr>\n",
       "  </tbody>\n",
       "</table>\n",
       "</div>"
      ],
      "text/plain": [
       "   species_id\n",
       "0          DM\n",
       "1          PP\n",
       "2          RM\n",
       "3          PF\n",
       "4          PM\n",
       "5          OT\n",
       "6          PB\n",
       "7          PE\n",
       "8          DO\n",
       "9          OL\n",
       "10         RF"
      ]
     },
     "execution_count": 22,
     "metadata": {},
     "output_type": "execute_result"
    }
   ],
   "source": [
    "sql = '''\n",
    "SELECT DISTINCT species_id \n",
    "    FROM surveys\n",
    "    WHERE year = 1997 AND month = 4; \n",
    "'''\n",
    "df = run_query(cursor, sql)\n",
    "df\n"
   ]
  },
  {
   "cell_type": "code",
   "execution_count": 151,
   "metadata": {},
   "outputs": [
    {
     "name": "stdout",
     "output_type": "stream",
     "text": [
      "ID\trecord_no\n",
      "DM\t10596\n",
      "PP\t3123\n",
      "DO\t3027\n",
      "PB\t2891\n",
      "RM\t2609\n",
      "DS\t2504\n",
      "OT\t2249\n",
      "PF\t1597\n",
      "PE\t1299\n",
      "NL\t1252\n",
      "OL\t1006\n",
      "PM\t899\n",
      "None\t763\n",
      "AH\t437\n",
      "AB\t303\n",
      "SS\t248\n",
      "SH\t147\n",
      "SA\t75\n",
      "RF\t75\n",
      "CB\t50\n",
      "BA\t46\n",
      "SO\t43\n",
      "SF\t43\n",
      "DX\t40\n",
      "PC\t39\n",
      "PL\t36\n",
      "PH\t32\n",
      "CQ\t16\n",
      "CM\t13\n",
      "OX\t12\n",
      "UR\t10\n",
      "PI\t9\n",
      "UP\t8\n",
      "RO\t8\n",
      "PG\t8\n",
      "PX\t6\n",
      "SU\t5\n",
      "PU\t5\n",
      "US\t4\n",
      "UL\t4\n",
      "ZL\t2\n",
      "RX\t2\n",
      "AS\t2\n",
      "ST\t1\n",
      "SC\t1\n",
      "CV\t1\n",
      "CU\t1\n",
      "CT\t1\n",
      "CS\t1\n"
     ]
    }
   ],
   "source": [
    "# GROUP BY groups by a column and creates summary data for a different column\n",
    "# count entries for each GO term\n",
    "\n",
    "sql = '''\n",
    "SELECT species_id ID, count(*) AS record_no\n",
    "FROM surveys \n",
    "GROUP BY species_id \n",
    "ORDER BY record_no DESC;\n",
    "'''\n",
    "cursor.execute(sql)\n",
    "print(get_header(cursor))\n",
    "print(get_results(cursor))"
   ]
  },
  {
   "cell_type": "code",
   "execution_count": 155,
   "metadata": {},
   "outputs": [
    {
     "name": "stdout",
     "output_type": "stream",
     "text": [
      "ID\tmonth\trecord_no\n",
      "DM\t1\t60\n",
      "RM\t1\t54\n",
      "DM\t12\t47\n",
      "DM\t11\t42\n",
      "DM\t10\t41\n",
      "DM\t3\t37\n",
      "DM\t4\t37\n",
      "DM\t7\t37\n",
      "DM\t2\t35\n",
      "DM\t5\t35\n",
      "DM\t8\t33\n",
      "DM\t6\t31\n",
      "DO\t1\t31\n",
      "RM\t2\t31\n",
      "RM\t3\t30\n",
      "RM\t12\t30\n",
      "DM\t9\t27\n",
      "AB\t1\t24\n",
      "RM\t4\t23\n",
      "RM\t11\t22\n",
      "DO\t2\t17\n",
      "DO\t3\t17\n",
      "DO\t4\t15\n",
      "DO\t6\t14\n",
      "DO\t8\t14\n",
      "PE\t3\t14\n",
      "PE\t1\t13\n",
      "DO\t5\t12\n",
      "DO\t12\t12\n",
      "DO\t7\t11\n",
      "RM\t5\t11\n",
      "RM\t6\t11\n",
      "DO\t11\t10\n",
      "OT\t1\t10\n",
      "PE\t2\t10\n",
      "RM\t10\t10\n",
      "DO\t9\t9\n",
      "DO\t10\t9\n",
      "OT\t11\t9\n",
      "OT\t10\t8\n",
      "OT\t12\t8\n",
      "PE\t4\t8\n",
      "PE\t12\t8\n",
      "PF\t1\t8\n",
      "PP\t9\t8\n",
      "SF\t1\t8\n",
      "AH\t5\t7\n",
      "OL\t12\t7\n",
      "OT\t7\t7\n",
      "OT\t8\t7\n",
      "PC\t2\t7\n",
      "PP\t8\t7\n",
      "None\t7\t6\n",
      "OT\t2\t6\n",
      "OT\t3\t6\n",
      "PF\t3\t6\n",
      "PP\t7\t6\n",
      "RF\t1\t6\n",
      "NL\t2\t5\n",
      "OT\t4\t5\n",
      "OT\t5\t5\n",
      "PE\t9\t5\n",
      "PF\t2\t5\n",
      "PF\t6\t5\n",
      "PF\t8\t5\n",
      "PF\t12\t5\n",
      "RM\t7\t5\n",
      "None\t8\t4\n",
      "NL\t9\t4\n",
      "OL\t1\t4\n",
      "OT\t6\t4\n",
      "PE\t5\t4\n",
      "PE\t11\t4\n",
      "PF\t4\t4\n",
      "PF\t10\t4\n",
      "PG\t1\t4\n",
      "PP\t4\t4\n",
      "AH\t1\t3\n",
      "AH\t9\t3\n",
      "DS\t1\t3\n",
      "NL\t3\t3\n",
      "NL\t5\t3\n",
      "NL\t10\t3\n",
      "OL\t4\t3\n",
      "PE\t10\t3\n",
      "PF\t5\t3\n",
      "PF\t11\t3\n",
      "PP\t6\t3\n",
      "PP\t10\t3\n",
      "RF\t3\t3\n",
      "RM\t8\t3\n",
      "SF\t2\t3\n",
      "SH\t3\t3\n",
      "SS\t4\t3\n",
      "None\t4\t2\n",
      "None\t5\t2\n",
      "AH\t4\t2\n",
      "AH\t8\t2\n",
      "AH\t10\t2\n",
      "AH\t11\t2\n",
      "BA\t2\t2\n",
      "BA\t4\t2\n",
      "BA\t12\t2\n",
      "DS\t3\t2\n",
      "DS\t6\t2\n",
      "DS\t8\t2\n",
      "NL\t1\t2\n",
      "NL\t4\t2\n",
      "NL\t11\t2\n",
      "NL\t12\t2\n",
      "OL\t2\t2\n",
      "OL\t7\t2\n",
      "OL\t9\t2\n",
      "OL\t10\t2\n",
      "OT\t9\t2\n",
      "PE\t6\t2\n",
      "PE\t7\t2\n",
      "PE\t8\t2\n",
      "PF\t7\t2\n",
      "PH\t7\t2\n",
      "PP\t5\t2\n",
      "RF\t4\t2\n",
      "SF\t3\t2\n",
      "SF\t4\t2\n",
      "SF\t5\t2\n",
      "SH\t1\t2\n",
      "SH\t2\t2\n",
      "None\t1\t1\n",
      "AB\t3\t1\n",
      "AB\t9\t1\n",
      "AB\t11\t1\n",
      "AH\t2\t1\n",
      "BA\t1\t1\n",
      "BA\t5\t1\n",
      "BA\t6\t1\n",
      "BA\t8\t1\n",
      "BA\t10\t1\n",
      "DS\t2\t1\n",
      "DS\t4\t1\n",
      "DS\t5\t1\n",
      "DS\t7\t1\n",
      "DS\t9\t1\n",
      "DS\t10\t1\n",
      "DS\t11\t1\n",
      "DS\t12\t1\n",
      "NL\t6\t1\n",
      "NL\t7\t1\n",
      "NL\t8\t1\n",
      "OL\t3\t1\n",
      "OL\t8\t1\n",
      "OL\t11\t1\n",
      "PC\t4\t1\n",
      "PF\t9\t1\n",
      "PH\t1\t1\n",
      "PH\t2\t1\n",
      "PH\t3\t1\n",
      "PH\t4\t1\n",
      "PH\t5\t1\n",
      "PP\t1\t1\n",
      "RF\t2\t1\n",
      "RM\t9\t1\n",
      "SF\t6\t1\n",
      "SH\t4\t1\n",
      "SH\t5\t1\n",
      "SS\t5\t1\n",
      "SS\t9\t1\n",
      "UP\t7\t1\n"
     ]
    }
   ],
   "source": [
    "sql = '''\n",
    "SELECT species_id ID, month, count(*) AS record_no\n",
    "FROM surveys \n",
    "WHERE year = 1990\n",
    "GROUP BY species_id, month\n",
    "ORDER BY record_no DESC;\n",
    "'''\n",
    "cursor.execute(sql)\n",
    "print(get_header(cursor))\n",
    "print(get_results(cursor))"
   ]
  },
  {
   "cell_type": "code",
   "execution_count": 159,
   "metadata": {},
   "outputs": [
    {
     "name": "stdout",
     "output_type": "stream",
     "text": [
      "Plot No\tRecord Number\n",
      "12\t2365\n",
      "2\t2194\n",
      "17\t2039\n",
      "1\t1995\n",
      "4\t1969\n",
      "9\t1936\n",
      "11\t1918\n",
      "8\t1891\n",
      "14\t1885\n",
      "3\t1828\n",
      "6\t1582\n",
      "13\t1538\n",
      "18\t1445\n",
      "22\t1399\n",
      "20\t1390\n",
      "5\t1194\n",
      "19\t1189\n",
      "21\t1173\n",
      "15\t1069\n",
      "24\t1048\n",
      "7\t816\n",
      "16\t646\n",
      "23\t571\n",
      "10\t469\n"
     ]
    }
   ],
   "source": [
    "# specify column in aggregate function and alias the name of the columns\n",
    "\n",
    "sql = '''\n",
    "SELECT plot_id as \"Plot No\", count(record_id) as \"Record Number\" \n",
    "FROM surveys \n",
    "GROUP BY plot_id\n",
    "ORDER BY count(record_id) DESC;\n",
    "'''\n",
    "cursor.execute(sql)\n",
    "print(get_header(cursor))\n",
    "print(get_results(cursor))"
   ]
  },
  {
   "cell_type": "code",
   "execution_count": 24,
   "metadata": {},
   "outputs": [
    {
     "data": {
      "text/html": [
       "<div>\n",
       "<style scoped>\n",
       "    .dataframe tbody tr th:only-of-type {\n",
       "        vertical-align: middle;\n",
       "    }\n",
       "\n",
       "    .dataframe tbody tr th {\n",
       "        vertical-align: top;\n",
       "    }\n",
       "\n",
       "    .dataframe thead th {\n",
       "        text-align: right;\n",
       "    }\n",
       "</style>\n",
       "<table border=\"1\" class=\"dataframe\">\n",
       "  <thead>\n",
       "    <tr style=\"text-align: right;\">\n",
       "      <th></th>\n",
       "      <th>Plot No</th>\n",
       "      <th>counts</th>\n",
       "    </tr>\n",
       "  </thead>\n",
       "  <tbody>\n",
       "    <tr>\n",
       "      <th>0</th>\n",
       "      <td>7</td>\n",
       "      <td>816</td>\n",
       "    </tr>\n",
       "    <tr>\n",
       "      <th>1</th>\n",
       "      <td>10</td>\n",
       "      <td>469</td>\n",
       "    </tr>\n",
       "    <tr>\n",
       "      <th>2</th>\n",
       "      <td>16</td>\n",
       "      <td>646</td>\n",
       "    </tr>\n",
       "    <tr>\n",
       "      <th>3</th>\n",
       "      <td>23</td>\n",
       "      <td>571</td>\n",
       "    </tr>\n",
       "  </tbody>\n",
       "</table>\n",
       "</div>"
      ],
      "text/plain": [
       "   Plot No  counts\n",
       "0        7     816\n",
       "1       10     469\n",
       "2       16     646\n",
       "3       23     571"
      ]
     },
     "execution_count": 24,
     "metadata": {},
     "output_type": "execute_result"
    }
   ],
   "source": [
    "# HAVING allows restrictions on the rows used or selected\n",
    "# a GROUP BY clause is required before HAVING\n",
    "\n",
    "sql = '''\n",
    "SELECT plot_id as \"Plot No\", count(record_id) counts \n",
    "FROM surveys \n",
    "GROUP BY plot_id\n",
    "HAVING counts < 1000;\n",
    "'''\n",
    "cursor.execute(sql)\n",
    "df = run_query(cursor,sql)\n",
    "df"
   ]
  },
  {
   "cell_type": "code",
   "execution_count": 169,
   "metadata": {},
   "outputs": [
    {
     "name": "stdout",
     "output_type": "stream",
     "text": [
      "month\tyear\trecord_no\n",
      "7\t1997\t542\n",
      "12\t2002\t361\n",
      "4\t1981\t342\n",
      "10\t1982\t306\n"
     ]
    }
   ],
   "source": [
    "# Select month, year combinations with more than 300 records\n",
    "\n",
    "sql = '''\n",
    "SELECT  month, year, count(*) AS record_no\n",
    "FROM surveys \n",
    "GROUP BY month, year\n",
    "HAVING record_no > 300\n",
    "ORDER BY record_no DESC;\n",
    "'''\n",
    "cursor.execute(sql)\n",
    "print(get_header(cursor))\n",
    "print(get_results(cursor))\n"
   ]
  },
  {
   "cell_type": "markdown",
   "metadata": {},
   "source": [
    "#### A `PRIMARY KEY` is a very important concept to understand.  \n",
    "* It is the designation for a column or a set of columns from a table.\n",
    "* It is recommended to be a serial value and not something related to the business needs of the data in the table.\n",
    "\n",
    "* A primary key is used to uniquely identify a row of data; combined with a column name, uniquely locates a data entry\n",
    "* A primary key by definition must be `UNIQUE` and `NOT NULL` \n",
    "* The primary key of a table, should be a (sequential) non-repeating and not null value  \n",
    "* Primary keys are generally identified at time of table creation  \n",
    "* A common method for generating a primary key, is to set the datatype to `INTEGER` and declare `AUTOINCREMENT` which will function when data is inserted into the table\n",
    "* Primary keys can be a composite of 2 or more columns that uniquely identify the data in the table\n",
    "\n"
   ]
  },
  {
   "cell_type": "markdown",
   "metadata": {},
   "source": [
    "#### A `FOREIGN KEY` is a column(s) that points to the `PRIMARY KEY` of another table \n",
    "\n",
    "* The purpose of the foreign key is to ensure referential integrity of the data. \n",
    "In other words, only values that are supposed to appear in the database are permitted.<br>\n",
    "Only the values that exist in the `PRIMARY KEY` column are allowed to be present in the FOREIGN KEY column.\n",
    "Example: A `gene` table has the `PRIMARY KEY` `gene_id`. The GO2_gene GO term is associated with a gene\n",
    "\n",
    "They are also the underpinning of how tables are joined and relationships portrayed in the database\n"
   ]
  },
  {
   "cell_type": "markdown",
   "metadata": {},
   "source": [
    "#### JOIN tables\n",
    "\n",
    "* Multiple tables contain different data that we want to retrieve from a single query\n",
    "* In order to assemble data as part of a query, a JOIN between tables is needed\n",
    "* This is a very common practice, since it’s rare for all the data you want to be in a single table\n",
    "\n",
    "\n",
    "* INNER JOIN - return only those rows where there is matching content in BOTH tables (is the default when JOIN is used)\n",
    "* OUTER JOIN - returns all rows from both tables even if one of the tables is blank\n",
    "* SELF JOIN - can be used to join a table to itself (through aliasing), to compare data internal to the table\n",
    "\n",
    "```sql\n",
    "SELECT ... FROM table1 [INNER] JOIN table2 ON conditional_expression\n",
    "```\n"
   ]
  },
  {
   "cell_type": "code",
   "execution_count": 26,
   "metadata": {},
   "outputs": [],
   "source": [
    "sql = \"\"\"\n",
    "SELECT * \n",
    "FROM surveys, species\n",
    "\n",
    "\"\"\"\n",
    "\n",
    "# this will return all combinations of rows between the two tables"
   ]
  },
  {
   "cell_type": "code",
   "execution_count": 28,
   "metadata": {},
   "outputs": [
    {
     "data": {
      "text/html": [
       "<div>\n",
       "<style scoped>\n",
       "    .dataframe tbody tr th:only-of-type {\n",
       "        vertical-align: middle;\n",
       "    }\n",
       "\n",
       "    .dataframe tbody tr th {\n",
       "        vertical-align: top;\n",
       "    }\n",
       "\n",
       "    .dataframe thead th {\n",
       "        text-align: right;\n",
       "    }\n",
       "</style>\n",
       "<table border=\"1\" class=\"dataframe\">\n",
       "  <thead>\n",
       "    <tr style=\"text-align: right;\">\n",
       "      <th></th>\n",
       "      <th>record_id</th>\n",
       "      <th>month</th>\n",
       "      <th>day</th>\n",
       "      <th>year</th>\n",
       "      <th>plot_id</th>\n",
       "      <th>species_id</th>\n",
       "      <th>sex</th>\n",
       "      <th>hindfoot_length</th>\n",
       "      <th>weight</th>\n",
       "      <th>species_id</th>\n",
       "      <th>genus</th>\n",
       "      <th>species</th>\n",
       "      <th>taxa</th>\n",
       "    </tr>\n",
       "  </thead>\n",
       "  <tbody>\n",
       "    <tr>\n",
       "      <th>0</th>\n",
       "      <td>31762</td>\n",
       "      <td>1</td>\n",
       "      <td>22</td>\n",
       "      <td>2001</td>\n",
       "      <td>6</td>\n",
       "      <td>OT</td>\n",
       "      <td>F</td>\n",
       "      <td>20.0</td>\n",
       "      <td>26.0</td>\n",
       "      <td>OT</td>\n",
       "      <td>Onychomys</td>\n",
       "      <td>torridus</td>\n",
       "      <td>Rodent</td>\n",
       "    </tr>\n",
       "    <tr>\n",
       "      <th>1</th>\n",
       "      <td>32002</td>\n",
       "      <td>4</td>\n",
       "      <td>22</td>\n",
       "      <td>2001</td>\n",
       "      <td>6</td>\n",
       "      <td>SH</td>\n",
       "      <td>F</td>\n",
       "      <td>29.0</td>\n",
       "      <td>132.0</td>\n",
       "      <td>SH</td>\n",
       "      <td>Sigmodon</td>\n",
       "      <td>hispidus</td>\n",
       "      <td>Rodent</td>\n",
       "    </tr>\n",
       "    <tr>\n",
       "      <th>2</th>\n",
       "      <td>32099</td>\n",
       "      <td>5</td>\n",
       "      <td>27</td>\n",
       "      <td>2001</td>\n",
       "      <td>6</td>\n",
       "      <td>SH</td>\n",
       "      <td>F</td>\n",
       "      <td>30.0</td>\n",
       "      <td>86.0</td>\n",
       "      <td>SH</td>\n",
       "      <td>Sigmodon</td>\n",
       "      <td>hispidus</td>\n",
       "      <td>Rodent</td>\n",
       "    </tr>\n",
       "    <tr>\n",
       "      <th>3</th>\n",
       "      <td>32101</td>\n",
       "      <td>5</td>\n",
       "      <td>27</td>\n",
       "      <td>2001</td>\n",
       "      <td>6</td>\n",
       "      <td>SH</td>\n",
       "      <td>F</td>\n",
       "      <td>29.0</td>\n",
       "      <td>123.0</td>\n",
       "      <td>SH</td>\n",
       "      <td>Sigmodon</td>\n",
       "      <td>hispidus</td>\n",
       "      <td>Rodent</td>\n",
       "    </tr>\n",
       "    <tr>\n",
       "      <th>4</th>\n",
       "      <td>32104</td>\n",
       "      <td>5</td>\n",
       "      <td>27</td>\n",
       "      <td>2001</td>\n",
       "      <td>6</td>\n",
       "      <td>OT</td>\n",
       "      <td>F</td>\n",
       "      <td>20.0</td>\n",
       "      <td>34.0</td>\n",
       "      <td>OT</td>\n",
       "      <td>Onychomys</td>\n",
       "      <td>torridus</td>\n",
       "      <td>Rodent</td>\n",
       "    </tr>\n",
       "    <tr>\n",
       "      <th>5</th>\n",
       "      <td>32106</td>\n",
       "      <td>5</td>\n",
       "      <td>27</td>\n",
       "      <td>2001</td>\n",
       "      <td>6</td>\n",
       "      <td>OT</td>\n",
       "      <td>F</td>\n",
       "      <td>20.0</td>\n",
       "      <td>14.0</td>\n",
       "      <td>OT</td>\n",
       "      <td>Onychomys</td>\n",
       "      <td>torridus</td>\n",
       "      <td>Rodent</td>\n",
       "    </tr>\n",
       "    <tr>\n",
       "      <th>6</th>\n",
       "      <td>32940</td>\n",
       "      <td>10</td>\n",
       "      <td>14</td>\n",
       "      <td>2001</td>\n",
       "      <td>6</td>\n",
       "      <td>OT</td>\n",
       "      <td>F</td>\n",
       "      <td>20.0</td>\n",
       "      <td>27.0</td>\n",
       "      <td>OT</td>\n",
       "      <td>Onychomys</td>\n",
       "      <td>torridus</td>\n",
       "      <td>Rodent</td>\n",
       "    </tr>\n",
       "    <tr>\n",
       "      <th>7</th>\n",
       "      <td>33154</td>\n",
       "      <td>11</td>\n",
       "      <td>18</td>\n",
       "      <td>2001</td>\n",
       "      <td>6</td>\n",
       "      <td>OT</td>\n",
       "      <td>F</td>\n",
       "      <td>20.0</td>\n",
       "      <td>27.0</td>\n",
       "      <td>OT</td>\n",
       "      <td>Onychomys</td>\n",
       "      <td>torridus</td>\n",
       "      <td>Rodent</td>\n",
       "    </tr>\n",
       "  </tbody>\n",
       "</table>\n",
       "</div>"
      ],
      "text/plain": [
       "   record_id  month  day  year  plot_id species_id sex  hindfoot_length  \\\n",
       "0      31762      1   22  2001        6         OT   F             20.0   \n",
       "1      32002      4   22  2001        6         SH   F             29.0   \n",
       "2      32099      5   27  2001        6         SH   F             30.0   \n",
       "3      32101      5   27  2001        6         SH   F             29.0   \n",
       "4      32104      5   27  2001        6         OT   F             20.0   \n",
       "5      32106      5   27  2001        6         OT   F             20.0   \n",
       "6      32940     10   14  2001        6         OT   F             20.0   \n",
       "7      33154     11   18  2001        6         OT   F             20.0   \n",
       "\n",
       "   weight species_id      genus   species    taxa  \n",
       "0    26.0         OT  Onychomys  torridus  Rodent  \n",
       "1   132.0         SH   Sigmodon  hispidus  Rodent  \n",
       "2    86.0         SH   Sigmodon  hispidus  Rodent  \n",
       "3   123.0         SH   Sigmodon  hispidus  Rodent  \n",
       "4    34.0         OT  Onychomys  torridus  Rodent  \n",
       "5    14.0         OT  Onychomys  torridus  Rodent  \n",
       "6    27.0         OT  Onychomys  torridus  Rodent  \n",
       "7    27.0         OT  Onychomys  torridus  Rodent  "
      ]
     },
     "execution_count": 28,
     "metadata": {},
     "output_type": "execute_result"
    }
   ],
   "source": [
    "sql = '''\n",
    "SELECT *\n",
    "FROM surveys AS sv\n",
    "INNER JOIN species AS sp\n",
    "      ON sv.species_id = sp.species_id\n",
    "WHERE plot_id = \"6\" AND \n",
    "      year = 2001 AND \n",
    "      sex = \"F\" AND \n",
    "      genus LIKE \"%on%\";\n",
    "'''\n",
    "cursor.execute(sql)\n",
    "df = run_query(cursor, sql)\n",
    "df"
   ]
  },
  {
   "cell_type": "code",
   "execution_count": 32,
   "metadata": {},
   "outputs": [
    {
     "data": {
      "text/html": [
       "<div>\n",
       "<style scoped>\n",
       "    .dataframe tbody tr th:only-of-type {\n",
       "        vertical-align: middle;\n",
       "    }\n",
       "\n",
       "    .dataframe tbody tr th {\n",
       "        vertical-align: top;\n",
       "    }\n",
       "\n",
       "    .dataframe thead th {\n",
       "        text-align: right;\n",
       "    }\n",
       "</style>\n",
       "<table border=\"1\" class=\"dataframe\">\n",
       "  <thead>\n",
       "    <tr style=\"text-align: right;\">\n",
       "      <th></th>\n",
       "      <th>record_id</th>\n",
       "      <th>month</th>\n",
       "      <th>day</th>\n",
       "      <th>year</th>\n",
       "      <th>plot_id</th>\n",
       "      <th>species_id</th>\n",
       "      <th>sex</th>\n",
       "      <th>hindfoot_length</th>\n",
       "      <th>weight</th>\n",
       "      <th>species_id</th>\n",
       "      <th>genus</th>\n",
       "      <th>species</th>\n",
       "      <th>taxa</th>\n",
       "      <th>plot_id</th>\n",
       "      <th>plot_type</th>\n",
       "    </tr>\n",
       "  </thead>\n",
       "  <tbody>\n",
       "    <tr>\n",
       "      <th>0</th>\n",
       "      <td>31762</td>\n",
       "      <td>1</td>\n",
       "      <td>22</td>\n",
       "      <td>2001</td>\n",
       "      <td>6</td>\n",
       "      <td>OT</td>\n",
       "      <td>F</td>\n",
       "      <td>20.0</td>\n",
       "      <td>26.0</td>\n",
       "      <td>OT</td>\n",
       "      <td>Onychomys</td>\n",
       "      <td>torridus</td>\n",
       "      <td>Rodent</td>\n",
       "      <td>6</td>\n",
       "      <td>Short-term Krat Exclosure</td>\n",
       "    </tr>\n",
       "    <tr>\n",
       "      <th>1</th>\n",
       "      <td>31988</td>\n",
       "      <td>4</td>\n",
       "      <td>21</td>\n",
       "      <td>2001</td>\n",
       "      <td>7</td>\n",
       "      <td>OT</td>\n",
       "      <td>F</td>\n",
       "      <td>21.0</td>\n",
       "      <td>27.0</td>\n",
       "      <td>OT</td>\n",
       "      <td>Onychomys</td>\n",
       "      <td>torridus</td>\n",
       "      <td>Rodent</td>\n",
       "      <td>7</td>\n",
       "      <td>Rodent Exclosure</td>\n",
       "    </tr>\n",
       "    <tr>\n",
       "      <th>2</th>\n",
       "      <td>32002</td>\n",
       "      <td>4</td>\n",
       "      <td>22</td>\n",
       "      <td>2001</td>\n",
       "      <td>6</td>\n",
       "      <td>SH</td>\n",
       "      <td>F</td>\n",
       "      <td>29.0</td>\n",
       "      <td>132.0</td>\n",
       "      <td>SH</td>\n",
       "      <td>Sigmodon</td>\n",
       "      <td>hispidus</td>\n",
       "      <td>Rodent</td>\n",
       "      <td>6</td>\n",
       "      <td>Short-term Krat Exclosure</td>\n",
       "    </tr>\n",
       "    <tr>\n",
       "      <th>3</th>\n",
       "      <td>32099</td>\n",
       "      <td>5</td>\n",
       "      <td>27</td>\n",
       "      <td>2001</td>\n",
       "      <td>6</td>\n",
       "      <td>SH</td>\n",
       "      <td>F</td>\n",
       "      <td>30.0</td>\n",
       "      <td>86.0</td>\n",
       "      <td>SH</td>\n",
       "      <td>Sigmodon</td>\n",
       "      <td>hispidus</td>\n",
       "      <td>Rodent</td>\n",
       "      <td>6</td>\n",
       "      <td>Short-term Krat Exclosure</td>\n",
       "    </tr>\n",
       "    <tr>\n",
       "      <th>4</th>\n",
       "      <td>32101</td>\n",
       "      <td>5</td>\n",
       "      <td>27</td>\n",
       "      <td>2001</td>\n",
       "      <td>6</td>\n",
       "      <td>SH</td>\n",
       "      <td>F</td>\n",
       "      <td>29.0</td>\n",
       "      <td>123.0</td>\n",
       "      <td>SH</td>\n",
       "      <td>Sigmodon</td>\n",
       "      <td>hispidus</td>\n",
       "      <td>Rodent</td>\n",
       "      <td>6</td>\n",
       "      <td>Short-term Krat Exclosure</td>\n",
       "    </tr>\n",
       "    <tr>\n",
       "      <th>5</th>\n",
       "      <td>32104</td>\n",
       "      <td>5</td>\n",
       "      <td>27</td>\n",
       "      <td>2001</td>\n",
       "      <td>6</td>\n",
       "      <td>OT</td>\n",
       "      <td>F</td>\n",
       "      <td>20.0</td>\n",
       "      <td>34.0</td>\n",
       "      <td>OT</td>\n",
       "      <td>Onychomys</td>\n",
       "      <td>torridus</td>\n",
       "      <td>Rodent</td>\n",
       "      <td>6</td>\n",
       "      <td>Short-term Krat Exclosure</td>\n",
       "    </tr>\n",
       "    <tr>\n",
       "      <th>6</th>\n",
       "      <td>32106</td>\n",
       "      <td>5</td>\n",
       "      <td>27</td>\n",
       "      <td>2001</td>\n",
       "      <td>6</td>\n",
       "      <td>OT</td>\n",
       "      <td>F</td>\n",
       "      <td>20.0</td>\n",
       "      <td>14.0</td>\n",
       "      <td>OT</td>\n",
       "      <td>Onychomys</td>\n",
       "      <td>torridus</td>\n",
       "      <td>Rodent</td>\n",
       "      <td>6</td>\n",
       "      <td>Short-term Krat Exclosure</td>\n",
       "    </tr>\n",
       "    <tr>\n",
       "      <th>7</th>\n",
       "      <td>32940</td>\n",
       "      <td>10</td>\n",
       "      <td>14</td>\n",
       "      <td>2001</td>\n",
       "      <td>6</td>\n",
       "      <td>OT</td>\n",
       "      <td>F</td>\n",
       "      <td>20.0</td>\n",
       "      <td>27.0</td>\n",
       "      <td>OT</td>\n",
       "      <td>Onychomys</td>\n",
       "      <td>torridus</td>\n",
       "      <td>Rodent</td>\n",
       "      <td>6</td>\n",
       "      <td>Short-term Krat Exclosure</td>\n",
       "    </tr>\n",
       "    <tr>\n",
       "      <th>8</th>\n",
       "      <td>33154</td>\n",
       "      <td>11</td>\n",
       "      <td>18</td>\n",
       "      <td>2001</td>\n",
       "      <td>6</td>\n",
       "      <td>OT</td>\n",
       "      <td>F</td>\n",
       "      <td>20.0</td>\n",
       "      <td>27.0</td>\n",
       "      <td>OT</td>\n",
       "      <td>Onychomys</td>\n",
       "      <td>torridus</td>\n",
       "      <td>Rodent</td>\n",
       "      <td>6</td>\n",
       "      <td>Short-term Krat Exclosure</td>\n",
       "    </tr>\n",
       "  </tbody>\n",
       "</table>\n",
       "</div>"
      ],
      "text/plain": [
       "   record_id  month  day  year  plot_id species_id sex  hindfoot_length  \\\n",
       "0      31762      1   22  2001        6         OT   F             20.0   \n",
       "1      31988      4   21  2001        7         OT   F             21.0   \n",
       "2      32002      4   22  2001        6         SH   F             29.0   \n",
       "3      32099      5   27  2001        6         SH   F             30.0   \n",
       "4      32101      5   27  2001        6         SH   F             29.0   \n",
       "5      32104      5   27  2001        6         OT   F             20.0   \n",
       "6      32106      5   27  2001        6         OT   F             20.0   \n",
       "7      32940     10   14  2001        6         OT   F             20.0   \n",
       "8      33154     11   18  2001        6         OT   F             20.0   \n",
       "\n",
       "   weight species_id      genus   species    taxa  plot_id  \\\n",
       "0    26.0         OT  Onychomys  torridus  Rodent        6   \n",
       "1    27.0         OT  Onychomys  torridus  Rodent        7   \n",
       "2   132.0         SH   Sigmodon  hispidus  Rodent        6   \n",
       "3    86.0         SH   Sigmodon  hispidus  Rodent        6   \n",
       "4   123.0         SH   Sigmodon  hispidus  Rodent        6   \n",
       "5    34.0         OT  Onychomys  torridus  Rodent        6   \n",
       "6    14.0         OT  Onychomys  torridus  Rodent        6   \n",
       "7    27.0         OT  Onychomys  torridus  Rodent        6   \n",
       "8    27.0         OT  Onychomys  torridus  Rodent        6   \n",
       "\n",
       "                   plot_type  \n",
       "0  Short-term Krat Exclosure  \n",
       "1           Rodent Exclosure  \n",
       "2  Short-term Krat Exclosure  \n",
       "3  Short-term Krat Exclosure  \n",
       "4  Short-term Krat Exclosure  \n",
       "5  Short-term Krat Exclosure  \n",
       "6  Short-term Krat Exclosure  \n",
       "7  Short-term Krat Exclosure  \n",
       "8  Short-term Krat Exclosure  "
      ]
     },
     "execution_count": 32,
     "metadata": {},
     "output_type": "execute_result"
    }
   ],
   "source": [
    "sql = '''\n",
    "SELECT *\n",
    "FROM surveys AS sv\n",
    "    INNER JOIN species AS sp\n",
    "        ON sv.species_id = sp.species_id\n",
    "    INNER JOIN plots\n",
    "        ON plots.plot_id = sv.plot_id\n",
    "\n",
    "WHERE plots.plot_id IN (6,7) AND \n",
    "      year = 2001 AND \n",
    "      sex = \"F\" AND \n",
    "      genus LIKE \"%on%\";\n",
    "'''\n",
    "cursor.execute(sql)\n",
    "df = run_query(cursor, sql)\n",
    "df"
   ]
  },
  {
   "cell_type": "markdown",
   "metadata": {},
   "source": [
    "#### See the create table statement"
   ]
  },
  {
   "cell_type": "code",
   "execution_count": 40,
   "metadata": {},
   "outputs": [
    {
     "name": "stdout",
     "output_type": "stream",
     "text": [
      "CREATE TABLE species (\n",
      "\tspecies_id TEXT, \n",
      "\tgenus TEXT, \n",
      "\tspecies TEXT, \n",
      "\ttaxa TEXT\n",
      ")\n"
     ]
    }
   ],
   "source": [
    "# sql column in the sqlite_master table\n",
    "\n",
    "sql = '''\n",
    "SELECT sql\n",
    "FROM sqlite_master \n",
    "WHERE type = \"table\" and name == \"species\"\n",
    "LIMIT 2;\n",
    "'''\n",
    "cursor.execute(sql)\n",
    "df = run_query(cursor, sql)\n",
    "print(df.iloc[0,0])"
   ]
  },
  {
   "cell_type": "code",
   "execution_count": null,
   "metadata": {},
   "outputs": [],
   "source": []
  },
  {
   "cell_type": "markdown",
   "metadata": {},
   "source": [
    "___\n",
    "\n",
    "### CREATE TABLE  - statement\n",
    "##### <font color=\"red\"> This statement makes changes to the database</font>\n",
    "\n",
    "\n",
    "https://www.sqlitetutorial.net/sqlite-create-table/\n",
    "\n",
    "```sql\n",
    "CREATE TABLE [IF NOT EXISTS] [schema_name].table_name (\n",
    "    column_1 data_type PRIMARY KEY,\n",
    "    column_2 data_type NOT NULL,\n",
    "    column_3 data_type DEFAULT 0,\n",
    "    table_constraints\n",
    ") [WITHOUT ROWID];\n",
    "```\n",
    "\n",
    "In this syntax:\n",
    "\n",
    "* First, specify the name of the table that you want to create after the CREATE TABLE keywords. The name of the table cannot start with sqlite_ because it is reserved for the internal use of SQLite.\n",
    "* Second, use `IF NOT EXISTS` option to create a new table if it does not exist. Attempting to create a table that already exists without using the IF NOT EXISTS option will result in an error.\n",
    "* Third, optionally specify the schema_name to which the new table belongs. The schema can be the main database, temp database or any attached database.\n",
    "* Fourth, specify the column list of the table. Each column has a name, data type, and the column constraint. SQLite supports `PRIMARY KEY, UNIQUE, NOT NULL`, and `CHECK` column constraints.\n",
    "* Fifth, specify the table constraints such as PRIMARY KEY, FOREIGN KEY, UNIQUE, and CHECK constraints.\n",
    "* Finally, optionally use the `WITHOUT ROWID` option. By default, a row in a table has an implicit column, which is referred to as the rowid, oid or _rowid_ column. The rowid column stores a 64-bit signed integer key that uniquely identifies the row inside the table. If you don’t want SQLite creates the rowid column, you specify the WITHOUT ROWID option. A table that contains the rowid column is known as a rowid table. Note that the WITHOUT ROWID option is only available in SQLite 3.8.2 or later."
   ]
  },
  {
   "cell_type": "markdown",
   "metadata": {},
   "source": [
    "https://www.sqlite.org/syntaxdiagrams.html#create-table-stmt\n",
    "\n",
    "<img src = \"https://www.sqlite.org/images/syntax/create-table-stmt.gif\" width=\"800\"/>"
   ]
  },
  {
   "cell_type": "markdown",
   "metadata": {},
   "source": [
    "Each value stored in an SQLite database (or manipulated by the database engine) has one of the following storage classes:\n",
    "https://www.sqlite.org/datatype3.html\n",
    "* `NULL`. The value is a NULL value.\n",
    "* `INTEGER`. The value is a signed integer, stored in 1, 2, 3, 4, 6, or 8 bytes depending on the magnitude of the value.\n",
    "* `REAL`. The value is a floating point value, stored as an 8-byte IEEE floating point number.\n",
    "* `TEXT`. The value is a text string, stored using the database encoding (UTF-8, UTF-16BE or UTF-16LE).\n",
    "* `BLOB`. The value is a blob of data, stored exactly as it was input."
   ]
  },
  {
   "cell_type": "markdown",
   "metadata": {},
   "source": [
    "#### A `PRIMARY KEY` is a very important concept to understand.  \n",
    "* It is the designation for a column or a set of columns from a table.\n",
    "* It is recommended to be a serial value and not something related to the business needs of the data in the table.\n",
    "\n",
    "* A primary key is used to uniquely identify a row of data; combined with a column name, uniquely locates a data entry\n",
    "* A primary key by definition must be `UNIQUE` and `NOT NULL` \n",
    "* The primary key of a table, should be a (sequential) non-repeating and not null value  \n",
    "* Primary keys are generally identified at time of table creation  \n",
    "* A common method for generating a primary key, is to set the datatype to `INTEGER` and declare `AUTOINCREMENT` which will function when data is inserted into the table\n",
    "* Primary keys can be a composite of 2 or more columns that uniquely identify the data in the table\n",
    "\n"
   ]
  },
  {
   "cell_type": "markdown",
   "metadata": {},
   "source": [
    "#### A `FOREIGN KEY` is a column(s) that points to the `PRIMARY KEY` of another table \n",
    "\n",
    "* The purpose of the foreign key is to ensure referential integrity of the data. \n",
    "In other words, only values that are supposed to appear in the database are permitted.<br>\n",
    "Only the values that exist in the `PRIMARY KEY` column are allowed to be present in the FOREIGN KEY column.\n",
    "Example: A `gene` table has the `PRIMARY KEY` `gene_id`. The GO2_gene GO term is associated with a gene\n",
    "\n",
    "They are also the underpinning of how tables are joined and relationships portrayed in the database\n"
   ]
  },
  {
   "cell_type": "markdown",
   "metadata": {},
   "source": [
    "The `sqlite_master` has the following create statement: \n",
    "```sql\n",
    "CREATE TABLE sqlite_master ( type TEXT, name TEXT, tbl_name TEXT, rootpage INTEGER, sql TEXT );\n",
    "```"
   ]
  },
  {
   "cell_type": "markdown",
   "metadata": {},
   "source": [
    "##### The `connection` object methods can be used to save or revert/reset the changes after a command that makes changes to the database\n",
    "##### `COMMIT` - save the changes \n",
    "##### `ROLLBACK` - revert the changes \n"
   ]
  },
  {
   "cell_type": "code",
   "execution_count": 42,
   "metadata": {},
   "outputs": [
    {
     "name": "stdout",
     "output_type": "stream",
     "text": [
      "CREATE TABLE surveys (\n",
      "\trecord_id BIGINT, \n",
      "\tmonth BIGINT, \n",
      "\tday BIGINT, \n",
      "\tyear BIGINT, \n",
      "\tplot_id BIGINT, \n",
      "\tspecies_id TEXT, \n",
      "\tsex TEXT, \n",
      "\thindfoot_length FLOAT, \n",
      "\tweight FLOAT\n",
      ")\n"
     ]
    }
   ],
   "source": [
    "# select the sql statement for the survey table\n",
    "\n",
    "sql = '''\n",
    "SELECT sql\n",
    "FROM sqlite_master \n",
    "WHERE name = \"surveys\";\n",
    "'''\n",
    "cursor.execute(sql)\n",
    "\n",
    "# fetchall returns a list of tuples, \n",
    "# we want the first element in the list \n",
    "# and then the first element in the tuple\n",
    "\n",
    "print(cursor.fetchall()[0][0])"
   ]
  },
  {
   "cell_type": "markdown",
   "metadata": {},
   "source": [
    "#### We create the table `survey_summary` with the columns: `id`, `species_id`, `year`, and `count`"
   ]
  },
  {
   "cell_type": "code",
   "execution_count": 46,
   "metadata": {},
   "outputs": [
    {
     "data": {
      "text/plain": [
       "[('surveys',),\n",
       " ('species',),\n",
       " ('plots',),\n",
       " ('sqlite_sequence',),\n",
       " ('test_table',),\n",
       " ('test_column1_idx',),\n",
       " ('survey_test',)]"
      ]
     },
     "execution_count": 46,
     "metadata": {},
     "output_type": "execute_result"
    }
   ],
   "source": [
    "sql = \"SELECT name FROM sqlite_master;\"\n",
    "cursor.execute(sql)\n",
    "cursor.fetchall()"
   ]
  },
  {
   "cell_type": "code",
   "execution_count": 48,
   "metadata": {},
   "outputs": [
    {
     "name": "stdout",
     "output_type": "stream",
     "text": [
      "done!\n"
     ]
    }
   ],
   "source": [
    "# Write and run a create table statement for the survey_summary table\n",
    "\n",
    "sql='''\n",
    "CREATE TABLE IF NOT EXISTS survey_summary (\n",
    "      id INTEGER PRIMARY KEY AUTOINCREMENT,\n",
    "      species_id TEXT NOT NULL,                     -- REFERENCES  species_id in species table\n",
    "      year BIGINT NOT NULL,                      -- GO ID\n",
    "      count BIGINT NOT NULL,                   -- GO evidence information\n",
    "      FOREIGN KEY (species_id) REFERENCES  species  (species_id)\n",
    "    );\n",
    "'''\n",
    "try:\n",
    "    cursor.execute(sql)\n",
    "except connection.DatabaseError:\n",
    "    print(\"Creating the survey_summary table resulted in a database error!\")\n",
    "    connection.rollback()\n",
    "    raise\n",
    "else:\n",
    "    connection.commit()\n",
    "finally:\n",
    "    print(\"done!\")\n",
    "    \n",
    "    "
   ]
  },
  {
   "cell_type": "code",
   "execution_count": 52,
   "metadata": {},
   "outputs": [
    {
     "data": {
      "text/plain": [
       "[('surveys',),\n",
       " ('species',),\n",
       " ('plots',),\n",
       " ('sqlite_sequence',),\n",
       " ('test_table',),\n",
       " ('test_column1_idx',),\n",
       " ('survey_test',),\n",
       " ('survey_summary',)]"
      ]
     },
     "execution_count": 52,
     "metadata": {},
     "output_type": "execute_result"
    }
   ],
   "source": [
    "sql = \"SELECT name FROM sqlite_master;\"\n",
    "cursor.execute(sql)\n",
    "cursor.fetchall()"
   ]
  },
  {
   "cell_type": "code",
   "execution_count": 56,
   "metadata": {},
   "outputs": [
    {
     "data": {
      "text/plain": [
       "[]"
      ]
     },
     "execution_count": 56,
     "metadata": {},
     "output_type": "execute_result"
    }
   ],
   "source": [
    "sql = \"SELECT * FROM survey_summary;\"\n",
    "cursor.execute(sql)\n",
    "cursor.fetchall()"
   ]
  },
  {
   "cell_type": "code",
   "execution_count": 62,
   "metadata": {},
   "outputs": [
    {
     "data": {
      "text/plain": [
       "[(0, 'id', 'INTEGER', 0, None, 1),\n",
       " (1, 'species_id', 'TEXT', 1, None, 0),\n",
       " (2, 'year', 'BIGINT', 1, None, 0),\n",
       " (3, 'count', 'BIGINT', 1, None, 0)]"
      ]
     },
     "execution_count": 62,
     "metadata": {},
     "output_type": "execute_result"
    }
   ],
   "source": [
    "sql = \"PRAGMA table_info(survey_summary);\"\n",
    "cursor.execute(sql)\n",
    "cursor.fetchall()"
   ]
  },
  {
   "cell_type": "markdown",
   "metadata": {},
   "source": [
    "##### Similar error handling, as seen above, can be when executing any statement that changes the database."
   ]
  },
  {
   "cell_type": "markdown",
   "metadata": {},
   "source": [
    "##### Check if the new table appears in the `sqlite_master` table "
   ]
  },
  {
   "cell_type": "code",
   "execution_count": 64,
   "metadata": {},
   "outputs": [
    {
     "name": "stdout",
     "output_type": "stream",
     "text": [
      "[('surveys',), ('survey_test',), ('survey_summary',)]\n"
     ]
    }
   ],
   "source": [
    "sql = '''\n",
    "SELECT name\n",
    "FROM sqlite_master \n",
    "WHERE name LIKE \"su%\"\n",
    "LIMIT 4;\n",
    "'''\n",
    "cursor.execute(sql)\n",
    "print(cursor.fetchall())"
   ]
  },
  {
   "cell_type": "markdown",
   "metadata": {},
   "source": [
    "  \n",
    "<br><br> \n",
    "The `sqlite_sequence` table is created and initialized automatically whenever a regular table is created if it has a column with the `AUTOINCREMENT` option set.<br>\n",
    "https://www.sqlite.org/autoinc.html\n"
   ]
  },
  {
   "cell_type": "markdown",
   "metadata": {},
   "source": [
    "##### Check if the new table appears in the `sqlite_master` table "
   ]
  },
  {
   "cell_type": "code",
   "execution_count": 66,
   "metadata": {},
   "outputs": [
    {
     "name": "stdout",
     "output_type": "stream",
     "text": [
      "[('surveys',), ('species',), ('plots',), ('sqlite_sequence',), ('test_table',), ('test_column1_idx',), ('survey_test',), ('survey_summary',)]\n"
     ]
    }
   ],
   "source": [
    "sql = '''\n",
    "SELECT name\n",
    "FROM sqlite_master;\n",
    "'''\n",
    "cursor.execute(sql)\n",
    "print(cursor.fetchall())"
   ]
  },
  {
   "cell_type": "code",
   "execution_count": 68,
   "metadata": {},
   "outputs": [
    {
     "name": "stdout",
     "output_type": "stream",
     "text": [
      "[]\n"
     ]
    }
   ],
   "source": [
    "# the sqlite_sequence records keep track of the autoincrement column form different tables\n",
    "# by storing the value where the autoincrement is currently\n",
    "# if there was no data added in the table, no record exists in the sqlite_sequence table\n",
    "\n",
    "sql = '''\n",
    "SELECT *\n",
    "FROM sqlite_sequence;\n",
    "'''\n",
    "cursor.execute(sql)\n",
    "print(cursor.fetchall())"
   ]
  },
  {
   "cell_type": "code",
   "execution_count": null,
   "metadata": {},
   "outputs": [],
   "source": []
  },
  {
   "cell_type": "markdown",
   "metadata": {},
   "source": [
    "____\n",
    "### INDEXING\n",
    "\n",
    "Indexes are lookup table, like the index of a book.\n",
    "They are usually created for columns that have unique/ or less redundant values and provide a way to quicky search \n",
    "the values.<br>\n",
    "Indexing creates a copy of the indexed columns together with a link to the location of the additional information.<br> \n",
    "The index data is stored in a data structure that allows for fast sorting. <br>\n",
    "E.g.: balanced-tree - every leaf is at most n nodes away from the root) that allows for fast sorting. <br>\n",
    "All queries (statements) regarding an indexed table are applied to the index\n",
    "\n",
    "\n",
    "* One important function in Relational Databases is to be able to create indexes on columns in tables  \n",
    "* These indexes are pre-calculated and stored in the database \n",
    "* Indexes should be created on columns that are used in queries and joins   \n",
    "* They will rapidly speed up query return rate and improve query performance\n",
    "\n",
    "To create an index use the following command:\n",
    "\n",
    "```sql\n",
    "CREATE INDEX indexName ON tableName (columnName)\n",
    "```"
   ]
  },
  {
   "cell_type": "code",
   "execution_count": 70,
   "metadata": {},
   "outputs": [],
   "source": [
    "sql = '''\n",
    "CREATE INDEX survey_summary_idx \n",
    "ON survey_summary (species_id)\n",
    "'''\n",
    "cursor.execute(sql)\n",
    "connection.commit()\n"
   ]
  },
  {
   "cell_type": "markdown",
   "metadata": {},
   "source": [
    "##### Check if the new index appears in the `sqlite_master` table "
   ]
  },
  {
   "cell_type": "code",
   "execution_count": 72,
   "metadata": {},
   "outputs": [
    {
     "data": {
      "text/plain": [
       "[('test_column1_idx',\n",
       "  'CREATE INDEX test_column1_idx  ON test_table (column1)'),\n",
       " ('survey_summary_idx',\n",
       "  'CREATE INDEX survey_summary_idx \\nON survey_summary (species_id)\\n')]"
      ]
     },
     "execution_count": 72,
     "metadata": {},
     "output_type": "execute_result"
    }
   ],
   "source": [
    "sql = '''\n",
    "SELECT name, sql\n",
    "FROM sqlite_master \n",
    "WHERE type= \"index\";\n",
    "'''\n",
    "cursor.execute(sql)\n",
    "cursor.fetchall()"
   ]
  },
  {
   "cell_type": "markdown",
   "metadata": {},
   "source": [
    "#### Remove the index"
   ]
  },
  {
   "cell_type": "code",
   "execution_count": 74,
   "metadata": {},
   "outputs": [],
   "source": [
    "sql = '''\n",
    "DROP INDEX survey_summary_idx \n",
    "'''\n",
    "cursor.execute(sql)\n",
    "connection.commit()\n"
   ]
  },
  {
   "cell_type": "markdown",
   "metadata": {},
   "source": [
    "##### Check if the index was removed from the `sqlite_master` table "
   ]
  },
  {
   "cell_type": "code",
   "execution_count": 76,
   "metadata": {},
   "outputs": [
    {
     "data": {
      "text/plain": [
       "[('test_column1_idx',\n",
       "  'CREATE INDEX test_column1_idx  ON test_table (column1)')]"
      ]
     },
     "execution_count": 76,
     "metadata": {},
     "output_type": "execute_result"
    }
   ],
   "source": [
    "sql = '''\n",
    "SELECT name, sql\n",
    "FROM sqlite_master \n",
    "WHERE type= \"index\";\n",
    "'''\n",
    "cursor.execute(sql)\n",
    "cursor.fetchall()"
   ]
  },
  {
   "cell_type": "markdown",
   "metadata": {
    "tags": []
   },
   "source": [
    "____ \n",
    "\n",
    "### INSERT - statement\n",
    "\n",
    "##### <font color=\"red\"> This statement makes changes to the database</font>\n",
    "Adds new data to a table (if the constraints are met)    \n",
    "Constraint examples: \n",
    "* For one designated column or a group of columns that are designated as Primary Key the values are unique\n",
    "* The value inserted in a column that has a Foreign Key constraint should exist in the column that it refers to\n",
    "\n",
    "```sql\n",
    "INSERT INTO <tablename> (<column1>, <column2>, <column3>) VALUES (value1, value2, value3);\n",
    "```\n",
    "\n",
    "##### One simple INSERT command adds 1 row of data at a time into an existing table  \n",
    "\n",
    "##### Connection object allows us to:\n",
    "* ##### COMMIT - save the changes \n",
    "* ##### ROLLBACK - reverts/discards the changes"
   ]
  },
  {
   "cell_type": "markdown",
   "metadata": {},
   "source": [
    "<br>\n",
    "\n",
    "##### Let's see what is in the table (it should be nothing):"
   ]
  },
  {
   "cell_type": "code",
   "execution_count": 78,
   "metadata": {},
   "outputs": [
    {
     "data": {
      "text/plain": [
       "[]"
      ]
     },
     "execution_count": 78,
     "metadata": {},
     "output_type": "execute_result"
    }
   ],
   "source": [
    "sql = '''\n",
    "SELECT *\n",
    "FROM survey_summary;\n",
    "'''\n",
    "cursor.execute(sql)\n",
    "cursor.fetchall()"
   ]
  },
  {
   "cell_type": "code",
   "execution_count": 80,
   "metadata": {},
   "outputs": [
    {
     "data": {
      "text/plain": [
       "[(0, 'id', 'INTEGER', 0, None, 1),\n",
       " (1, 'species_id', 'TEXT', 1, None, 0),\n",
       " (2, 'year', 'BIGINT', 1, None, 0),\n",
       " (3, 'count', 'BIGINT', 1, None, 0)]"
      ]
     },
     "execution_count": 80,
     "metadata": {},
     "output_type": "execute_result"
    }
   ],
   "source": [
    "sql = \"PRAGMA table_info(survey_summary);\"\n",
    "cursor.execute(sql)\n",
    "cursor.fetchall()"
   ]
  },
  {
   "cell_type": "code",
   "execution_count": 86,
   "metadata": {},
   "outputs": [
    {
     "data": {
      "text/plain": [
       "[('DM', 'Dipodomys', 'merriami', 'Rodent')]"
      ]
     },
     "execution_count": 86,
     "metadata": {},
     "output_type": "execute_result"
    }
   ],
   "source": [
    "sql = \"SELECT * FROM species WHERE species_id = ?\"\n",
    "cursor.execute(sql, [\"DM\"])\n",
    "cursor.fetchall()"
   ]
  },
  {
   "cell_type": "markdown",
   "metadata": {},
   "source": [
    "<br>\n",
    "\n",
    "##### Let's try an insert:\n",
    "```sql\n",
    "INSERT INTO <tablename> (<column1>, <column2>, <column3>) VALUES (value1, value2, value3);\n",
    "```"
   ]
  },
  {
   "cell_type": "code",
   "execution_count": 88,
   "metadata": {},
   "outputs": [],
   "source": [
    "values_list = [\"DM\",1960, 0]\n",
    "\n",
    "sql = '''\n",
    "INSERT INTO survey_summary (species_id, year, count) \n",
    "VALUES (?,?,?);\n",
    "'''\n",
    "cursor.execute(sql,values_list)\n",
    "connection.commit()"
   ]
  },
  {
   "cell_type": "code",
   "execution_count": 96,
   "metadata": {},
   "outputs": [
    {
     "data": {
      "text/plain": [
       "[(1, 'DM', 1960, 0)]"
      ]
     },
     "execution_count": 96,
     "metadata": {},
     "output_type": "execute_result"
    }
   ],
   "source": [
    "sql = \"SELECT * FROM survey_summary;\"\n",
    "cursor.execute(sql)\n",
    "res = cursor.fetchall()\n",
    "res[:10]"
   ]
  },
  {
   "cell_type": "code",
   "execution_count": 98,
   "metadata": {},
   "outputs": [
    {
     "data": {
      "text/plain": [
       "1"
      ]
     },
     "execution_count": 98,
     "metadata": {},
     "output_type": "execute_result"
    }
   ],
   "source": [
    "# This command retrieves the identifier of the last row from the most current query\n",
    "# The gene_go_id\n",
    "\n",
    "id_value = cursor.lastrowid\n",
    "id_value"
   ]
  },
  {
   "cell_type": "code",
   "execution_count": 102,
   "metadata": {},
   "outputs": [
    {
     "name": "stdout",
     "output_type": "stream",
     "text": [
      "[('survey_summary', 1)]\n"
     ]
    }
   ],
   "source": [
    "# the record in sqlite_sequence keep track of the autoincrement\n",
    "sql = '''\n",
    "SELECT *\n",
    "FROM sqlite_sequence;\n",
    "'''\n",
    "cursor.execute(sql)\n",
    "print(cursor.fetchall())"
   ]
  },
  {
   "cell_type": "code",
   "execution_count": 104,
   "metadata": {},
   "outputs": [],
   "source": [
    "values_list = [10, \"DM\",1961, 10]\n",
    "\n",
    "sql = '''\n",
    "INSERT INTO survey_summary (id, species_id, year, count) \n",
    "VALUES (?,?,?,?);\n",
    "'''\n",
    "cursor.execute(sql,values_list)\n",
    "connection.commit()"
   ]
  },
  {
   "cell_type": "code",
   "execution_count": 106,
   "metadata": {},
   "outputs": [
    {
     "data": {
      "text/plain": [
       "10"
      ]
     },
     "execution_count": 106,
     "metadata": {},
     "output_type": "execute_result"
    }
   ],
   "source": [
    "id_value = cursor.lastrowid\n",
    "id_value"
   ]
  },
  {
   "cell_type": "code",
   "execution_count": 108,
   "metadata": {},
   "outputs": [
    {
     "name": "stdout",
     "output_type": "stream",
     "text": [
      "[('survey_summary', 10)]\n"
     ]
    }
   ],
   "source": [
    "sql = '''\n",
    "SELECT *\n",
    "FROM sqlite_sequence;\n",
    "'''\n",
    "cursor.execute(sql)\n",
    "print(cursor.fetchall())"
   ]
  },
  {
   "cell_type": "code",
   "execution_count": 110,
   "metadata": {},
   "outputs": [],
   "source": [
    "values_list = [20, \"DM\",1962, 10]\n",
    "\n",
    "sql = '''\n",
    "INSERT INTO survey_summary  \n",
    "VALUES (?,?,?,?);\n",
    "'''\n",
    "cursor.execute(sql,values_list)\n",
    "connection.commit()"
   ]
  },
  {
   "cell_type": "code",
   "execution_count": 112,
   "metadata": {},
   "outputs": [
    {
     "data": {
      "text/plain": [
       "20"
      ]
     },
     "execution_count": 112,
     "metadata": {},
     "output_type": "execute_result"
    }
   ],
   "source": [
    "id_value = cursor.lastrowid\n",
    "id_value"
   ]
  },
  {
   "cell_type": "code",
   "execution_count": 114,
   "metadata": {},
   "outputs": [
    {
     "name": "stdout",
     "output_type": "stream",
     "text": [
      "[('survey_summary', 20)]\n"
     ]
    }
   ],
   "source": [
    "sql = '''\n",
    "SELECT *\n",
    "FROM sqlite_sequence;\n",
    "'''\n",
    "cursor.execute(sql)\n",
    "print(cursor.fetchall())"
   ]
  },
  {
   "cell_type": "code",
   "execution_count": 116,
   "metadata": {},
   "outputs": [],
   "source": [
    "values_list = [\"DM\",1963, 30]\n",
    "\n",
    "sql = '''\n",
    "INSERT INTO survey_summary (species_id, year, count) \n",
    "VALUES (?,?,?);\n",
    "'''\n",
    "cursor.execute(sql,values_list)\n",
    "connection.commit()"
   ]
  },
  {
   "cell_type": "code",
   "execution_count": 118,
   "metadata": {},
   "outputs": [
    {
     "data": {
      "text/plain": [
       "21"
      ]
     },
     "execution_count": 118,
     "metadata": {},
     "output_type": "execute_result"
    }
   ],
   "source": [
    "id_value = cursor.lastrowid\n",
    "id_value"
   ]
  },
  {
   "cell_type": "code",
   "execution_count": 120,
   "metadata": {},
   "outputs": [
    {
     "name": "stdout",
     "output_type": "stream",
     "text": [
      "[('survey_summary', 21)]\n"
     ]
    }
   ],
   "source": [
    "sql = '''\n",
    "SELECT *\n",
    "FROM sqlite_sequence;\n",
    "'''\n",
    "cursor.execute(sql)\n",
    "print(cursor.fetchall())"
   ]
  },
  {
   "cell_type": "code",
   "execution_count": null,
   "metadata": {},
   "outputs": [],
   "source": []
  },
  {
   "cell_type": "markdown",
   "metadata": {},
   "source": [
    "<br>\n",
    "\n",
    "\n",
    "##### We have a row in the table!!! And the id was automatically generated."
   ]
  },
  {
   "cell_type": "code",
   "execution_count": 125,
   "metadata": {},
   "outputs": [
    {
     "data": {
      "text/plain": [
       "[(1, 'DM', 1960, 0),\n",
       " (10, 'DM', 1961, 10),\n",
       " (20, 'DM', 1962, 10),\n",
       " (21, 'DM', 1963, 30)]"
      ]
     },
     "execution_count": 125,
     "metadata": {},
     "output_type": "execute_result"
    }
   ],
   "source": [
    "sql = '''\n",
    "SELECT *\n",
    "FROM survey_summary ;\n",
    "'''\n",
    "cursor.execute(sql)\n",
    "cursor.fetchall()"
   ]
  },
  {
   "cell_type": "markdown",
   "metadata": {},
   "source": [
    "#### You can have a Python \"table\" structure (list of lists) of insert values and get them all inserted in one command, each sublist having the correct number of values.\n"
   ]
  },
  {
   "cell_type": "code",
   "execution_count": 127,
   "metadata": {},
   "outputs": [],
   "source": [
    "values_tbl = [[\"TEST\",1950,2], [\"TEST\",1955,1], [\"TEST\",1974,2]]\n",
    "\n",
    "sql = '''\n",
    "INSERT INTO survey_summary (species_id, year, count) \n",
    "VALUES (?,?,?);\n",
    "'''\n",
    "cursor.executemany(sql,values_tbl)\n",
    "connection.commit()\n"
   ]
  },
  {
   "cell_type": "code",
   "execution_count": 133,
   "metadata": {},
   "outputs": [
    {
     "data": {
      "text/plain": [
       "[(1, 'DM', 1960, 0),\n",
       " (10, 'DM', 1961, 10),\n",
       " (20, 'DM', 1962, 10),\n",
       " (21, 'DM', 1963, 30),\n",
       " (22, 'TEST', 1950, 2),\n",
       " (23, 'TEST', 1955, 1),\n",
       " (24, 'TEST', 1974, 2)]"
      ]
     },
     "execution_count": 133,
     "metadata": {},
     "output_type": "execute_result"
    }
   ],
   "source": [
    "sql = '''\n",
    "SELECT *\n",
    "FROM survey_summary ;\n",
    "'''\n",
    "cursor.execute(sql)\n",
    "cursor.fetchall()"
   ]
  },
  {
   "cell_type": "markdown",
   "metadata": {},
   "source": [
    "____\n",
    "\n",
    "#### UPDATE - statement - changes the table rows\n",
    "\n"
   ]
  },
  {
   "cell_type": "markdown",
   "metadata": {},
   "source": [
    "##### <font color=\"red\"> This statement makes changes to the database</font>\n",
    "\n",
    "MODIFIES DATA (already in a table)  in all rows matching the WHERE clause \n",
    "\n",
    "```sql\n",
    "UPDATE table_name \n",
    "SET column1 = value1, column2 = value2...., columnN = valueN\n",
    "WHERE [condition];\n",
    "```\n",
    "\n",
    "Update is generally a single row command, but use of the where clause can cause data to be updated in multiple rows <br>\n",
    "(whether you intended to or not !!!!)\n",
    "\n",
    "The following statement updates the evidence for all entries for all genes associated with the 2 biological processses "
   ]
  },
  {
   "cell_type": "code",
   "execution_count": 149,
   "metadata": {},
   "outputs": [
    {
     "data": {
      "text/html": [
       "<div>\n",
       "<style scoped>\n",
       "    .dataframe tbody tr th:only-of-type {\n",
       "        vertical-align: middle;\n",
       "    }\n",
       "\n",
       "    .dataframe tbody tr th {\n",
       "        vertical-align: top;\n",
       "    }\n",
       "\n",
       "    .dataframe thead th {\n",
       "        text-align: right;\n",
       "    }\n",
       "</style>\n",
       "<table border=\"1\" class=\"dataframe\">\n",
       "  <thead>\n",
       "    <tr style=\"text-align: right;\">\n",
       "      <th></th>\n",
       "      <th>id</th>\n",
       "      <th>species_id</th>\n",
       "      <th>year</th>\n",
       "      <th>count</th>\n",
       "    </tr>\n",
       "  </thead>\n",
       "  <tbody>\n",
       "  </tbody>\n",
       "</table>\n",
       "</div>"
      ],
      "text/plain": [
       "Empty DataFrame\n",
       "Columns: [id, species_id, year, count]\n",
       "Index: []"
      ]
     },
     "execution_count": 149,
     "metadata": {},
     "output_type": "execute_result"
    }
   ],
   "source": [
    "sql = \"SELECT * FROM survey_summary WHERE species_id = 'TEST';\"\n",
    "df = run_query(cursor,sql)\n",
    "df"
   ]
  },
  {
   "cell_type": "code",
   "execution_count": 145,
   "metadata": {},
   "outputs": [],
   "source": [
    "# the following statement updates multiple rows\n",
    "# before an update a select on the same table and \n",
    "# with the same where clause should be ran \n",
    "# to see the records that will be updated\n",
    "\n",
    "sql = '''\n",
    "UPDATE survey_summary\n",
    "SET count = 20, species_id = \"SP\" \n",
    "WHERE species_id = \"TEST\";\n",
    "'''\n",
    "cursor.execute(sql)\n",
    "connection.commit()"
   ]
  },
  {
   "cell_type": "code",
   "execution_count": 151,
   "metadata": {},
   "outputs": [
    {
     "data": {
      "text/html": [
       "<div>\n",
       "<style scoped>\n",
       "    .dataframe tbody tr th:only-of-type {\n",
       "        vertical-align: middle;\n",
       "    }\n",
       "\n",
       "    .dataframe tbody tr th {\n",
       "        vertical-align: top;\n",
       "    }\n",
       "\n",
       "    .dataframe thead th {\n",
       "        text-align: right;\n",
       "    }\n",
       "</style>\n",
       "<table border=\"1\" class=\"dataframe\">\n",
       "  <thead>\n",
       "    <tr style=\"text-align: right;\">\n",
       "      <th></th>\n",
       "      <th>id</th>\n",
       "      <th>species_id</th>\n",
       "      <th>year</th>\n",
       "      <th>count</th>\n",
       "    </tr>\n",
       "  </thead>\n",
       "  <tbody>\n",
       "    <tr>\n",
       "      <th>0</th>\n",
       "      <td>1</td>\n",
       "      <td>DM</td>\n",
       "      <td>1960</td>\n",
       "      <td>0</td>\n",
       "    </tr>\n",
       "    <tr>\n",
       "      <th>1</th>\n",
       "      <td>10</td>\n",
       "      <td>DM</td>\n",
       "      <td>1961</td>\n",
       "      <td>10</td>\n",
       "    </tr>\n",
       "    <tr>\n",
       "      <th>2</th>\n",
       "      <td>20</td>\n",
       "      <td>DM</td>\n",
       "      <td>1962</td>\n",
       "      <td>10</td>\n",
       "    </tr>\n",
       "    <tr>\n",
       "      <th>3</th>\n",
       "      <td>21</td>\n",
       "      <td>DM</td>\n",
       "      <td>1963</td>\n",
       "      <td>30</td>\n",
       "    </tr>\n",
       "    <tr>\n",
       "      <th>4</th>\n",
       "      <td>22</td>\n",
       "      <td>SP</td>\n",
       "      <td>1950</td>\n",
       "      <td>20</td>\n",
       "    </tr>\n",
       "    <tr>\n",
       "      <th>5</th>\n",
       "      <td>23</td>\n",
       "      <td>SP</td>\n",
       "      <td>1955</td>\n",
       "      <td>20</td>\n",
       "    </tr>\n",
       "    <tr>\n",
       "      <th>6</th>\n",
       "      <td>24</td>\n",
       "      <td>SP</td>\n",
       "      <td>1974</td>\n",
       "      <td>20</td>\n",
       "    </tr>\n",
       "  </tbody>\n",
       "</table>\n",
       "</div>"
      ],
      "text/plain": [
       "   id species_id  year  count\n",
       "0   1         DM  1960      0\n",
       "1  10         DM  1961     10\n",
       "2  20         DM  1962     10\n",
       "3  21         DM  1963     30\n",
       "4  22         SP  1950     20\n",
       "5  23         SP  1955     20\n",
       "6  24         SP  1974     20"
      ]
     },
     "execution_count": 151,
     "metadata": {},
     "output_type": "execute_result"
    }
   ],
   "source": [
    "sql = '''\n",
    "SELECT *\n",
    "FROM survey_summary ;\n",
    "'''\n",
    "df = run_query(cursor,sql)\n",
    "df"
   ]
  },
  {
   "cell_type": "code",
   "execution_count": null,
   "metadata": {},
   "outputs": [],
   "source": []
  },
  {
   "cell_type": "markdown",
   "metadata": {},
   "source": [
    "___\n",
    "\n",
    "#### DELETE - statement - deletes table rows\n",
    "\n",
    "* MAKES CHANGES TO THE DATA\n",
    "* Row level deletion – can’t delete less than this. \n",
    "\n",
    "```sql\n",
    "DELETE FROM <tablename> WHERE <column> = <value>\n",
    "```\n",
    "\n",
    "* The WHERE predicate is the same as for the SELECT statement, that is, it determines which rows will be deleted  \n",
    "\n"
   ]
  },
  {
   "cell_type": "code",
   "execution_count": 155,
   "metadata": {},
   "outputs": [
    {
     "data": {
      "text/plain": [
       "[(22, 'SP', 1950, 20), (23, 'SP', 1955, 20)]"
      ]
     },
     "execution_count": 155,
     "metadata": {},
     "output_type": "execute_result"
    }
   ],
   "source": [
    "sql = '''\n",
    "SELECT * FROM survey_summary \n",
    "WHERE year < 1960;\n",
    "'''\n",
    "cursor.execute(sql)\n",
    "cursor.fetchall()"
   ]
  },
  {
   "cell_type": "code",
   "execution_count": 157,
   "metadata": {},
   "outputs": [],
   "source": [
    "# before a delete statement a select on the same table and \n",
    "# with the same where clause should be ran to see the records \n",
    "# that will be removed\n",
    "\n",
    "sql = '''\n",
    "DELETE FROM survey_summary \n",
    "WHERE year < 1960;\n",
    "'''\n",
    "cursor.execute(sql)\n",
    "connection.commit()\n"
   ]
  },
  {
   "cell_type": "code",
   "execution_count": 161,
   "metadata": {},
   "outputs": [
    {
     "data": {
      "text/plain": [
       "[(1, 'DM', 1960, 0),\n",
       " (10, 'DM', 1961, 10),\n",
       " (20, 'DM', 1962, 10),\n",
       " (21, 'DM', 1963, 30),\n",
       " (24, 'SP', 1974, 20)]"
      ]
     },
     "execution_count": 161,
     "metadata": {},
     "output_type": "execute_result"
    }
   ],
   "source": [
    "sql = '''\n",
    "SELECT *\n",
    "FROM survey_summary ;\n",
    "'''\n",
    "cursor.execute(sql)\n",
    "cursor.fetchall()"
   ]
  },
  {
   "cell_type": "markdown",
   "metadata": {},
   "source": [
    "```sql\n",
    "DELETE FROM <tablename>; \n",
    "```\n",
    "\n",
    "* This would delete all rows of data from a table.\n",
    "* Preserves table structure (table still exists)\n",
    "* Optimized for speed in SQLite, no row-by-row execution.\n",
    "* EXISTS <table_name> still evaluates to True\n"
   ]
  },
  {
   "cell_type": "code",
   "execution_count": 163,
   "metadata": {},
   "outputs": [],
   "source": [
    "# Delete all data from the table - but keep the table \n",
    "\n",
    "sql = '''\n",
    "DELETE FROM survey_summary;\n",
    "'''\n",
    "cursor.execute(sql)\n",
    "connection.commit()\n"
   ]
  },
  {
   "cell_type": "code",
   "execution_count": 167,
   "metadata": {},
   "outputs": [
    {
     "data": {
      "text/plain": [
       "[]"
      ]
     },
     "execution_count": 167,
     "metadata": {},
     "output_type": "execute_result"
    }
   ],
   "source": [
    "sql = '''\n",
    "SELECT *\n",
    "FROM survey_summary ;\n",
    "'''\n",
    "cursor.execute(sql)\n",
    "cursor.fetchall()"
   ]
  },
  {
   "cell_type": "markdown",
   "metadata": {},
   "source": [
    "<br>\n",
    "\n",
    "#### `DROP TABLE` - statement - removes a table (permanently)"
   ]
  },
  {
   "cell_type": "code",
   "execution_count": 169,
   "metadata": {},
   "outputs": [],
   "source": [
    "sql = '''\n",
    "DROP TABLE IF EXISTS survey_summary;\n",
    "'''\n",
    "cursor.execute(sql)\n",
    "connection.commit()"
   ]
  },
  {
   "cell_type": "code",
   "execution_count": 173,
   "metadata": {},
   "outputs": [
    {
     "data": {
      "text/plain": [
       "[('surveys',),\n",
       " ('species',),\n",
       " ('plots',),\n",
       " ('sqlite_sequence',),\n",
       " ('test_table',),\n",
       " ('test_column1_idx',),\n",
       " ('survey_test',)]"
      ]
     },
     "execution_count": 173,
     "metadata": {},
     "output_type": "execute_result"
    }
   ],
   "source": [
    "sql = '''\n",
    "SELECT name AS \"TABLE NAME\"\n",
    "FROM sqlite_master;\n",
    "'''\n",
    "cursor.execute(sql)\n",
    "cursor.fetchall()"
   ]
  },
  {
   "cell_type": "code",
   "execution_count": 175,
   "metadata": {},
   "outputs": [
    {
     "data": {
      "text/html": [
       "<div>\n",
       "<style scoped>\n",
       "    .dataframe tbody tr th:only-of-type {\n",
       "        vertical-align: middle;\n",
       "    }\n",
       "\n",
       "    .dataframe tbody tr th {\n",
       "        vertical-align: top;\n",
       "    }\n",
       "\n",
       "    .dataframe thead th {\n",
       "        text-align: right;\n",
       "    }\n",
       "</style>\n",
       "<table border=\"1\" class=\"dataframe\">\n",
       "  <thead>\n",
       "    <tr style=\"text-align: right;\">\n",
       "      <th></th>\n",
       "      <th>species_id</th>\n",
       "      <th>year</th>\n",
       "      <th>count(record_id)</th>\n",
       "    </tr>\n",
       "  </thead>\n",
       "  <tbody>\n",
       "    <tr>\n",
       "      <th>0</th>\n",
       "      <td>AB</td>\n",
       "      <td>1980</td>\n",
       "      <td>5</td>\n",
       "    </tr>\n",
       "    <tr>\n",
       "      <th>1</th>\n",
       "      <td>AB</td>\n",
       "      <td>1981</td>\n",
       "      <td>7</td>\n",
       "    </tr>\n",
       "    <tr>\n",
       "      <th>2</th>\n",
       "      <td>AB</td>\n",
       "      <td>1982</td>\n",
       "      <td>34</td>\n",
       "    </tr>\n",
       "    <tr>\n",
       "      <th>3</th>\n",
       "      <td>AB</td>\n",
       "      <td>1983</td>\n",
       "      <td>41</td>\n",
       "    </tr>\n",
       "    <tr>\n",
       "      <th>4</th>\n",
       "      <td>AB</td>\n",
       "      <td>1984</td>\n",
       "      <td>12</td>\n",
       "    </tr>\n",
       "    <tr>\n",
       "      <th>...</th>\n",
       "      <td>...</td>\n",
       "      <td>...</td>\n",
       "      <td>...</td>\n",
       "    </tr>\n",
       "    <tr>\n",
       "      <th>504</th>\n",
       "      <td>UR</td>\n",
       "      <td>1994</td>\n",
       "      <td>1</td>\n",
       "    </tr>\n",
       "    <tr>\n",
       "      <th>505</th>\n",
       "      <td>UR</td>\n",
       "      <td>2001</td>\n",
       "      <td>2</td>\n",
       "    </tr>\n",
       "    <tr>\n",
       "      <th>506</th>\n",
       "      <td>UR</td>\n",
       "      <td>2002</td>\n",
       "      <td>1</td>\n",
       "    </tr>\n",
       "    <tr>\n",
       "      <th>507</th>\n",
       "      <td>US</td>\n",
       "      <td>2002</td>\n",
       "      <td>4</td>\n",
       "    </tr>\n",
       "    <tr>\n",
       "      <th>508</th>\n",
       "      <td>ZL</td>\n",
       "      <td>1988</td>\n",
       "      <td>2</td>\n",
       "    </tr>\n",
       "  </tbody>\n",
       "</table>\n",
       "<p>509 rows × 3 columns</p>\n",
       "</div>"
      ],
      "text/plain": [
       "    species_id  year  count(record_id)\n",
       "0           AB  1980                 5\n",
       "1           AB  1981                 7\n",
       "2           AB  1982                34\n",
       "3           AB  1983                41\n",
       "4           AB  1984                12\n",
       "..         ...   ...               ...\n",
       "504         UR  1994                 1\n",
       "505         UR  2001                 2\n",
       "506         UR  2002                 1\n",
       "507         US  2002                 4\n",
       "508         ZL  1988                 2\n",
       "\n",
       "[509 rows x 3 columns]"
      ]
     },
     "execution_count": 175,
     "metadata": {},
     "output_type": "execute_result"
    }
   ],
   "source": [
    "# we can create the summary with a select\n",
    "\n",
    "sql = '''\n",
    "\n",
    "SELECT species_id, year, count(record_id)\n",
    "FROM surveys \n",
    "WHERE species_id <> \"None\"\n",
    "GROUP BY species_id, year;'''\n",
    "df = run_query(cursor,sql)\n",
    "df"
   ]
  },
  {
   "cell_type": "markdown",
   "metadata": {},
   "source": [
    "#### VIEW in a database\n",
    "\n",
    "* A view is a virtual table which can be created from a query on existing tables\n",
    "* Views are created to give a more human readable version of the normalized data / tables\n",
    "* http://www.sqlitetutorial.net/sqlite-create-view/\n",
    "* An SQLite view is read only"
   ]
  },
  {
   "cell_type": "markdown",
   "metadata": {},
   "source": [
    "```sql\n",
    "CREATE [TEMP] VIEW [IF NOT EXISTS] view_name(column-name-list) AS    \n",
    "select-statement;\n",
    "```"
   ]
  },
  {
   "cell_type": "code",
   "execution_count": 177,
   "metadata": {},
   "outputs": [],
   "source": [
    "# survey summary for years > 80 information for easy access\n",
    "sql = '''\n",
    "CREATE VIEW IF NOT EXISTS species_survey(species_id, species, year, counts) AS\n",
    "SELECT sv.species_id, species, year, count(record_id)\n",
    "FROM surveys AS sv\n",
    "INNER JOIN species AS sp\n",
    "ON sv.species_id = sp.species_id\n",
    "WHERE sv.species_id <> \"None\"\n",
    "GROUP BY sv.species_id,species, year\n",
    "\n",
    "\n",
    "'''\n",
    "cursor.execute(sql)\n",
    "connection.commit()"
   ]
  },
  {
   "cell_type": "code",
   "execution_count": 181,
   "metadata": {},
   "outputs": [
    {
     "data": {
      "text/html": [
       "<div>\n",
       "<style scoped>\n",
       "    .dataframe tbody tr th:only-of-type {\n",
       "        vertical-align: middle;\n",
       "    }\n",
       "\n",
       "    .dataframe tbody tr th {\n",
       "        vertical-align: top;\n",
       "    }\n",
       "\n",
       "    .dataframe thead th {\n",
       "        text-align: right;\n",
       "    }\n",
       "</style>\n",
       "<table border=\"1\" class=\"dataframe\">\n",
       "  <thead>\n",
       "    <tr style=\"text-align: right;\">\n",
       "      <th></th>\n",
       "      <th>species_id</th>\n",
       "      <th>species</th>\n",
       "      <th>year</th>\n",
       "      <th>counts</th>\n",
       "    </tr>\n",
       "  </thead>\n",
       "  <tbody>\n",
       "    <tr>\n",
       "      <th>0</th>\n",
       "      <td>AB</td>\n",
       "      <td>bilineata</td>\n",
       "      <td>1980</td>\n",
       "      <td>5</td>\n",
       "    </tr>\n",
       "    <tr>\n",
       "      <th>1</th>\n",
       "      <td>AB</td>\n",
       "      <td>bilineata</td>\n",
       "      <td>1981</td>\n",
       "      <td>7</td>\n",
       "    </tr>\n",
       "    <tr>\n",
       "      <th>2</th>\n",
       "      <td>AB</td>\n",
       "      <td>bilineata</td>\n",
       "      <td>1982</td>\n",
       "      <td>34</td>\n",
       "    </tr>\n",
       "    <tr>\n",
       "      <th>3</th>\n",
       "      <td>AB</td>\n",
       "      <td>bilineata</td>\n",
       "      <td>1983</td>\n",
       "      <td>41</td>\n",
       "    </tr>\n",
       "    <tr>\n",
       "      <th>4</th>\n",
       "      <td>AB</td>\n",
       "      <td>bilineata</td>\n",
       "      <td>1984</td>\n",
       "      <td>12</td>\n",
       "    </tr>\n",
       "    <tr>\n",
       "      <th>5</th>\n",
       "      <td>AB</td>\n",
       "      <td>bilineata</td>\n",
       "      <td>1985</td>\n",
       "      <td>14</td>\n",
       "    </tr>\n",
       "    <tr>\n",
       "      <th>6</th>\n",
       "      <td>AB</td>\n",
       "      <td>bilineata</td>\n",
       "      <td>1986</td>\n",
       "      <td>5</td>\n",
       "    </tr>\n",
       "    <tr>\n",
       "      <th>7</th>\n",
       "      <td>AB</td>\n",
       "      <td>bilineata</td>\n",
       "      <td>1987</td>\n",
       "      <td>35</td>\n",
       "    </tr>\n",
       "    <tr>\n",
       "      <th>8</th>\n",
       "      <td>AB</td>\n",
       "      <td>bilineata</td>\n",
       "      <td>1988</td>\n",
       "      <td>39</td>\n",
       "    </tr>\n",
       "    <tr>\n",
       "      <th>9</th>\n",
       "      <td>AB</td>\n",
       "      <td>bilineata</td>\n",
       "      <td>1989</td>\n",
       "      <td>31</td>\n",
       "    </tr>\n",
       "  </tbody>\n",
       "</table>\n",
       "</div>"
      ],
      "text/plain": [
       "  species_id    species  year  counts\n",
       "0         AB  bilineata  1980       5\n",
       "1         AB  bilineata  1981       7\n",
       "2         AB  bilineata  1982      34\n",
       "3         AB  bilineata  1983      41\n",
       "4         AB  bilineata  1984      12\n",
       "5         AB  bilineata  1985      14\n",
       "6         AB  bilineata  1986       5\n",
       "7         AB  bilineata  1987      35\n",
       "8         AB  bilineata  1988      39\n",
       "9         AB  bilineata  1989      31"
      ]
     },
     "execution_count": 181,
     "metadata": {},
     "output_type": "execute_result"
    }
   ],
   "source": [
    "# gene go information \n",
    "sql = '''\n",
    "SELECT *\n",
    "FROM species_survey\n",
    "LIMIT 10;\n",
    "'''\n",
    "cursor.execute(sql)\n",
    "df = run_query(cursor, sql)\n",
    "df"
   ]
  },
  {
   "cell_type": "code",
   "execution_count": 185,
   "metadata": {},
   "outputs": [
    {
     "data": {
      "text/plain": [
       "[('surveys', 'table'),\n",
       " ('species', 'table'),\n",
       " ('plots', 'table'),\n",
       " ('sqlite_sequence', 'table'),\n",
       " ('test_table', 'table'),\n",
       " ('test_column1_idx', 'index'),\n",
       " ('survey_test', 'view'),\n",
       " ('species_survey', 'view')]"
      ]
     },
     "execution_count": 185,
     "metadata": {},
     "output_type": "execute_result"
    }
   ],
   "source": [
    "sql = \"SELECT name, type FROM sqlite_master;\"\n",
    "cursor.execute(sql)\n",
    "cursor.fetchall()"
   ]
  },
  {
   "cell_type": "markdown",
   "metadata": {},
   "source": [
    "```sql\n",
    "DROP VIEW [IF EXISTS] view_name;\n",
    "```"
   ]
  },
  {
   "cell_type": "code",
   "execution_count": 193,
   "metadata": {},
   "outputs": [],
   "source": [
    "# remove view from the database\n",
    "\n",
    "sql = '''\n",
    "DROP VIEW IF EXISTS species_survey;\n",
    "'''\n",
    "cursor.execute(sql)\n",
    "connection.commit()"
   ]
  },
  {
   "cell_type": "code",
   "execution_count": 195,
   "metadata": {},
   "outputs": [
    {
     "data": {
      "text/plain": [
       "[('surveys', 'table'),\n",
       " ('species', 'table'),\n",
       " ('plots', 'table'),\n",
       " ('sqlite_sequence', 'table'),\n",
       " ('test_table', 'table'),\n",
       " ('test_column1_idx', 'index'),\n",
       " ('survey_test', 'view')]"
      ]
     },
     "execution_count": 195,
     "metadata": {},
     "output_type": "execute_result"
    }
   ],
   "source": [
    "sql = \"SELECT name, type FROM sqlite_master;\"\n",
    "cursor.execute(sql)\n",
    "cursor.fetchall()"
   ]
  },
  {
   "cell_type": "code",
   "execution_count": 197,
   "metadata": {},
   "outputs": [],
   "source": [
    "# And close()\n",
    "\n",
    "cursor.close()\n",
    "connection.close()"
   ]
  },
  {
   "cell_type": "markdown",
   "metadata": {},
   "source": [
    "#### To remove the database, delete the .sqlite file."
   ]
  },
  {
   "cell_type": "code",
   "execution_count": null,
   "metadata": {},
   "outputs": [],
   "source": []
  }
 ],
 "metadata": {
  "kernelspec": {
   "display_name": "Python 3 (ipykernel)",
   "language": "python",
   "name": "python3"
  },
  "language_info": {
   "codemirror_mode": {
    "name": "ipython",
    "version": 3
   },
   "file_extension": ".py",
   "mimetype": "text/x-python",
   "name": "python",
   "nbconvert_exporter": "python",
   "pygments_lexer": "ipython3",
   "version": "3.12.2"
  }
 },
 "nbformat": 4,
 "nbformat_minor": 4
}
