{
 "cells": [
  {
   "cell_type": "markdown",
   "metadata": {},
   "source": [
    "## Parsing xml and json files\n",
    "### BIOINF 575"
   ]
  },
  {
   "cell_type": "markdown",
   "metadata": {},
   "source": [
    "### Bioinformatics and text files \n",
    "\n",
    "The following text is from:  \n",
    "https://medium.com/ngs-sh/a-simple-introduction-to-xml-and-json-4547b93c9aae\n",
    "\n",
    "Most bioinformatics file formats are simple text files, a famous example being the FASTA format to store sequences. Historically, most file formats were proposed to ad hoc address a specific need, resulting in a fragmented universe of formats.\n",
    "\n",
    "Examples of famous bioinformatics formats are the FASTA and FASTQ for sequences, the SAM format to store details of sequence mappings, the VCF format to describe the variants of an individual compared to a reference genome, the GFF and BED formats to describe features in a genome (e. g. genes, enhancers, binding sites…).\n",
    "\n",
    "#### XML and JSON\n",
    "Among the “general purpose” formats commonly used in computer science, two are XML (for eXtensible Markup Language) and JSON (JavaScript Object Notation). The former has been very popular at the beginning of the new century, while the latter gained popularity later in this decade. They are both meant to encode structured information, and possibly to be able to describe any form of document needed (not necessarily in an ideal way). XML is more formal and enables a strict adherence to a defined structure, while JSON is a simpler data container (but this simplicity resulted in a good popularity in later times, the BIOM 1.0 format is an example of widely adopted JSON format).\n"
   ]
  },
  {
   "cell_type": "markdown",
   "metadata": {},
   "source": [
    "_________\n",
    "\n",
    "### Extensible Markup Language -- `xml` -- format\n",
    "\n",
    "The following text is from:    \n",
    "https://www.tutorialspoint.com/xml/xml_overview.htm\n",
    "\n",
    "XML stands for Extensible Markup Language. It is a text-based markup language derived from Standard Generalized Markup Language (SGML).\n",
    "\n",
    "XML tags identify the data and are used to store and organize the data, rather than specifying how to display it like HTML tags, which are used to display the data. XML is not going to replace HTML in the near future, but it introduces new possibilities by adopting many successful features of HTML.\n",
    "\n",
    "There are three important characteristics of XML that make it useful in a variety of systems and solutions:  \n",
    "* XML is extensible − XML allows you to create your own self-descriptive tags, or language, that suits your application.\n",
    "* XML carries the data, does not present it − XML allows you to store the data irrespective of how it will be presented.\n",
    "* XML is a public standard − XML was developed by an organization called the World Wide Web Consortium (W3C) and is available as an open standard.\n",
    "\n",
    "##### XML Usage\n",
    "A short list of XML usage says it all:\n",
    "* XML can work behind the scene to simplify the creation of HTML documents for large web sites.\n",
    "* XML can be used to exchange the information between organizations and systems.\n",
    "* XML can be used for offloading and reloading of databases.\n",
    "* XML can be used to store and arrange the data, which can customize your data handling needs.\n",
    "* XML can easily be merged with style sheets to create almost any desired output.\n",
    "\n",
    "Virtually, any type of data can be expressed as an XML document.\n",
    "\n",
    "##### What is Markup?   \n",
    "XML is a markup language that defines set of rules for encoding documents in a format that is both human-readable and machine-readable. So what exactly is a markup language? Markup is information added to a document that enhances its meaning in certain ways, in that it identifies the parts and how they relate to each other. More specifically, a markup language is a set of symbols that can be placed in the text of a document to demarcate and label the parts of that document.\n",
    "\n",
    "\n"
   ]
  },
  {
   "cell_type": "markdown",
   "metadata": {},
   "source": [
    "#### Parsing `xml` files\n",
    "\n",
    "```python\n",
    "import xml.etree.ElementTree as ET\n",
    "```\n",
    "\n",
    "https://docs.python.org/3/library/xml.html\n",
    "\n",
    "The XML handling submodules are:\n",
    "\n",
    "* xml.etree.ElementTree: the ElementTree API, a simple and lightweight XML processor\n",
    "* xml.dom: the DOM API definition\n",
    "* xml.dom.minidom: a minimal DOM implementation\n",
    "* xml.dom.pulldom: support for building partial DOM trees\n",
    "* xml.sax: SAX2 base classes and convenience functions\n",
    "* xml.parsers.expat: the Expat parser binding\n",
    "\n"
   ]
  },
  {
   "cell_type": "markdown",
   "metadata": {},
   "source": [
    "`genes.xml`\n",
    "\n",
    "```xml\n",
    "<?xml version=\"1.0\"?>\n",
    "<data>\n",
    "    <gene symbol=\"BRCA1\">\n",
    "        <id>672</id>\n",
    "        <name>BRCA1 DNA repair associated</name>\n",
    "        <alias sym=\"IRIS\"/>\n",
    "        <alias sym=\"PSCP\"/>\n",
    "    </gene>\n",
    "    <gene symbol=\"BRCA2\">\n",
    "        <id>675</id>\n",
    "        <name>BRCA2 DNA repair associated</name>\n",
    "        <alias sym=\"FAD\"/>\n",
    "        <alias sym=\"FAD1\"/>\n",
    "        <alias sym=\"BRCC2\"/>\n",
    "    </gene>\n",
    "</data>\n",
    "```"
   ]
  },
  {
   "cell_type": "code",
   "execution_count": 2,
   "metadata": {},
   "outputs": [],
   "source": [
    "### import the ElementTree, a simple and lightweight XML processor\n",
    "\n",
    "import xml.etree.ElementTree as ET"
   ]
  },
  {
   "cell_type": "code",
   "execution_count": 4,
   "metadata": {},
   "outputs": [
    {
     "data": {
      "text/plain": [
       "['C14NWriterTarget',\n",
       " 'Comment',\n",
       " 'Element',\n",
       " 'ElementPath',\n",
       " 'ElementTree',\n",
       " 'HTML_EMPTY',\n",
       " 'PI',\n",
       " 'ParseError',\n",
       " 'ProcessingInstruction',\n",
       " 'QName',\n",
       " 'SubElement',\n",
       " 'TreeBuilder',\n",
       " 'VERSION',\n",
       " 'XML',\n",
       " 'XMLID',\n",
       " 'XMLParser',\n",
       " 'XMLPullParser',\n",
       " 'canonicalize',\n",
       " 'collections',\n",
       " 'contextlib',\n",
       " 'dump',\n",
       " 'fromstring',\n",
       " 'fromstringlist',\n",
       " 'indent',\n",
       " 'io',\n",
       " 'iselement',\n",
       " 'iterparse',\n",
       " 'parse',\n",
       " 're',\n",
       " 'register_namespace',\n",
       " 'sys',\n",
       " 'tostring',\n",
       " 'tostringlist',\n",
       " 'warnings',\n",
       " 'weakref']"
      ]
     },
     "execution_count": 4,
     "metadata": {},
     "output_type": "execute_result"
    }
   ],
   "source": [
    "# see what is available in the ElementTree module \n",
    "\n",
    "[elem for elem in dir(ET) if not elem.startswith(\"_\")]"
   ]
  },
  {
   "cell_type": "markdown",
   "metadata": {},
   "source": [
    "......................\n",
    "#### The `.parse` method\n",
    "\n",
    "```python\n",
    "help(ET.parse)\n",
    "\n",
    "\n",
    "Help on function parse in module xml.etree.ElementTree:\n",
    "\n",
    "parse(source, parser=None)\n",
    "    Parse XML document into element tree.\n",
    "    \n",
    "    *source* is a filename or file object containing XML data,\n",
    "    *parser* is an optional parser instance defaulting to XMLParser.\n",
    "    \n",
    "    Return an ElementTree instance.\n",
    "```"
   ]
  },
  {
   "cell_type": "code",
   "execution_count": 6,
   "metadata": {},
   "outputs": [],
   "source": [
    "## parse the file and create a tree\n",
    "\n",
    "tree = ET.parse('genes.xml')"
   ]
  },
  {
   "cell_type": "code",
   "execution_count": 8,
   "metadata": {},
   "outputs": [
    {
     "data": {
      "text/plain": [
       "xml.etree.ElementTree.ElementTree"
      ]
     },
     "execution_count": 8,
     "metadata": {},
     "output_type": "execute_result"
    }
   ],
   "source": [
    "type(tree)"
   ]
  },
  {
   "cell_type": "code",
   "execution_count": 11,
   "metadata": {},
   "outputs": [
    {
     "data": {
      "text/plain": [
       "['find',\n",
       " 'findall',\n",
       " 'findtext',\n",
       " 'getroot',\n",
       " 'iter',\n",
       " 'iterfind',\n",
       " 'parse',\n",
       " 'write',\n",
       " 'write_c14n']"
      ]
     },
     "execution_count": 11,
     "metadata": {},
     "output_type": "execute_result"
    }
   ],
   "source": [
    "# see what is available for the ElementTree object \n",
    "\n",
    "[elem for elem in dir(tree) if not elem.startswith(\"_\")]"
   ]
  },
  {
   "cell_type": "code",
   "execution_count": 10,
   "metadata": {},
   "outputs": [
    {
     "name": "stdout",
     "output_type": "stream",
     "text": [
      "Help on method getroot in module xml.etree.ElementTree:\n",
      "\n",
      "getroot() method of xml.etree.ElementTree.ElementTree instance\n",
      "    Return root element of this tree.\n",
      "\n"
     ]
    }
   ],
   "source": [
    "help(tree.getroot)"
   ]
  },
  {
   "cell_type": "code",
   "execution_count": 12,
   "metadata": {},
   "outputs": [],
   "source": [
    "root = tree.getroot()"
   ]
  },
  {
   "cell_type": "code",
   "execution_count": 14,
   "metadata": {},
   "outputs": [
    {
     "data": {
      "text/plain": [
       "xml.etree.ElementTree.Element"
      ]
     },
     "execution_count": 14,
     "metadata": {},
     "output_type": "execute_result"
    }
   ],
   "source": [
    "type(root)"
   ]
  },
  {
   "cell_type": "code",
   "execution_count": 20,
   "metadata": {},
   "outputs": [
    {
     "data": {
      "text/plain": [
       "['append',\n",
       " 'attrib',\n",
       " 'clear',\n",
       " 'extend',\n",
       " 'find',\n",
       " 'findall',\n",
       " 'findtext',\n",
       " 'get',\n",
       " 'insert',\n",
       " 'items',\n",
       " 'iter',\n",
       " 'iterfind',\n",
       " 'itertext',\n",
       " 'keys',\n",
       " 'makeelement',\n",
       " 'remove',\n",
       " 'set',\n",
       " 'tag',\n",
       " 'tail',\n",
       " 'text']"
      ]
     },
     "execution_count": 20,
     "metadata": {},
     "output_type": "execute_result"
    }
   ],
   "source": [
    "[elem for elem in dir(root) if not elem.startswith(\"_\")]"
   ]
  },
  {
   "cell_type": "markdown",
   "metadata": {},
   "source": [
    "................\n",
    "```xml\n",
    "<?xml version=\"1.0\"?>\n",
    "<data>\n",
    "    <gene symbol=\"BRCA1\">\n",
    "```\n",
    "................\n",
    "\n"
   ]
  },
  {
   "cell_type": "code",
   "execution_count": 22,
   "metadata": {},
   "outputs": [
    {
     "data": {
      "text/plain": [
       "'data'"
      ]
     },
     "execution_count": 22,
     "metadata": {},
     "output_type": "execute_result"
    }
   ],
   "source": [
    "# As an Element object, root has a tag and a dictionary of attributes:\n",
    "root.tag"
   ]
  },
  {
   "cell_type": "code",
   "execution_count": 24,
   "metadata": {},
   "outputs": [
    {
     "data": {
      "text/plain": [
       "{}"
      ]
     },
     "execution_count": 24,
     "metadata": {},
     "output_type": "execute_result"
    }
   ],
   "source": [
    "root.attrib"
   ]
  },
  {
   "cell_type": "code",
   "execution_count": 19,
   "metadata": {},
   "outputs": [
    {
     "data": {
      "text/plain": [
       "[]"
      ]
     },
     "execution_count": 19,
     "metadata": {},
     "output_type": "execute_result"
    }
   ],
   "source": [
    "root.findall(\"id\")"
   ]
  },
  {
   "cell_type": "code",
   "execution_count": 27,
   "metadata": {},
   "outputs": [
    {
     "data": {
      "text/plain": [
       "[<Element 'gene' at 0x137e05fd0>, <Element 'gene' at 0x137e04c20>]"
      ]
     },
     "execution_count": 27,
     "metadata": {},
     "output_type": "execute_result"
    }
   ],
   "source": [
    "root.findall(\"gene\")"
   ]
  },
  {
   "cell_type": "code",
   "execution_count": 42,
   "metadata": {},
   "outputs": [
    {
     "data": {
      "text/plain": [
       "[{'symbol': 'BRCA1'}, {'symbol': 'BRCA2'}]"
      ]
     },
     "execution_count": 42,
     "metadata": {},
     "output_type": "execute_result"
    }
   ],
   "source": [
    "[e.attrib for e in root.findall(\"gene\")]"
   ]
  },
  {
   "cell_type": "markdown",
   "metadata": {},
   "source": [
    "................\n",
    "\n",
    "```xml\n",
    "<?xml version=\"1.0\"?>\n",
    "<data>\n",
    "    <gene symbol=\"BRCA1\">\n",
    "        <id>672</id>\n",
    "        <name>BRCA1 DNA repair associated</name>\n",
    "```\n",
    "................\n",
    "\n",
    "\n"
   ]
  },
  {
   "cell_type": "code",
   "execution_count": 23,
   "metadata": {},
   "outputs": [
    {
     "data": {
      "text/plain": [
       "[{'symbol': 'BRCA1'}, {'symbol': 'BRCA2'}]"
      ]
     },
     "execution_count": 23,
     "metadata": {},
     "output_type": "execute_result"
    }
   ],
   "source": [
    "# root is an iterable and has child Elements\n",
    "# use a for loop to check them out\n",
    "[e.attrib for e in root.findall(\"gene\")]\n"
   ]
  },
  {
   "cell_type": "code",
   "execution_count": 26,
   "metadata": {},
   "outputs": [
    {
     "name": "stdout",
     "output_type": "stream",
     "text": [
      "672\n",
      "675\n"
     ]
    }
   ],
   "source": [
    "for e in root.findall(\"gene\"):\n",
    "    for id in e.findall(\"id\"):\n",
    "        print(id.text)"
   ]
  },
  {
   "cell_type": "code",
   "execution_count": 29,
   "metadata": {},
   "outputs": [
    {
     "data": {
      "text/plain": [
       "{'symbol': 'BRCA1'}"
      ]
     },
     "execution_count": 29,
     "metadata": {},
     "output_type": "execute_result"
    }
   ],
   "source": [
    "# Children are nested, and we can access specific child nodes by index:\n",
    "\n",
    "root[0].attrib"
   ]
  },
  {
   "cell_type": "code",
   "execution_count": 32,
   "metadata": {},
   "outputs": [
    {
     "data": {
      "text/plain": [
       "'PSCP'"
      ]
     },
     "execution_count": 32,
     "metadata": {},
     "output_type": "execute_result"
    }
   ],
   "source": [
    "root[0][3].attrib[\"sym\"]"
   ]
  },
  {
   "cell_type": "code",
   "execution_count": null,
   "metadata": {},
   "outputs": [],
   "source": []
  },
  {
   "cell_type": "code",
   "execution_count": null,
   "metadata": {},
   "outputs": [],
   "source": []
  },
  {
   "cell_type": "code",
   "execution_count": null,
   "metadata": {},
   "outputs": [],
   "source": []
  },
  {
   "cell_type": "code",
   "execution_count": null,
   "metadata": {},
   "outputs": [],
   "source": []
  },
  {
   "cell_type": "markdown",
   "metadata": {},
   "source": [
    "........    \n",
    "Element has some useful methods that help iterate recursively over all the sub-tree below it (its children, their children, and so on). \n",
    "\n",
    "For example, `Element.iter()`\n"
   ]
  },
  {
   "cell_type": "code",
   "execution_count": 81,
   "metadata": {},
   "outputs": [
    {
     "data": {
      "text/plain": [
       "\u001b[0;31mSignature:\u001b[0m \u001b[0mroot\u001b[0m\u001b[0;34m.\u001b[0m\u001b[0miter\u001b[0m\u001b[0;34m(\u001b[0m\u001b[0mtag\u001b[0m\u001b[0;34m=\u001b[0m\u001b[0;32mNone\u001b[0m\u001b[0;34m)\u001b[0m\u001b[0;34m\u001b[0m\u001b[0;34m\u001b[0m\u001b[0m\n",
       "\u001b[0;31mDocstring:\u001b[0m <no docstring>\n",
       "\u001b[0;31mType:\u001b[0m      builtin_method"
      ]
     },
     "metadata": {},
     "output_type": "display_data"
    }
   ],
   "source": [
    "# we can explore specific tags\n",
    "\n",
    "# iterator with Element objects for each alias tag in the file\n",
    "root.iter?\n"
   ]
  },
  {
   "cell_type": "code",
   "execution_count": 35,
   "metadata": {},
   "outputs": [
    {
     "data": {
      "text/plain": [
       "<_elementtree._element_iterator at 0x169ea83b0>"
      ]
     },
     "execution_count": 35,
     "metadata": {},
     "output_type": "execute_result"
    }
   ],
   "source": [
    "root.iter('alias')"
   ]
  },
  {
   "cell_type": "code",
   "execution_count": 37,
   "metadata": {},
   "outputs": [
    {
     "name": "stdout",
     "output_type": "stream",
     "text": [
      "{'sym': 'IRIS'}\n",
      "{'sym': 'PSCP'}\n",
      "{'sym': 'FAD'}\n",
      "{'sym': 'FAD1'}\n",
      "{'sym': 'BRCC2'}\n"
     ]
    }
   ],
   "source": [
    "for a in root.iter('alias'):\n",
    "    print(a.attrib)"
   ]
  },
  {
   "cell_type": "code",
   "execution_count": 41,
   "metadata": {},
   "outputs": [
    {
     "data": {
      "text/plain": [
       "\u001b[0;31mSignature:\u001b[0m \u001b[0mroot\u001b[0m\u001b[0;34m.\u001b[0m\u001b[0mfindall\u001b[0m\u001b[0;34m(\u001b[0m\u001b[0mpath\u001b[0m\u001b[0;34m,\u001b[0m \u001b[0mnamespaces\u001b[0m\u001b[0;34m=\u001b[0m\u001b[0;32mNone\u001b[0m\u001b[0;34m)\u001b[0m\u001b[0;34m\u001b[0m\u001b[0;34m\u001b[0m\u001b[0m\n",
       "\u001b[0;31mDocstring:\u001b[0m <no docstring>\n",
       "\u001b[0;31mType:\u001b[0m      builtin_method"
      ]
     },
     "metadata": {},
     "output_type": "display_data"
    }
   ],
   "source": [
    "# list with Element objects for each gene tag in root\n",
    "\n",
    "root.findall?"
   ]
  },
  {
   "cell_type": "code",
   "execution_count": 43,
   "metadata": {},
   "outputs": [
    {
     "data": {
      "text/plain": [
       "[]"
      ]
     },
     "execution_count": 43,
     "metadata": {},
     "output_type": "execute_result"
    }
   ],
   "source": [
    "root.findall('alias')"
   ]
  },
  {
   "cell_type": "code",
   "execution_count": 94,
   "metadata": {},
   "outputs": [
    {
     "data": {
      "text/plain": [
       "[<Element 'gene' at 0x137e05fd0>, <Element 'gene' at 0x137e04c20>]"
      ]
     },
     "execution_count": 94,
     "metadata": {},
     "output_type": "execute_result"
    }
   ],
   "source": [
    "root.findall('gene')"
   ]
  },
  {
   "cell_type": "code",
   "execution_count": 45,
   "metadata": {},
   "outputs": [
    {
     "data": {
      "text/plain": [
       "\u001b[0;31mSignature:\u001b[0m \u001b[0mroot\u001b[0m\u001b[0;34m.\u001b[0m\u001b[0mfind\u001b[0m\u001b[0;34m(\u001b[0m\u001b[0mpath\u001b[0m\u001b[0;34m,\u001b[0m \u001b[0mnamespaces\u001b[0m\u001b[0;34m=\u001b[0m\u001b[0;32mNone\u001b[0m\u001b[0;34m)\u001b[0m\u001b[0;34m\u001b[0m\u001b[0;34m\u001b[0m\u001b[0m\n",
       "\u001b[0;31mDocstring:\u001b[0m <no docstring>\n",
       "\u001b[0;31mType:\u001b[0m      builtin_method"
      ]
     },
     "metadata": {},
     "output_type": "display_data"
    }
   ],
   "source": [
    "root.find?"
   ]
  },
  {
   "cell_type": "code",
   "execution_count": 100,
   "metadata": {},
   "outputs": [
    {
     "data": {
      "text/plain": [
       "{'symbol': 'BRCA1'}"
      ]
     },
     "execution_count": 100,
     "metadata": {},
     "output_type": "execute_result"
    }
   ],
   "source": [
    "root.find(\"gene\").attrib"
   ]
  },
  {
   "cell_type": "code",
   "execution_count": 47,
   "metadata": {},
   "outputs": [
    {
     "data": {
      "text/plain": [
       "<Element 'gene' at 0x169e4fb50>"
      ]
     },
     "execution_count": 47,
     "metadata": {},
     "output_type": "execute_result"
    }
   ],
   "source": [
    "root.find(\"gene\")"
   ]
  },
  {
   "cell_type": "code",
   "execution_count": 49,
   "metadata": {},
   "outputs": [
    {
     "data": {
      "text/plain": [
       "<Element 'gene' at 0x169e4fb50>"
      ]
     },
     "execution_count": 49,
     "metadata": {},
     "output_type": "execute_result"
    }
   ],
   "source": [
    "# the first Element object with a gene tag in root\n",
    "\n",
    "root.find('gene')"
   ]
  },
  {
   "cell_type": "code",
   "execution_count": 51,
   "metadata": {},
   "outputs": [],
   "source": [
    "# explore a gene element\n",
    "\n",
    "ge = root.find('gene')"
   ]
  },
  {
   "cell_type": "code",
   "execution_count": 53,
   "metadata": {},
   "outputs": [
    {
     "data": {
      "text/plain": [
       "'gene'"
      ]
     },
     "execution_count": 53,
     "metadata": {},
     "output_type": "execute_result"
    }
   ],
   "source": [
    "# see the tag\n",
    "ge.tag"
   ]
  },
  {
   "cell_type": "code",
   "execution_count": 55,
   "metadata": {},
   "outputs": [
    {
     "data": {
      "text/plain": [
       "'\\n        '"
      ]
     },
     "execution_count": 55,
     "metadata": {},
     "output_type": "execute_result"
    }
   ],
   "source": [
    "# see the text \n",
    "ge.text"
   ]
  },
  {
   "cell_type": "code",
   "execution_count": 57,
   "metadata": {},
   "outputs": [
    {
     "data": {
      "text/plain": [
       "['symbol']"
      ]
     },
     "execution_count": 57,
     "metadata": {},
     "output_type": "execute_result"
    }
   ],
   "source": [
    "# see the keys\n",
    "ge.keys()"
   ]
  },
  {
   "cell_type": "code",
   "execution_count": 59,
   "metadata": {},
   "outputs": [
    {
     "data": {
      "text/plain": [
       "dict_values(['BRCA1'])"
      ]
     },
     "execution_count": 59,
     "metadata": {},
     "output_type": "execute_result"
    }
   ],
   "source": [
    "ge.attrib.values()"
   ]
  },
  {
   "cell_type": "code",
   "execution_count": 61,
   "metadata": {},
   "outputs": [
    {
     "data": {
      "text/plain": [
       "{'symbol': 'BRCA1'}"
      ]
     },
     "execution_count": 61,
     "metadata": {},
     "output_type": "execute_result"
    }
   ],
   "source": [
    "# see the attributes\n",
    "ge.attrib"
   ]
  },
  {
   "cell_type": "code",
   "execution_count": 63,
   "metadata": {},
   "outputs": [
    {
     "data": {
      "text/plain": [
       "{'symbol': 'BRCA1'}"
      ]
     },
     "execution_count": 63,
     "metadata": {},
     "output_type": "execute_result"
    }
   ],
   "source": [
    "ge = root.find('gene')\n",
    "ge.attrib"
   ]
  },
  {
   "cell_type": "markdown",
   "metadata": {},
   "source": [
    "................\n",
    "\n",
    "```xml\n",
    "<?xml version=\"1.0\"?>\n",
    "<data>\n",
    "    <gene symbol=\"BRCA1\">\n",
    "        <id>672</id>\n",
    "        <name>BRCA1 DNA repair associated</name>\n",
    "```\n",
    "................\n",
    "\n",
    "\n"
   ]
  },
  {
   "cell_type": "code",
   "execution_count": 65,
   "metadata": {},
   "outputs": [
    {
     "data": {
      "text/plain": [
       "\u001b[0;31mSignature:\u001b[0m \u001b[0mge\u001b[0m\u001b[0;34m.\u001b[0m\u001b[0mget\u001b[0m\u001b[0;34m(\u001b[0m\u001b[0mkey\u001b[0m\u001b[0;34m,\u001b[0m \u001b[0mdefault\u001b[0m\u001b[0;34m=\u001b[0m\u001b[0;32mNone\u001b[0m\u001b[0;34m)\u001b[0m\u001b[0;34m\u001b[0m\u001b[0;34m\u001b[0m\u001b[0m\n",
       "\u001b[0;31mDocstring:\u001b[0m <no docstring>\n",
       "\u001b[0;31mType:\u001b[0m      builtin_function_or_method"
      ]
     },
     "metadata": {},
     "output_type": "display_data"
    }
   ],
   "source": [
    "# get attribute from Element\n",
    "\n",
    "ge.get?"
   ]
  },
  {
   "cell_type": "code",
   "execution_count": 124,
   "metadata": {},
   "outputs": [
    {
     "data": {
      "text/plain": [
       "'BRCA1'"
      ]
     },
     "execution_count": 124,
     "metadata": {},
     "output_type": "execute_result"
    }
   ],
   "source": [
    "ge.get(\"symbol\")"
   ]
  },
  {
   "cell_type": "code",
   "execution_count": 68,
   "metadata": {},
   "outputs": [
    {
     "data": {
      "text/plain": [
       "'BRCA1 DNA repair associated'"
      ]
     },
     "execution_count": 68,
     "metadata": {},
     "output_type": "execute_result"
    }
   ],
   "source": [
    "# find tag and get text\n",
    "\n",
    "ge.find(\"name\").text"
   ]
  },
  {
   "cell_type": "code",
   "execution_count": 70,
   "metadata": {},
   "outputs": [
    {
     "data": {
      "text/plain": [
       "[('672', 'BRCA1', 'BRCA1 DNA repair associated', ['IRIS', 'PSCP']),\n",
       " ('675', 'BRCA2', 'BRCA2 DNA repair associated', ['FAD', 'FAD1', 'BRCC2'])]"
      ]
     },
     "execution_count": 70,
     "metadata": {},
     "output_type": "execute_result"
    }
   ],
   "source": [
    "# Putting it all together, creating a list of genes (tuples with gene info)\n",
    "\n",
    "genes = []\n",
    "for gene in root.findall('gene'):\n",
    "    gene_id = gene.find('id').text\n",
    "    symbol = gene.get('symbol')\n",
    "    name = gene.find('name').text\n",
    "    aliases = []\n",
    "    for alias in gene.findall('alias'):\n",
    "        aliases.append(alias.get('sym'))\n",
    "    genes.append((gene_id, symbol, name, aliases))\n",
    "genes"
   ]
  },
  {
   "cell_type": "code",
   "execution_count": 72,
   "metadata": {},
   "outputs": [
    {
     "data": {
      "text/html": [
       "<div>\n",
       "<style scoped>\n",
       "    .dataframe tbody tr th:only-of-type {\n",
       "        vertical-align: middle;\n",
       "    }\n",
       "\n",
       "    .dataframe tbody tr th {\n",
       "        vertical-align: top;\n",
       "    }\n",
       "\n",
       "    .dataframe thead th {\n",
       "        text-align: right;\n",
       "    }\n",
       "</style>\n",
       "<table border=\"1\" class=\"dataframe\">\n",
       "  <thead>\n",
       "    <tr style=\"text-align: right;\">\n",
       "      <th></th>\n",
       "      <th>gene_id</th>\n",
       "      <th>symbol</th>\n",
       "      <th>name</th>\n",
       "      <th>aliases</th>\n",
       "    </tr>\n",
       "  </thead>\n",
       "  <tbody>\n",
       "    <tr>\n",
       "      <th>0</th>\n",
       "      <td>672</td>\n",
       "      <td>BRCA1</td>\n",
       "      <td>BRCA1 DNA repair associated</td>\n",
       "      <td>[IRIS, PSCP]</td>\n",
       "    </tr>\n",
       "    <tr>\n",
       "      <th>1</th>\n",
       "      <td>675</td>\n",
       "      <td>BRCA2</td>\n",
       "      <td>BRCA2 DNA repair associated</td>\n",
       "      <td>[FAD, FAD1, BRCC2]</td>\n",
       "    </tr>\n",
       "  </tbody>\n",
       "</table>\n",
       "</div>"
      ],
      "text/plain": [
       "  gene_id symbol                         name             aliases\n",
       "0     672  BRCA1  BRCA1 DNA repair associated        [IRIS, PSCP]\n",
       "1     675  BRCA2  BRCA2 DNA repair associated  [FAD, FAD1, BRCC2]"
      ]
     },
     "execution_count": 72,
     "metadata": {},
     "output_type": "execute_result"
    }
   ],
   "source": [
    "# xml to pandas DataFrame\n",
    "import pandas as pd\n",
    "pd.DataFrame(genes, columns = (\"gene_id\", \"symbol\", \"name\", \"aliases\"))"
   ]
  },
  {
   "cell_type": "code",
   "execution_count": 74,
   "metadata": {},
   "outputs": [
    {
     "data": {
      "text/html": [
       "<div>\n",
       "<style scoped>\n",
       "    .dataframe tbody tr th:only-of-type {\n",
       "        vertical-align: middle;\n",
       "    }\n",
       "\n",
       "    .dataframe tbody tr th {\n",
       "        vertical-align: top;\n",
       "    }\n",
       "\n",
       "    .dataframe thead th {\n",
       "        text-align: right;\n",
       "    }\n",
       "</style>\n",
       "<table border=\"1\" class=\"dataframe\">\n",
       "  <thead>\n",
       "    <tr style=\"text-align: right;\">\n",
       "      <th></th>\n",
       "      <th>symbol</th>\n",
       "      <th>id</th>\n",
       "      <th>name</th>\n",
       "      <th>alias</th>\n",
       "    </tr>\n",
       "  </thead>\n",
       "  <tbody>\n",
       "    <tr>\n",
       "      <th>0</th>\n",
       "      <td>BRCA1</td>\n",
       "      <td>672</td>\n",
       "      <td>BRCA1 DNA repair associated</td>\n",
       "      <td>NaN</td>\n",
       "    </tr>\n",
       "    <tr>\n",
       "      <th>1</th>\n",
       "      <td>BRCA2</td>\n",
       "      <td>675</td>\n",
       "      <td>BRCA2 DNA repair associated</td>\n",
       "      <td>NaN</td>\n",
       "    </tr>\n",
       "  </tbody>\n",
       "</table>\n",
       "</div>"
      ],
      "text/plain": [
       "  symbol   id                         name  alias\n",
       "0  BRCA1  672  BRCA1 DNA repair associated    NaN\n",
       "1  BRCA2  675  BRCA2 DNA repair associated    NaN"
      ]
     },
     "execution_count": 74,
     "metadata": {},
     "output_type": "execute_result"
    }
   ],
   "source": [
    "pd.read_xml('genes.xml')"
   ]
  },
  {
   "cell_type": "code",
   "execution_count": 76,
   "metadata": {},
   "outputs": [
    {
     "data": {
      "text/plain": [
       "\u001b[0;31mSignature:\u001b[0m\n",
       "\u001b[0mpd\u001b[0m\u001b[0;34m.\u001b[0m\u001b[0mread_xml\u001b[0m\u001b[0;34m(\u001b[0m\u001b[0;34m\u001b[0m\n",
       "\u001b[0;34m\u001b[0m    \u001b[0mpath_or_buffer\u001b[0m\u001b[0;34m:\u001b[0m \u001b[0;34m'FilePath | ReadBuffer[bytes] | ReadBuffer[str]'\u001b[0m\u001b[0;34m,\u001b[0m\u001b[0;34m\u001b[0m\n",
       "\u001b[0;34m\u001b[0m    \u001b[0;34m*\u001b[0m\u001b[0;34m,\u001b[0m\u001b[0;34m\u001b[0m\n",
       "\u001b[0;34m\u001b[0m    \u001b[0mxpath\u001b[0m\u001b[0;34m:\u001b[0m \u001b[0;34m'str'\u001b[0m \u001b[0;34m=\u001b[0m \u001b[0;34m'./*'\u001b[0m\u001b[0;34m,\u001b[0m\u001b[0;34m\u001b[0m\n",
       "\u001b[0;34m\u001b[0m    \u001b[0mnamespaces\u001b[0m\u001b[0;34m:\u001b[0m \u001b[0;34m'dict[str, str] | None'\u001b[0m \u001b[0;34m=\u001b[0m \u001b[0;32mNone\u001b[0m\u001b[0;34m,\u001b[0m\u001b[0;34m\u001b[0m\n",
       "\u001b[0;34m\u001b[0m    \u001b[0melems_only\u001b[0m\u001b[0;34m:\u001b[0m \u001b[0;34m'bool'\u001b[0m \u001b[0;34m=\u001b[0m \u001b[0;32mFalse\u001b[0m\u001b[0;34m,\u001b[0m\u001b[0;34m\u001b[0m\n",
       "\u001b[0;34m\u001b[0m    \u001b[0mattrs_only\u001b[0m\u001b[0;34m:\u001b[0m \u001b[0;34m'bool'\u001b[0m \u001b[0;34m=\u001b[0m \u001b[0;32mFalse\u001b[0m\u001b[0;34m,\u001b[0m\u001b[0;34m\u001b[0m\n",
       "\u001b[0;34m\u001b[0m    \u001b[0mnames\u001b[0m\u001b[0;34m:\u001b[0m \u001b[0;34m'Sequence[str] | None'\u001b[0m \u001b[0;34m=\u001b[0m \u001b[0;32mNone\u001b[0m\u001b[0;34m,\u001b[0m\u001b[0;34m\u001b[0m\n",
       "\u001b[0;34m\u001b[0m    \u001b[0mdtype\u001b[0m\u001b[0;34m:\u001b[0m \u001b[0;34m'DtypeArg | None'\u001b[0m \u001b[0;34m=\u001b[0m \u001b[0;32mNone\u001b[0m\u001b[0;34m,\u001b[0m\u001b[0;34m\u001b[0m\n",
       "\u001b[0;34m\u001b[0m    \u001b[0mconverters\u001b[0m\u001b[0;34m:\u001b[0m \u001b[0;34m'ConvertersArg | None'\u001b[0m \u001b[0;34m=\u001b[0m \u001b[0;32mNone\u001b[0m\u001b[0;34m,\u001b[0m\u001b[0;34m\u001b[0m\n",
       "\u001b[0;34m\u001b[0m    \u001b[0mparse_dates\u001b[0m\u001b[0;34m:\u001b[0m \u001b[0;34m'ParseDatesArg | None'\u001b[0m \u001b[0;34m=\u001b[0m \u001b[0;32mNone\u001b[0m\u001b[0;34m,\u001b[0m\u001b[0;34m\u001b[0m\n",
       "\u001b[0;34m\u001b[0m    \u001b[0mencoding\u001b[0m\u001b[0;34m:\u001b[0m \u001b[0;34m'str | None'\u001b[0m \u001b[0;34m=\u001b[0m \u001b[0;34m'utf-8'\u001b[0m\u001b[0;34m,\u001b[0m\u001b[0;34m\u001b[0m\n",
       "\u001b[0;34m\u001b[0m    \u001b[0mparser\u001b[0m\u001b[0;34m:\u001b[0m \u001b[0;34m'XMLParsers'\u001b[0m \u001b[0;34m=\u001b[0m \u001b[0;34m'lxml'\u001b[0m\u001b[0;34m,\u001b[0m\u001b[0;34m\u001b[0m\n",
       "\u001b[0;34m\u001b[0m    \u001b[0mstylesheet\u001b[0m\u001b[0;34m:\u001b[0m \u001b[0;34m'FilePath | ReadBuffer[bytes] | ReadBuffer[str] | None'\u001b[0m \u001b[0;34m=\u001b[0m \u001b[0;32mNone\u001b[0m\u001b[0;34m,\u001b[0m\u001b[0;34m\u001b[0m\n",
       "\u001b[0;34m\u001b[0m    \u001b[0miterparse\u001b[0m\u001b[0;34m:\u001b[0m \u001b[0;34m'dict[str, list[str]] | None'\u001b[0m \u001b[0;34m=\u001b[0m \u001b[0;32mNone\u001b[0m\u001b[0;34m,\u001b[0m\u001b[0;34m\u001b[0m\n",
       "\u001b[0;34m\u001b[0m    \u001b[0mcompression\u001b[0m\u001b[0;34m:\u001b[0m \u001b[0;34m'CompressionOptions'\u001b[0m \u001b[0;34m=\u001b[0m \u001b[0;34m'infer'\u001b[0m\u001b[0;34m,\u001b[0m\u001b[0;34m\u001b[0m\n",
       "\u001b[0;34m\u001b[0m    \u001b[0mstorage_options\u001b[0m\u001b[0;34m:\u001b[0m \u001b[0;34m'StorageOptions | None'\u001b[0m \u001b[0;34m=\u001b[0m \u001b[0;32mNone\u001b[0m\u001b[0;34m,\u001b[0m\u001b[0;34m\u001b[0m\n",
       "\u001b[0;34m\u001b[0m    \u001b[0mdtype_backend\u001b[0m\u001b[0;34m:\u001b[0m \u001b[0;34m'DtypeBackend | lib.NoDefault'\u001b[0m \u001b[0;34m=\u001b[0m \u001b[0;34m<\u001b[0m\u001b[0mno_default\u001b[0m\u001b[0;34m>\u001b[0m\u001b[0;34m,\u001b[0m\u001b[0;34m\u001b[0m\n",
       "\u001b[0;34m\u001b[0m\u001b[0;34m)\u001b[0m \u001b[0;34m->\u001b[0m \u001b[0;34m'DataFrame'\u001b[0m\u001b[0;34m\u001b[0m\u001b[0;34m\u001b[0m\u001b[0m\n",
       "\u001b[0;31mDocstring:\u001b[0m\n",
       "Read XML document into a :class:`~pandas.DataFrame` object.\n",
       "\n",
       ".. versionadded:: 1.3.0\n",
       "\n",
       "Parameters\n",
       "----------\n",
       "path_or_buffer : str, path object, or file-like object\n",
       "    String, path object (implementing ``os.PathLike[str]``), or file-like\n",
       "    object implementing a ``read()`` function. The string can be any valid XML\n",
       "    string or a path. The string can further be a URL. Valid URL schemes\n",
       "    include http, ftp, s3, and file.\n",
       "\n",
       "    .. deprecated:: 2.1.0\n",
       "        Passing xml literal strings is deprecated.\n",
       "        Wrap literal xml input in ``io.StringIO`` or ``io.BytesIO`` instead.\n",
       "\n",
       "xpath : str, optional, default './\\*'\n",
       "    The ``XPath`` to parse required set of nodes for migration to\n",
       "    :class:`~pandas.DataFrame`.``XPath`` should return a collection of elements\n",
       "    and not a single element. Note: The ``etree`` parser supports limited ``XPath``\n",
       "    expressions. For more complex ``XPath``, use ``lxml`` which requires\n",
       "    installation.\n",
       "\n",
       "namespaces : dict, optional\n",
       "    The namespaces defined in XML document as dicts with key being\n",
       "    namespace prefix and value the URI. There is no need to include all\n",
       "    namespaces in XML, only the ones used in ``xpath`` expression.\n",
       "    Note: if XML document uses default namespace denoted as\n",
       "    `xmlns='<URI>'` without a prefix, you must assign any temporary\n",
       "    namespace prefix such as 'doc' to the URI in order to parse\n",
       "    underlying nodes and/or attributes. For example, ::\n",
       "\n",
       "        namespaces = {\"doc\": \"https://example.com\"}\n",
       "\n",
       "elems_only : bool, optional, default False\n",
       "    Parse only the child elements at the specified ``xpath``. By default,\n",
       "    all child elements and non-empty text nodes are returned.\n",
       "\n",
       "attrs_only :  bool, optional, default False\n",
       "    Parse only the attributes at the specified ``xpath``.\n",
       "    By default, all attributes are returned.\n",
       "\n",
       "names :  list-like, optional\n",
       "    Column names for DataFrame of parsed XML data. Use this parameter to\n",
       "    rename original element names and distinguish same named elements and\n",
       "    attributes.\n",
       "\n",
       "dtype : Type name or dict of column -> type, optional\n",
       "    Data type for data or columns. E.g. {'a': np.float64, 'b': np.int32,\n",
       "    'c': 'Int64'}\n",
       "    Use `str` or `object` together with suitable `na_values` settings\n",
       "    to preserve and not interpret dtype.\n",
       "    If converters are specified, they will be applied INSTEAD\n",
       "    of dtype conversion.\n",
       "\n",
       "    .. versionadded:: 1.5.0\n",
       "\n",
       "converters : dict, optional\n",
       "    Dict of functions for converting values in certain columns. Keys can either\n",
       "    be integers or column labels.\n",
       "\n",
       "    .. versionadded:: 1.5.0\n",
       "\n",
       "parse_dates : bool or list of int or names or list of lists or dict, default False\n",
       "    Identifiers to parse index or columns to datetime. The behavior is as follows:\n",
       "\n",
       "    * boolean. If True -> try parsing the index.\n",
       "    * list of int or names. e.g. If [1, 2, 3] -> try parsing columns 1, 2, 3\n",
       "      each as a separate date column.\n",
       "    * list of lists. e.g.  If [[1, 3]] -> combine columns 1 and 3 and parse as\n",
       "      a single date column.\n",
       "    * dict, e.g. {'foo' : [1, 3]} -> parse columns 1, 3 as date and call\n",
       "      result 'foo'\n",
       "\n",
       "    .. versionadded:: 1.5.0\n",
       "\n",
       "encoding : str, optional, default 'utf-8'\n",
       "    Encoding of XML document.\n",
       "\n",
       "parser : {'lxml','etree'}, default 'lxml'\n",
       "    Parser module to use for retrieval of data. Only 'lxml' and\n",
       "    'etree' are supported. With 'lxml' more complex ``XPath`` searches\n",
       "    and ability to use XSLT stylesheet are supported.\n",
       "\n",
       "stylesheet : str, path object or file-like object\n",
       "    A URL, file-like object, or a raw string containing an XSLT script.\n",
       "    This stylesheet should flatten complex, deeply nested XML documents\n",
       "    for easier parsing. To use this feature you must have ``lxml`` module\n",
       "    installed and specify 'lxml' as ``parser``. The ``xpath`` must\n",
       "    reference nodes of transformed XML document generated after XSLT\n",
       "    transformation and not the original XML document. Only XSLT 1.0\n",
       "    scripts and not later versions is currently supported.\n",
       "\n",
       "iterparse : dict, optional\n",
       "    The nodes or attributes to retrieve in iterparsing of XML document\n",
       "    as a dict with key being the name of repeating element and value being\n",
       "    list of elements or attribute names that are descendants of the repeated\n",
       "    element. Note: If this option is used, it will replace ``xpath`` parsing\n",
       "    and unlike ``xpath``, descendants do not need to relate to each other but can\n",
       "    exist any where in document under the repeating element. This memory-\n",
       "    efficient method should be used for very large XML files (500MB, 1GB, or 5GB+).\n",
       "    For example, ::\n",
       "\n",
       "        iterparse = {\"row_element\": [\"child_elem\", \"attr\", \"grandchild_elem\"]}\n",
       "\n",
       "    .. versionadded:: 1.5.0\n",
       "\n",
       "compression : str or dict, default 'infer'\n",
       "    For on-the-fly decompression of on-disk data. If 'infer' and 'path_or_buffer' is\n",
       "    path-like, then detect compression from the following extensions: '.gz',\n",
       "    '.bz2', '.zip', '.xz', '.zst', '.tar', '.tar.gz', '.tar.xz' or '.tar.bz2'\n",
       "    (otherwise no compression).\n",
       "    If using 'zip' or 'tar', the ZIP file must contain only one data file to be read in.\n",
       "    Set to ``None`` for no decompression.\n",
       "    Can also be a dict with key ``'method'`` set\n",
       "    to one of {``'zip'``, ``'gzip'``, ``'bz2'``, ``'zstd'``, ``'xz'``, ``'tar'``} and\n",
       "    other key-value pairs are forwarded to\n",
       "    ``zipfile.ZipFile``, ``gzip.GzipFile``,\n",
       "    ``bz2.BZ2File``, ``zstandard.ZstdDecompressor``, ``lzma.LZMAFile`` or\n",
       "    ``tarfile.TarFile``, respectively.\n",
       "    As an example, the following could be passed for Zstandard decompression using a\n",
       "    custom compression dictionary:\n",
       "    ``compression={'method': 'zstd', 'dict_data': my_compression_dict}``.\n",
       "\n",
       "    .. versionadded:: 1.5.0\n",
       "        Added support for `.tar` files.\n",
       "\n",
       "    .. versionchanged:: 1.4.0 Zstandard support.\n",
       "\n",
       "storage_options : dict, optional\n",
       "    Extra options that make sense for a particular storage connection, e.g.\n",
       "    host, port, username, password, etc. For HTTP(S) URLs the key-value pairs\n",
       "    are forwarded to ``urllib.request.Request`` as header options. For other\n",
       "    URLs (e.g. starting with \"s3://\", and \"gcs://\") the key-value pairs are\n",
       "    forwarded to ``fsspec.open``. Please see ``fsspec`` and ``urllib`` for more\n",
       "    details, and for more examples on storage options refer `here\n",
       "    <https://pandas.pydata.org/docs/user_guide/io.html?\n",
       "    highlight=storage_options#reading-writing-remote-files>`_.\n",
       "\n",
       "dtype_backend : {'numpy_nullable', 'pyarrow'}, default 'numpy_nullable'\n",
       "    Back-end data type applied to the resultant :class:`DataFrame`\n",
       "    (still experimental). Behaviour is as follows:\n",
       "\n",
       "    * ``\"numpy_nullable\"``: returns nullable-dtype-backed :class:`DataFrame`\n",
       "      (default).\n",
       "    * ``\"pyarrow\"``: returns pyarrow-backed nullable :class:`ArrowDtype`\n",
       "      DataFrame.\n",
       "\n",
       "    .. versionadded:: 2.0\n",
       "\n",
       "Returns\n",
       "-------\n",
       "df\n",
       "    A DataFrame.\n",
       "\n",
       "See Also\n",
       "--------\n",
       "read_json : Convert a JSON string to pandas object.\n",
       "read_html : Read HTML tables into a list of DataFrame objects.\n",
       "\n",
       "Notes\n",
       "-----\n",
       "This method is best designed to import shallow XML documents in\n",
       "following format which is the ideal fit for the two-dimensions of a\n",
       "``DataFrame`` (row by column). ::\n",
       "\n",
       "        <root>\n",
       "            <row>\n",
       "              <column1>data</column1>\n",
       "              <column2>data</column2>\n",
       "              <column3>data</column3>\n",
       "              ...\n",
       "           </row>\n",
       "           <row>\n",
       "              ...\n",
       "           </row>\n",
       "           ...\n",
       "        </root>\n",
       "\n",
       "As a file format, XML documents can be designed any way including\n",
       "layout of elements and attributes as long as it conforms to W3C\n",
       "specifications. Therefore, this method is a convenience handler for\n",
       "a specific flatter design and not all possible XML structures.\n",
       "\n",
       "However, for more complex XML documents, ``stylesheet`` allows you to\n",
       "temporarily redesign original document with XSLT (a special purpose\n",
       "language) for a flatter version for migration to a DataFrame.\n",
       "\n",
       "This function will *always* return a single :class:`DataFrame` or raise\n",
       "exceptions due to issues with XML document, ``xpath``, or other\n",
       "parameters.\n",
       "\n",
       "See the :ref:`read_xml documentation in the IO section of the docs\n",
       "<io.read_xml>` for more information in using this method to parse XML\n",
       "files to DataFrames.\n",
       "\n",
       "Examples\n",
       "--------\n",
       ">>> from io import StringIO\n",
       ">>> xml = '''<?xml version='1.0' encoding='utf-8'?>\n",
       "... <data xmlns=\"http://example.com\">\n",
       "...  <row>\n",
       "...    <shape>square</shape>\n",
       "...    <degrees>360</degrees>\n",
       "...    <sides>4.0</sides>\n",
       "...  </row>\n",
       "...  <row>\n",
       "...    <shape>circle</shape>\n",
       "...    <degrees>360</degrees>\n",
       "...    <sides/>\n",
       "...  </row>\n",
       "...  <row>\n",
       "...    <shape>triangle</shape>\n",
       "...    <degrees>180</degrees>\n",
       "...    <sides>3.0</sides>\n",
       "...  </row>\n",
       "... </data>'''\n",
       "\n",
       ">>> df = pd.read_xml(StringIO(xml))\n",
       ">>> df\n",
       "      shape  degrees  sides\n",
       "0    square      360    4.0\n",
       "1    circle      360    NaN\n",
       "2  triangle      180    3.0\n",
       "\n",
       ">>> xml = '''<?xml version='1.0' encoding='utf-8'?>\n",
       "... <data>\n",
       "...   <row shape=\"square\" degrees=\"360\" sides=\"4.0\"/>\n",
       "...   <row shape=\"circle\" degrees=\"360\"/>\n",
       "...   <row shape=\"triangle\" degrees=\"180\" sides=\"3.0\"/>\n",
       "... </data>'''\n",
       "\n",
       ">>> df = pd.read_xml(StringIO(xml), xpath=\".//row\")\n",
       ">>> df\n",
       "      shape  degrees  sides\n",
       "0    square      360    4.0\n",
       "1    circle      360    NaN\n",
       "2  triangle      180    3.0\n",
       "\n",
       ">>> xml = '''<?xml version='1.0' encoding='utf-8'?>\n",
       "... <doc:data xmlns:doc=\"https://example.com\">\n",
       "...   <doc:row>\n",
       "...     <doc:shape>square</doc:shape>\n",
       "...     <doc:degrees>360</doc:degrees>\n",
       "...     <doc:sides>4.0</doc:sides>\n",
       "...   </doc:row>\n",
       "...   <doc:row>\n",
       "...     <doc:shape>circle</doc:shape>\n",
       "...     <doc:degrees>360</doc:degrees>\n",
       "...     <doc:sides/>\n",
       "...   </doc:row>\n",
       "...   <doc:row>\n",
       "...     <doc:shape>triangle</doc:shape>\n",
       "...     <doc:degrees>180</doc:degrees>\n",
       "...     <doc:sides>3.0</doc:sides>\n",
       "...   </doc:row>\n",
       "... </doc:data>'''\n",
       "\n",
       ">>> df = pd.read_xml(StringIO(xml),\n",
       "...                  xpath=\"//doc:row\",\n",
       "...                  namespaces={\"doc\": \"https://example.com\"})\n",
       ">>> df\n",
       "      shape  degrees  sides\n",
       "0    square      360    4.0\n",
       "1    circle      360    NaN\n",
       "2  triangle      180    3.0\n",
       "\n",
       ">>> xml_data = '''\n",
       "...         <data>\n",
       "...            <row>\n",
       "...               <index>0</index>\n",
       "...               <a>1</a>\n",
       "...               <b>2.5</b>\n",
       "...               <c>True</c>\n",
       "...               <d>a</d>\n",
       "...               <e>2019-12-31 00:00:00</e>\n",
       "...            </row>\n",
       "...            <row>\n",
       "...               <index>1</index>\n",
       "...               <b>4.5</b>\n",
       "...               <c>False</c>\n",
       "...               <d>b</d>\n",
       "...               <e>2019-12-31 00:00:00</e>\n",
       "...            </row>\n",
       "...         </data>\n",
       "...         '''\n",
       "\n",
       ">>> df = pd.read_xml(StringIO(xml_data),\n",
       "...                  dtype_backend=\"numpy_nullable\",\n",
       "...                  parse_dates=[\"e\"])\n",
       ">>> df\n",
       "   index     a    b      c  d          e\n",
       "0      0     1  2.5   True  a 2019-12-31\n",
       "1      1  <NA>  4.5  False  b 2019-12-31\n",
       "\u001b[0;31mFile:\u001b[0m      /opt/anaconda3/lib/python3.12/site-packages/pandas/io/xml.py\n",
       "\u001b[0;31mType:\u001b[0m      function"
      ]
     },
     "metadata": {},
     "output_type": "display_data"
    }
   ],
   "source": [
    "pd.read_xml?"
   ]
  },
  {
   "cell_type": "code",
   "execution_count": 80,
   "metadata": {},
   "outputs": [
    {
     "data": {
      "text/html": [
       "<div>\n",
       "<style scoped>\n",
       "    .dataframe tbody tr th:only-of-type {\n",
       "        vertical-align: middle;\n",
       "    }\n",
       "\n",
       "    .dataframe tbody tr th {\n",
       "        vertical-align: top;\n",
       "    }\n",
       "\n",
       "    .dataframe thead th {\n",
       "        text-align: right;\n",
       "    }\n",
       "</style>\n",
       "<table border=\"1\" class=\"dataframe\">\n",
       "  <thead>\n",
       "    <tr style=\"text-align: right;\">\n",
       "      <th></th>\n",
       "      <th>Msg</th>\n",
       "      <th>slNo</th>\n",
       "      <th>foodItem</th>\n",
       "      <th>price</th>\n",
       "      <th>quantity</th>\n",
       "      <th>discount</th>\n",
       "    </tr>\n",
       "  </thead>\n",
       "  <tbody>\n",
       "    <tr>\n",
       "      <th>0</th>\n",
       "      <td>Food Store items.</td>\n",
       "      <td>NaN</td>\n",
       "      <td>None</td>\n",
       "      <td>NaN</td>\n",
       "      <td>None</td>\n",
       "      <td>None</td>\n",
       "    </tr>\n",
       "    <tr>\n",
       "      <th>1</th>\n",
       "      <td>None</td>\n",
       "      <td>1.0</td>\n",
       "      <td>oranges</td>\n",
       "      <td>5.0</td>\n",
       "      <td>1kg</td>\n",
       "      <td>7%</td>\n",
       "    </tr>\n",
       "    <tr>\n",
       "      <th>2</th>\n",
       "      <td>None</td>\n",
       "      <td>2.0</td>\n",
       "      <td>carrots</td>\n",
       "      <td>2.0</td>\n",
       "      <td>1kg</td>\n",
       "      <td>5%</td>\n",
       "    </tr>\n",
       "  </tbody>\n",
       "</table>\n",
       "</div>"
      ],
      "text/plain": [
       "                 Msg  slNo foodItem  price quantity discount\n",
       "0  Food Store items.   NaN     None    NaN     None     None\n",
       "1               None   1.0  oranges    5.0      1kg       7%\n",
       "2               None   2.0  carrots    2.0      1kg       5%"
      ]
     },
     "execution_count": 80,
     "metadata": {},
     "output_type": "execute_result"
    }
   ],
   "source": [
    "pd.read_xml('stores.xml')"
   ]
  },
  {
   "cell_type": "code",
   "execution_count": null,
   "metadata": {},
   "outputs": [],
   "source": []
  },
  {
   "cell_type": "code",
   "execution_count": null,
   "metadata": {},
   "outputs": [],
   "source": []
  },
  {
   "cell_type": "markdown",
   "metadata": {},
   "source": [
    "#### xml to pandas DataFrame\n",
    "from: https://www.geeksforgeeks.org/how-to-create-pandas-dataframe-from-nested-xml/\n",
    "\n",
    "Save the following content into a file stores.xml\n",
    "\n",
    "```xml\n",
    "<?xml version=\"1.0\" encoding=\"UTF-8\"?>\n",
    "  \n",
    "       <Food>\n",
    "  \n",
    "           <Info>\n",
    "           <Msg>Food Store items.</Msg>\n",
    "           </Info>\n",
    "  \n",
    "           <store slNo=\"1\">\n",
    "               <foodItem>oranges</foodItem>\n",
    "               <price>5</price>\n",
    "               <quantity>1kg</quantity>\n",
    "               <discount>7%</discount>\n",
    "           </store>\n",
    "  \n",
    "           <store slNo=\"2\">\n",
    "               <foodItem>carrots</foodItem>\n",
    "               <price>2</price>\n",
    "               <quantity>1kg</quantity>\n",
    "               <discount>5%</discount>\n",
    "           </store>\n",
    "  \n",
    "       </Food>\n",
    "```\n"
   ]
  },
  {
   "cell_type": "code",
   "execution_count": 82,
   "metadata": {},
   "outputs": [
    {
     "name": "stdout",
     "output_type": "stream",
     "text": [
      "SL No ITEM_NUMBER PRICE QUANTITY DISCOUNT\n",
      "    1     oranges     5      1kg       7%\n",
      "    2     carrots     2      1kg       5%\n"
     ]
    }
   ],
   "source": [
    "# imports should not be done multiple times\n",
    "# should be set up at the beginning of the notebook\n",
    "\n",
    "import xml.etree.ElementTree as ET\n",
    "import pandas as pd\n",
    "  \n",
    "# give the path where you saved the xml file # inside the quotes\n",
    "\n",
    "st_tree = ET.parse(\"stores.xml\")\n",
    "st_root = st_tree.getroot()\n",
    "  \n",
    "# print(root)\n",
    "store_items = []\n",
    "all_items = []\n",
    "  \n",
    "for store in st_root.iter('store'):\n",
    "    \n",
    "    store_Nr = store.attrib.get('slNo')\n",
    "    itemsF = store.find('foodItem').text\n",
    "    price = store.find('price').text\n",
    "    quan = store.find('quantity').text\n",
    "    dis = store.find('discount').text\n",
    "  \n",
    "    store_items = [store_Nr, itemsF, price, quan, dis]\n",
    "    all_items.append(store_items)\n",
    "  \n",
    "xmlToDf = pd.DataFrame(all_items, columns=['SL No', 'ITEM_NUMBER', 'PRICE', 'QUANTITY', 'DISCOUNT'])\n",
    "  \n",
    "print(xmlToDf.to_string(index=False))"
   ]
  },
  {
   "cell_type": "code",
   "execution_count": 84,
   "metadata": {},
   "outputs": [
    {
     "data": {
      "text/html": [
       "<div>\n",
       "<style scoped>\n",
       "    .dataframe tbody tr th:only-of-type {\n",
       "        vertical-align: middle;\n",
       "    }\n",
       "\n",
       "    .dataframe tbody tr th {\n",
       "        vertical-align: top;\n",
       "    }\n",
       "\n",
       "    .dataframe thead th {\n",
       "        text-align: right;\n",
       "    }\n",
       "</style>\n",
       "<table border=\"1\" class=\"dataframe\">\n",
       "  <thead>\n",
       "    <tr style=\"text-align: right;\">\n",
       "      <th></th>\n",
       "      <th>SL No</th>\n",
       "      <th>ITEM_NUMBER</th>\n",
       "      <th>PRICE</th>\n",
       "      <th>QUANTITY</th>\n",
       "      <th>DISCOUNT</th>\n",
       "    </tr>\n",
       "  </thead>\n",
       "  <tbody>\n",
       "    <tr>\n",
       "      <th>0</th>\n",
       "      <td>1</td>\n",
       "      <td>oranges</td>\n",
       "      <td>5</td>\n",
       "      <td>1kg</td>\n",
       "      <td>7%</td>\n",
       "    </tr>\n",
       "    <tr>\n",
       "      <th>1</th>\n",
       "      <td>2</td>\n",
       "      <td>carrots</td>\n",
       "      <td>2</td>\n",
       "      <td>1kg</td>\n",
       "      <td>5%</td>\n",
       "    </tr>\n",
       "  </tbody>\n",
       "</table>\n",
       "</div>"
      ],
      "text/plain": [
       "  SL No ITEM_NUMBER PRICE QUANTITY DISCOUNT\n",
       "0     1     oranges     5      1kg       7%\n",
       "1     2     carrots     2      1kg       5%"
      ]
     },
     "execution_count": 84,
     "metadata": {},
     "output_type": "execute_result"
    }
   ],
   "source": [
    "xmlToDf"
   ]
  },
  {
   "cell_type": "code",
   "execution_count": 147,
   "metadata": {},
   "outputs": [],
   "source": [
    "#help(pd.read_xml)"
   ]
  },
  {
   "cell_type": "code",
   "execution_count": null,
   "metadata": {},
   "outputs": [],
   "source": []
  },
  {
   "cell_type": "code",
   "execution_count": null,
   "metadata": {},
   "outputs": [],
   "source": []
  },
  {
   "cell_type": "markdown",
   "metadata": {},
   "source": [
    "Resources:\n",
    "\n",
    "https://www.geeksforgeeks.org/xml-parsing-python/\n",
    "https://www.w3schools.com/xml/\n",
    "https://www.tutorialspoint.com/python/python_xml_processing.htm\n",
    "https://docs.python.org/3/library/xml.etree.elementtree.html    \n",
    "https://realpython.com/python-xml-parser/\n",
    "https://docs.python-guide.org/scenarios/xml/\n",
    "https://www.geeksforgeeks.org/reading-and-writing-xml-files-in-python/     \n",
    "https://www.guru99.com/manipulating-xml-with-python.html\n"
   ]
  },
  {
   "cell_type": "code",
   "execution_count": null,
   "metadata": {},
   "outputs": [],
   "source": []
  },
  {
   "cell_type": "markdown",
   "metadata": {
    "tags": []
   },
   "source": [
    "______\n",
    "\n",
    "### JavaScript Object Notation -- `json` -- format\n",
    "\n",
    "A JSON document is composed by a list of items stored as key and value pairs.    \n",
    "Values can be single values (strings, integers, floating point…) or a list of values.\n",
    "\n",
    "https://medium.com/ngs-sh/a-simple-introduction-to-xml-and-json-4547b93c9aae\n",
    "\n",
    "\n",
    "JSON supports primitive types, like strings and numbers, as well as nested lists, tuples, and objects (dict), or null (None).  "
   ]
  },
  {
   "cell_type": "markdown",
   "metadata": {},
   "source": [
    "#### Working with `json` format data"
   ]
  },
  {
   "cell_type": "markdown",
   "metadata": {},
   "source": [
    "Import the `json` module.   \n",
    "https://docs.python.org/3/library/json.html    \n",
    "To work with JSON data (string or JSON file), first, it has to be 'translated' into the python data structure. In this lesson, we are going to use python's built-in module json to do it.   \n",
    "\n",
    "```python\n",
    "import json\n",
    "```\n",
    "   \n",
    "There are a few python methods used to load json data:   \n",
    "\n",
    "* load(): This method loads data from a JSON file into a python dictionary.\n",
    "* loads(): This method loads data from a JSON variable into a python dictionary.\n",
    "* dump(): This method saves data from the JSON format to a file.\n",
    "* dumps(): This method  saves data from the JSON format to a text variable.\n",
    "\n",
    "https://www.networkacademy.io/devnet-associate/data-formats/parsing-json-with-python\n",
    "\n",
    "Datatypes conversion: python to json  \n",
    "\n",
    "| Python                                 | JSON   |\n",
    "|----------------------------------------|--------|\n",
    "| dict                                   | object |\n",
    "| list, tuple                            | array  |\n",
    "| str                                    | string |\n",
    "| int, float, int- & float-derived Enums | number |\n",
    "| True                                   | true   |\n",
    "| False                                  | false  |\n",
    "| None                                   | null   |\n",
    "\n"
   ]
  },
  {
   "cell_type": "markdown",
   "metadata": {},
   "source": [
    "`gene.json`\n",
    "\n",
    "```json\n",
    "{\n",
    "  \"id\": 672,\n",
    "  \"symbol\": \"BRCA1\",\n",
    "  \"full_name\": \"BRCA1 DNA repair associated\",\n",
    "  \"aliases\": [\n",
    "    \"IRIS\",\n",
    "    \"PSCP\",\n",
    "    \"BRCAI\",\n",
    "    \"FANCS\",\n",
    "    \"PNCA4\",\n",
    "    \"RNF53\",\n",
    "    \"BROVCA1\",\n",
    "    \"PPP1R53\"\n",
    "  ]\n",
    "}\n",
    "```"
   ]
  },
  {
   "cell_type": "code",
   "execution_count": 88,
   "metadata": {},
   "outputs": [],
   "source": [
    "import json"
   ]
  },
  {
   "cell_type": "code",
   "execution_count": 90,
   "metadata": {},
   "outputs": [
    {
     "data": {
      "text/plain": [
       "['JSONDecodeError',\n",
       " 'JSONDecoder',\n",
       " 'JSONEncoder',\n",
       " '__all__',\n",
       " '__author__',\n",
       " '__builtins__',\n",
       " '__cached__',\n",
       " '__doc__',\n",
       " '__file__',\n",
       " '__loader__',\n",
       " '__name__',\n",
       " '__package__',\n",
       " '__path__',\n",
       " '__spec__',\n",
       " '__version__',\n",
       " '_default_decoder',\n",
       " '_default_encoder',\n",
       " 'codecs',\n",
       " 'decoder',\n",
       " 'detect_encoding',\n",
       " 'dump',\n",
       " 'dumps',\n",
       " 'encoder',\n",
       " 'load',\n",
       " 'loads',\n",
       " 'scanner']"
      ]
     },
     "execution_count": 90,
     "metadata": {},
     "output_type": "execute_result"
    }
   ],
   "source": [
    "dir(json)"
   ]
  },
  {
   "cell_type": "code",
   "execution_count": 92,
   "metadata": {},
   "outputs": [
    {
     "name": "stdout",
     "output_type": "stream",
     "text": [
      "Help on function load in module json:\n",
      "\n",
      "load(fp, *, cls=None, object_hook=None, parse_float=None, parse_int=None, parse_constant=None, object_pairs_hook=None, **kw)\n",
      "    Deserialize ``fp`` (a ``.read()``-supporting file-like object containing\n",
      "    a JSON document) to a Python object.\n",
      "\n",
      "    ``object_hook`` is an optional function that will be called with the\n",
      "    result of any object literal decode (a ``dict``). The return value of\n",
      "    ``object_hook`` will be used instead of the ``dict``. This feature\n",
      "    can be used to implement custom decoders (e.g. JSON-RPC class hinting).\n",
      "\n",
      "    ``object_pairs_hook`` is an optional function that will be called with the\n",
      "    result of any object literal decoded with an ordered list of pairs.  The\n",
      "    return value of ``object_pairs_hook`` will be used instead of the ``dict``.\n",
      "    This feature can be used to implement custom decoders.  If ``object_hook``\n",
      "    is also defined, the ``object_pairs_hook`` takes priority.\n",
      "\n",
      "    To use a custom ``JSONDecoder`` subclass, specify it with the ``cls``\n",
      "    kwarg; otherwise ``JSONDecoder`` is used.\n",
      "\n"
     ]
    }
   ],
   "source": [
    "help(json.load)"
   ]
  },
  {
   "cell_type": "code",
   "execution_count": 94,
   "metadata": {},
   "outputs": [
    {
     "data": {
      "text/plain": [
       "\u001b[0;31mSignature:\u001b[0m\n",
       "\u001b[0mjson\u001b[0m\u001b[0;34m.\u001b[0m\u001b[0mload\u001b[0m\u001b[0;34m(\u001b[0m\u001b[0;34m\u001b[0m\n",
       "\u001b[0;34m\u001b[0m    \u001b[0mfp\u001b[0m\u001b[0;34m,\u001b[0m\u001b[0;34m\u001b[0m\n",
       "\u001b[0;34m\u001b[0m    \u001b[0;34m*\u001b[0m\u001b[0;34m,\u001b[0m\u001b[0;34m\u001b[0m\n",
       "\u001b[0;34m\u001b[0m    \u001b[0mcls\u001b[0m\u001b[0;34m=\u001b[0m\u001b[0;32mNone\u001b[0m\u001b[0;34m,\u001b[0m\u001b[0;34m\u001b[0m\n",
       "\u001b[0;34m\u001b[0m    \u001b[0mobject_hook\u001b[0m\u001b[0;34m=\u001b[0m\u001b[0;32mNone\u001b[0m\u001b[0;34m,\u001b[0m\u001b[0;34m\u001b[0m\n",
       "\u001b[0;34m\u001b[0m    \u001b[0mparse_float\u001b[0m\u001b[0;34m=\u001b[0m\u001b[0;32mNone\u001b[0m\u001b[0;34m,\u001b[0m\u001b[0;34m\u001b[0m\n",
       "\u001b[0;34m\u001b[0m    \u001b[0mparse_int\u001b[0m\u001b[0;34m=\u001b[0m\u001b[0;32mNone\u001b[0m\u001b[0;34m,\u001b[0m\u001b[0;34m\u001b[0m\n",
       "\u001b[0;34m\u001b[0m    \u001b[0mparse_constant\u001b[0m\u001b[0;34m=\u001b[0m\u001b[0;32mNone\u001b[0m\u001b[0;34m,\u001b[0m\u001b[0;34m\u001b[0m\n",
       "\u001b[0;34m\u001b[0m    \u001b[0mobject_pairs_hook\u001b[0m\u001b[0;34m=\u001b[0m\u001b[0;32mNone\u001b[0m\u001b[0;34m,\u001b[0m\u001b[0;34m\u001b[0m\n",
       "\u001b[0;34m\u001b[0m    \u001b[0;34m**\u001b[0m\u001b[0mkw\u001b[0m\u001b[0;34m,\u001b[0m\u001b[0;34m\u001b[0m\n",
       "\u001b[0;34m\u001b[0m\u001b[0;34m)\u001b[0m\u001b[0;34m\u001b[0m\u001b[0;34m\u001b[0m\u001b[0m\n",
       "\u001b[0;31mDocstring:\u001b[0m\n",
       "Deserialize ``fp`` (a ``.read()``-supporting file-like object containing\n",
       "a JSON document) to a Python object.\n",
       "\n",
       "``object_hook`` is an optional function that will be called with the\n",
       "result of any object literal decode (a ``dict``). The return value of\n",
       "``object_hook`` will be used instead of the ``dict``. This feature\n",
       "can be used to implement custom decoders (e.g. JSON-RPC class hinting).\n",
       "\n",
       "``object_pairs_hook`` is an optional function that will be called with the\n",
       "result of any object literal decoded with an ordered list of pairs.  The\n",
       "return value of ``object_pairs_hook`` will be used instead of the ``dict``.\n",
       "This feature can be used to implement custom decoders.  If ``object_hook``\n",
       "is also defined, the ``object_pairs_hook`` takes priority.\n",
       "\n",
       "To use a custom ``JSONDecoder`` subclass, specify it with the ``cls``\n",
       "kwarg; otherwise ``JSONDecoder`` is used.\n",
       "\u001b[0;31mFile:\u001b[0m      /opt/anaconda3/lib/python3.12/json/__init__.py\n",
       "\u001b[0;31mType:\u001b[0m      function"
      ]
     },
     "metadata": {},
     "output_type": "display_data"
    }
   ],
   "source": [
    "json.load?"
   ]
  },
  {
   "cell_type": "code",
   "execution_count": 100,
   "metadata": {},
   "outputs": [
    {
     "data": {
      "text/plain": [
       "{'id': 672,\n",
       " 'symbol': 'BRCA1',\n",
       " 'full_name': 'BRCA1 DNA repair associated',\n",
       " 'aliases': ['IRIS',\n",
       "  'PSCP',\n",
       "  'BRCAI',\n",
       "  'FANCS',\n",
       "  'PNCA4',\n",
       "  'RNF53',\n",
       "  'BROVCA1',\n",
       "  'PPP1R53']}"
      ]
     },
     "execution_count": 100,
     "metadata": {},
     "output_type": "execute_result"
    }
   ],
   "source": [
    "with open(\"gene.json\") as gene_file: \n",
    "    gene1_dict = json.load(gene_file) \n",
    "gene1_dict"
   ]
  },
  {
   "cell_type": "code",
   "execution_count": 104,
   "metadata": {},
   "outputs": [],
   "source": [
    "test_lst = [1,2,3, (\"test\", \"gene\")]"
   ]
  },
  {
   "cell_type": "code",
   "execution_count": 106,
   "metadata": {},
   "outputs": [
    {
     "data": {
      "text/plain": [
       "'[1, 2, 3, [\"test\", \"gene\"]]'"
      ]
     },
     "execution_count": 106,
     "metadata": {},
     "output_type": "execute_result"
    }
   ],
   "source": [
    "# create json format string from list object\n",
    "json.dumps(test_lst)"
   ]
  },
  {
   "cell_type": "code",
   "execution_count": 108,
   "metadata": {},
   "outputs": [
    {
     "data": {
      "text/plain": [
       "'{\"id\": 672, \"symbol\": \"BRCA1\", \"full_name\": \"BRCA1 DNA repair associated\", \"aliases\": [\"IRIS\", \"PSCP\", \"BRCAI\", \"FANCS\", \"PNCA4\", \"RNF53\", \"BROVCA1\", \"PPP1R53\"]}'"
      ]
     },
     "execution_count": 108,
     "metadata": {},
     "output_type": "execute_result"
    }
   ],
   "source": [
    "# create json format string from dict object\n",
    "res = json.dumps(gene1_dict)\n",
    "res"
   ]
  },
  {
   "cell_type": "code",
   "execution_count": 112,
   "metadata": {},
   "outputs": [
    {
     "data": {
      "text/plain": [
       "str"
      ]
     },
     "execution_count": 112,
     "metadata": {},
     "output_type": "execute_result"
    }
   ],
   "source": [
    "type(res)"
   ]
  },
  {
   "cell_type": "code",
   "execution_count": 114,
   "metadata": {},
   "outputs": [
    {
     "data": {
      "text/plain": [
       "{'id': 672,\n",
       " 'symbol': 'BRCA1',\n",
       " 'full_name': 'BRCA1 DNA repair associated',\n",
       " 'aliases': ['IRIS',\n",
       "  'PSCP',\n",
       "  'BRCAI',\n",
       "  'FANCS',\n",
       "  'PNCA4',\n",
       "  'RNF53',\n",
       "  'BROVCA1',\n",
       "  'PPP1R53']}"
      ]
     },
     "execution_count": 114,
     "metadata": {},
     "output_type": "execute_result"
    }
   ],
   "source": [
    "json.loads(res)"
   ]
  },
  {
   "cell_type": "code",
   "execution_count": null,
   "metadata": {},
   "outputs": [],
   "source": []
  },
  {
   "cell_type": "code",
   "execution_count": null,
   "metadata": {},
   "outputs": [],
   "source": []
  },
  {
   "cell_type": "markdown",
   "metadata": {},
   "source": [
    "Resources:\n",
    "    \n",
    "https://www.geeksforgeeks.org/working-with-json-data-in-python/    \n",
    "https://www.geeksforgeeks.org/read-json-file-using-python/    \n",
    "https://www.networkacademy.io/devnet-associate/data-formats/parsing-json-with-python      \n",
    "https://medium.com/ngs-sh/a-simple-introduction-to-xml-and-json-4547b93c9aae     \n",
    "https://www.tutorialspoint.com/python_data_science/python_processing_json_data.htm    \n",
    "https://www.w3schools.com/js/js_json_intro.asp\n",
    "https://www.w3schools.com/python/python_json.asp\n",
    "\n",
    "https://www.tutorialspoint.com/json/json_comparison.htm"
   ]
  },
  {
   "cell_type": "code",
   "execution_count": null,
   "metadata": {},
   "outputs": [],
   "source": []
  },
  {
   "cell_type": "code",
   "execution_count": null,
   "metadata": {},
   "outputs": [],
   "source": []
  },
  {
   "cell_type": "code",
   "execution_count": null,
   "metadata": {},
   "outputs": [],
   "source": []
  },
  {
   "cell_type": "markdown",
   "metadata": {},
   "source": [
    "### Exercise:\n",
    "\n",
    "Add the BRCA2 gene to the json file to have a list of 2 genes, and read the results.    \n",
    "Make a pandas DataFrame out of the list of genes.   \n",
    "Convert the data from the DataFrame into json format.   \n",
    "Save it to a file.   \n",
    "Load the data from the file into a DataFrame.\n",
    "\n",
    "\n",
    "https://www.ncbi.nlm.nih.gov/gene/675\n",
    "\n",
    "\n",
    "```json\n",
    "{\n",
    "  \"id\": 675,\n",
    "  \"symbol\": \"BRCA2\",\n",
    "  \"full_name\": \"BRCA2 DNA repair associated\",\n",
    "  \"aliases\": [\n",
    "    \"FAD\",\n",
    "    \"FACD\",\n",
    "    \"FAD1\",\n",
    "    \"GLM3\".\n",
    "    \"BRCC2\".\n",
    "    \"FANCD\",\n",
    "    \"PNCA2\",\n",
    "    \"FANCD1\",\n",
    "    \"XRCC11\",\n",
    "    \"BROVCA2\"\n",
    "  ]\n",
    "}\n",
    "```\n",
    "\n",
    "    "
   ]
  },
  {
   "cell_type": "code",
   "execution_count": 134,
   "metadata": {},
   "outputs": [
    {
     "data": {
      "text/plain": [
       "[{'id': 672,\n",
       "  'symbol': 'BRCA1',\n",
       "  'full_name': 'BRCA1 DNA repair associated',\n",
       "  'aliases': ['IRIS',\n",
       "   'PSCP',\n",
       "   'BRCAI',\n",
       "   'FANCS',\n",
       "   'PNCA4',\n",
       "   'RNF53',\n",
       "   'BROVCA1',\n",
       "   'PPP1R53']},\n",
       " {'id': 675,\n",
       "  'symbol': 'BRCA2',\n",
       "  'full_name': 'BRCA2 DNA repair associated',\n",
       "  'aliases': ['FAD',\n",
       "   'FACD',\n",
       "   'FAD1',\n",
       "   'GLM3',\n",
       "   'BRCC2',\n",
       "   'FANCD',\n",
       "   'PNCA2',\n",
       "   'FANCD1',\n",
       "   'XRCC11',\n",
       "   'BROVCA2']}]"
      ]
     },
     "execution_count": 134,
     "metadata": {},
     "output_type": "execute_result"
    }
   ],
   "source": [
    "with open(\"gene.json\") as gene_file: \n",
    "    genes_lst = json.load(gene_file) \n",
    "genes_lst"
   ]
  },
  {
   "cell_type": "code",
   "execution_count": 136,
   "metadata": {},
   "outputs": [],
   "source": [
    "df = pd.DataFrame(genes_lst)"
   ]
  },
  {
   "cell_type": "code",
   "execution_count": 138,
   "metadata": {},
   "outputs": [
    {
     "data": {
      "text/html": [
       "<div>\n",
       "<style scoped>\n",
       "    .dataframe tbody tr th:only-of-type {\n",
       "        vertical-align: middle;\n",
       "    }\n",
       "\n",
       "    .dataframe tbody tr th {\n",
       "        vertical-align: top;\n",
       "    }\n",
       "\n",
       "    .dataframe thead th {\n",
       "        text-align: right;\n",
       "    }\n",
       "</style>\n",
       "<table border=\"1\" class=\"dataframe\">\n",
       "  <thead>\n",
       "    <tr style=\"text-align: right;\">\n",
       "      <th></th>\n",
       "      <th>id</th>\n",
       "      <th>symbol</th>\n",
       "      <th>full_name</th>\n",
       "      <th>aliases</th>\n",
       "    </tr>\n",
       "  </thead>\n",
       "  <tbody>\n",
       "    <tr>\n",
       "      <th>0</th>\n",
       "      <td>672</td>\n",
       "      <td>BRCA1</td>\n",
       "      <td>BRCA1 DNA repair associated</td>\n",
       "      <td>[IRIS, PSCP, BRCAI, FANCS, PNCA4, RNF53, BROVC...</td>\n",
       "    </tr>\n",
       "    <tr>\n",
       "      <th>1</th>\n",
       "      <td>675</td>\n",
       "      <td>BRCA2</td>\n",
       "      <td>BRCA2 DNA repair associated</td>\n",
       "      <td>[FAD, FACD, FAD1, GLM3, BRCC2, FANCD, PNCA2, F...</td>\n",
       "    </tr>\n",
       "  </tbody>\n",
       "</table>\n",
       "</div>"
      ],
      "text/plain": [
       "    id symbol                    full_name  \\\n",
       "0  672  BRCA1  BRCA1 DNA repair associated   \n",
       "1  675  BRCA2  BRCA2 DNA repair associated   \n",
       "\n",
       "                                             aliases  \n",
       "0  [IRIS, PSCP, BRCAI, FANCS, PNCA4, RNF53, BROVC...  \n",
       "1  [FAD, FACD, FAD1, GLM3, BRCC2, FANCD, PNCA2, F...  "
      ]
     },
     "execution_count": 138,
     "metadata": {},
     "output_type": "execute_result"
    }
   ],
   "source": [
    "df"
   ]
  },
  {
   "cell_type": "code",
   "execution_count": 140,
   "metadata": {},
   "outputs": [
    {
     "ename": "TypeError",
     "evalue": "Object of type DataFrame is not JSON serializable",
     "output_type": "error",
     "traceback": [
      "\u001b[0;31m---------------------------------------------------------------------------\u001b[0m",
      "\u001b[0;31mTypeError\u001b[0m                                 Traceback (most recent call last)",
      "Cell \u001b[0;32mIn[140], line 1\u001b[0m\n\u001b[0;32m----> 1\u001b[0m json\u001b[38;5;241m.\u001b[39mdumps(df)\n",
      "File \u001b[0;32m/opt/anaconda3/lib/python3.12/json/__init__.py:231\u001b[0m, in \u001b[0;36mdumps\u001b[0;34m(obj, skipkeys, ensure_ascii, check_circular, allow_nan, cls, indent, separators, default, sort_keys, **kw)\u001b[0m\n\u001b[1;32m    226\u001b[0m \u001b[38;5;66;03m# cached encoder\u001b[39;00m\n\u001b[1;32m    227\u001b[0m \u001b[38;5;28;01mif\u001b[39;00m (\u001b[38;5;129;01mnot\u001b[39;00m skipkeys \u001b[38;5;129;01mand\u001b[39;00m ensure_ascii \u001b[38;5;129;01mand\u001b[39;00m\n\u001b[1;32m    228\u001b[0m     check_circular \u001b[38;5;129;01mand\u001b[39;00m allow_nan \u001b[38;5;129;01mand\u001b[39;00m\n\u001b[1;32m    229\u001b[0m     \u001b[38;5;28mcls\u001b[39m \u001b[38;5;129;01mis\u001b[39;00m \u001b[38;5;28;01mNone\u001b[39;00m \u001b[38;5;129;01mand\u001b[39;00m indent \u001b[38;5;129;01mis\u001b[39;00m \u001b[38;5;28;01mNone\u001b[39;00m \u001b[38;5;129;01mand\u001b[39;00m separators \u001b[38;5;129;01mis\u001b[39;00m \u001b[38;5;28;01mNone\u001b[39;00m \u001b[38;5;129;01mand\u001b[39;00m\n\u001b[1;32m    230\u001b[0m     default \u001b[38;5;129;01mis\u001b[39;00m \u001b[38;5;28;01mNone\u001b[39;00m \u001b[38;5;129;01mand\u001b[39;00m \u001b[38;5;129;01mnot\u001b[39;00m sort_keys \u001b[38;5;129;01mand\u001b[39;00m \u001b[38;5;129;01mnot\u001b[39;00m kw):\n\u001b[0;32m--> 231\u001b[0m     \u001b[38;5;28;01mreturn\u001b[39;00m _default_encoder\u001b[38;5;241m.\u001b[39mencode(obj)\n\u001b[1;32m    232\u001b[0m \u001b[38;5;28;01mif\u001b[39;00m \u001b[38;5;28mcls\u001b[39m \u001b[38;5;129;01mis\u001b[39;00m \u001b[38;5;28;01mNone\u001b[39;00m:\n\u001b[1;32m    233\u001b[0m     \u001b[38;5;28mcls\u001b[39m \u001b[38;5;241m=\u001b[39m JSONEncoder\n",
      "File \u001b[0;32m/opt/anaconda3/lib/python3.12/json/encoder.py:200\u001b[0m, in \u001b[0;36mJSONEncoder.encode\u001b[0;34m(self, o)\u001b[0m\n\u001b[1;32m    196\u001b[0m         \u001b[38;5;28;01mreturn\u001b[39;00m encode_basestring(o)\n\u001b[1;32m    197\u001b[0m \u001b[38;5;66;03m# This doesn't pass the iterator directly to ''.join() because the\u001b[39;00m\n\u001b[1;32m    198\u001b[0m \u001b[38;5;66;03m# exceptions aren't as detailed.  The list call should be roughly\u001b[39;00m\n\u001b[1;32m    199\u001b[0m \u001b[38;5;66;03m# equivalent to the PySequence_Fast that ''.join() would do.\u001b[39;00m\n\u001b[0;32m--> 200\u001b[0m chunks \u001b[38;5;241m=\u001b[39m \u001b[38;5;28mself\u001b[39m\u001b[38;5;241m.\u001b[39miterencode(o, _one_shot\u001b[38;5;241m=\u001b[39m\u001b[38;5;28;01mTrue\u001b[39;00m)\n\u001b[1;32m    201\u001b[0m \u001b[38;5;28;01mif\u001b[39;00m \u001b[38;5;129;01mnot\u001b[39;00m \u001b[38;5;28misinstance\u001b[39m(chunks, (\u001b[38;5;28mlist\u001b[39m, \u001b[38;5;28mtuple\u001b[39m)):\n\u001b[1;32m    202\u001b[0m     chunks \u001b[38;5;241m=\u001b[39m \u001b[38;5;28mlist\u001b[39m(chunks)\n",
      "File \u001b[0;32m/opt/anaconda3/lib/python3.12/json/encoder.py:258\u001b[0m, in \u001b[0;36mJSONEncoder.iterencode\u001b[0;34m(self, o, _one_shot)\u001b[0m\n\u001b[1;32m    253\u001b[0m \u001b[38;5;28;01melse\u001b[39;00m:\n\u001b[1;32m    254\u001b[0m     _iterencode \u001b[38;5;241m=\u001b[39m _make_iterencode(\n\u001b[1;32m    255\u001b[0m         markers, \u001b[38;5;28mself\u001b[39m\u001b[38;5;241m.\u001b[39mdefault, _encoder, \u001b[38;5;28mself\u001b[39m\u001b[38;5;241m.\u001b[39mindent, floatstr,\n\u001b[1;32m    256\u001b[0m         \u001b[38;5;28mself\u001b[39m\u001b[38;5;241m.\u001b[39mkey_separator, \u001b[38;5;28mself\u001b[39m\u001b[38;5;241m.\u001b[39mitem_separator, \u001b[38;5;28mself\u001b[39m\u001b[38;5;241m.\u001b[39msort_keys,\n\u001b[1;32m    257\u001b[0m         \u001b[38;5;28mself\u001b[39m\u001b[38;5;241m.\u001b[39mskipkeys, _one_shot)\n\u001b[0;32m--> 258\u001b[0m \u001b[38;5;28;01mreturn\u001b[39;00m _iterencode(o, \u001b[38;5;241m0\u001b[39m)\n",
      "File \u001b[0;32m/opt/anaconda3/lib/python3.12/json/encoder.py:180\u001b[0m, in \u001b[0;36mJSONEncoder.default\u001b[0;34m(self, o)\u001b[0m\n\u001b[1;32m    161\u001b[0m \u001b[38;5;28;01mdef\u001b[39;00m \u001b[38;5;21mdefault\u001b[39m(\u001b[38;5;28mself\u001b[39m, o):\n\u001b[1;32m    162\u001b[0m \u001b[38;5;250m    \u001b[39m\u001b[38;5;124;03m\"\"\"Implement this method in a subclass such that it returns\u001b[39;00m\n\u001b[1;32m    163\u001b[0m \u001b[38;5;124;03m    a serializable object for ``o``, or calls the base implementation\u001b[39;00m\n\u001b[1;32m    164\u001b[0m \u001b[38;5;124;03m    (to raise a ``TypeError``).\u001b[39;00m\n\u001b[0;32m   (...)\u001b[0m\n\u001b[1;32m    178\u001b[0m \n\u001b[1;32m    179\u001b[0m \u001b[38;5;124;03m    \"\"\"\u001b[39;00m\n\u001b[0;32m--> 180\u001b[0m     \u001b[38;5;28;01mraise\u001b[39;00m \u001b[38;5;167;01mTypeError\u001b[39;00m(\u001b[38;5;124mf\u001b[39m\u001b[38;5;124m'\u001b[39m\u001b[38;5;124mObject of type \u001b[39m\u001b[38;5;132;01m{\u001b[39;00mo\u001b[38;5;241m.\u001b[39m\u001b[38;5;18m__class__\u001b[39m\u001b[38;5;241m.\u001b[39m\u001b[38;5;18m__name__\u001b[39m\u001b[38;5;132;01m}\u001b[39;00m\u001b[38;5;124m \u001b[39m\u001b[38;5;124m'\u001b[39m\n\u001b[1;32m    181\u001b[0m                     \u001b[38;5;124mf\u001b[39m\u001b[38;5;124m'\u001b[39m\u001b[38;5;124mis not JSON serializable\u001b[39m\u001b[38;5;124m'\u001b[39m)\n",
      "\u001b[0;31mTypeError\u001b[0m: Object of type DataFrame is not JSON serializable"
     ]
    }
   ],
   "source": [
    "json.dumps(df) # this does not work"
   ]
  },
  {
   "cell_type": "code",
   "execution_count": 146,
   "metadata": {},
   "outputs": [
    {
     "data": {
      "text/plain": [
       "'{\"id\":{\"0\":672,\"1\":675},\"symbol\":{\"0\":\"BRCA1\",\"1\":\"BRCA2\"},\"full_name\":{\"0\":\"BRCA1 DNA repair associated\",\"1\":\"BRCA2 DNA repair associated\"},\"aliases\":{\"0\":[\"IRIS\",\"PSCP\",\"BRCAI\",\"FANCS\",\"PNCA4\",\"RNF53\",\"BROVCA1\",\"PPP1R53\"],\"1\":[\"FAD\",\"FACD\",\"FAD1\",\"GLM3\",\"BRCC2\",\"FANCD\",\"PNCA2\",\"FANCD1\",\"XRCC11\",\"BROVCA2\"]}}'"
      ]
     },
     "execution_count": 146,
     "metadata": {},
     "output_type": "execute_result"
    }
   ],
   "source": [
    "dfj = df.to_json() # this makes a string\n",
    "dfj"
   ]
  },
  {
   "cell_type": "code",
   "execution_count": 142,
   "metadata": {},
   "outputs": [
    {
     "name": "stdout",
     "output_type": "stream",
     "text": [
      "Help on function dump in module json:\n",
      "\n",
      "dump(obj, fp, *, skipkeys=False, ensure_ascii=True, check_circular=True, allow_nan=True, cls=None, indent=None, separators=None, default=None, sort_keys=False, **kw)\n",
      "    Serialize ``obj`` as a JSON formatted stream to ``fp`` (a\n",
      "    ``.write()``-supporting file-like object).\n",
      "\n",
      "    If ``skipkeys`` is true then ``dict`` keys that are not basic types\n",
      "    (``str``, ``int``, ``float``, ``bool``, ``None``) will be skipped\n",
      "    instead of raising a ``TypeError``.\n",
      "\n",
      "    If ``ensure_ascii`` is false, then the strings written to ``fp`` can\n",
      "    contain non-ASCII characters if they appear in strings contained in\n",
      "    ``obj``. Otherwise, all such characters are escaped in JSON strings.\n",
      "\n",
      "    If ``check_circular`` is false, then the circular reference check\n",
      "    for container types will be skipped and a circular reference will\n",
      "    result in an ``RecursionError`` (or worse).\n",
      "\n",
      "    If ``allow_nan`` is false, then it will be a ``ValueError`` to\n",
      "    serialize out of range ``float`` values (``nan``, ``inf``, ``-inf``)\n",
      "    in strict compliance of the JSON specification, instead of using the\n",
      "    JavaScript equivalents (``NaN``, ``Infinity``, ``-Infinity``).\n",
      "\n",
      "    If ``indent`` is a non-negative integer, then JSON array elements and\n",
      "    object members will be pretty-printed with that indent level. An indent\n",
      "    level of 0 will only insert newlines. ``None`` is the most compact\n",
      "    representation.\n",
      "\n",
      "    If specified, ``separators`` should be an ``(item_separator, key_separator)``\n",
      "    tuple.  The default is ``(', ', ': ')`` if *indent* is ``None`` and\n",
      "    ``(',', ': ')`` otherwise.  To get the most compact JSON representation,\n",
      "    you should specify ``(',', ':')`` to eliminate whitespace.\n",
      "\n",
      "    ``default(obj)`` is a function that should return a serializable version\n",
      "    of obj or raise TypeError. The default simply raises TypeError.\n",
      "\n",
      "    If *sort_keys* is true (default: ``False``), then the output of\n",
      "    dictionaries will be sorted by key.\n",
      "\n",
      "    To use a custom ``JSONEncoder`` subclass (e.g. one that overrides the\n",
      "    ``.default()`` method to serialize additional types), specify it with\n",
      "    the ``cls`` kwarg; otherwise ``JSONEncoder`` is used.\n",
      "\n"
     ]
    }
   ],
   "source": [
    "help(json.dump)"
   ]
  },
  {
   "cell_type": "code",
   "execution_count": 148,
   "metadata": {},
   "outputs": [
    {
     "name": "stdout",
     "output_type": "stream",
     "text": [
      "{'id': {'0': 672, '1': 675}, 'symbol': {'0': 'BRCA1', '1': 'BRCA2'}, 'full_name': {'0': 'BRCA1 DNA repair associated', '1': 'BRCA2 DNA repair associated'}, 'aliases': {'0': ['IRIS', 'PSCP', 'BRCAI', 'FANCS', 'PNCA4', 'RNF53', 'BROVCA1', 'PPP1R53'], '1': ['FAD', 'FACD', 'FAD1', 'GLM3', 'BRCC2', 'FANCD', 'PNCA2', 'FANCD1', 'XRCC11', 'BROVCA2']}}\n"
     ]
    }
   ],
   "source": [
    "with open(\"df.json\", \"w\") as df_file:\n",
    "    dfjd = json.loads(dfj) # this loads the object that is in the string, a dict\n",
    "    print(dfjd) \n",
    "    json.dump(dfjd, df_file)"
   ]
  },
  {
   "cell_type": "code",
   "execution_count": 151,
   "metadata": {},
   "outputs": [
    {
     "data": {
      "text/html": [
       "<div>\n",
       "<style scoped>\n",
       "    .dataframe tbody tr th:only-of-type {\n",
       "        vertical-align: middle;\n",
       "    }\n",
       "\n",
       "    .dataframe tbody tr th {\n",
       "        vertical-align: top;\n",
       "    }\n",
       "\n",
       "    .dataframe thead th {\n",
       "        text-align: right;\n",
       "    }\n",
       "</style>\n",
       "<table border=\"1\" class=\"dataframe\">\n",
       "  <thead>\n",
       "    <tr style=\"text-align: right;\">\n",
       "      <th></th>\n",
       "      <th>id</th>\n",
       "      <th>symbol</th>\n",
       "      <th>full_name</th>\n",
       "      <th>aliases</th>\n",
       "    </tr>\n",
       "  </thead>\n",
       "  <tbody>\n",
       "    <tr>\n",
       "      <th>0</th>\n",
       "      <td>672</td>\n",
       "      <td>BRCA1</td>\n",
       "      <td>BRCA1 DNA repair associated</td>\n",
       "      <td>[IRIS, PSCP, BRCAI, FANCS, PNCA4, RNF53, BROVC...</td>\n",
       "    </tr>\n",
       "    <tr>\n",
       "      <th>1</th>\n",
       "      <td>675</td>\n",
       "      <td>BRCA2</td>\n",
       "      <td>BRCA2 DNA repair associated</td>\n",
       "      <td>[FAD, FACD, FAD1, GLM3, BRCC2, FANCD, PNCA2, F...</td>\n",
       "    </tr>\n",
       "  </tbody>\n",
       "</table>\n",
       "</div>"
      ],
      "text/plain": [
       "    id symbol                    full_name  \\\n",
       "0  672  BRCA1  BRCA1 DNA repair associated   \n",
       "1  675  BRCA2  BRCA2 DNA repair associated   \n",
       "\n",
       "                                             aliases  \n",
       "0  [IRIS, PSCP, BRCAI, FANCS, PNCA4, RNF53, BROVC...  \n",
       "1  [FAD, FACD, FAD1, GLM3, BRCC2, FANCD, PNCA2, F...  "
      ]
     },
     "execution_count": 151,
     "metadata": {},
     "output_type": "execute_result"
    }
   ],
   "source": [
    "pd.read_json(\"df.json\")"
   ]
  },
  {
   "cell_type": "code",
   "execution_count": null,
   "metadata": {},
   "outputs": [],
   "source": []
  }
 ],
 "metadata": {
  "kernelspec": {
   "display_name": "Python 3 (ipykernel)",
   "language": "python",
   "name": "python3"
  },
  "language_info": {
   "codemirror_mode": {
    "name": "ipython",
    "version": 3
   },
   "file_extension": ".py",
   "mimetype": "text/x-python",
   "name": "python",
   "nbconvert_exporter": "python",
   "pygments_lexer": "ipython3",
   "version": "3.12.2"
  }
 },
 "nbformat": 4,
 "nbformat_minor": 4
}
